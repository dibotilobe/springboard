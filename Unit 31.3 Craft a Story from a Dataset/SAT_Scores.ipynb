{
 "cells": [
  {
   "cell_type": "markdown",
   "id": "c73a6956-40f0-4579-910d-d1f822502055",
   "metadata": {
    "tags": []
   },
   "source": [
    "# The Topic\n",
    "\n",
    "This story is about the SAT scores of high schoolers, along with various demographic and other information about them. The SAT, or Scholastic Aptitude Test, is a test that high schoolers take in the US before applying to college. Colleges take the test scores into account when making admissions decisions, so it’s fairly important to do well on. The test is divided into 3 sections, each of which is scored out of 800 points. The total score is out of 2400 (although this has changed back and forth a few times, the scores in this dataset are out of 2400). High schools are often ranked by their average SAT scores, and high SAT scores are considered a sign of how good a school district is.\n",
    "\n",
    "There have been allegations about the SAT being unfair to certain racial groups in the US, so doing this analysis on New York City data will help shed some light on the fairness of the SAT."
   ]
  },
  {
   "cell_type": "markdown",
   "id": "081f9572-fe9e-454c-bdb3-c68ab0d462ba",
   "metadata": {},
   "source": [
    "# About The data\n",
    "\n",
    "I have downloaded several related datasets on the same website that cover demographic information and test scores.\n",
    "\n",
    "Here are the list of the datasets we’ll be using:\n",
    "\n",
    "- A dataset that contains information on each high school.\n",
    "- SAT scores by school — SAT scores for each high school in New York City.\n",
    "- School attendance — attendance information on every school in NYC.\n",
    "- Math test results — math test results for every school in NYC.\n",
    "- Class size — class size information for each school in NYC.\n",
    "- AP test results — Advanced Placement exam results for each high school. Passing AP exams can get you college credit in the US.\n",
    "- Graduation outcomes — percentage of students who graduated, and other outcome information.\n",
    "- Demographics — demographic information for each school.\n",
    "- School survey — surveys of parents, teachers, and students at each school.\n",
    "- School district maps — contains information on the layout of the school districts, so that we can map them out."
   ]
  },
  {
   "cell_type": "markdown",
   "id": "ce0ce4db-c5e8-4d31-b0e8-22c3bb271497",
   "metadata": {},
   "source": [
    "# Background information\n",
    "\n",
    "Before diving into analyzing the data, it’s useful to research some background information. In this case, we know a few facts that will be useful:\n",
    "\n",
    "- New York City is divided into 5 boroughs, which are essentially distinct regions.\n",
    "- Schools in New York City are divided into several school district, each of which can contains dozens of schools.\n",
    "- Not all the schools in all of the datasets are high schools, so we’ll need to do some data cleaning.\n",
    "- Each school in New York City has a unique code called a `DBN`, or District Borough Number.\n",
    "- By aggregating data by district, we can use the district mapping data to plot district-by-district differences."
   ]
  },
  {
   "cell_type": "code",
   "execution_count": null,
   "id": "682ef17a-19dd-4a93-8555-f10146410955",
   "metadata": {},
   "outputs": [],
   "source": [
    "# Import needed Python Librairies\n",
    "import pandas as pd\n",
    "import numpy as np"
   ]
  },
  {
   "cell_type": "markdown",
   "id": "a27a59a9-f953-437a-97f9-f92df2e12796",
   "metadata": {},
   "source": [
    "- Here we are Looping through each data file we downloaded. \n",
    "- Read the file into a Pandas DataFrame.\n",
    "- Put each DataFrame into a Python dictionary."
   ]
  },
  {
   "cell_type": "code",
   "execution_count": 304,
   "id": "d3cd81eb-0ed4-484f-929b-7ccaa3ade638",
   "metadata": {
    "tags": []
   },
   "outputs": [],
   "source": [
    "files = [\"ap_2010.csv\", \"class_size.csv\", \"demographics.csv\", \"graduation.csv\", \"hs_directory.csv\", \"math_test_results.csv\", \"sat_results.csv\"]\n",
    "data = {}\n",
    "for f in files:\n",
    "    df = pd.read_csv(\"schools/{0}\".format(f), low_memory=False)\n",
    "    data[f.replace(\".csv\", \"\")] = df"
   ]
  },
  {
   "cell_type": "code",
   "execution_count": 305,
   "id": "390ec4bd-b74b-4a98-a89b-1ad56713be0e",
   "metadata": {
    "tags": []
   },
   "outputs": [
    {
     "name": "stdout",
     "output_type": "stream",
     "text": [
      "\n",
      "ap_2010\n",
      "\n",
      "      DBN                             SchoolName  AP Test Takers   \\\n",
      "0  01M448           UNIVERSITY NEIGHBORHOOD H.S.             39.0   \n",
      "1  01M450                 EAST SIDE COMMUNITY HS             19.0   \n",
      "2  01M515                    LOWER EASTSIDE PREP             24.0   \n",
      "3  01M539         NEW EXPLORATIONS SCI,TECH,MATH            255.0   \n",
      "4  02M296  High School of Hospitality Management              NaN   \n",
      "\n",
      "   Total Exams Taken  Number of Exams with scores 3 4 or 5  \n",
      "0               49.0                                  10.0  \n",
      "1               21.0                                   NaN  \n",
      "2               26.0                                  24.0  \n",
      "3              377.0                                 191.0  \n",
      "4                NaN                                   NaN  \n",
      "\n",
      "class_size\n",
      "\n",
      "   CSD BOROUGH SCHOOL CODE                SCHOOL NAME GRADE  PROGRAM TYPE  \\\n",
      "0    1       M        M015  P.S. 015 Roberto Clemente     0K       GEN ED   \n",
      "1    1       M        M015  P.S. 015 Roberto Clemente     0K          CTT   \n",
      "2    1       M        M015  P.S. 015 Roberto Clemente     01       GEN ED   \n",
      "3    1       M        M015  P.S. 015 Roberto Clemente     01          CTT   \n",
      "4    1       M        M015  P.S. 015 Roberto Clemente     02       GEN ED   \n",
      "\n",
      "  CORE SUBJECT (MS CORE and 9-12 ONLY) CORE COURSE (MS CORE and 9-12 ONLY)  \\\n",
      "0                                    -                                   -   \n",
      "1                                    -                                   -   \n",
      "2                                    -                                   -   \n",
      "3                                    -                                   -   \n",
      "4                                    -                                   -   \n",
      "\n",
      "  SERVICE CATEGORY(K-9* ONLY)  NUMBER OF STUDENTS / SEATS FILLED  \\\n",
      "0                           -                               19.0   \n",
      "1                           -                               21.0   \n",
      "2                           -                               17.0   \n",
      "3                           -                               17.0   \n",
      "4                           -                               15.0   \n",
      "\n",
      "   NUMBER OF SECTIONS  AVERAGE CLASS SIZE  SIZE OF SMALLEST CLASS  \\\n",
      "0                 1.0                19.0                    19.0   \n",
      "1                 1.0                21.0                    21.0   \n",
      "2                 1.0                17.0                    17.0   \n",
      "3                 1.0                17.0                    17.0   \n",
      "4                 1.0                15.0                    15.0   \n",
      "\n",
      "   SIZE OF LARGEST CLASS DATA SOURCE  SCHOOLWIDE PUPIL-TEACHER RATIO  \n",
      "0                   19.0         ATS                             NaN  \n",
      "1                   21.0         ATS                             NaN  \n",
      "2                   17.0         ATS                             NaN  \n",
      "3                   17.0         ATS                             NaN  \n",
      "4                   15.0         ATS                             NaN  \n",
      "\n",
      "demographics\n",
      "\n",
      "      DBN                       Name  schoolyear fl_percent  frl_percent  \\\n",
      "0  01M015  P.S. 015 ROBERTO CLEMENTE    20052006       89.4          NaN   \n",
      "1  01M015  P.S. 015 ROBERTO CLEMENTE    20062007       89.4          NaN   \n",
      "2  01M015  P.S. 015 ROBERTO CLEMENTE    20072008       89.4          NaN   \n",
      "3  01M015  P.S. 015 ROBERTO CLEMENTE    20082009       89.4          NaN   \n",
      "4  01M015  P.S. 015 ROBERTO CLEMENTE    20092010                    96.5   \n",
      "\n",
      "   total_enrollment prek   k grade1 grade2  ... black_num black_per  \\\n",
      "0               281   15  36     40     33  ...        74      26.3   \n",
      "1               243   15  29     39     38  ...        68      28.0   \n",
      "2               261   18  43     39     36  ...        77      29.5   \n",
      "3               252   17  37     44     32  ...        75      29.8   \n",
      "4               208   16  40     28     32  ...        67      32.2   \n",
      "\n",
      "  hispanic_num hispanic_per white_num white_per male_num male_per female_num  \\\n",
      "0          189         67.3         5       1.8    158.0     56.2      123.0   \n",
      "1          153         63.0         4       1.6    140.0     57.6      103.0   \n",
      "2          157         60.2         7       2.7    143.0     54.8      118.0   \n",
      "3          149         59.1         7       2.8    149.0     59.1      103.0   \n",
      "4          118         56.7         6       2.9    124.0     59.6       84.0   \n",
      "\n",
      "  female_per  \n",
      "0       43.8  \n",
      "1       42.4  \n",
      "2       45.2  \n",
      "3       40.9  \n",
      "4       40.4  \n",
      "\n",
      "[5 rows x 38 columns]\n",
      "\n",
      "graduation\n",
      "\n",
      "    Demographic     DBN                            School Name    Cohort  \\\n",
      "0  Total Cohort  01M292  HENRY STREET SCHOOL FOR INTERNATIONAL      2003   \n",
      "1  Total Cohort  01M292  HENRY STREET SCHOOL FOR INTERNATIONAL      2004   \n",
      "2  Total Cohort  01M292  HENRY STREET SCHOOL FOR INTERNATIONAL      2005   \n",
      "3  Total Cohort  01M292  HENRY STREET SCHOOL FOR INTERNATIONAL      2006   \n",
      "4  Total Cohort  01M292  HENRY STREET SCHOOL FOR INTERNATIONAL  2006 Aug   \n",
      "\n",
      "   Total Cohort Total Grads - n  Total Grads - % of cohort Total Regents - n  \\\n",
      "0             5               s                        NaN                 s   \n",
      "1            55              37                       67.3                17   \n",
      "2            64              43                       67.2                27   \n",
      "3            78              43                       55.1                36   \n",
      "4            78              44                       56.4                37   \n",
      "\n",
      "   Total Regents - % of cohort  Total Regents - % of grads  ...  \\\n",
      "0                          NaN                         NaN  ...   \n",
      "1                         30.9                        45.9  ...   \n",
      "2                         42.2                        62.8  ...   \n",
      "3                         46.2                        83.7  ...   \n",
      "4                         47.4                        84.1  ...   \n",
      "\n",
      "  Regents w/o Advanced - n  Regents w/o Advanced - % of cohort  \\\n",
      "0                        s                                 NaN   \n",
      "1                       17                                30.9   \n",
      "2                       27                                42.2   \n",
      "3                       36                                46.2   \n",
      "4                       37                                47.4   \n",
      "\n",
      "   Regents w/o Advanced - % of grads Local - n  Local - % of cohort  \\\n",
      "0                                NaN         s                  NaN   \n",
      "1                               45.9        20                 36.4   \n",
      "2                               62.8        16                 25.0   \n",
      "3                               83.7         7                  9.0   \n",
      "4                               84.1         7                  9.0   \n",
      "\n",
      "   Local - % of grads Still Enrolled - n  Still Enrolled - % of cohort  \\\n",
      "0                 NaN                  s                           NaN   \n",
      "1                54.1                 15                          27.3   \n",
      "2                37.2                  9                          14.1   \n",
      "3                16.3                 16                          20.5   \n",
      "4                15.9                 15                          19.2   \n",
      "\n",
      "   Dropped Out - n Dropped Out - % of cohort  \n",
      "0                s                       NaN  \n",
      "1                3                       5.5  \n",
      "2                9                      14.1  \n",
      "3               11                      14.1  \n",
      "4               11                      14.1  \n",
      "\n",
      "[5 rows x 23 columns]\n",
      "\n",
      "hs_directory\n",
      "\n",
      "      dbn                                        school_name    borough  \\\n",
      "0  27Q260          Frederick Douglass Academy VI High School     Queens   \n",
      "1  21K559        Life Academy High School for Film and Music   Brooklyn   \n",
      "2  16K393     Frederick Douglass Academy IV Secondary School   Brooklyn   \n",
      "3  08X305                               Pablo Neruda Academy      Bronx   \n",
      "4  03M485  Fiorello H. LaGuardia High School of Music & A...  Manhattan   \n",
      "\n",
      "  building_code  phone_number    fax_number  grade_span_min  grade_span_max  \\\n",
      "0          Q465  718-471-2154  718-471-2890             9.0              12   \n",
      "1          K400  718-333-7750  718-333-7775             9.0              12   \n",
      "2          K026  718-574-2820  718-574-2821             9.0              12   \n",
      "3          X450  718-824-1682  718-824-1663             9.0              12   \n",
      "4          M485  212-496-0700  212-724-5748             9.0              12   \n",
      "\n",
      "   expgrade_span_min  expgrade_span_max  ... priority08 priority09 priority10  \\\n",
      "0                NaN                NaN  ...        NaN        NaN        NaN   \n",
      "1                NaN                NaN  ...        NaN        NaN        NaN   \n",
      "2                NaN                NaN  ...        NaN        NaN        NaN   \n",
      "3                NaN                NaN  ...        NaN        NaN        NaN   \n",
      "4                NaN                NaN  ...        NaN        NaN        NaN   \n",
      "\n",
      "                                          Location 1 Community Board  \\\n",
      "0  8 21 Bay 25 Street\\nFar Rockaway, NY 11691\\n(4...            14.0   \n",
      "1  2630 Benson Avenue\\nBrooklyn, NY 11214\\n(40.59...            13.0   \n",
      "2  1014 Lafayette Avenue\\nBrooklyn, NY 11221\\n(40...             3.0   \n",
      "3  1980 Lafayette Avenue\\nBronx, NY 10473\\n(40.82...             9.0   \n",
      "4  100 Amsterdam Avenue\\nNew York, NY 10023\\n(40....             7.0   \n",
      "\n",
      "   Council District Census Tract        BIN           BBL  \\\n",
      "0              31.0     100802.0  4300730.0  4.157360e+09   \n",
      "1              47.0        306.0  3186454.0  3.068830e+09   \n",
      "2              36.0        291.0  3393805.0  3.016160e+09   \n",
      "3              18.0         16.0  2022205.0  2.036040e+09   \n",
      "4               6.0        151.0  1030341.0  1.011560e+09   \n",
      "\n",
      "                                                 NTA  \n",
      "0  Far Rockaway-Bayswater                        ...  \n",
      "1  Gravesend                                     ...  \n",
      "2  Stuyvesant Heights                            ...  \n",
      "3  Soundview-Castle Hill-Clason Point-Harding Par...  \n",
      "4  Lincoln Square                                ...  \n",
      "\n",
      "[5 rows x 64 columns]\n",
      "\n",
      "math_test_results\n",
      "\n",
      "  Report Category Geographic Subdivision School Name Grade  Year  \\\n",
      "0        Citywide               Citywide         NaN     3  2023   \n",
      "1        Citywide               Citywide         NaN     4  2023   \n",
      "2        Citywide               Citywide         NaN     5  2023   \n",
      "3        Citywide               Citywide         NaN     6  2023   \n",
      "4        Citywide               Citywide         NaN     7  2023   \n",
      "\n",
      "  Student Category  Number Tested Mean Scale Score Num Level 1 Pct Level 1  \\\n",
      "0     All Students          51866              454        8193        15.8   \n",
      "1     All Students          53195              453       13460        25.3   \n",
      "2     All Students          55137              452       15055        27.3   \n",
      "3     All Students          53519              450       16049        30.0   \n",
      "4     All Students          54141              454       11723        21.7   \n",
      "\n",
      "  Num Level 2 Pct Level 2 Num Level 3 Pct Level 3 Num Level 4 Pct Level 4  \\\n",
      "0       15155        29.2       18037        34.8       10481        20.2   \n",
      "1       11898        22.4       18201        34.2        9636        18.1   \n",
      "2       12241        22.2       17086        31.0       10755        19.5   \n",
      "3       13094        24.5       15880        29.7        8496        15.9   \n",
      "4       14693        27.1       14445        26.7       13280        24.5   \n",
      "\n",
      "  Num Level 3 and 4 Pct Level 3 and 4  \n",
      "0             28518              55.0  \n",
      "1             27837              52.3  \n",
      "2             27841              50.5  \n",
      "3             24376              45.5  \n",
      "4             27725              51.2  \n",
      "\n",
      "sat_results\n",
      "\n",
      "      DBN                                    SCHOOL NAME  \\\n",
      "0  01M292  HENRY STREET SCHOOL FOR INTERNATIONAL STUDIES   \n",
      "1  01M448            UNIVERSITY NEIGHBORHOOD HIGH SCHOOL   \n",
      "2  01M450                     EAST SIDE COMMUNITY SCHOOL   \n",
      "3  01M458                      FORSYTH SATELLITE ACADEMY   \n",
      "4  01M509                        MARTA VALLE HIGH SCHOOL   \n",
      "\n",
      "  Num of SAT Test Takers SAT Critical Reading Avg. Score SAT Math Avg. Score  \\\n",
      "0                     29                             355                 404   \n",
      "1                     91                             383                 423   \n",
      "2                     70                             377                 402   \n",
      "3                      7                             414                 401   \n",
      "4                     44                             390                 433   \n",
      "\n",
      "  SAT Writing Avg. Score  \n",
      "0                    363  \n",
      "1                    366  \n",
      "2                    370  \n",
      "3                    359  \n",
      "4                    384  \n"
     ]
    }
   ],
   "source": [
    "for k,v in data.items():\n",
    "    print(\"\\n\" + k + \"\\n\")\n",
    "    print(v.head())"
   ]
  },
  {
   "cell_type": "markdown",
   "id": "fee98fde-6d0e-411b-b3f3-188180f10840",
   "metadata": {},
   "source": [
    "We can start to see some useful patterns in the datasets:\n",
    "\n",
    "Most of the datasets contain a DBN column. Some fields look interesting for mapping, particularly `Location 1` from the `hs_directory` Dataframe, which contains coordinates inside a larger string."
   ]
  },
  {
   "cell_type": "code",
   "execution_count": 306,
   "id": "b6d2abb8-1aa6-4e13-9c86-ec171c266529",
   "metadata": {
    "tags": []
   },
   "outputs": [],
   "source": [
    "data['hs_directory'] = data['hs_directory'].rename(columns={'dbn': 'DBN'})\n",
    "data['hs_directory'] = data['hs_directory'].sort_values(by=['DBN'])\n",
    "data['ap_2010'] = data['ap_2010'].sort_values(by=['DBN'])\n",
    "data['sat_results'] = data['sat_results'].sort_values(by=['DBN'])\n",
    "data['graduation'] = data['graduation'].sort_values(by=['DBN'])\n",
    "data['demographics'] = data['demographics'].sort_values(by=['DBN'])"
   ]
  },
  {
   "cell_type": "markdown",
   "id": "8aa4a39d-01fd-4172-bbab-10c187bd8c60",
   "metadata": {},
   "source": [
    "# Unifying the data\n",
    "\n",
    "In order to work with the data more easily, we’ll need to unify all the individual datasets into a single one. This will enable us to quickly compare columns across datasets. In order to do this, we’ll first need to find a common column to unify them on. Looking at the output above, it appears that `DBN` might be that common column, as it appears in multiple datasets.\n",
    "I google `DBN` New York City Schools, and I end up here, which explains that the `DBN` is a unique code for each school. When exploring datasets, particularly government ones, it’s often necessary to do some detective work to figure out what each column means, or even what each dataset is.\n",
    "\n",
    "The problem now is that two of the datasets, `class_size`, and `hs_directory`, don’t have a `DBN` field. In the `hs_directory` data, it’s just named 'ATS SYSTEM CODE', so we can just rename the column, or copy it over into a new column called `DBN`. In the `class_size` data, we’ll need to try a different approach.\n",
    "\n",
    "The `DBN` column in the `demographics` dataset looks like this:"
   ]
  },
  {
   "cell_type": "code",
   "execution_count": 307,
   "id": "f5da9db8-e39b-4c44-9538-e7377961a161",
   "metadata": {
    "tags": []
   },
   "outputs": [
    {
     "data": {
      "text/plain": [
       "0    01M015\n",
       "1    01M015\n",
       "2    01M015\n",
       "3    01M015\n",
       "4    01M015\n",
       "Name: DBN, dtype: object"
      ]
     },
     "execution_count": 307,
     "metadata": {},
     "output_type": "execute_result"
    }
   ],
   "source": [
    "data[\"demographics\"][\"DBN\"].head()"
   ]
  },
  {
   "cell_type": "markdown",
   "id": "31ad3087-c000-4993-a493-136d4c80d797",
   "metadata": {
    "tags": []
   },
   "source": [
    "If we look at the `class_size` data, here’s what we’d see in the first 5 rows:"
   ]
  },
  {
   "cell_type": "code",
   "execution_count": 308,
   "id": "d44d9603-e66e-4fcf-b6bb-bc4747ff6ee1",
   "metadata": {
    "tags": []
   },
   "outputs": [
    {
     "data": {
      "text/html": [
       "<div>\n",
       "<style scoped>\n",
       "    .dataframe tbody tr th:only-of-type {\n",
       "        vertical-align: middle;\n",
       "    }\n",
       "\n",
       "    .dataframe tbody tr th {\n",
       "        vertical-align: top;\n",
       "    }\n",
       "\n",
       "    .dataframe thead th {\n",
       "        text-align: right;\n",
       "    }\n",
       "</style>\n",
       "<table border=\"1\" class=\"dataframe\">\n",
       "  <thead>\n",
       "    <tr style=\"text-align: right;\">\n",
       "      <th></th>\n",
       "      <th>CSD</th>\n",
       "      <th>BOROUGH</th>\n",
       "      <th>SCHOOL CODE</th>\n",
       "      <th>SCHOOL NAME</th>\n",
       "      <th>GRADE</th>\n",
       "      <th>PROGRAM TYPE</th>\n",
       "      <th>CORE SUBJECT (MS CORE and 9-12 ONLY)</th>\n",
       "      <th>CORE COURSE (MS CORE and 9-12 ONLY)</th>\n",
       "      <th>SERVICE CATEGORY(K-9* ONLY)</th>\n",
       "      <th>NUMBER OF STUDENTS / SEATS FILLED</th>\n",
       "      <th>NUMBER OF SECTIONS</th>\n",
       "      <th>AVERAGE CLASS SIZE</th>\n",
       "      <th>SIZE OF SMALLEST CLASS</th>\n",
       "      <th>SIZE OF LARGEST CLASS</th>\n",
       "      <th>DATA SOURCE</th>\n",
       "      <th>SCHOOLWIDE PUPIL-TEACHER RATIO</th>\n",
       "    </tr>\n",
       "  </thead>\n",
       "  <tbody>\n",
       "    <tr>\n",
       "      <th>0</th>\n",
       "      <td>1</td>\n",
       "      <td>M</td>\n",
       "      <td>M015</td>\n",
       "      <td>P.S. 015 Roberto Clemente</td>\n",
       "      <td>0K</td>\n",
       "      <td>GEN ED</td>\n",
       "      <td>-</td>\n",
       "      <td>-</td>\n",
       "      <td>-</td>\n",
       "      <td>19.0</td>\n",
       "      <td>1.0</td>\n",
       "      <td>19.0</td>\n",
       "      <td>19.0</td>\n",
       "      <td>19.0</td>\n",
       "      <td>ATS</td>\n",
       "      <td>NaN</td>\n",
       "    </tr>\n",
       "    <tr>\n",
       "      <th>1</th>\n",
       "      <td>1</td>\n",
       "      <td>M</td>\n",
       "      <td>M015</td>\n",
       "      <td>P.S. 015 Roberto Clemente</td>\n",
       "      <td>0K</td>\n",
       "      <td>CTT</td>\n",
       "      <td>-</td>\n",
       "      <td>-</td>\n",
       "      <td>-</td>\n",
       "      <td>21.0</td>\n",
       "      <td>1.0</td>\n",
       "      <td>21.0</td>\n",
       "      <td>21.0</td>\n",
       "      <td>21.0</td>\n",
       "      <td>ATS</td>\n",
       "      <td>NaN</td>\n",
       "    </tr>\n",
       "    <tr>\n",
       "      <th>2</th>\n",
       "      <td>1</td>\n",
       "      <td>M</td>\n",
       "      <td>M015</td>\n",
       "      <td>P.S. 015 Roberto Clemente</td>\n",
       "      <td>01</td>\n",
       "      <td>GEN ED</td>\n",
       "      <td>-</td>\n",
       "      <td>-</td>\n",
       "      <td>-</td>\n",
       "      <td>17.0</td>\n",
       "      <td>1.0</td>\n",
       "      <td>17.0</td>\n",
       "      <td>17.0</td>\n",
       "      <td>17.0</td>\n",
       "      <td>ATS</td>\n",
       "      <td>NaN</td>\n",
       "    </tr>\n",
       "    <tr>\n",
       "      <th>3</th>\n",
       "      <td>1</td>\n",
       "      <td>M</td>\n",
       "      <td>M015</td>\n",
       "      <td>P.S. 015 Roberto Clemente</td>\n",
       "      <td>01</td>\n",
       "      <td>CTT</td>\n",
       "      <td>-</td>\n",
       "      <td>-</td>\n",
       "      <td>-</td>\n",
       "      <td>17.0</td>\n",
       "      <td>1.0</td>\n",
       "      <td>17.0</td>\n",
       "      <td>17.0</td>\n",
       "      <td>17.0</td>\n",
       "      <td>ATS</td>\n",
       "      <td>NaN</td>\n",
       "    </tr>\n",
       "    <tr>\n",
       "      <th>4</th>\n",
       "      <td>1</td>\n",
       "      <td>M</td>\n",
       "      <td>M015</td>\n",
       "      <td>P.S. 015 Roberto Clemente</td>\n",
       "      <td>02</td>\n",
       "      <td>GEN ED</td>\n",
       "      <td>-</td>\n",
       "      <td>-</td>\n",
       "      <td>-</td>\n",
       "      <td>15.0</td>\n",
       "      <td>1.0</td>\n",
       "      <td>15.0</td>\n",
       "      <td>15.0</td>\n",
       "      <td>15.0</td>\n",
       "      <td>ATS</td>\n",
       "      <td>NaN</td>\n",
       "    </tr>\n",
       "  </tbody>\n",
       "</table>\n",
       "</div>"
      ],
      "text/plain": [
       "   CSD BOROUGH SCHOOL CODE                SCHOOL NAME GRADE  PROGRAM TYPE  \\\n",
       "0    1       M        M015  P.S. 015 Roberto Clemente     0K       GEN ED   \n",
       "1    1       M        M015  P.S. 015 Roberto Clemente     0K          CTT   \n",
       "2    1       M        M015  P.S. 015 Roberto Clemente     01       GEN ED   \n",
       "3    1       M        M015  P.S. 015 Roberto Clemente     01          CTT   \n",
       "4    1       M        M015  P.S. 015 Roberto Clemente     02       GEN ED   \n",
       "\n",
       "  CORE SUBJECT (MS CORE and 9-12 ONLY) CORE COURSE (MS CORE and 9-12 ONLY)  \\\n",
       "0                                    -                                   -   \n",
       "1                                    -                                   -   \n",
       "2                                    -                                   -   \n",
       "3                                    -                                   -   \n",
       "4                                    -                                   -   \n",
       "\n",
       "  SERVICE CATEGORY(K-9* ONLY)  NUMBER OF STUDENTS / SEATS FILLED  \\\n",
       "0                           -                               19.0   \n",
       "1                           -                               21.0   \n",
       "2                           -                               17.0   \n",
       "3                           -                               17.0   \n",
       "4                           -                               15.0   \n",
       "\n",
       "   NUMBER OF SECTIONS  AVERAGE CLASS SIZE  SIZE OF SMALLEST CLASS  \\\n",
       "0                 1.0                19.0                    19.0   \n",
       "1                 1.0                21.0                    21.0   \n",
       "2                 1.0                17.0                    17.0   \n",
       "3                 1.0                17.0                    17.0   \n",
       "4                 1.0                15.0                    15.0   \n",
       "\n",
       "   SIZE OF LARGEST CLASS DATA SOURCE  SCHOOLWIDE PUPIL-TEACHER RATIO  \n",
       "0                   19.0         ATS                             NaN  \n",
       "1                   21.0         ATS                             NaN  \n",
       "2                   17.0         ATS                             NaN  \n",
       "3                   17.0         ATS                             NaN  \n",
       "4                   15.0         ATS                             NaN  "
      ]
     },
     "execution_count": 308,
     "metadata": {},
     "output_type": "execute_result"
    }
   ],
   "source": [
    "data[\"class_size\"].head()"
   ]
  },
  {
   "cell_type": "markdown",
   "id": "251329bf-93a8-4828-bfb9-c21e5dbe2d5e",
   "metadata": {},
   "source": [
    "As you can see above, it looks like the DBN is actually a combination of `CSD`, and `SCHOOL CODE`. For those unfamiliar with New York City, it is composed of 5 boroughs. Each borough is an organizational unit, and is about the same size as a fairly large US City. `DBN` stands for District Borough Number. It looks like `CSD` is the District, and when combined with the `SCHOOL CODE`, forms the `DBN`. There’s no systematized way to find insights like this in data, and it requires some exploration and playing around to figure out.\n",
    "Now that we know how to construct the `DBN`, we can add it into the `class_size` and `hs_directory` datasets:"
   ]
  },
  {
   "cell_type": "code",
   "execution_count": 309,
   "id": "f5fdc280-18ad-4703-8e9d-1cca0e7b6a3e",
   "metadata": {
    "tags": []
   },
   "outputs": [],
   "source": [
    "data[\"class_size\"][\"DBN\"] = data[\"class_size\"].apply(lambda x: \"{0:02d}{1}\".format(x[\"CSD\"], x[\"SCHOOL CODE\"]), axis=1)\n",
    "data['class_size'] = data['class_size'].sort_values(by=['DBN'])"
   ]
  },
  {
   "cell_type": "markdown",
   "id": "89c71779-7fb9-48bb-bc05-1a84874a1878",
   "metadata": {},
   "source": [
    "# Adding in the surveys\n",
    "\n",
    "One of the most potentially interesting datasets to look at is the dataset on student, parent, and teacher surveys about the quality of schools. These surveys include information about the perceived safety of each school, academic standards, and more. Before we combine our datasets, let’s add in the survey data. In real-world data science projects, you’ll often come across interesting data when you’re midway through your analysis, and will want to incorporate it. Working with a flexible tool like Jupyter notebook will allow you to quickly add some additional code, and re-run your analysis.\n",
    "In this case, we’ll add the survey data into our data dictionary, and then combine all the datasets afterwards. The survey data consists of 2 files, one for all schools, and one for school district 75. We’ll need to write some code to combine them. In the below code, we’ll:\n",
    "- Read in the surveys for all schools using the windows-1252 file encoding.\n",
    "- Read in the surveys for district 75 schools using the windows-1252 file encoding.\n",
    "- Add a flag that indicates which school district each dataset is for.\n",
    "- Combine the datasets into one using the concat method on DataFrames."
   ]
  },
  {
   "cell_type": "code",
   "execution_count": 310,
   "id": "57c227d0-eee6-49c1-8939-b2f8b69e3ff8",
   "metadata": {
    "tags": []
   },
   "outputs": [],
   "source": [
    "survey1 = pd.read_csv(\"schools/survey_all.csv\", encoding='windows-1252')\n",
    "survey2 = pd.read_csv(\"schools/survey_d75.csv\", encoding='windows-1252')\n",
    "survey1[\"d75\"] = False\n",
    "survey2[\"d75\"] = True\n",
    "survey = pd.concat([survey1, survey2], axis=0)"
   ]
  },
  {
   "cell_type": "markdown",
   "id": "1da6fd02-398f-4567-b01e-7cd1b591fafd",
   "metadata": {},
   "source": [
    "Once we have the surveys combined, there’s an additional complication. We want to minimize the number of columns in our combined dataset so we can easily compare columns and figure out correlations. Unfortunately, the survey data has many columns that aren’t very useful to us:"
   ]
  },
  {
   "cell_type": "code",
   "execution_count": 311,
   "id": "34641749-6bcf-482d-ae71-0f7d7245f35f",
   "metadata": {
    "tags": []
   },
   "outputs": [
    {
     "data": {
      "text/html": [
       "<div>\n",
       "<style scoped>\n",
       "    .dataframe tbody tr th:only-of-type {\n",
       "        vertical-align: middle;\n",
       "    }\n",
       "\n",
       "    .dataframe tbody tr th {\n",
       "        vertical-align: top;\n",
       "    }\n",
       "\n",
       "    .dataframe thead th {\n",
       "        text-align: right;\n",
       "    }\n",
       "</style>\n",
       "<table border=\"1\" class=\"dataframe\">\n",
       "  <thead>\n",
       "    <tr style=\"text-align: right;\">\n",
       "      <th></th>\n",
       "      <th>DBN</th>\n",
       "      <th>School Name</th>\n",
       "      <th>Total Parent \\nResponse Rate</th>\n",
       "      <th>Total Teacher Response Rate</th>\n",
       "      <th>Total Student Response Rate</th>\n",
       "      <th>Collaborative Teachers Score</th>\n",
       "      <th>Effective School Leadership Score</th>\n",
       "      <th>Rigorous Instruction Score</th>\n",
       "      <th>Supportive Environment Score</th>\n",
       "      <th>Strong Family-Community Ties Score</th>\n",
       "      <th>Trust Score</th>\n",
       "      <th>d75</th>\n",
       "      <th>Total Parent Response Rate</th>\n",
       "      <th>Total Safety and Respect Score</th>\n",
       "      <th>Total Communication Score</th>\n",
       "      <th>Total Engagement Score</th>\n",
       "      <th>Total Academic Expectations Score</th>\n",
       "    </tr>\n",
       "  </thead>\n",
       "  <tbody>\n",
       "    <tr>\n",
       "      <th>0</th>\n",
       "      <td>01M015</td>\n",
       "      <td>P.S. 015 ROBERTO CLEMENTE</td>\n",
       "      <td>91.0</td>\n",
       "      <td>100</td>\n",
       "      <td>NaN</td>\n",
       "      <td>4.10</td>\n",
       "      <td>4.19</td>\n",
       "      <td>4.02</td>\n",
       "      <td>NaN</td>\n",
       "      <td>4.18</td>\n",
       "      <td>3.96</td>\n",
       "      <td>False</td>\n",
       "      <td>NaN</td>\n",
       "      <td>NaN</td>\n",
       "      <td>NaN</td>\n",
       "      <td>NaN</td>\n",
       "      <td>NaN</td>\n",
       "    </tr>\n",
       "    <tr>\n",
       "      <th>1</th>\n",
       "      <td>01M019</td>\n",
       "      <td>P.S. 019 ASHER LEVY</td>\n",
       "      <td>100.0</td>\n",
       "      <td>93</td>\n",
       "      <td>NaN</td>\n",
       "      <td>4.53</td>\n",
       "      <td>4.51</td>\n",
       "      <td>4.80</td>\n",
       "      <td>NaN</td>\n",
       "      <td>4.66</td>\n",
       "      <td>3.76</td>\n",
       "      <td>False</td>\n",
       "      <td>NaN</td>\n",
       "      <td>NaN</td>\n",
       "      <td>NaN</td>\n",
       "      <td>NaN</td>\n",
       "      <td>NaN</td>\n",
       "    </tr>\n",
       "    <tr>\n",
       "      <th>2</th>\n",
       "      <td>01M020</td>\n",
       "      <td>P.S. 020 ANNA SILVER</td>\n",
       "      <td>58.0</td>\n",
       "      <td>90</td>\n",
       "      <td>NaN</td>\n",
       "      <td>2.71</td>\n",
       "      <td>2.98</td>\n",
       "      <td>1.92</td>\n",
       "      <td>NaN</td>\n",
       "      <td>3.84</td>\n",
       "      <td>3.14</td>\n",
       "      <td>False</td>\n",
       "      <td>NaN</td>\n",
       "      <td>NaN</td>\n",
       "      <td>NaN</td>\n",
       "      <td>NaN</td>\n",
       "      <td>NaN</td>\n",
       "    </tr>\n",
       "    <tr>\n",
       "      <th>3</th>\n",
       "      <td>01M034</td>\n",
       "      <td>P.S. 034 FRANKLIN D. ROOSEVELT</td>\n",
       "      <td>29.0</td>\n",
       "      <td>100</td>\n",
       "      <td>9500%</td>\n",
       "      <td>2.69</td>\n",
       "      <td>2.59</td>\n",
       "      <td>2.14</td>\n",
       "      <td>NaN</td>\n",
       "      <td>3.67</td>\n",
       "      <td>2.38</td>\n",
       "      <td>False</td>\n",
       "      <td>NaN</td>\n",
       "      <td>NaN</td>\n",
       "      <td>NaN</td>\n",
       "      <td>NaN</td>\n",
       "      <td>NaN</td>\n",
       "    </tr>\n",
       "    <tr>\n",
       "      <th>4</th>\n",
       "      <td>01M063</td>\n",
       "      <td>THE STAR ACADEMY - P.S.63</td>\n",
       "      <td>80.0</td>\n",
       "      <td>100</td>\n",
       "      <td>NaN</td>\n",
       "      <td>NaN</td>\n",
       "      <td>NaN</td>\n",
       "      <td>NaN</td>\n",
       "      <td>NaN</td>\n",
       "      <td>NaN</td>\n",
       "      <td>3.77</td>\n",
       "      <td>False</td>\n",
       "      <td>NaN</td>\n",
       "      <td>NaN</td>\n",
       "      <td>NaN</td>\n",
       "      <td>NaN</td>\n",
       "      <td>NaN</td>\n",
       "    </tr>\n",
       "  </tbody>\n",
       "</table>\n",
       "</div>"
      ],
      "text/plain": [
       "      DBN                     School Name  Total Parent \\nResponse Rate  \\\n",
       "0  01M015       P.S. 015 ROBERTO CLEMENTE                          91.0   \n",
       "1  01M019             P.S. 019 ASHER LEVY                         100.0   \n",
       "2  01M020            P.S. 020 ANNA SILVER                          58.0   \n",
       "3  01M034  P.S. 034 FRANKLIN D. ROOSEVELT                          29.0   \n",
       "4  01M063       THE STAR ACADEMY - P.S.63                          80.0   \n",
       "\n",
       "  Total Teacher Response Rate Total Student Response Rate  \\\n",
       "0                         100                         NaN   \n",
       "1                          93                         NaN   \n",
       "2                          90                         NaN   \n",
       "3                         100                       9500%   \n",
       "4                         100                         NaN   \n",
       "\n",
       "   Collaborative Teachers Score  Effective School Leadership Score  \\\n",
       "0                          4.10                               4.19   \n",
       "1                          4.53                               4.51   \n",
       "2                          2.71                               2.98   \n",
       "3                          2.69                               2.59   \n",
       "4                           NaN                                NaN   \n",
       "\n",
       "   Rigorous Instruction Score  Supportive Environment Score  \\\n",
       "0                        4.02                           NaN   \n",
       "1                        4.80                           NaN   \n",
       "2                        1.92                           NaN   \n",
       "3                        2.14                           NaN   \n",
       "4                         NaN                           NaN   \n",
       "\n",
       "   Strong Family-Community Ties Score  Trust Score    d75  \\\n",
       "0                                4.18         3.96  False   \n",
       "1                                4.66         3.76  False   \n",
       "2                                3.84         3.14  False   \n",
       "3                                3.67         2.38  False   \n",
       "4                                 NaN         3.77  False   \n",
       "\n",
       "  Total Parent Response Rate Total Safety and Respect Score  \\\n",
       "0                        NaN                            NaN   \n",
       "1                        NaN                            NaN   \n",
       "2                        NaN                            NaN   \n",
       "3                        NaN                            NaN   \n",
       "4                        NaN                            NaN   \n",
       "\n",
       "  Total Communication Score Total Engagement Score  \\\n",
       "0                       NaN                    NaN   \n",
       "1                       NaN                    NaN   \n",
       "2                       NaN                    NaN   \n",
       "3                       NaN                    NaN   \n",
       "4                       NaN                    NaN   \n",
       "\n",
       "  Total Academic Expectations Score  \n",
       "0                               NaN  \n",
       "1                               NaN  \n",
       "2                               NaN  \n",
       "3                               NaN  \n",
       "4                               NaN  "
      ]
     },
     "execution_count": 311,
     "metadata": {},
     "output_type": "execute_result"
    }
   ],
   "source": [
    "survey.head()"
   ]
  },
  {
   "cell_type": "markdown",
   "id": "af35fd30-78fb-4786-8ee7-c62d1f6ac8df",
   "metadata": {},
   "source": [
    "We can resolve this issue by looking at the data dictionary file that we downloaded along with the survey data. The file tells us the important fields in the data. We can then remove any extraneous columns in survey:"
   ]
  },
  {
   "cell_type": "code",
   "execution_count": 312,
   "id": "fa43b90d-57f9-406c-81f7-161acf83fc9f",
   "metadata": {
    "tags": []
   },
   "outputs": [
    {
     "data": {
      "text/plain": [
       "(1886, 16)"
      ]
     },
     "execution_count": 312,
     "metadata": {},
     "output_type": "execute_result"
    }
   ],
   "source": [
    "survey = survey.drop(columns=['Total Parent Response Rate'])\n",
    "survey = survey.rename(columns={'Total Parent \\nResponse Rate': 'Total Parent Response Rate'})\n",
    "survey_fields = survey.columns\n",
    "survey = survey.loc[:,survey_fields]\n",
    "data[\"survey\"] = survey\n",
    "survey.shape"
   ]
  },
  {
   "cell_type": "markdown",
   "id": "dd140df0-5086-4731-82ea-ccb92eab8029",
   "metadata": {},
   "source": [
    "Making sure you understand what each dataset contains, and what the relevant columns are can save you lots of time and effort later on. \n",
    "\n",
    "# Condensing datasets\n",
    "If we take a look at some of the datasets, including `class_size`, we’ll immediately see a problem:"
   ]
  },
  {
   "cell_type": "code",
   "execution_count": 313,
   "id": "980a4084-39a0-4cce-b2b0-c2766b33b1bf",
   "metadata": {
    "tags": []
   },
   "outputs": [
    {
     "data": {
      "text/html": [
       "<div>\n",
       "<style scoped>\n",
       "    .dataframe tbody tr th:only-of-type {\n",
       "        vertical-align: middle;\n",
       "    }\n",
       "\n",
       "    .dataframe tbody tr th {\n",
       "        vertical-align: top;\n",
       "    }\n",
       "\n",
       "    .dataframe thead th {\n",
       "        text-align: right;\n",
       "    }\n",
       "</style>\n",
       "<table border=\"1\" class=\"dataframe\">\n",
       "  <thead>\n",
       "    <tr style=\"text-align: right;\">\n",
       "      <th></th>\n",
       "      <th>CSD</th>\n",
       "      <th>BOROUGH</th>\n",
       "      <th>SCHOOL CODE</th>\n",
       "      <th>SCHOOL NAME</th>\n",
       "      <th>GRADE</th>\n",
       "      <th>PROGRAM TYPE</th>\n",
       "      <th>CORE SUBJECT (MS CORE and 9-12 ONLY)</th>\n",
       "      <th>CORE COURSE (MS CORE and 9-12 ONLY)</th>\n",
       "      <th>SERVICE CATEGORY(K-9* ONLY)</th>\n",
       "      <th>NUMBER OF STUDENTS / SEATS FILLED</th>\n",
       "      <th>NUMBER OF SECTIONS</th>\n",
       "      <th>AVERAGE CLASS SIZE</th>\n",
       "      <th>SIZE OF SMALLEST CLASS</th>\n",
       "      <th>SIZE OF LARGEST CLASS</th>\n",
       "      <th>DATA SOURCE</th>\n",
       "      <th>SCHOOLWIDE PUPIL-TEACHER RATIO</th>\n",
       "      <th>DBN</th>\n",
       "    </tr>\n",
       "  </thead>\n",
       "  <tbody>\n",
       "    <tr>\n",
       "      <th>0</th>\n",
       "      <td>1</td>\n",
       "      <td>M</td>\n",
       "      <td>M015</td>\n",
       "      <td>P.S. 015 Roberto Clemente</td>\n",
       "      <td>0K</td>\n",
       "      <td>GEN ED</td>\n",
       "      <td>-</td>\n",
       "      <td>-</td>\n",
       "      <td>-</td>\n",
       "      <td>19.0</td>\n",
       "      <td>1.0</td>\n",
       "      <td>19.0</td>\n",
       "      <td>19.0</td>\n",
       "      <td>19.0</td>\n",
       "      <td>ATS</td>\n",
       "      <td>NaN</td>\n",
       "      <td>01M015</td>\n",
       "    </tr>\n",
       "    <tr>\n",
       "      <th>11</th>\n",
       "      <td>1</td>\n",
       "      <td>M</td>\n",
       "      <td>M015</td>\n",
       "      <td>P.S. 015 Roberto Clemente</td>\n",
       "      <td>NaN</td>\n",
       "      <td>NaN</td>\n",
       "      <td>NaN</td>\n",
       "      <td>NaN</td>\n",
       "      <td>NaN</td>\n",
       "      <td>NaN</td>\n",
       "      <td>NaN</td>\n",
       "      <td>NaN</td>\n",
       "      <td>NaN</td>\n",
       "      <td>NaN</td>\n",
       "      <td>NaN</td>\n",
       "      <td>8.4</td>\n",
       "      <td>01M015</td>\n",
       "    </tr>\n",
       "    <tr>\n",
       "      <th>10</th>\n",
       "      <td>1</td>\n",
       "      <td>M</td>\n",
       "      <td>M015</td>\n",
       "      <td>P.S. 015 Roberto Clemente</td>\n",
       "      <td>0K-09</td>\n",
       "      <td>SPEC ED</td>\n",
       "      <td>-</td>\n",
       "      <td>-</td>\n",
       "      <td>12:1:1</td>\n",
       "      <td>9.0</td>\n",
       "      <td>1.0</td>\n",
       "      <td>9.0</td>\n",
       "      <td>9.0</td>\n",
       "      <td>9.0</td>\n",
       "      <td>ATS</td>\n",
       "      <td>NaN</td>\n",
       "      <td>01M015</td>\n",
       "    </tr>\n",
       "    <tr>\n",
       "      <th>9</th>\n",
       "      <td>1</td>\n",
       "      <td>M</td>\n",
       "      <td>M015</td>\n",
       "      <td>P.S. 015 Roberto Clemente</td>\n",
       "      <td>05</td>\n",
       "      <td>GEN ED</td>\n",
       "      <td>-</td>\n",
       "      <td>-</td>\n",
       "      <td>-</td>\n",
       "      <td>27.0</td>\n",
       "      <td>1.0</td>\n",
       "      <td>27.0</td>\n",
       "      <td>27.0</td>\n",
       "      <td>27.0</td>\n",
       "      <td>ATS</td>\n",
       "      <td>NaN</td>\n",
       "      <td>01M015</td>\n",
       "    </tr>\n",
       "    <tr>\n",
       "      <th>7</th>\n",
       "      <td>1</td>\n",
       "      <td>M</td>\n",
       "      <td>M015</td>\n",
       "      <td>P.S. 015 Roberto Clemente</td>\n",
       "      <td>03</td>\n",
       "      <td>CTT</td>\n",
       "      <td>-</td>\n",
       "      <td>-</td>\n",
       "      <td>-</td>\n",
       "      <td>15.0</td>\n",
       "      <td>1.0</td>\n",
       "      <td>15.0</td>\n",
       "      <td>15.0</td>\n",
       "      <td>15.0</td>\n",
       "      <td>ATS</td>\n",
       "      <td>NaN</td>\n",
       "      <td>01M015</td>\n",
       "    </tr>\n",
       "  </tbody>\n",
       "</table>\n",
       "</div>"
      ],
      "text/plain": [
       "    CSD BOROUGH SCHOOL CODE                SCHOOL NAME GRADE  PROGRAM TYPE  \\\n",
       "0     1       M        M015  P.S. 015 Roberto Clemente     0K       GEN ED   \n",
       "11    1       M        M015  P.S. 015 Roberto Clemente    NaN          NaN   \n",
       "10    1       M        M015  P.S. 015 Roberto Clemente  0K-09      SPEC ED   \n",
       "9     1       M        M015  P.S. 015 Roberto Clemente     05       GEN ED   \n",
       "7     1       M        M015  P.S. 015 Roberto Clemente     03          CTT   \n",
       "\n",
       "   CORE SUBJECT (MS CORE and 9-12 ONLY) CORE COURSE (MS CORE and 9-12 ONLY)  \\\n",
       "0                                     -                                   -   \n",
       "11                                  NaN                                 NaN   \n",
       "10                                    -                                   -   \n",
       "9                                     -                                   -   \n",
       "7                                     -                                   -   \n",
       "\n",
       "   SERVICE CATEGORY(K-9* ONLY)  NUMBER OF STUDENTS / SEATS FILLED  \\\n",
       "0                            -                               19.0   \n",
       "11                         NaN                                NaN   \n",
       "10                      12:1:1                                9.0   \n",
       "9                            -                               27.0   \n",
       "7                            -                               15.0   \n",
       "\n",
       "    NUMBER OF SECTIONS  AVERAGE CLASS SIZE  SIZE OF SMALLEST CLASS  \\\n",
       "0                  1.0                19.0                    19.0   \n",
       "11                 NaN                 NaN                     NaN   \n",
       "10                 1.0                 9.0                     9.0   \n",
       "9                  1.0                27.0                    27.0   \n",
       "7                  1.0                15.0                    15.0   \n",
       "\n",
       "    SIZE OF LARGEST CLASS DATA SOURCE  SCHOOLWIDE PUPIL-TEACHER RATIO     DBN  \n",
       "0                    19.0         ATS                             NaN  01M015  \n",
       "11                    NaN         NaN                             8.4  01M015  \n",
       "10                    9.0         ATS                             NaN  01M015  \n",
       "9                    27.0         ATS                             NaN  01M015  \n",
       "7                    15.0         ATS                             NaN  01M015  "
      ]
     },
     "execution_count": 313,
     "metadata": {},
     "output_type": "execute_result"
    }
   ],
   "source": [
    "data[\"class_size\"].head()"
   ]
  },
  {
   "cell_type": "markdown",
   "id": "4ce336a9-e4f0-47be-9e3c-bc8e593f605c",
   "metadata": {},
   "source": [
    "There are several rows for each high school (as you can see by the repeated `DBN` and `SCHOOL NAME` fields). However, if we take a look at the `sat_results` dataset, it only has one row per high school:"
   ]
  },
  {
   "cell_type": "code",
   "execution_count": 314,
   "id": "904ed881-6016-4570-a369-3c6be55905a6",
   "metadata": {
    "tags": []
   },
   "outputs": [
    {
     "data": {
      "text/html": [
       "<div>\n",
       "<style scoped>\n",
       "    .dataframe tbody tr th:only-of-type {\n",
       "        vertical-align: middle;\n",
       "    }\n",
       "\n",
       "    .dataframe tbody tr th {\n",
       "        vertical-align: top;\n",
       "    }\n",
       "\n",
       "    .dataframe thead th {\n",
       "        text-align: right;\n",
       "    }\n",
       "</style>\n",
       "<table border=\"1\" class=\"dataframe\">\n",
       "  <thead>\n",
       "    <tr style=\"text-align: right;\">\n",
       "      <th></th>\n",
       "      <th>DBN</th>\n",
       "      <th>SCHOOL NAME</th>\n",
       "      <th>Num of SAT Test Takers</th>\n",
       "      <th>SAT Critical Reading Avg. Score</th>\n",
       "      <th>SAT Math Avg. Score</th>\n",
       "      <th>SAT Writing Avg. Score</th>\n",
       "    </tr>\n",
       "  </thead>\n",
       "  <tbody>\n",
       "    <tr>\n",
       "      <th>0</th>\n",
       "      <td>01M292</td>\n",
       "      <td>HENRY STREET SCHOOL FOR INTERNATIONAL STUDIES</td>\n",
       "      <td>29</td>\n",
       "      <td>355</td>\n",
       "      <td>404</td>\n",
       "      <td>363</td>\n",
       "    </tr>\n",
       "    <tr>\n",
       "      <th>1</th>\n",
       "      <td>01M448</td>\n",
       "      <td>UNIVERSITY NEIGHBORHOOD HIGH SCHOOL</td>\n",
       "      <td>91</td>\n",
       "      <td>383</td>\n",
       "      <td>423</td>\n",
       "      <td>366</td>\n",
       "    </tr>\n",
       "    <tr>\n",
       "      <th>2</th>\n",
       "      <td>01M450</td>\n",
       "      <td>EAST SIDE COMMUNITY SCHOOL</td>\n",
       "      <td>70</td>\n",
       "      <td>377</td>\n",
       "      <td>402</td>\n",
       "      <td>370</td>\n",
       "    </tr>\n",
       "    <tr>\n",
       "      <th>3</th>\n",
       "      <td>01M458</td>\n",
       "      <td>FORSYTH SATELLITE ACADEMY</td>\n",
       "      <td>7</td>\n",
       "      <td>414</td>\n",
       "      <td>401</td>\n",
       "      <td>359</td>\n",
       "    </tr>\n",
       "    <tr>\n",
       "      <th>4</th>\n",
       "      <td>01M509</td>\n",
       "      <td>MARTA VALLE HIGH SCHOOL</td>\n",
       "      <td>44</td>\n",
       "      <td>390</td>\n",
       "      <td>433</td>\n",
       "      <td>384</td>\n",
       "    </tr>\n",
       "  </tbody>\n",
       "</table>\n",
       "</div>"
      ],
      "text/plain": [
       "      DBN                                    SCHOOL NAME  \\\n",
       "0  01M292  HENRY STREET SCHOOL FOR INTERNATIONAL STUDIES   \n",
       "1  01M448            UNIVERSITY NEIGHBORHOOD HIGH SCHOOL   \n",
       "2  01M450                     EAST SIDE COMMUNITY SCHOOL   \n",
       "3  01M458                      FORSYTH SATELLITE ACADEMY   \n",
       "4  01M509                        MARTA VALLE HIGH SCHOOL   \n",
       "\n",
       "  Num of SAT Test Takers SAT Critical Reading Avg. Score SAT Math Avg. Score  \\\n",
       "0                     29                             355                 404   \n",
       "1                     91                             383                 423   \n",
       "2                     70                             377                 402   \n",
       "3                      7                             414                 401   \n",
       "4                     44                             390                 433   \n",
       "\n",
       "  SAT Writing Avg. Score  \n",
       "0                    363  \n",
       "1                    366  \n",
       "2                    370  \n",
       "3                    359  \n",
       "4                    384  "
      ]
     },
     "execution_count": 314,
     "metadata": {},
     "output_type": "execute_result"
    }
   ],
   "source": [
    "data[\"sat_results\"].head()"
   ]
  },
  {
   "cell_type": "markdown",
   "id": "986b2afd-94d6-4a3c-acb7-dfdfdf162932",
   "metadata": {},
   "source": [
    "In order to combine these datasets, we’ll need to find a way to condense datasets like class_size to the point where there’s only a single row per high school. If not, there won’t be a way to compare SAT scores to class size. We can accomplish this by first understanding the data better, then by doing some aggregation. With the class_size dataset, it looks like `GRADE` and `PROGRAM TYPE` have multiple values for each school. By restricting each field to a single value, we can filter most of the duplicate rows. In the below code, we:\n",
    "Only select values from class_size where the `GRADE` field is 09-12.\n",
    "Only select values from class_size where the `PROGRAM TYPE` field is `GEN ED`.\n",
    "Group the class_size dataset by DBN, and take the average of each column. Essentially, we’ll find the average class_size values for each school.\n",
    "Reset the index, so DBN is added back in as a column."
   ]
  },
  {
   "cell_type": "code",
   "execution_count": 315,
   "id": "d75defa9-de89-4ad6-b38c-6bb294628dd0",
   "metadata": {
    "tags": []
   },
   "outputs": [],
   "source": [
    "data['class_size'] = data['class_size'].rename(columns={'GRADE ': 'GRADE'})\n",
    "data['class_size'] = data['class_size'][data['class_size']['GRADE'] == '09-12']\n",
    "data['class_size'] = data['class_size'][data['class_size']['PROGRAM TYPE'] == 'GEN ED']\n",
    "data[\"class_size\"].groupby(\"DBN\")\n",
    "data[\"class_size\"].reset_index(inplace=True)\n",
    "# data[\"class_size\"].head()"
   ]
  },
  {
   "cell_type": "markdown",
   "id": "872ab2bc-15cf-4c7f-bc6f-7a44338ea5de",
   "metadata": {},
   "source": [
    "# Condensing other datasets\n",
    "Next, we’ll need to condense the demographics dataset. The data was collected for multiple years for the same schools, so there are duplicate rows for each school. We’ll only pick rows where the schoolyear field is the most recent available:"
   ]
  },
  {
   "cell_type": "code",
   "execution_count": 316,
   "id": "ad1ac563-a540-41f1-872d-6d272aa309e7",
   "metadata": {
    "tags": []
   },
   "outputs": [],
   "source": [
    "demographics = data[\"demographics\"]\n",
    "demographics = demographics[demographics[\"schoolyear\"] == 20112012]\n",
    "data[\"demographics\"] = demographics"
   ]
  },
  {
   "cell_type": "markdown",
   "id": "9e56de8a-a064-463c-9ba8-23b818c20516",
   "metadata": {},
   "source": [
    "We’ll need to condense the `math_test_results` dataset. This dataset is segmented by `Grade` and by `Year`. We can select only a single grade from a single year:"
   ]
  },
  {
   "cell_type": "code",
   "execution_count": 317,
   "id": "a361fbd5-6607-4ce0-a187-7c7df4c1eceb",
   "metadata": {
    "tags": []
   },
   "outputs": [],
   "source": [
    "data[\"math_test_results\"] = data[\"math_test_results\"][data[\"math_test_results\"][\"Year\"] == 2023]\n",
    "data[\"math_test_results\"] = data[\"math_test_results\"][data[\"math_test_results\"][\"Grade\"] == '8']"
   ]
  },
  {
   "cell_type": "markdown",
   "id": "96dcbba3-c5f8-4bec-86f1-2985720f71f9",
   "metadata": {},
   "source": [
    "Finally, graduation needs to be condensed:"
   ]
  },
  {
   "cell_type": "code",
   "execution_count": 318,
   "id": "05f7b920-29dd-496d-aafe-085e198963bb",
   "metadata": {
    "tags": []
   },
   "outputs": [],
   "source": [
    "data[\"graduation\"] = data[\"graduation\"][data[\"graduation\"][\"Cohort\"] == \"2006\"]\n",
    "data[\"graduation\"] = data[\"graduation\"][data[\"graduation\"][\"Demographic\"] == \"Total Cohort\"]"
   ]
  },
  {
   "cell_type": "markdown",
   "id": "ac01f502-3da9-4006-9052-77f15dea12cf",
   "metadata": {},
   "source": [
    "**Data cleaning** and **exploration** is critical before working on the meat of the project. Having a good, consistent dataset will help you do your analysis more quickly."
   ]
  },
  {
   "cell_type": "markdown",
   "id": "1e97b0c5-9c68-49ef-ace2-63b0c34e608d",
   "metadata": {},
   "source": [
    "# Computing variables\n",
    "\n",
    "Computing variables can help speed up our analysis by enabling us to make comparisons more quickly, and enable us to make comparisons that we otherwise wouldn’t be able to do. The first thing we can do is compute a total `SAT score` from the individual columns `SAT` Math Avg. Score, `SAT` Critical Reading Avg. Score, and `SAT` Writing Avg. Score. In the below code, we:\n",
    "\n",
    "Convert each of the `SAT score` columns from a string to a number. Add together all of the columns to get the sat_score column, which is the total SAT score."
   ]
  },
  {
   "cell_type": "code",
   "execution_count": 319,
   "id": "02052024-5ea1-46f6-9bc9-c1f94614e668",
   "metadata": {
    "tags": []
   },
   "outputs": [],
   "source": [
    "cols = ['SAT Math Avg. Score', 'SAT Critical Reading Avg. Score', 'SAT Writing Avg. Score']\n",
    "for c in cols:\n",
    "    data[\"sat_results\"][c] = pd.to_numeric(data[\"sat_results\"][c], errors='coerce')\n",
    "    data[\"sat_results\"][c] = data[\"sat_results\"][c].fillna(0)"
   ]
  },
  {
   "cell_type": "code",
   "execution_count": 320,
   "id": "b45a2342-6e69-43fb-a2ba-a81f8aa32d7b",
   "metadata": {
    "tags": []
   },
   "outputs": [],
   "source": [
    "for c in cols:\n",
    "    data['sat_results']['sat_score'] = data['sat_results'][cols[0]] + data['sat_results'][cols[1]] + data['sat_results'][cols[2]]"
   ]
  },
  {
   "cell_type": "code",
   "execution_count": 321,
   "id": "a4547b81-7b5f-499e-a928-54f071efa9ea",
   "metadata": {
    "tags": []
   },
   "outputs": [
    {
     "name": "stdout",
     "output_type": "stream",
     "text": [
      "118    40.713764\n",
      "134    40.712332\n",
      "19     40.729783\n",
      "302    40.720569\n",
      "355    40.718725\n",
      "Name: lat, dtype: float64\n",
      "118   -73.985260\n",
      "134   -73.984797\n",
      "19    -73.983041\n",
      "302   -73.985673\n",
      "355   -73.979426\n",
      "Name: lon, dtype: float64\n"
     ]
    }
   ],
   "source": [
    "import re\n",
    "\n",
    "def extract_coordinates(location):\n",
    "    match = re.search(r'\\(([^)]+)\\)', location)\n",
    "    if match:\n",
    "        lat, lon = match.group(1).split(', ')\n",
    "        return float(lat), float(lon)\n",
    "    return None, None\n",
    "\n",
    "data[\"hs_directory\"]['Location 1'] = data[\"hs_directory\"]['Location 1'].astype(str)\n",
    "# Apply the function to extract coordinates\n",
    "data[\"hs_directory\"]['lat'], data[\"hs_directory\"]['lon'] = zip(*data[\"hs_directory\"]['Location 1'].apply(extract_coordinates))\n",
    "print(data[\"hs_directory\"]['lat'].head())\n",
    "print(data[\"hs_directory\"]['lon'].head())"
   ]
  },
  {
   "cell_type": "markdown",
   "id": "950ee15a-15e7-4e95-a935-99dd0f5d808b",
   "metadata": {},
   "source": [
    "Next, we’ll need to parse out the coordinate locations of each school, so we can make maps. This will enable us to plot the location of each school. In the below code, we: \n",
    "Parse latitude and longitude columns from the Location 1 column. Convert lat and lon to be numeric."
   ]
  },
  {
   "cell_type": "code",
   "execution_count": 322,
   "id": "7ac6c4db-feb3-4647-970a-226f8e961042",
   "metadata": {
    "tags": []
   },
   "outputs": [],
   "source": [
    "for c in ['lat', 'lon']:\n",
    "    data[\"hs_directory\"][c] = pd.to_numeric(data[\"hs_directory\"][c], errors='coerce') \n",
    "    data[\"hs_directory\"][c] = data[\"hs_directory\"][c].fillna(data[\"hs_directory\"][c].mean())"
   ]
  },
  {
   "cell_type": "markdown",
   "id": "9d9535e2-0d21-487d-8c5e-8fbaf9621ec4",
   "metadata": {},
   "source": [
    "Now, we can print out each dataset to see what we have:"
   ]
  },
  {
   "cell_type": "code",
   "execution_count": 323,
   "id": "67e595cb-64de-47fd-a769-436fb7926fc0",
   "metadata": {
    "tags": []
   },
   "outputs": [
    {
     "name": "stdout",
     "output_type": "stream",
     "text": [
      "ap_2010\n",
      "      DBN                             SchoolName  AP Test Takers   \\\n",
      "0  01M448           UNIVERSITY NEIGHBORHOOD H.S.             39.0   \n",
      "1  01M450                 EAST SIDE COMMUNITY HS             19.0   \n",
      "2  01M515                    LOWER EASTSIDE PREP             24.0   \n",
      "3  01M539         NEW EXPLORATIONS SCI,TECH,MATH            255.0   \n",
      "4  02M296  High School of Hospitality Management              NaN   \n",
      "\n",
      "   Total Exams Taken  Number of Exams with scores 3 4 or 5  \n",
      "0               49.0                                  10.0  \n",
      "1               21.0                                   NaN  \n",
      "2               26.0                                  24.0  \n",
      "3              377.0                                 191.0  \n",
      "4                NaN                                   NaN  \n",
      "class_size\n",
      "   index  CSD BOROUGH SCHOOL CODE  \\\n",
      "0    232    1       M        M292   \n",
      "1    233    1       M        M292   \n",
      "2    234    1       M        M292   \n",
      "3    235    1       M        M292   \n",
      "4    236    1       M        M292   \n",
      "\n",
      "                                     SCHOOL NAME  GRADE PROGRAM TYPE  \\\n",
      "0  Henry Street School for International Studies  09-12       GEN ED   \n",
      "1  Henry Street School for International Studies  09-12       GEN ED   \n",
      "2  Henry Street School for International Studies  09-12       GEN ED   \n",
      "3  Henry Street School for International Studies  09-12       GEN ED   \n",
      "4  Henry Street School for International Studies  09-12       GEN ED   \n",
      "\n",
      "  CORE SUBJECT (MS CORE and 9-12 ONLY) CORE COURSE (MS CORE and 9-12 ONLY)  \\\n",
      "0                                 MATH                          Other Math   \n",
      "1                              SCIENCE                       Earth Science   \n",
      "2                              SCIENCE                  Living Environment   \n",
      "3                              SCIENCE                           Chemistry   \n",
      "4                              SCIENCE                             Physics   \n",
      "\n",
      "  SERVICE CATEGORY(K-9* ONLY)  NUMBER OF STUDENTS / SEATS FILLED  \\\n",
      "0                           -                              118.0   \n",
      "1                           -                              125.0   \n",
      "2                           -                               58.0   \n",
      "3                           -                              157.0   \n",
      "4                           -                               13.0   \n",
      "\n",
      "   NUMBER OF SECTIONS  AVERAGE CLASS SIZE  SIZE OF SMALLEST CLASS  \\\n",
      "0                 6.0                19.7                    13.0   \n",
      "1                 4.0                31.3                    28.0   \n",
      "2                 2.0                29.0                    29.0   \n",
      "3                 8.0                19.6                    13.0   \n",
      "4                 1.0                13.0                    13.0   \n",
      "\n",
      "   SIZE OF LARGEST CLASS DATA SOURCE  SCHOOLWIDE PUPIL-TEACHER RATIO     DBN  \n",
      "0                   27.0       STARS                             NaN  01M292  \n",
      "1                   35.0       STARS                             NaN  01M292  \n",
      "2                   29.0       STARS                             NaN  01M292  \n",
      "3                   24.0       STARS                             NaN  01M292  \n",
      "4                   13.0       STARS                             NaN  01M292  \n",
      "demographics\n",
      "       DBN                                              Name  schoolyear  \\\n",
      "6   01M015  P.S. 015 ROBERTO CLEMENTE                           20112012   \n",
      "13  01M019  P.S. 019 ASHER LEVY                                 20112012   \n",
      "20  01M020  PS 020 ANNA SILVER                                  20112012   \n",
      "27  01M034  PS 034 FRANKLIN D ROOSEVELT                         20112012   \n",
      "35  01M063  PS 063 WILLIAM MCKINLEY                             20112012   \n",
      "\n",
      "   fl_percent  frl_percent  total_enrollment prek    k grade1 grade2  ...  \\\n",
      "6         NaN         89.4               189   13   31     35     28  ...   \n",
      "13        NaN         61.5               328   32   46     52     54  ...   \n",
      "20        NaN         92.5               626   52  102    121     87  ...   \n",
      "27        NaN         99.7               401   14   34     38     36  ...   \n",
      "35        NaN         78.9               176   18   20     30     21  ...   \n",
      "\n",
      "   black_num black_per hispanic_num hispanic_per white_num white_per male_num  \\\n",
      "6         63      33.3          109         57.7         4       2.1     97.0   \n",
      "13        81      24.7          158         48.2        28       8.5    147.0   \n",
      "20        55       8.8          357         57.0        16       2.6    330.0   \n",
      "27        90      22.4          275         68.6         8       2.0    204.0   \n",
      "35        41      23.3          110         62.5        15       8.5     97.0   \n",
      "\n",
      "   male_per female_num female_per  \n",
      "6      51.3       92.0       48.7  \n",
      "13     44.8      181.0       55.2  \n",
      "20     52.7      296.0       47.3  \n",
      "27     50.9      197.0       49.1  \n",
      "35     55.1       79.0       44.9  \n",
      "\n",
      "[5 rows x 38 columns]\n",
      "graduation\n",
      "     Demographic     DBN                            School Name Cohort  \\\n",
      "3   Total Cohort  01M292  HENRY STREET SCHOOL FOR INTERNATIONAL   2006   \n",
      "10  Total Cohort  01M448    UNIVERSITY NEIGHBORHOOD HIGH SCHOOL   2006   \n",
      "17  Total Cohort  01M450             EAST SIDE COMMUNITY SCHOOL   2006   \n",
      "24  Total Cohort  01M509                MARTA VALLE HIGH SCHOOL   2006   \n",
      "31  Total Cohort  01M515  LOWER EAST SIDE PREPARATORY HIGH SCHO   2006   \n",
      "\n",
      "    Total Cohort Total Grads - n  Total Grads - % of cohort Total Regents - n  \\\n",
      "3             78              43                       55.1                36   \n",
      "10           124              53                       42.7                42   \n",
      "17            90              70                       77.8                67   \n",
      "24            84              47                       56.0                40   \n",
      "31           193             105                       54.4                91   \n",
      "\n",
      "    Total Regents - % of cohort  Total Regents - % of grads  ...  \\\n",
      "3                          46.2                        83.7  ...   \n",
      "10                         33.9                        79.2  ...   \n",
      "17                         74.4                        95.7  ...   \n",
      "24                         47.6                        85.1  ...   \n",
      "31                         47.2                        86.7  ...   \n",
      "\n",
      "   Regents w/o Advanced - n  Regents w/o Advanced - % of cohort  \\\n",
      "3                        36                                46.2   \n",
      "10                       34                                27.4   \n",
      "17                       67                                74.4   \n",
      "24                       23                                27.4   \n",
      "31                       22                                11.4   \n",
      "\n",
      "    Regents w/o Advanced - % of grads Local - n  Local - % of cohort  \\\n",
      "3                                83.7         7                  9.0   \n",
      "10                               64.2        11                  8.9   \n",
      "17                               95.7         3                  3.3   \n",
      "24                               48.9         7                  8.3   \n",
      "31                               21.0        14                  7.3   \n",
      "\n",
      "    Local - % of grads Still Enrolled - n  Still Enrolled - % of cohort  \\\n",
      "3                 16.3                 16                          20.5   \n",
      "10                20.8                 46                          37.1   \n",
      "17                 4.3                 15                          16.7   \n",
      "24                14.9                 25                          29.8   \n",
      "31                13.3                 53                          27.5   \n",
      "\n",
      "    Dropped Out - n Dropped Out - % of cohort  \n",
      "3                11                      14.1  \n",
      "10               20                      16.1  \n",
      "17                5                       5.6  \n",
      "24                5                       6.0  \n",
      "31               35                      18.1  \n",
      "\n",
      "[5 rows x 23 columns]\n",
      "hs_directory\n",
      "        DBN                                        school_name    borough  \\\n",
      "118  01M292      Henry Street School for International Studies  Manhattan   \n",
      "134  01M448                University Neighborhood High School  Manhattan   \n",
      "19   01M450                         East Side Community School  Manhattan   \n",
      "302  01M509                            Marta Valle High School  Manhattan   \n",
      "355  01M539  New Explorations into Science, Technology and ...  Manhattan   \n",
      "\n",
      "    building_code  phone_number    fax_number  grade_span_min  grade_span_max  \\\n",
      "118          M056  212-406-9411  212-406-9417             6.0              12   \n",
      "134          M446  212-962-4341  212-267-5611             9.0              12   \n",
      "19           M060  212-460-8467  212-260-9657             6.0              12   \n",
      "302          M025  212-473-8152  212-475-7588             9.0              12   \n",
      "355          M022  212-677-5190  212-260-8124             NaN              12   \n",
      "\n",
      "     expgrade_span_min  expgrade_span_max  ... priority10  \\\n",
      "118                NaN                NaN  ...        NaN   \n",
      "134                NaN                NaN  ...        NaN   \n",
      "19                 NaN                NaN  ...        NaN   \n",
      "302                NaN                NaN  ...        NaN   \n",
      "355                NaN                NaN  ...        NaN   \n",
      "\n",
      "                                            Location 1 Community Board  \\\n",
      "118  220 Henry Street\\nNew York, NY 10002\\n(40.7137...             3.0   \n",
      "134  200 Monroe Street\\nNew York, NY 10002\\n(40.712...             3.0   \n",
      "19   420 East 12 Street\\nNew York, NY 10009\\n(40.72...             3.0   \n",
      "302  145 Stanton Street\\nNew York, NY 10002\\n(40.72...             3.0   \n",
      "355  111 Columbia Street\\nNew York, NY 10002\\n(40.7...             3.0   \n",
      "\n",
      "    Council District Census Tract        BIN           BBL  \\\n",
      "118              1.0        201.0  1003223.0  1.002690e+09   \n",
      "134              1.0        202.0  1003214.0  1.002590e+09   \n",
      "19               2.0         34.0  1005974.0  1.004390e+09   \n",
      "302              1.0       3001.0  1004323.0  1.003540e+09   \n",
      "355              2.0       2201.0  1004070.0  1.003350e+09   \n",
      "\n",
      "                                                   NTA        lat        lon  \n",
      "118  Lower East Side                               ...  40.713764 -73.985260  \n",
      "134  Lower East Side                               ...  40.712332 -73.984797  \n",
      "19   East Village                                  ...  40.729783 -73.983041  \n",
      "302  Chinatown                                     ...  40.720569 -73.985673  \n",
      "355  Lower East Side                               ...  40.718725 -73.979426  \n",
      "\n",
      "[5 rows x 66 columns]\n",
      "math_test_results\n",
      "    Report Category Geographic Subdivision School Name Grade  Year  \\\n",
      "5          Citywide               Citywide         NaN     8  2023   \n",
      "73         Citywide               Citywide         NaN     8  2023   \n",
      "74         Citywide               Citywide         NaN     8  2023   \n",
      "219        Citywide               Citywide         NaN     8  2023   \n",
      "220        Citywide               Citywide         NaN     8  2023   \n",
      "\n",
      "    Student Category  Number Tested Mean Scale Score Num Level 1 Pct Level 1  \\\n",
      "5       All Students          33692              446       13858        41.1   \n",
      "73           Not SWD          25586              452        8500        33.2   \n",
      "74               SWD           8106              430        5358        66.1   \n",
      "219            Asian           5282              468         861        16.3   \n",
      "220            Black           7742              438        4062        52.5   \n",
      "\n",
      "    Num Level 2 Pct Level 2 Num Level 3 Pct Level 3 Num Level 4 Pct Level 4  \\\n",
      "5          5579        16.6        9334        27.7        4921        14.6   \n",
      "73         4329        16.9        8061        31.5        4696        18.4   \n",
      "74         1250        15.4        1273        15.7         225         2.8   \n",
      "219         598        11.3        1832        34.7        1991        37.7   \n",
      "220        1343        17.3        1805        23.3         532         6.9   \n",
      "\n",
      "    Num Level 3 and 4 Pct Level 3 and 4  \n",
      "5               14255              42.3  \n",
      "73              12757              49.9  \n",
      "74               1498              18.5  \n",
      "219              3823              72.4  \n",
      "220              2337              30.2  \n",
      "sat_results\n",
      "      DBN                                    SCHOOL NAME  \\\n",
      "0  01M292  HENRY STREET SCHOOL FOR INTERNATIONAL STUDIES   \n",
      "1  01M448            UNIVERSITY NEIGHBORHOOD HIGH SCHOOL   \n",
      "2  01M450                     EAST SIDE COMMUNITY SCHOOL   \n",
      "3  01M458                      FORSYTH SATELLITE ACADEMY   \n",
      "4  01M509                        MARTA VALLE HIGH SCHOOL   \n",
      "\n",
      "  Num of SAT Test Takers  SAT Critical Reading Avg. Score  \\\n",
      "0                     29                            355.0   \n",
      "1                     91                            383.0   \n",
      "2                     70                            377.0   \n",
      "3                      7                            414.0   \n",
      "4                     44                            390.0   \n",
      "\n",
      "   SAT Math Avg. Score  SAT Writing Avg. Score  sat_score  \n",
      "0                404.0                   363.0     1122.0  \n",
      "1                423.0                   366.0     1172.0  \n",
      "2                402.0                   370.0     1149.0  \n",
      "3                401.0                   359.0     1174.0  \n",
      "4                433.0                   384.0     1207.0  \n",
      "survey\n",
      "      DBN                     School Name  Total Parent Response Rate  \\\n",
      "0  01M015       P.S. 015 ROBERTO CLEMENTE                        91.0   \n",
      "1  01M019             P.S. 019 ASHER LEVY                       100.0   \n",
      "2  01M020            P.S. 020 ANNA SILVER                        58.0   \n",
      "3  01M034  P.S. 034 FRANKLIN D. ROOSEVELT                        29.0   \n",
      "4  01M063       THE STAR ACADEMY - P.S.63                        80.0   \n",
      "\n",
      "  Total Teacher Response Rate Total Student Response Rate  \\\n",
      "0                         100                         NaN   \n",
      "1                          93                         NaN   \n",
      "2                          90                         NaN   \n",
      "3                         100                       9500%   \n",
      "4                         100                         NaN   \n",
      "\n",
      "   Collaborative Teachers Score  Effective School Leadership Score  \\\n",
      "0                          4.10                               4.19   \n",
      "1                          4.53                               4.51   \n",
      "2                          2.71                               2.98   \n",
      "3                          2.69                               2.59   \n",
      "4                           NaN                                NaN   \n",
      "\n",
      "   Rigorous Instruction Score  Supportive Environment Score  \\\n",
      "0                        4.02                           NaN   \n",
      "1                        4.80                           NaN   \n",
      "2                        1.92                           NaN   \n",
      "3                        2.14                           NaN   \n",
      "4                         NaN                           NaN   \n",
      "\n",
      "   Strong Family-Community Ties Score  Trust Score    d75  \\\n",
      "0                                4.18         3.96  False   \n",
      "1                                4.66         3.76  False   \n",
      "2                                3.84         3.14  False   \n",
      "3                                3.67         2.38  False   \n",
      "4                                 NaN         3.77  False   \n",
      "\n",
      "  Total Safety and Respect Score Total Communication Score  \\\n",
      "0                            NaN                       NaN   \n",
      "1                            NaN                       NaN   \n",
      "2                            NaN                       NaN   \n",
      "3                            NaN                       NaN   \n",
      "4                            NaN                       NaN   \n",
      "\n",
      "  Total Engagement Score Total Academic Expectations Score  \n",
      "0                    NaN                               NaN  \n",
      "1                    NaN                               NaN  \n",
      "2                    NaN                               NaN  \n",
      "3                    NaN                               NaN  \n",
      "4                    NaN                               NaN  \n"
     ]
    }
   ],
   "source": [
    "for k,v in data.items():\n",
    "    print(k)\n",
    "    print(v.head())"
   ]
  },
  {
   "cell_type": "markdown",
   "id": "9b0a0395-7e13-46d0-b7fd-f9a0062b056e",
   "metadata": {},
   "source": [
    "# Combining the datasets\n",
    "\n",
    "Now that we’ve done all the preliminaries, we can combine the datasets together using the DBN column. At the end, we’ll have a dataset with hundreds of columns, from each of the original datasets. When we join them, it’s important to note that some of the datasets are missing high schools that exist in the sat_results dataset. To resolve this, we’ll need to merge the datasets that have missing rows using the outer join strategy, so we don’t lose data. In real-world data analysis, it’s common to have data be missing. Being able to demonstrate the ability to reason about and handle missing data is an important part of building a portfolio.\n",
    "You can read about different types of joins here.\n",
    "In the below code, we’ll:\n",
    "\n",
    "- Loop through each of the items in the data dictionary.\n",
    "- Print the number of non-unique DBNs in the item.\n",
    "- Decide on a join strategy — inner or outer.\n",
    "- Join the item to the DataFrame full using the column DBN."
   ]
  },
  {
   "cell_type": "code",
   "execution_count": 324,
   "id": "50866fc6-78f8-475d-a46e-719e9cccc94c",
   "metadata": {
    "tags": []
   },
   "outputs": [
    {
     "name": "stdout",
     "output_type": "stream",
     "text": [
      "ap_2010, Number of Non-Unique DBNs: 1\n",
      "class_size, Number of Non-Unique DBNs: 5930\n",
      "demographics, Number of Non-Unique DBNs: 0\n",
      "graduation, Number of Non-Unique DBNs: 0\n",
      "hs_directory, Number of Non-Unique DBNs: 0\n",
      "sat_results, Number of Non-Unique DBNs: 0\n",
      "survey, Number of Non-Unique DBNs: 56\n",
      "(3775, 171)\n"
     ]
    }
   ],
   "source": [
    "# Initialize 'full' with the first DataFrame in the dictionary\n",
    "full = data['ap_2010']\n",
    "\n",
    "# Loop through each item in the dictionary\n",
    "for name, df in data.items():\n",
    "    if name == 'math_test_results':\n",
    "        continue  # Skip 'math_test_results' as it doesn't have a 'DBN' column\n",
    "    \n",
    "    # Print the name of the item and the number of non-unique 'DBN' columns\n",
    "    print(f\"{name}, Number of Non-Unique DBNs: {df['DBN'].duplicated().sum()}\")\n",
    "    \n",
    "    # Decide on the join strategy\n",
    "    join_type = 'outer' if name in [\"sat_results\", \"ap_2010\", \"graduation\"] else 'inner'\n",
    "    \n",
    "    # Join the item to the 'full' DataFrame using the 'DBN' column\n",
    "    full = full.merge(df, on='DBN', how=join_type)\n",
    "print(full.shape)"
   ]
  },
  {
   "cell_type": "code",
   "execution_count": 325,
   "id": "d7c39942-0340-4aa4-b1cc-74f96024d0d5",
   "metadata": {
    "tags": []
   },
   "outputs": [
    {
     "data": {
      "text/html": [
       "<div>\n",
       "<style scoped>\n",
       "    .dataframe tbody tr th:only-of-type {\n",
       "        vertical-align: middle;\n",
       "    }\n",
       "\n",
       "    .dataframe tbody tr th {\n",
       "        vertical-align: top;\n",
       "    }\n",
       "\n",
       "    .dataframe thead th {\n",
       "        text-align: right;\n",
       "    }\n",
       "</style>\n",
       "<table border=\"1\" class=\"dataframe\">\n",
       "  <thead>\n",
       "    <tr style=\"text-align: right;\">\n",
       "      <th></th>\n",
       "      <th>DBN</th>\n",
       "      <th>SchoolName_x</th>\n",
       "      <th>AP Test Takers _x</th>\n",
       "      <th>Total Exams Taken_x</th>\n",
       "      <th>Number of Exams with scores 3 4 or 5_x</th>\n",
       "      <th>SchoolName_y</th>\n",
       "      <th>AP Test Takers _y</th>\n",
       "      <th>Total Exams Taken_y</th>\n",
       "      <th>Number of Exams with scores 3 4 or 5_y</th>\n",
       "      <th>index</th>\n",
       "      <th>...</th>\n",
       "      <th>Effective School Leadership Score</th>\n",
       "      <th>Rigorous Instruction Score</th>\n",
       "      <th>Supportive Environment Score</th>\n",
       "      <th>Strong Family-Community Ties Score</th>\n",
       "      <th>Trust Score</th>\n",
       "      <th>d75</th>\n",
       "      <th>Total Safety and Respect Score</th>\n",
       "      <th>Total Communication Score</th>\n",
       "      <th>Total Engagement Score</th>\n",
       "      <th>Total Academic Expectations Score</th>\n",
       "    </tr>\n",
       "  </thead>\n",
       "  <tbody>\n",
       "    <tr>\n",
       "      <th>0</th>\n",
       "      <td>01M292</td>\n",
       "      <td>NaN</td>\n",
       "      <td>NaN</td>\n",
       "      <td>NaN</td>\n",
       "      <td>NaN</td>\n",
       "      <td>NaN</td>\n",
       "      <td>NaN</td>\n",
       "      <td>NaN</td>\n",
       "      <td>NaN</td>\n",
       "      <td>NaN</td>\n",
       "      <td>...</td>\n",
       "      <td>3.48</td>\n",
       "      <td>3.3</td>\n",
       "      <td>NaN</td>\n",
       "      <td>3.06</td>\n",
       "      <td>3.88</td>\n",
       "      <td>False</td>\n",
       "      <td>NaN</td>\n",
       "      <td>NaN</td>\n",
       "      <td>NaN</td>\n",
       "      <td>NaN</td>\n",
       "    </tr>\n",
       "    <tr>\n",
       "      <th>1</th>\n",
       "      <td>01M448</td>\n",
       "      <td>UNIVERSITY NEIGHBORHOOD H.S.</td>\n",
       "      <td>39.0</td>\n",
       "      <td>49.0</td>\n",
       "      <td>10.0</td>\n",
       "      <td>UNIVERSITY NEIGHBORHOOD H.S.</td>\n",
       "      <td>39.0</td>\n",
       "      <td>49.0</td>\n",
       "      <td>10.0</td>\n",
       "      <td>370.0</td>\n",
       "      <td>...</td>\n",
       "      <td>NaN</td>\n",
       "      <td>NaN</td>\n",
       "      <td>NaN</td>\n",
       "      <td>NaN</td>\n",
       "      <td>4.15</td>\n",
       "      <td>False</td>\n",
       "      <td>NaN</td>\n",
       "      <td>NaN</td>\n",
       "      <td>NaN</td>\n",
       "      <td>NaN</td>\n",
       "    </tr>\n",
       "    <tr>\n",
       "      <th>2</th>\n",
       "      <td>01M448</td>\n",
       "      <td>UNIVERSITY NEIGHBORHOOD H.S.</td>\n",
       "      <td>39.0</td>\n",
       "      <td>49.0</td>\n",
       "      <td>10.0</td>\n",
       "      <td>UNIVERSITY NEIGHBORHOOD H.S.</td>\n",
       "      <td>39.0</td>\n",
       "      <td>49.0</td>\n",
       "      <td>10.0</td>\n",
       "      <td>371.0</td>\n",
       "      <td>...</td>\n",
       "      <td>NaN</td>\n",
       "      <td>NaN</td>\n",
       "      <td>NaN</td>\n",
       "      <td>NaN</td>\n",
       "      <td>4.15</td>\n",
       "      <td>False</td>\n",
       "      <td>NaN</td>\n",
       "      <td>NaN</td>\n",
       "      <td>NaN</td>\n",
       "      <td>NaN</td>\n",
       "    </tr>\n",
       "    <tr>\n",
       "      <th>3</th>\n",
       "      <td>01M448</td>\n",
       "      <td>UNIVERSITY NEIGHBORHOOD H.S.</td>\n",
       "      <td>39.0</td>\n",
       "      <td>49.0</td>\n",
       "      <td>10.0</td>\n",
       "      <td>UNIVERSITY NEIGHBORHOOD H.S.</td>\n",
       "      <td>39.0</td>\n",
       "      <td>49.0</td>\n",
       "      <td>10.0</td>\n",
       "      <td>369.0</td>\n",
       "      <td>...</td>\n",
       "      <td>NaN</td>\n",
       "      <td>NaN</td>\n",
       "      <td>NaN</td>\n",
       "      <td>NaN</td>\n",
       "      <td>4.15</td>\n",
       "      <td>False</td>\n",
       "      <td>NaN</td>\n",
       "      <td>NaN</td>\n",
       "      <td>NaN</td>\n",
       "      <td>NaN</td>\n",
       "    </tr>\n",
       "    <tr>\n",
       "      <th>4</th>\n",
       "      <td>01M448</td>\n",
       "      <td>UNIVERSITY NEIGHBORHOOD H.S.</td>\n",
       "      <td>39.0</td>\n",
       "      <td>49.0</td>\n",
       "      <td>10.0</td>\n",
       "      <td>UNIVERSITY NEIGHBORHOOD H.S.</td>\n",
       "      <td>39.0</td>\n",
       "      <td>49.0</td>\n",
       "      <td>10.0</td>\n",
       "      <td>367.0</td>\n",
       "      <td>...</td>\n",
       "      <td>NaN</td>\n",
       "      <td>NaN</td>\n",
       "      <td>NaN</td>\n",
       "      <td>NaN</td>\n",
       "      <td>4.15</td>\n",
       "      <td>False</td>\n",
       "      <td>NaN</td>\n",
       "      <td>NaN</td>\n",
       "      <td>NaN</td>\n",
       "      <td>NaN</td>\n",
       "    </tr>\n",
       "  </tbody>\n",
       "</table>\n",
       "<p>5 rows × 171 columns</p>\n",
       "</div>"
      ],
      "text/plain": [
       "      DBN                  SchoolName_x  AP Test Takers _x  \\\n",
       "0  01M292                           NaN                NaN   \n",
       "1  01M448  UNIVERSITY NEIGHBORHOOD H.S.               39.0   \n",
       "2  01M448  UNIVERSITY NEIGHBORHOOD H.S.               39.0   \n",
       "3  01M448  UNIVERSITY NEIGHBORHOOD H.S.               39.0   \n",
       "4  01M448  UNIVERSITY NEIGHBORHOOD H.S.               39.0   \n",
       "\n",
       "   Total Exams Taken_x  Number of Exams with scores 3 4 or 5_x  \\\n",
       "0                  NaN                                     NaN   \n",
       "1                 49.0                                    10.0   \n",
       "2                 49.0                                    10.0   \n",
       "3                 49.0                                    10.0   \n",
       "4                 49.0                                    10.0   \n",
       "\n",
       "                   SchoolName_y  AP Test Takers _y  Total Exams Taken_y  \\\n",
       "0                           NaN                NaN                  NaN   \n",
       "1  UNIVERSITY NEIGHBORHOOD H.S.               39.0                 49.0   \n",
       "2  UNIVERSITY NEIGHBORHOOD H.S.               39.0                 49.0   \n",
       "3  UNIVERSITY NEIGHBORHOOD H.S.               39.0                 49.0   \n",
       "4  UNIVERSITY NEIGHBORHOOD H.S.               39.0                 49.0   \n",
       "\n",
       "   Number of Exams with scores 3 4 or 5_y  index  ...  \\\n",
       "0                                     NaN    NaN  ...   \n",
       "1                                    10.0  370.0  ...   \n",
       "2                                    10.0  371.0  ...   \n",
       "3                                    10.0  369.0  ...   \n",
       "4                                    10.0  367.0  ...   \n",
       "\n",
       "   Effective School Leadership Score Rigorous Instruction Score  \\\n",
       "0                               3.48                        3.3   \n",
       "1                                NaN                        NaN   \n",
       "2                                NaN                        NaN   \n",
       "3                                NaN                        NaN   \n",
       "4                                NaN                        NaN   \n",
       "\n",
       "  Supportive Environment Score Strong Family-Community Ties Score Trust Score  \\\n",
       "0                          NaN                               3.06        3.88   \n",
       "1                          NaN                                NaN        4.15   \n",
       "2                          NaN                                NaN        4.15   \n",
       "3                          NaN                                NaN        4.15   \n",
       "4                          NaN                                NaN        4.15   \n",
       "\n",
       "     d75 Total Safety and Respect Score Total Communication Score  \\\n",
       "0  False                            NaN                       NaN   \n",
       "1  False                            NaN                       NaN   \n",
       "2  False                            NaN                       NaN   \n",
       "3  False                            NaN                       NaN   \n",
       "4  False                            NaN                       NaN   \n",
       "\n",
       "  Total Engagement Score  Total Academic Expectations Score  \n",
       "0                    NaN                                NaN  \n",
       "1                    NaN                                NaN  \n",
       "2                    NaN                                NaN  \n",
       "3                    NaN                                NaN  \n",
       "4                    NaN                                NaN  \n",
       "\n",
       "[5 rows x 171 columns]"
      ]
     },
     "execution_count": 325,
     "metadata": {},
     "output_type": "execute_result"
    }
   ],
   "source": [
    "full.head()"
   ]
  },
  {
   "cell_type": "markdown",
   "id": "101fbdcf-ba3a-43b4-bcfb-4e52c5ed2c41",
   "metadata": {},
   "source": [
    "# Adding in values \n",
    "\n",
    "Now that we have our full DataFrame, we have almost all the information we’ll need to do our analysis. There are a few missing pieces, though. We may want to correlate the Advanced Placement exam results with SAT scores, but we’ll need to first convert those columns to numbers, then fill in any missing values:"
   ]
  },
  {
   "cell_type": "code",
   "execution_count": 326,
   "id": "07947f78-d30e-4d76-816c-07ed5a66999e",
   "metadata": {
    "tags": []
   },
   "outputs": [],
   "source": [
    "cols = ['AP Test Takers _x', 'Total Exams Taken_x', 'Number of Exams with scores 3 4 or 5_x']\n",
    "for col in cols:\n",
    "    full[col] = pd.to_numeric(full[col], errors='coerce')\n",
    "    full[col] = full[col].fillna(0)"
   ]
  },
  {
   "cell_type": "markdown",
   "id": "c2bcc47e-224d-42b6-b912-a9e863100663",
   "metadata": {},
   "source": [
    "# Computing correlations \n",
    "\n",
    "A good way to explore a dataset and see what columns are related to the one you care about is to compute correlations. This will tell you which columns are closely related to the column you’re interested in. We can do this via the corr method on Pandas DataFrames. The closer to 0 the correlation, the weaker the connection. The closer to 1, the stronger the positive correlation, and the closer to -1, the stronger the negative correlation:"
   ]
  },
  {
   "cell_type": "markdown",
   "id": "e55e9da0-31bb-4717-a418-78144caf2ce8",
   "metadata": {
    "tags": []
   },
   "source": [
    "Then, we’ll need to calculate a `school_dist` column that indicates the school district of the school. This will enable us to match up school districts and plot out district-level statistics using the district maps we downloaded earlier:"
   ]
  },
  {
   "cell_type": "code",
   "execution_count": 327,
   "id": "db370f2d-93cd-477b-a59b-2f401358cdb9",
   "metadata": {
    "tags": []
   },
   "outputs": [],
   "source": [
    "full[\"school_dist\"] = full[\"DBN\"].apply(lambda x: x[:2])"
   ]
  },
  {
   "cell_type": "markdown",
   "id": "ad2dcd1f-0513-4333-b8bf-8f3317d8a9c5",
   "metadata": {
    "tags": []
   },
   "source": [
    "Finally, we’ll need to fill in any missing values in full with the mean of the column, so we can compute correlations:"
   ]
  },
  {
   "cell_type": "code",
   "execution_count": 328,
   "id": "22659dca-f7ee-4126-bc3a-98a136637694",
   "metadata": {
    "tags": []
   },
   "outputs": [],
   "source": [
    "numeric_df = full.select_dtypes(include=['number'])\n",
    "df = full.fillna(numeric_df.mean())"
   ]
  },
  {
   "cell_type": "markdown",
   "id": "78028ca4-bf68-443d-804c-a18ee1b4250d",
   "metadata": {},
   "source": [
    "Computing correlations A good way to explore a dataset and see what columns are related to the one you care about is to compute correlations. This will tell you which columns are closely related to the column you’re interested in. We can do this via the corr method on Pandas DataFrames. The closer to 0 the correlation, the weaker the connection. The closer to 1, the stronger the positive correlation, and the closer to -1, the stronger the negative correlation:"
   ]
  },
  {
   "cell_type": "code",
   "execution_count": 329,
   "id": "f713c5a7-506b-459b-952b-7e289335fdd6",
   "metadata": {
    "tags": []
   },
   "outputs": [
    {
     "data": {
      "text/plain": [
       "AP Test Takers _x                         0.525179\n",
       "Total Exams Taken_x                       0.514730\n",
       "Number of Exams with scores 3 4 or 5_x    0.516721\n",
       "AP Test Takers _y                         0.624448\n",
       "Total Exams Taken_y                       0.617518\n",
       "                                            ...   \n",
       "Effective School Leadership Score        -0.002251\n",
       "Rigorous Instruction Score                0.217094\n",
       "Supportive Environment Score                   NaN\n",
       "Strong Family-Community Ties Score       -0.147196\n",
       "Trust Score                              -0.098299\n",
       "Name: sat_score, Length: 70, dtype: float64"
      ]
     },
     "execution_count": 329,
     "metadata": {},
     "output_type": "execute_result"
    }
   ],
   "source": [
    "corr_matrix = numeric_df.corr()['sat_score']\n",
    "corr_matrix"
   ]
  },
  {
   "cell_type": "markdown",
   "id": "7188db1f-1890-4b95-9741-7ec9b9b0c5e9",
   "metadata": {},
   "source": [
    "According to the correlation matrix above:\n",
    "\n",
    "- The `SAT Critical Reading Avg. Score`, `SAT Math Avg. Score`, and the `SAT Writing Avg. Score` are strongly correlated wit the `SAT score` which is expected. \n",
    "\n",
    "- The `Total Parent Response Rate`, `Rigorous Instruction Score` both have a weak ppsitive correlation with the `SAT score` which is surpring, because you’d think schools with a good Rigorous Instruction Score correlates significantly with the `SAT score`.           \n",
    "   \n",
    "- The `Collaborative Teachers Score`, `Effective School Leadership Score` , `Strong Family-Community Ties Score`, and `Trust Score` all have a negative correlation with the `SAT score` meaning when thses scores ar low it affected the `SAT score` negativelay.           "
   ]
  },
  {
   "cell_type": "code",
   "execution_count": 330,
   "id": "e8c45193-cd0d-4f5c-b5d8-1e3f8726a355",
   "metadata": {
    "tags": []
   },
   "outputs": [],
   "source": [
    "# numeric_df = numeric_df.select_dtypes(exclude=['object'])"
   ]
  },
  {
   "cell_type": "code",
   "execution_count": 331,
   "id": "e1d6af63-600e-47f0-a637-325856199f49",
   "metadata": {
    "tags": []
   },
   "outputs": [
    {
     "data": {
      "text/plain": [
       "<Axes: >"
      ]
     },
     "execution_count": 331,
     "metadata": {},
     "output_type": "execute_result"
    },
    {
     "data": {
      "image/png": "[encoded data removed]",
      "text/plain": [
       "<Figure size 800x600 with 2 Axes>"
      ]
     },
     "metadata": {},
     "output_type": "display_data"
    }
   ],
   "source": [
    "import seaborn as sns\n",
    "import matplotlib.pyplot as plt\n",
    "\n",
    "heatmap_columns = ['SAT Critical Reading Avg. Score', 'SAT Math Avg. Score', 'SAT Writing Avg. Score', \n",
    "                   'Total Parent Response Rate', 'Rigorous Instruction Score', 'Collaborative Teachers Score', \n",
    "                   'Effective School Leadership Score', 'Strong Family-Community Ties Score', 'Trust Score', 'sat_score']\n",
    "plt.subplots(figsize=(8,6))\n",
    "df_heatmap = numeric_df[heatmap_columns]\n",
    "sns.heatmap(df_heatmap.corr())"
   ]
  },
  {
   "cell_type": "markdown",
   "id": "37e6d828-a027-4614-858a-a60d1937496d",
   "metadata": {},
   "source": [
    "Each of these items is a potential angle to explore and tell a story about using the data.\n",
    "\n",
    "# Setting the context\n",
    "\n",
    "Before we dive into exploring the data, we’ll want to set the context, both for ourselves, and anyone else that reads our analysis. One good way to do this is with exploratory charts or maps. In this case, we’ll map out the positions of the schools, which will help readers understand the problem we’re exploring. In the below code, we:\n",
    "\n",
    "- Setup a map centered on New York City.\n",
    "- Add a marker to the map for each high school in the city.\n",
    "- Display the map."
   ]
  },
  {
   "cell_type": "code",
   "execution_count": 332,
   "id": "9e6f58a4-8373-458a-9708-7cfc1d4f9ff7",
   "metadata": {
    "tags": []
   },
   "outputs": [],
   "source": [
    "full['lat'] = full['lat'].fillna(full['lat'].mean())\n",
    "full['lon'] = full['lon'].fillna(full['lon'].mean())"
   ]
  },
  {
   "cell_type": "markdown",
   "id": "5174684b-b70e-44ac-b208-44e1aa346227",
   "metadata": {},
   "source": [
    "This map is helpful, but it’s hard to see where the most schools are in NYC. Instead, we’ll make a heatmap:"
   ]
  },
  {
   "cell_type": "code",
   "execution_count": 333,
   "id": "72fdce0d-6f1b-4210-8b0a-a2f9417fc1c8",
   "metadata": {
    "tags": []
   },
   "outputs": [
    {
     "data": {
      "text/html": [
       "<div style=\"width:100%;\"><div style=\"position:relative;width:100%;height:0;padding-bottom:60%;\"><span style=\"color:#565656\">Make this Notebook Trusted to load map: File -> Trust Notebook</span><iframe srcdoc=\"&lt;!DOCTYPE html&gt;\n",
       "&lt;html&gt;\n",
       "&lt;head&gt;\n",
       "    \n",
       "    &lt;meta http-equiv=&quot;content-type&quot; content=&quot;text/html; charset=UTF-8&quot; /&gt;\n",
       "    \n",
       "        &lt;script&gt;\n",
       "            L_NO_TOUCH = false;\n",
       "            L_DISABLE_3D = false;\n",
       "        &lt;/script&gt;\n",
       "    \n",
       "    &lt;style&gt;html, body {width: 100%;height: 100%;margin: 0;padding: 0;}&lt;/style&gt;\n",
       "    &lt;style&gt;#map {position:absolute;top:0;bottom:0;right:0;left:0;}&lt;/style&gt;\n",
       "    &lt;script src=&quot;https://cdn.jsdelivr.net/npm/leaflet@1.9.3/dist/leaflet.js&quot;&gt;&lt;/script&gt;\n",
       "    &lt;script src=&quot;https://code.jquery.com/jquery-3.7.1.min.js&quot;&gt;&lt;/script&gt;\n",
       "    &lt;script src=&quot;https://cdn.jsdelivr.net/npm/bootstrap@5.2.2/dist/js/bootstrap.bundle.min.js&quot;&gt;&lt;/script&gt;\n",
       "    &lt;script src=&quot;https://cdnjs.cloudflare.com/ajax/libs/Leaflet.awesome-markers/2.0.2/leaflet.awesome-markers.js&quot;&gt;&lt;/script&gt;\n",
       "    &lt;link rel=&quot;stylesheet&quot; href=&quot;https://cdn.jsdelivr.net/npm/leaflet@1.9.3/dist/leaflet.css&quot;/&gt;\n",
       "    &lt;link rel=&quot;stylesheet&quot; href=&quot;https://cdn.jsdelivr.net/npm/bootstrap@5.2.2/dist/css/bootstrap.min.css&quot;/&gt;\n",
       "    &lt;link rel=&quot;stylesheet&quot; href=&quot;https://netdna.bootstrapcdn.com/bootstrap/3.0.0/css/bootstrap-glyphicons.css&quot;/&gt;\n",
       "    &lt;link rel=&quot;stylesheet&quot; href=&quot;https://cdn.jsdelivr.net/npm/@fortawesome/fontawesome-free@6.2.0/css/all.min.css&quot;/&gt;\n",
       "    &lt;link rel=&quot;stylesheet&quot; href=&quot;https://cdnjs.cloudflare.com/ajax/libs/Leaflet.awesome-markers/2.0.2/leaflet.awesome-markers.css&quot;/&gt;\n",
       "    &lt;link rel=&quot;stylesheet&quot; href=&quot;https://cdn.jsdelivr.net/gh/python-visualization/folium/folium/templates/leaflet.awesome.rotate.min.css&quot;/&gt;\n",
       "    \n",
       "            &lt;meta name=&quot;viewport&quot; content=&quot;width=device-width,\n",
       "                initial-scale=1.0, maximum-scale=1.0, user-scalable=no&quot; /&gt;\n",
       "            &lt;style&gt;\n",
       "                #map_681bd7fc5d76747aca27f5ed43449a47 {\n",
       "                    position: relative;\n",
       "                    width: 100.0%;\n",
       "                    height: 100.0%;\n",
       "                    left: 0.0%;\n",
       "                    top: 0.0%;\n",
       "                }\n",
       "                .leaflet-container { font-size: 1rem; }\n",
       "            &lt;/style&gt;\n",
       "        \n",
       "    &lt;script src=&quot;https://cdn.jsdelivr.net/gh/python-visualization/folium@main/folium/templates/leaflet_heat.min.js&quot;&gt;&lt;/script&gt;\n",
       "&lt;/head&gt;\n",
       "&lt;body&gt;\n",
       "    \n",
       "    \n",
       "            &lt;div class=&quot;folium-map&quot; id=&quot;map_681bd7fc5d76747aca27f5ed43449a47&quot; &gt;&lt;/div&gt;\n",
       "        \n",
       "&lt;/body&gt;\n",
       "&lt;script&gt;\n",
       "    \n",
       "    \n",
       "            var map_681bd7fc5d76747aca27f5ed43449a47 = L.map(\n",
       "                &quot;map_681bd7fc5d76747aca27f5ed43449a47&quot;,\n",
       "                {\n",
       "                    center: [40.74473685138351, -73.92547914935282],\n",
       "                    crs: L.CRS.EPSG3857,\n",
       "                    zoom: 10,\n",
       "                    zoomControl: true,\n",
       "                    preferCanvas: false,\n",
       "                }\n",
       "            );\n",
       "\n",
       "            \n",
       "\n",
       "        \n",
       "    \n",
       "            var tile_layer_df0d2d93ba0506b7ea3f8c56f4a766c1 = L.tileLayer(\n",
       "                &quot;https://tile.openstreetmap.org/{z}/{x}/{y}.png&quot;,\n",
       "                {&quot;attribution&quot;: &quot;\\u0026copy; \\u003ca href=\\&quot;https://www.openstreetmap.org/copyright\\&quot;\\u003eOpenStreetMap\\u003c/a\\u003e contributors&quot;, &quot;detectRetina&quot;: false, &quot;maxNativeZoom&quot;: 19, &quot;maxZoom&quot;: 19, &quot;minZoom&quot;: 0, &quot;noWrap&quot;: false, &quot;opacity&quot;: 1, &quot;subdomains&quot;: &quot;abc&quot;, &quot;tms&quot;: false}\n",
       "            );\n",
       "        \n",
       "    \n",
       "            tile_layer_df0d2d93ba0506b7ea3f8c56f4a766c1.addTo(map_681bd7fc5d76747aca27f5ed43449a47);\n",
       "        \n",
       "    \n",
       "            var heat_map_6754cd33450b62752d1a6c0ec1c998c3 = L.heatLayer(\n",
       "                [[40.713763947, -73.98526004], [40.712331851001, -73.984796625], [40.712331851001, -73.984796625], [40.712331851001, -73.984796625], [40.712331851001, -73.984796625], [40.712331851001, -73.984796625], [40.712331851001, -73.984796625], [40.712331851001, -73.984796625], [40.712331851001, -73.984796625], [40.712331851001, -73.984796625], [40.712331851001, -73.984796625], [40.712331851001, -73.984796625], [40.712331851001, -73.984796625], [40.712331851001, -73.984796625], [40.712331851001, -73.984796625], [40.712331851001, -73.984796625], [40.712331851001, -73.984796625], [40.729782687, -73.983041441], [40.729782687, -73.983041441], [40.729782687, -73.983041441], [40.729782687, -73.983041441], [40.729782687, -73.983041441], [40.729782687, -73.983041441], [40.729782687, -73.983041441], [40.729782687, -73.983041441], [40.729782687, -73.983041441], [40.729782687, -73.983041441], [40.729782687, -73.983041441], [40.729782687, -73.983041441], [40.729782687, -73.983041441], [40.729782687, -73.983041441], [40.729782687, -73.983041441], [40.74473685138351, -73.92547914935282], [40.720569079, -73.985672691], [40.74473685138351, -73.92547914935282], [40.718725451, -73.979426386], [40.718725451, -73.979426386], [40.718725451, -73.979426386], [40.718725451, -73.979426386], [40.718725451, -73.979426386], [40.718725451, -73.979426386], [40.718725451, -73.979426386], [40.718725451, -73.979426386], [40.718725451, -73.979426386], [40.718725451, -73.979426386], [40.718725451, -73.979426386], [40.718725451, -73.979426386], [40.718725451, -73.979426386], [40.718725451, -73.979426386], [40.718725451, -73.979426386], [40.718725451, -73.979426386], [40.718725451, -73.979426386], [40.718725451, -73.979426386], [40.718725451, -73.979426386], [40.74473685138351, -73.92547914935282], [40.718961617, -73.976066021], [40.738599087, -73.982511911], [40.765026708, -73.992516578], [40.716867224, -73.989531943], [40.765026708, -73.992516578], [40.765026708, -73.992516578], [40.765026708, -73.992516578], [40.765026708, -73.992516578], [40.765026708, -73.992516578], [40.765026708, -73.992516578], [40.765026708, -73.992516578], [40.765026708, -73.992516578], [40.765026708, -73.992516578], [40.765026708, -73.992516578], [40.765026708, -73.992516578], [40.765026708, -73.992516578], [40.765026708, -73.992516578], [40.765026708, -73.992516578], [40.716412393001, -73.992675844], [40.716412393001, -73.992675844], [40.716412393001, -73.992675844], [40.716412393001, -73.992675844], [40.716412393001, -73.992675844], [40.716412393001, -73.992675844], [40.716412393001, -73.992675844], [40.716412393001, -73.992675844], [40.716412393001, -73.992675844], [40.716412393001, -73.992675844], [40.716412393001, -73.992675844], [40.716412393001, -73.992675844], [40.716412393001, -73.992675844], [40.716412393001, -73.992675844], [40.716412393001, -73.992675844], [40.716412393001, -73.992675844], [40.765026708, -73.992516578], [40.765026708, -73.992516578], [40.765026708, -73.992516578], [40.765026708, -73.992516578], [40.765026708, -73.992516578], [40.765026708, -73.992516578], [40.765026708, -73.992516578], [40.765026708, -73.992516578], [40.765026708, -73.992516578], [40.765026708, -73.992516578], [40.765026708, -73.992516578], [40.765026708, -73.992516578], [40.765026708, -73.992516578], [40.765026708, -73.992516578], [40.765026708, -73.992516578], [40.765026708, -73.992516578], [40.765026708, -73.992516578], [40.765026708, -73.992516578], [40.765026708, -73.992516578], [40.765026708, -73.992516578], [40.765026708, -73.992516578], [40.765026708, -73.992516578], [40.765026708, -73.992516578], [40.765026708, -73.992516578], [40.716867224, -73.989531943], [40.716867224, -73.989531943], [40.716867224, -73.989531943], [40.716867224, -73.989531943], [40.716867224, -73.989531943], [40.716867224, -73.989531943], [40.716867224, -73.989531943], [40.716867224, -73.989531943], [40.716867224, -73.989531943], [40.716867224, -73.989531943], [40.716867224, -73.989531943], [40.716867224, -73.989531943], [40.716867224, -73.989531943], [40.716867224, -73.989531943], [40.716867224, -73.989531943], [40.716867224, -73.989531943], [40.716867224, -73.989531943], [40.716867224, -73.989531943], [40.716867224, -73.989531943], [40.716867224, -73.989531943], [40.716867224, -73.989531943], [40.716867224, -73.989531943], [40.716867224, -73.989531943], [40.716867224, -73.989531943], [40.716867224, -73.989531943], [40.716867224, -73.989531943], [40.716867224, -73.989531943], [40.716867224, -73.989531943], [40.74473685138351, -73.92547914935282], [40.705234939, -74.01331504], [40.735519463, -73.987604249], [40.74473685138351, -73.92547914935282], [40.74473685138351, -73.92547914935282], [40.74473685138351, -73.92547914935282], [40.74473685138351, -73.92547914935282], [40.74473685138351, -73.92547914935282], [40.767762439, -73.987511214], [40.767762439, -73.987511214], [40.767762439, -73.987511214], [40.767762439, -73.987511214], [40.767762439, -73.987511214], [40.767762439, -73.987511214], [40.767762439, -73.987511214], [40.767762439, -73.987511214], [40.767762439, -73.987511214], [40.767762439, -73.987511214], [40.767762439, -73.987511214], [40.767762439, -73.987511214], [40.767762439, -73.987511214], [40.767762439, -73.987511214], [40.767762439, -73.987511214], [40.732485378, -73.983053388], [40.761432699, -73.988023698], [40.761432699, -73.988023698], [40.761432699, -73.988023698], [40.761432699, -73.988023698], [40.761432699, -73.988023698], [40.761432699, -73.988023698], [40.761432699, -73.988023698], [40.761432699, -73.988023698], [40.761432699, -73.988023698], [40.761432699, -73.988023698], [40.761432699, -73.988023698], [40.761432699, -73.988023698], [40.761432699, -73.988023698], [40.761432699, -73.988023698], [40.761432699, -73.988023698], [40.761432699, -73.988023698], [40.761432699, -73.988023698], [40.744047248, -73.991479299], [40.744047248, -73.991479299], [40.744047248, -73.991479299], [40.744047248, -73.991479299], [40.744047248, -73.991479299], [40.744047248, -73.991479299], [40.744047248, -73.991479299], [40.744047248, -73.991479299], [40.744047248, -73.991479299], [40.744047248, -73.991479299], [40.744047248, -73.991479299], [40.744047248, -73.991479299], [40.744047248, -73.991479299], [40.744047248, -73.991479299], [40.744047248, -73.991479299], [40.742100713, -74.002073797], [40.742100713, -74.002073797], [40.742100713, -74.002073797], [40.742100713, -74.002073797], [40.742100713, -74.002073797], [40.742100713, -74.002073797], [40.742100713, -74.002073797], [40.742100713, -74.002073797], [40.742100713, -74.002073797], [40.742100713, -74.002073797], [40.742100713, -74.002073797], [40.742100713, -74.002073797], [40.742100713, -74.002073797], [40.742100713, -74.002073797], [40.742100713, -74.002073797], [40.738948886, -73.985405172], [40.742100713, -74.002073797], [40.742100713, -74.002073797], [40.742100713, -74.002073797], [40.742100713, -74.002073797], [40.742100713, -74.002073797], [40.742100713, -74.002073797], [40.742100713, -74.002073797], [40.742100713, -74.002073797], [40.742100713, -74.002073797], [40.742100713, -74.002073797], [40.742100713, -74.002073797], [40.742100713, -74.002073797], [40.742100713, -74.002073797], [40.742100713, -74.002073797], [40.742100713, -74.002073797], [40.742100713, -74.002073797], [40.770116471, -73.953379101], [40.770116471, -73.953379101], [40.770116471, -73.953379101], [40.770116471, -73.953379101], [40.770116471, -73.953379101], [40.770116471, -73.953379101], [40.770116471, -73.953379101], [40.770116471, -73.953379101], [40.770116471, -73.953379101], [40.770116471, -73.953379101], [40.770116471, -73.953379101], [40.770116471, -73.953379101], [40.770116471, -73.953379101], [40.770116471, -73.953379101], [40.770116471, -73.953379101], [40.770116471, -73.953379101], [40.770116471, -73.953379101], [40.770116471, -73.953379101], [40.704920366, -74.011514023], [40.704920366, -74.011514023], [40.704920366, -74.011514023], [40.704920366, -74.011514023], [40.704920366, -74.011514023], [40.704920366, -74.011514023], [40.704920366, -74.011514023], [40.704920366, -74.011514023], [40.704920366, -74.011514023], [40.704920366, -74.011514023], [40.704920366, -74.011514023], [40.704920366, -74.011514023], [40.704920366, -74.011514023], [40.704920366, -74.011514023], [40.704920366, -74.011514023], [40.704920366, -74.011514023], [40.704920366, -74.011514023], [40.742888101, -74.002127381], [40.732485378, -73.983053388], [40.732485378, -73.983053388], [40.732485378, -73.983053388], [40.732485378, -73.983053388], [40.732485378, -73.983053388], [40.732485378, -73.983053388], [40.732485378, -73.983053388], [40.732485378, -73.983053388], [40.732485378, -73.983053388], [40.732485378, -73.983053388], [40.732485378, -73.983053388], [40.732485378, -73.983053388], [40.732485378, -73.983053388], [40.732485378, -73.983053388], [40.732485378, -73.983053388], [40.732485378, -73.983053388], [40.709146539, -74.012076627], [40.709146539, -74.012076627], [40.709146539, -74.012076627], [40.709146539, -74.012076627], [40.709146539, -74.012076627], [40.709146539, -74.012076627], [40.709146539, -74.012076627], [40.709146539, -74.012076627], [40.709146539, -74.012076627], [40.709146539, -74.012076627], [40.709146539, -74.012076627], [40.709146539, -74.012076627], [40.709146539, -74.012076627], [40.709146539, -74.012076627], [40.709146539, -74.012076627], [40.74473685138351, -73.92547914935282], [40.74473685138351, -73.92547914935282], [40.74473685138351, -73.92547914935282], [40.741494699001, -73.991445053], [40.741494699001, -73.991445053], [40.741494699001, -73.991445053], [40.741494699001, -73.991445053], [40.741494699001, -73.991445053], [40.741494699001, -73.991445053], [40.741494699001, -73.991445053], [40.741494699001, -73.991445053], [40.741494699001, -73.991445053], [40.741494699001, -73.991445053], [40.741494699001, -73.991445053], [40.741494699001, -73.991445053], [40.741494699001, -73.991445053], [40.741494699001, -73.991445053], [40.741494699001, -73.991445053], [40.741494699001, -73.991445053], [40.765445402, -73.960213786], [40.765445402, -73.960213786], [40.765445402, -73.960213786], [40.765445402, -73.960213786], [40.765445402, -73.960213786], [40.765445402, -73.960213786], [40.765445402, -73.960213786], [40.765445402, -73.960213786], [40.765445402, -73.960213786], [40.765445402, -73.960213786], [40.765445402, -73.960213786], [40.765445402, -73.960213786], [40.765445402, -73.960213786], [40.765445402, -73.960213786], [40.765445402, -73.960213786], [40.765445402, -73.960213786], [40.765445402, -73.960213786], [40.765445402, -73.960213786], [40.74473685138351, -73.92547914935282], [40.717746415, -74.014049043], [40.717746415, -74.014049043], [40.717746415, -74.014049043], [40.717746415, -74.014049043], [40.717746415, -74.014049043], [40.717746415, -74.014049043], [40.717746415, -74.014049043], [40.717746415, -74.014049043], [40.717746415, -74.014049043], [40.717746415, -74.014049043], [40.717746415, -74.014049043], [40.717746415, -74.014049043], [40.717746415, -74.014049043], [40.717746415, -74.014049043], [40.717746415, -74.014049043], [40.717746415, -74.014049043], [40.717746415, -74.014049043], [40.717746415, -74.014049043], [40.717746415, -74.014049043], [40.709219625, -74.012025915], [40.709219625, -74.012025915], [40.709219625, -74.012025915], [40.709219625, -74.012025915], [40.709219625, -74.012025915], [40.709219625, -74.012025915], [40.709219625, -74.012025915], [40.709219625, -74.012025915], [40.709219625, -74.012025915], [40.709219625, -74.012025915], [40.709219625, -74.012025915], [40.709219625, -74.012025915], [40.709219625, -74.012025915], [40.709219625, -74.012025915], [40.709219625, -74.012025915], [40.709219625, -74.012025915], [40.709219625, -74.012025915], [40.709219625, -74.012025915], [40.746106375, -73.981009667], [40.765445402, -73.960213786], [40.765445402, -73.960213786], [40.765445402, -73.960213786], [40.765445402, -73.960213786], [40.765445402, -73.960213786], [40.765445402, -73.960213786], [40.765445402, -73.960213786], [40.765445402, -73.960213786], [40.765445402, -73.960213786], [40.765445402, -73.960213786], [40.765445402, -73.960213786], [40.765445402, -73.960213786], [40.765445402, -73.960213786], [40.765445402, -73.960213786], [40.765445402, -73.960213786], [40.765445402, -73.960213786], [40.710679471, -74.000807021], [40.710679471, -74.000807021], [40.710679471, -74.000807021], [40.710679471, -74.000807021], [40.710679471, -74.000807021], [40.710679471, -74.000807021], [40.710679471, -74.000807021], [40.710679471, -74.000807021], [40.710679471, -74.000807021], [40.710679471, -74.000807021], [40.710679471, -74.000807021], [40.710679471, -74.000807021], [40.710679471, -74.000807021], [40.710679471, -74.000807021], [40.710679471, -74.000807021], [40.710679471, -74.000807021], [40.710679471, -74.000807021], [40.757757386, -73.983187793], [40.757757386, -73.983187793], [40.757757386, -73.983187793], [40.757757386, -73.983187793], [40.757757386, -73.983187793], [40.757757386, -73.983187793], [40.757757386, -73.983187793], [40.757757386, -73.983187793], [40.757757386, -73.983187793], [40.757757386, -73.983187793], [40.757757386, -73.983187793], [40.757757386, -73.983187793], [40.757757386, -73.983187793], [40.757757386, -73.983187793], [40.757757386, -73.983187793], [40.757757386, -73.983187793], [40.757757386, -73.983187793], [40.757757386, -73.983187793], [40.755942582001, -73.984567702], [40.765026708, -73.992516578], [40.765026708, -73.992516578], [40.765026708, -73.992516578], [40.765026708, -73.992516578], [40.765026708, -73.992516578], [40.765026708, -73.992516578], [40.765026708, -73.992516578], [40.765026708, -73.992516578], [40.765026708, -73.992516578], [40.765026708, -73.992516578], [40.765026708, -73.992516578], [40.765026708, -73.992516578], [40.765026708, -73.992516578], [40.765026708, -73.992516578], [40.765026708, -73.992516578], [40.765026708, -73.992516578], [40.716867224, -73.989531943], [40.74473685138351, -73.92547914935282], [40.716867224, -73.989531943], [40.716867224, -73.989531943], [40.716867224, -73.989531943], [40.716867224, -73.989531943], [40.716867224, -73.989531943], [40.716867224, -73.989531943], [40.716867224, -73.989531943], [40.716867224, -73.989531943], [40.716867224, -73.989531943], [40.716867224, -73.989531943], [40.716867224, -73.989531943], [40.716867224, -73.989531943], [40.716867224, -73.989531943], [40.716867224, -73.989531943], [40.716867224, -73.989531943], [40.716867224, -73.989531943], [40.716867224, -73.989531943], [40.74473685138351, -73.92547914935282], [40.690787629, -74.019757326], [40.690787629, -74.019757326], [40.690787629, -74.019757326], [40.690787629, -74.019757326], [40.690787629, -74.019757326], [40.690787629, -74.019757326], [40.690787629, -74.019757326], [40.690787629, -74.019757326], [40.690787629, -74.019757326], [40.690787629, -74.019757326], [40.690787629, -74.019757326], [40.690787629, -74.019757326], [40.690787629, -74.019757326], [40.690787629, -74.019757326], [40.690787629, -74.019757326], [40.74473685138351, -73.92547914935282], [40.74473685138351, -73.92547914935282], [40.74473685138351, -73.92547914935282], [40.74473685138351, -73.92547914935282], [40.705234939, -74.01331504], [40.705234939, -74.01331504], [40.705234939, -74.01331504], [40.705234939, -74.01331504], [40.705234939, -74.01331504], [40.705234939, -74.01331504], [40.705234939, -74.01331504], [40.705234939, -74.01331504], [40.705234939, -74.01331504], [40.705234939, -74.01331504], [40.705234939, -74.01331504], [40.705234939, -74.01331504], [40.705234939, -74.01331504], [40.705234939, -74.01331504], [40.705234939, -74.01331504], [40.705234939, -74.01331504], [40.705234939, -74.01331504], [40.74473685138351, -73.92547914935282], [40.745111571, -73.99590642], [40.745111571, -73.99590642], [40.745111571, -73.99590642], [40.745111571, -73.99590642], [40.745111571, -73.99590642], [40.745111571, -73.99590642], [40.745111571, -73.99590642], [40.745111571, -73.99590642], [40.745111571, -73.99590642], [40.745111571, -73.99590642], [40.745111571, -73.99590642], [40.745111571, -73.99590642], [40.742888101, -74.002127381], [40.724352874, -74.004759292], [40.724352874, -74.004759292], [40.724352874, -74.004759292], [40.724352874, -74.004759292], [40.724352874, -74.004759292], [40.724352874, -74.004759292], [40.724352874, -74.004759292], [40.724352874, -74.004759292], [40.724352874, -74.004759292], [40.724352874, -74.004759292], [40.724352874, -74.004759292], [40.724352874, -74.004759292], [40.724352874, -74.004759292], [40.724352874, -74.004759292], [40.724352874, -74.004759292], [40.724352874, -74.004759292], [40.724352874, -74.004759292], [40.724352874, -74.004759292], [40.765401541, -73.981768246], [40.765401541, -73.981768246], [40.765401541, -73.981768246], [40.765401541, -73.981768246], [40.765401541, -73.981768246], [40.765401541, -73.981768246], [40.765401541, -73.981768246], [40.765401541, -73.981768246], [40.765401541, -73.981768246], [40.765401541, -73.981768246], [40.765401541, -73.981768246], [40.765401541, -73.981768246], [40.765401541, -73.981768246], [40.765401541, -73.981768246], [40.765401541, -73.981768246], [40.765401541, -73.981768246], [40.78364426, -73.945741777], [40.78364426, -73.945741777], [40.78364426, -73.945741777], [40.78364426, -73.945741777], [40.78364426, -73.945741777], [40.78364426, -73.945741777], [40.78364426, -73.945741777], [40.78364426, -73.945741777], [40.78364426, -73.945741777], [40.78364426, -73.945741777], [40.78364426, -73.945741777], [40.78364426, -73.945741777], [40.78364426, -73.945741777], [40.78364426, -73.945741777], [40.78364426, -73.945741777], [40.78364426, -73.945741777], [40.78364426, -73.945741777], [40.78364426, -73.945741777], [40.78364426, -73.945741777], [40.774296411, -73.984822701], [40.774296411, -73.984822701], [40.74473685138351, -73.92547914935282], [40.74473685138351, -73.92547914935282], [40.74473685138351, -73.92547914935282], [40.802174581, -73.954008828], [40.802174581, -73.954008828], [40.802174581, -73.954008828], [40.802174581, -73.954008828], [40.802174581, -73.954008828], [40.802174581, -73.954008828], [40.802174581, -73.954008828], [40.802174581, -73.954008828], [40.802174581, -73.954008828], [40.802174581, -73.954008828], [40.802174581, -73.954008828], [40.802174581, -73.954008828], [40.802174581, -73.954008828], [40.74473685138351, -73.92547914935282], [40.772158119, -73.987796535], [40.772158119, -73.987796535], [40.772158119, -73.987796535], [40.772158119, -73.987796535], [40.772158119, -73.987796535], [40.772158119, -73.987796535], [40.772158119, -73.987796535], [40.772158119, -73.987796535], [40.772158119, -73.987796535], [40.772158119, -73.987796535], [40.772158119, -73.987796535], [40.772158119, -73.987796535], [40.773670507, -73.985268558], [40.773670507, -73.985268558], [40.773670507, -73.985268558], [40.773670507, -73.985268558], [40.773670507, -73.985268558], [40.773670507, -73.985268558], [40.773670507, -73.985268558], [40.773670507, -73.985268558], [40.773670507, -73.985268558], [40.773670507, -73.985268558], [40.773670507, -73.985268558], [40.773670507, -73.985268558], [40.773670507, -73.985268558], [40.773670507, -73.985268558], [40.773670507, -73.985268558], [40.773670507, -73.985268558], [40.774296411, -73.984822701], [40.774296411, -73.984822701], [40.774296411, -73.984822701], [40.774296411, -73.984822701], [40.774296411, -73.984822701], [40.774296411, -73.984822701], [40.774296411, -73.984822701], [40.774296411, -73.984822701], [40.774296411, -73.984822701], [40.774296411, -73.984822701], [40.774296411, -73.984822701], [40.774296411, -73.984822701], [40.774296411, -73.984822701], [40.774296411, -73.984822701], [40.774296411, -73.984822701], [40.74473685138351, -73.92547914935282], [40.774296411, -73.984822701], [40.802174581, -73.954008828], [40.802174581, -73.954008828], [40.802174581, -73.954008828], [40.802174581, -73.954008828], [40.802174581, -73.954008828], [40.802174581, -73.954008828], [40.802174581, -73.954008828], [40.802174581, -73.954008828], [40.802174581, -73.954008828], [40.802174581, -73.954008828], [40.802174581, -73.954008828], [40.802174581, -73.954008828], [40.802174581, -73.954008828], [40.802174581, -73.954008828], [40.793741706, -73.934084142], [40.793741706, -73.934084142], [40.793741706, -73.934084142], [40.793741706, -73.934084142], [40.793741706, -73.934084142], [40.793741706, -73.934084142], [40.793741706, -73.934084142], [40.793741706, -73.934084142], [40.793741706, -73.934084142], [40.793741706, -73.934084142], [40.793741706, -73.934084142], [40.793741706, -73.934084142], [40.793741706, -73.934084142], [40.793741706, -73.934084142], [40.793741706, -73.934084142], [40.793741706, -73.934084142], [40.793741706, -73.934084142], [40.793741706, -73.934084142], [40.790562600001, -73.944454408], [40.790562600001, -73.944454408], [40.790562600001, -73.944454408], [40.790562600001, -73.944454408], [40.790562600001, -73.944454408], [40.790562600001, -73.944454408], [40.790562600001, -73.944454408], [40.790562600001, -73.944454408], [40.790562600001, -73.944454408], [40.790562600001, -73.944454408], [40.790562600001, -73.944454408], [40.790562600001, -73.944454408], [40.790562600001, -73.944454408], [40.790562600001, -73.944454408], [40.790562600001, -73.944454408], [40.793678882, -73.949416495], [40.793678882, -73.949416495], [40.793678882, -73.949416495], [40.793678882, -73.949416495], [40.793678882, -73.949416495], [40.793678882, -73.949416495], [40.793678882, -73.949416495], [40.793678882, -73.949416495], [40.793678882, -73.949416495], [40.793678882, -73.949416495], [40.793678882, -73.949416495], [40.793678882, -73.949416495], [40.793678882, -73.949416495], [40.793678882, -73.949416495], [40.792706956, -73.947299662], [40.792706956, -73.947299662], [40.792706956, -73.947299662], [40.792706956, -73.947299662], [40.792706956, -73.947299662], [40.792706956, -73.947299662], [40.792706956, -73.947299662], [40.792706956, -73.947299662], [40.792706956, -73.947299662], [40.792706956, -73.947299662], [40.792706956, -73.947299662], [40.792706956, -73.947299662], [40.792706956, -73.947299662], [40.792706956, -73.947299662], [40.792706956, -73.947299662], [40.792706956, -73.947299662], [40.792706956, -73.947299662], [40.792706956, -73.947299662], [40.792706956, -73.947299662], [40.792706956, -73.947299662], [40.792706956, -73.947299662], [40.792706956, -73.947299662], [40.792706956, -73.947299662], [40.792706956, -73.947299662], [40.792706956, -73.947299662], [40.792706956, -73.947299662], [40.792706956, -73.947299662], [40.792706956, -73.947299662], [40.792706956, -73.947299662], [40.792706956, -73.947299662], [40.792706956, -73.947299662], [40.792706956, -73.947299662], [40.792706956, -73.947299662], [40.792706956, -73.947299662], [40.792706956, -73.947299662], [40.792706956, -73.947299662], [40.792706956, -73.947299662], [40.792706956, -73.947299662], [40.792706956, -73.947299662], [40.792706956, -73.947299662], [40.792706956, -73.947299662], [40.792706956, -73.947299662], [40.792706956, -73.947299662], [40.792706956, -73.947299662], [40.792706956, -73.947299662], [40.792706956, -73.947299662], [40.792706956, -73.947299662], [40.792706956, -73.947299662], [40.792706956, -73.947299662], [40.792706956, -73.947299662], [40.792706956, -73.947299662], [40.792706956, -73.947299662], [40.792706956, -73.947299662], [40.792706956, -73.947299662], [40.792706956, -73.947299662], [40.792706956, -73.947299662], [40.792706956, -73.947299662], [40.792706956, -73.947299662], [40.792706956, -73.947299662], [40.792706956, -73.947299662], [40.792706956, -73.947299662], [40.792706956, -73.947299662], [40.792706956, -73.947299662], [40.792706956, -73.947299662], [40.792706956, -73.947299662], [40.792706956, -73.947299662], [40.792706956, -73.947299662], [40.792706956, -73.947299662], [40.791879618, -73.9465864], [40.74473685138351, -73.92547914935282], [40.817361046, -73.947708421], [40.817361046, -73.947708421], [40.817361046, -73.947708421], [40.817361046, -73.947708421], [40.817361046, -73.947708421], [40.817361046, -73.947708421], [40.817361046, -73.947708421], [40.817361046, -73.947708421], [40.817361046, -73.947708421], [40.817361046, -73.947708421], [40.817361046, -73.947708421], [40.817361046, -73.947708421], [40.817361046, -73.947708421], [40.817361046, -73.947708421], [40.817361046, -73.947708421], [40.74473685138351, -73.92547914935282], [40.815230365, -73.955201206], [40.824308385, -73.936979613], [40.824308385, -73.936979613], [40.824308385, -73.936979613], [40.824308385, -73.936979613], [40.824308385, -73.936979613], [40.824308385, -73.936979613], [40.824308385, -73.936979613], [40.824308385, -73.936979613], [40.824308385, -73.936979613], [40.824308385, -73.936979613], [40.824308385, -73.936979613], [40.824308385, -73.936979613], [40.824308385, -73.936979613], [40.824308385, -73.936979613], [40.824308385, -73.936979613], [40.824308385, -73.936979613], [40.815364829, -73.94389671], [40.815364829, -73.94389671], [40.815364829, -73.94389671], [40.815364829, -73.94389671], [40.815364829, -73.94389671], [40.815364829, -73.94389671], [40.815364829, -73.94389671], [40.815364829, -73.94389671], [40.815364829, -73.94389671], [40.815364829, -73.94389671], [40.815364829, -73.94389671], [40.815364829, -73.94389671], [40.815364829, -73.94389671], [40.815364829, -73.94389671], [40.815364829, -73.94389671], [40.821123112, -73.948845244], [40.821123112, -73.948845244], [40.821123112, -73.948845244], [40.821123112, -73.948845244], [40.821123112, -73.948845244], [40.821123112, -73.948845244], [40.821123112, -73.948845244], [40.821123112, -73.948845244], [40.821123112, -73.948845244], [40.821123112, -73.948845244], [40.821123112, -73.948845244], [40.821123112, -73.948845244], [40.821123112, -73.948845244], [40.821123112, -73.948845244], [40.821123112, -73.948845244], [40.821123112, -73.948845244], [40.74473685138351, -73.92547914935282], [40.74473685138351, -73.92547914935282], [40.74473685138351, -73.92547914935282], [40.74473685138351, -73.92547914935282], [40.74473685138351, -73.92547914935282], [40.855938307, -73.927029634], [40.855938307, -73.927029634], [40.855938307, -73.927029634], [40.855938307, -73.927029634], [40.855938307, -73.927029634], [40.855938307, -73.927029634], [40.855938307, -73.927029634], [40.855938307, -73.927029634], [40.855938307, -73.927029634], [40.855938307, -73.927029634], [40.855938307, -73.927029634], [40.855938307, -73.927029634], [40.855938307, -73.927029634], [40.855938307, -73.927029634], [40.855938307, -73.927029634], [40.855938307, -73.927029634], [40.855938307, -73.927029634], [40.855938307, -73.927029634], [40.855938307, -73.927029634], [40.855938307, -73.927029634], [40.855938307, -73.927029634], [40.855938307, -73.927029634], [40.855938307, -73.927029634], [40.855938307, -73.927029634], [40.855938307, -73.927029634], [40.855938307, -73.927029634], [40.855938307, -73.927029634], [40.855938307, -73.927029634], [40.855938307, -73.927029634], [40.855938307, -73.927029634], [40.855938307, -73.927029634], [40.855938307, -73.927029634], [40.855938307, -73.927029634], [40.855938307, -73.927029634], [40.855938307, -73.927029634], [40.855938307, -73.927029634], [40.855938307, -73.927029634], [40.855938307, -73.927029634], [40.855938307, -73.927029634], [40.855938307, -73.927029634], [40.855938307, -73.927029634], [40.855938307, -73.927029634], [40.855938307, -73.927029634], [40.855938307, -73.927029634], [40.855938307, -73.927029634], [40.855938307, -73.927029634], [40.855938307, -73.927029634], [40.855938307, -73.927029634], [40.855938307, -73.927029634], [40.855938307, -73.927029634], [40.855938307, -73.927029634], [40.855938307, -73.927029634], [40.855938307, -73.927029634], [40.855938307, -73.927029634], [40.855938307, -73.927029634], [40.855938307, -73.927029634], [40.855938307, -73.927029634], [40.855938307, -73.927029634], [40.855938307, -73.927029634], [40.855938307, -73.927029634], [40.855938307, -73.927029634], [40.855938307, -73.927029634], [40.855938307, -73.927029634], [40.855938307, -73.927029634], [40.855938307, -73.927029634], [40.855938307, -73.927029634], [40.818321269, -73.950613828], [40.818321269, -73.950613828], [40.818321269, -73.950613828], [40.818321269, -73.950613828], [40.818321269, -73.950613828], [40.818321269, -73.950613828], [40.818321269, -73.950613828], [40.818321269, -73.950613828], [40.818321269, -73.950613828], [40.818321269, -73.950613828], [40.818321269, -73.950613828], [40.818321269, -73.950613828], [40.818321269, -73.950613828], [40.818321269, -73.950613828], [40.818321269, -73.950613828], [40.818321269, -73.950613828], [40.818321269, -73.950613828], [40.818321269, -73.950613828], [40.818321269, -73.950613828], [40.838032322, -73.938371018], [40.838032322, -73.938371018], [40.838032322, -73.938371018], [40.838032322, -73.938371018], [40.838032322, -73.938371018], [40.838032322, -73.938371018], [40.838032322, -73.938371018], [40.838032322, -73.938371018], [40.838032322, -73.938371018], [40.838032322, -73.938371018], [40.838032322, -73.938371018], [40.838032322, -73.938371018], [40.838032322, -73.938371018], [40.814010816, -73.920836517], [40.814010816, -73.920836517], [40.814010816, -73.920836517], [40.814010816, -73.920836517], [40.814010816, -73.920836517], [40.814010816, -73.920836517], [40.814010816, -73.920836517], [40.814010816, -73.920836517], [40.814010816, -73.920836517], [40.814010816, -73.920836517], [40.814010816, -73.920836517], [40.814010816, -73.920836517], [40.814010816, -73.920836517], [40.814010816, -73.920836517], [40.814010816, -73.920836517], [40.810036192, -73.917812482], [40.74473685138351, -73.92547914935282], [40.74473685138351, -73.92547914935282], [40.816084481, -73.930323839], [40.818173536, -73.911092663], [40.74473685138351, -73.92547914935282], [40.814955342, -73.912519542], [40.814955342, -73.912519542], [40.814955342, -73.912519542], [40.814955342, -73.912519542], [40.814955342, -73.912519542], [40.814955342, -73.912519542], [40.814955342, -73.912519542], [40.814955342, -73.912519542], [40.814955342, -73.912519542], [40.814955342, -73.912519542], [40.814955342, -73.912519542], [40.814955342, -73.912519542], [40.814955342, -73.912519542], [40.814955342, -73.912519542], [40.814955342, -73.912519542], [40.814955342, -73.912519542], [40.814955342, -73.912519542], [40.814955342, -73.912519542], [40.82277649, -73.923522794], [40.82277649, -73.923522794], [40.82277649, -73.923522794], [40.82277649, -73.923522794], [40.82277649, -73.923522794], [40.82277649, -73.923522794], [40.82277649, -73.923522794], [40.82277649, -73.923522794], [40.82277649, -73.923522794], [40.82277649, -73.923522794], [40.82277649, -73.923522794], [40.82277649, -73.923522794], [40.82277649, -73.923522794], [40.82277649, -73.923522794], [40.82277649, -73.923522794], [40.82277649, -73.923522794], [40.82277649, -73.923522794], [40.82277649, -73.923522794], [40.82277649, -73.923522794], [40.82277649, -73.923522794], [40.82277649, -73.923522794], [40.82277649, -73.923522794], [40.82277649, -73.923522794], [40.82277649, -73.923522794], [40.82277649, -73.923522794], [40.82277649, -73.923522794], [40.82277649, -73.923522794], [40.82277649, -73.923522794], [40.82277649, -73.923522794], [40.82277649, -73.923522794], [40.82277649, -73.923522794], [40.82277649, -73.923522794], [40.82277649, -73.923522794], [40.813359303, -73.925536515], [40.813359303, -73.925536515], [40.813359303, -73.925536515], [40.813359303, -73.925536515], [40.813359303, -73.925536515], [40.813359303, -73.925536515], [40.813359303, -73.925536515], [40.813359303, -73.925536515], [40.813359303, -73.925536515], [40.813359303, -73.925536515], [40.813359303, -73.925536515], [40.813359303, -73.925536515], [40.813359303, -73.925536515], [40.813359303, -73.925536515], [40.813359303, -73.925536515], [40.818246889, -73.919735678], [40.818246889, -73.919735678], [40.818246889, -73.919735678], [40.818246889, -73.919735678], [40.818246889, -73.919735678], [40.818246889, -73.919735678], [40.818246889, -73.919735678], [40.818246889, -73.919735678], [40.818246889, -73.919735678], [40.818246889, -73.919735678], [40.818246889, -73.919735678], [40.818246889, -73.919735678], [40.818246889, -73.919735678], [40.818246889, -73.919735678], [40.816084481, -73.930323839], [40.816084481, -73.930323839], [40.816084481, -73.930323839], [40.816084481, -73.930323839], [40.816084481, -73.930323839], [40.816084481, -73.930323839], [40.816084481, -73.930323839], [40.816084481, -73.930323839], [40.816084481, -73.930323839], [40.816084481, -73.930323839], [40.816084481, -73.930323839], [40.816084481, -73.930323839], [40.816084481, -73.930323839], [40.816084481, -73.930323839], [40.816084481, -73.930323839], [40.74473685138351, -73.92547914935282], [40.81491834, -73.856565535], [40.81491834, -73.856565535], [40.81491834, -73.856565535], [40.81491834, -73.856565535], [40.81491834, -73.856565535], [40.81491834, -73.856565535], [40.81491834, -73.856565535], [40.81491834, -73.856565535], [40.81491834, -73.856565535], [40.81491834, -73.856565535], [40.81491834, -73.856565535], [40.81491834, -73.856565535], [40.81491834, -73.856565535], [40.81491834, -73.856565535], [40.81491834, -73.856565535], [40.840513977, -73.83812096], [40.840513977, -73.83812096], [40.840513977, -73.83812096], [40.840513977, -73.83812096], [40.840513977, -73.83812096], [40.840513977, -73.83812096], [40.840513977, -73.83812096], [40.840513977, -73.83812096], [40.840513977, -73.83812096], [40.840513977, -73.83812096], [40.840513977, -73.83812096], [40.840513977, -73.83812096], [40.840513977, -73.83812096], [40.840513977, -73.83812096], [40.840513977, -73.83812096], [40.822303765, -73.85596139], [40.822303765, -73.85596139], [40.822303765, -73.85596139], [40.822303765, -73.85596139], [40.822303765, -73.85596139], [40.822303765, -73.85596139], [40.822303765, -73.85596139], [40.822303765, -73.85596139], [40.822303765, -73.85596139], [40.822303765, -73.85596139], [40.822303765, -73.85596139], [40.822303765, -73.85596139], [40.822303765, -73.85596139], [40.822303765, -73.85596139], [40.74473685138351, -73.92547914935282], [40.74473685138351, -73.92547914935282], [40.74473685138351, -73.92547914935282], [40.840513977, -73.83812096], [40.840513977, -73.83812096], [40.840513977, -73.83812096], [40.840513977, -73.83812096], [40.840513977, -73.83812096], [40.840513977, -73.83812096], [40.840513977, -73.83812096], [40.840513977, -73.83812096], [40.840513977, -73.83812096], [40.840513977, -73.83812096], [40.840513977, -73.83812096], [40.840513977, -73.83812096], [40.840513977, -73.83812096], [40.840513977, -73.83812096], [40.840513977, -73.83812096], [40.840513977, -73.83812096], [40.840513977, -73.83812096], [40.840513977, -73.83812096], [40.840513977, -73.83812096], [40.74473685138351, -73.92547914935282], [40.74473685138351, -73.92547914935282], [40.822303765, -73.85596139], [40.74473685138351, -73.92547914935282], [40.817439446, -73.898049206], [40.74473685138351, -73.92547914935282], [40.840373398, -73.910838008], [40.845185327, -73.896980668], [40.845185327, -73.896980668], [40.845185327, -73.896980668], [40.845185327, -73.896980668], [40.845185327, -73.896980668], [40.845185327, -73.896980668], [40.845185327, -73.896980668], [40.845185327, -73.896980668], [40.845185327, -73.896980668], [40.845185327, -73.896980668], [40.845185327, -73.896980668], [40.845185327, -73.896980668], [40.845185327, -73.896980668], [40.845185327, -73.896980668], [40.845185327, -73.896980668], [40.839327126, -73.90130979], [40.839327126, -73.90130979], [40.839327126, -73.90130979], [40.839327126, -73.90130979], [40.839327126, -73.90130979], [40.839327126, -73.90130979], [40.839327126, -73.90130979], [40.839327126, -73.90130979], [40.839327126, -73.90130979], [40.839327126, -73.90130979], [40.839327126, -73.90130979], [40.839327126, -73.90130979], [40.839327126, -73.90130979], [40.839327126, -73.90130979], [40.839327126, -73.90130979], [40.839327126, -73.90130979], [40.839327126, -73.90130979], [40.833738559, -73.902448245], [40.833738559, -73.902448245], [40.833738559, -73.902448245], [40.833738559, -73.902448245], [40.833738559, -73.902448245], [40.833738559, -73.902448245], [40.833738559, -73.902448245], [40.833738559, -73.902448245], [40.833738559, -73.902448245], [40.833738559, -73.902448245], [40.833738559, -73.902448245], [40.833738559, -73.902448245], [40.833738559, -73.902448245], [40.839327126, -73.90130979], [40.833738559, -73.902448245], [40.833738559, -73.902448245], [40.833738559, -73.902448245], [40.833738559, -73.902448245], [40.833738559, -73.902448245], [40.833738559, -73.902448245], [40.833738559, -73.902448245], [40.833738559, -73.902448245], [40.833738559, -73.902448245], [40.833738559, -73.902448245], [40.833738559, -73.902448245], [40.833738559, -73.902448245], [40.833738559, -73.902448245], [40.833738559, -73.902448245], [40.833738559, -73.902448245], [40.833738559, -73.902448245], [40.833738559, -73.902448245], [40.839327126, -73.90130979], [40.839327126, -73.90130979], [40.839327126, -73.90130979], [40.839327126, -73.90130979], [40.839327126, -73.90130979], [40.839327126, -73.90130979], [40.839327126, -73.90130979], [40.839327126, -73.90130979], [40.839327126, -73.90130979], [40.839327126, -73.90130979], [40.839327126, -73.90130979], [40.839327126, -73.90130979], [40.839327126, -73.90130979], [40.839327126, -73.90130979], [40.827602669001, -73.904475257], [40.74473685138351, -73.92547914935282], [40.840373398, -73.910838008], [40.840373398, -73.910838008], [40.840373398, -73.910838008], [40.840373398, -73.910838008], [40.840373398, -73.910838008], [40.840373398, -73.910838008], [40.840373398, -73.910838008], [40.840373398, -73.910838008], [40.840373398, -73.910838008], [40.840373398, -73.910838008], [40.840373398, -73.910838008], [40.840373398, -73.910838008], [40.840373398, -73.910838008], [40.840373398, -73.910838008], [40.849102168, -73.916088441], [40.849102168, -73.916088441], [40.849102168, -73.916088441], [40.849102168, -73.916088441], [40.849102168, -73.916088441], [40.849102168, -73.916088441], [40.849102168, -73.916088441], [40.849102168, -73.916088441], [40.849102168, -73.916088441], [40.849102168, -73.916088441], [40.849102168, -73.916088441], [40.849102168, -73.916088441], [40.849102168, -73.916088441], [40.849102168, -73.916088441], [40.827602669001, -73.904475257], [40.827602669001, -73.904475257], [40.840373398, -73.910838008], [40.840373398, -73.910838008], [40.840373398, -73.910838008], [40.840373398, -73.910838008], [40.840373398, -73.910838008], [40.840373398, -73.910838008], [40.840373398, -73.910838008], [40.840373398, -73.910838008], [40.840373398, -73.910838008], [40.840373398, -73.910838008], [40.840373398, -73.910838008], [40.840373398, -73.910838008], [40.840373398, -73.910838008], [40.840373398, -73.910838008], [40.827589367, -73.91866816], [40.827589367, -73.91866816], [40.827589367, -73.91866816], [40.827589367, -73.91866816], [40.827589367, -73.91866816], [40.827589367, -73.91866816], [40.827589367, -73.91866816], [40.827589367, -73.91866816], [40.827589367, -73.91866816], [40.827589367, -73.91866816], [40.827589367, -73.91866816], [40.827589367, -73.91866816], [40.827589367, -73.91866816], [40.827589367, -73.91866816], [40.827589367, -73.91866816], [40.827589367, -73.91866816], [40.827589367, -73.91866816], [40.827589367, -73.91866816], [40.827589367, -73.91866816], [40.827589367, -73.91866816], [40.827589367, -73.91866816], [40.83416725, -73.904032948], [40.83416725, -73.904032948], [40.83416725, -73.904032948], [40.83416725, -73.904032948], [40.83416725, -73.904032948], [40.83416725, -73.904032948], [40.83416725, -73.904032948], [40.83416725, -73.904032948], [40.83416725, -73.904032948], [40.83416725, -73.904032948], [40.83416725, -73.904032948], [40.83416725, -73.904032948], [40.83416725, -73.904032948], [40.83416725, -73.904032948], [40.83416725, -73.904032948], [40.83416725, -73.904032948], [40.843581195, -73.903220038], [40.843581195, -73.903220038], [40.843581195, -73.903220038], [40.843581195, -73.903220038], [40.843581195, -73.903220038], [40.843581195, -73.903220038], [40.843581195, -73.903220038], [40.843581195, -73.903220038], [40.843581195, -73.903220038], [40.843581195, -73.903220038], [40.843581195, -73.903220038], [40.843581195, -73.903220038], [40.843581195, -73.903220038], [40.843581195, -73.903220038], [40.843581195, -73.903220038], [40.843581195, -73.903220038], [40.827602669001, -73.904475257], [40.888372849, -73.914093204], [40.888372849, -73.914093204], [40.888372849, -73.914093204], [40.888372849, -73.914093204], [40.888372849, -73.914093204], [40.888372849, -73.914093204], [40.888372849, -73.914093204], [40.888372849, -73.914093204], [40.888372849, -73.914093204], [40.888372849, -73.914093204], [40.888372849, -73.914093204], [40.888372849, -73.914093204], [40.888372849, -73.914093204], [40.888372849, -73.914093204], [40.888372849, -73.914093204], [40.888372849, -73.914093204], [40.888372849, -73.914093204], [40.877049443, -73.912336599], [40.877049443, -73.912336599], [40.877049443, -73.912336599], [40.877049443, -73.912336599], [40.877049443, -73.912336599], [40.877049443, -73.912336599], [40.877049443, -73.912336599], [40.877049443, -73.912336599], [40.877049443, -73.912336599], [40.877049443, -73.912336599], [40.877049443, -73.912336599], [40.877049443, -73.912336599], [40.877049443, -73.912336599], [40.854646599, -73.896645553], [40.854646599, -73.896645553], [40.854646599, -73.896645553], [40.854646599, -73.896645553], [40.854646599, -73.896645553], [40.854646599, -73.896645553], [40.854646599, -73.896645553], [40.854646599, -73.896645553], [40.854646599, -73.896645553], [40.854646599, -73.896645553], [40.854646599, -73.896645553], [40.854646599, -73.896645553], [40.854646599, -73.896645553], [40.854646599, -73.896645553], [40.854646599, -73.896645553], [40.875975449, -73.901234892], [40.875975449, -73.901234892], [40.875975449, -73.901234892], [40.875975449, -73.901234892], [40.875975449, -73.901234892], [40.875975449, -73.901234892], [40.875975449, -73.901234892], [40.875975449, -73.901234892], [40.875975449, -73.901234892], [40.875975449, -73.901234892], [40.875975449, -73.901234892], [40.875975449, -73.901234892], [40.875975449, -73.901234892], [40.875975449, -73.901234892], [40.875975449, -73.901234892], [40.875975449, -73.901234892], [40.860012221, -73.888229604], [40.860012221, -73.888229604], [40.860012221, -73.888229604], [40.860012221, -73.888229604], [40.860012221, -73.888229604], [40.860012221, -73.888229604], [40.860012221, -73.888229604], [40.860012221, -73.888229604], [40.860012221, -73.888229604], [40.860012221, -73.888229604], [40.860012221, -73.888229604], [40.860012221, -73.888229604], [40.860012221, -73.888229604], [40.860012221, -73.888229604], [40.870377467, -73.898162952], [40.870377467, -73.898162952], [40.870377467, -73.898162952], [40.870377467, -73.898162952], [40.870377467, -73.898162952], [40.870377467, -73.898162952], [40.870377467, -73.898162952], [40.870377467, -73.898162952], [40.870377467, -73.898162952], [40.870377467, -73.898162952], [40.870377467, -73.898162952], [40.870377467, -73.898162952], [40.870377467, -73.898162952], [40.870377467, -73.898162952], [40.877049443, -73.912336599], [40.877049443, -73.912336599], [40.877049443, -73.912336599], [40.877049443, -73.912336599], [40.877049443, -73.912336599], [40.877049443, -73.912336599], [40.877049443, -73.912336599], [40.877049443, -73.912336599], [40.877049443, -73.912336599], [40.877049443, -73.912336599], [40.877049443, -73.912336599], [40.877049443, -73.912336599], [40.877049443, -73.912336599], [40.877049443, -73.912336599], [40.877049443, -73.912336599], [40.877049443, -73.912336599], [40.877049443, -73.912336599], [40.74473685138351, -73.92547914935282], [40.870377467, -73.898162952], [40.870377467, -73.898162952], [40.870377467, -73.898162952], [40.870377467, -73.898162952], [40.870377467, -73.898162952], [40.870377467, -73.898162952], [40.870377467, -73.898162952], [40.870377467, -73.898162952], [40.870377467, -73.898162952], [40.870377467, -73.898162952], [40.870377467, -73.898162952], [40.870377467, -73.898162952], [40.870377467, -73.898162952], [40.880050093, -73.909209048], [40.880050093, -73.909209048], [40.880050093, -73.909209048], [40.880050093, -73.909209048], [40.880050093, -73.909209048], [40.880050093, -73.909209048], [40.880050093, -73.909209048], [40.880050093, -73.909209048], [40.880050093, -73.909209048], [40.880050093, -73.909209048], [40.880050093, -73.909209048], [40.880050093, -73.909209048], [40.880050093, -73.909209048], [40.880050093, -73.909209048], [40.880050093, -73.909209048], [40.860012221, -73.888229604], [40.74473685138351, -73.92547914935282], [40.870377467, -73.898162952], [40.870377467, -73.898162952], [40.870377467, -73.898162952], [40.870377467, -73.898162952], [40.870377467, -73.898162952], [40.870377467, -73.898162952], [40.870377467, -73.898162952], [40.870377467, -73.898162952], [40.870377467, -73.898162952], [40.870377467, -73.898162952], [40.870377467, -73.898162952], [40.870377467, -73.898162952], [40.870377467, -73.898162952], [40.870377467, -73.898162952], [40.870377467, -73.898162952], [40.870377467, -73.898162952], [40.860012221, -73.888229604], [40.860012221, -73.888229604], [40.860012221, -73.888229604], [40.860012221, -73.888229604], [40.860012221, -73.888229604], [40.860012221, -73.888229604], [40.860012221, -73.888229604], [40.860012221, -73.888229604], [40.860012221, -73.888229604], [40.860012221, -73.888229604], [40.860012221, -73.888229604], [40.860012221, -73.888229604], [40.860012221, -73.888229604], [40.860012221, -73.888229604], [40.860012221, -73.888229604], [40.860012221, -73.888229604], [40.860012221, -73.888229604], [40.860012221, -73.888229604], [40.860012221, -73.888229604], [40.860012221, -73.888229604], [40.860012221, -73.888229604], [40.860012221, -73.888229604], [40.860012221, -73.888229604], [40.860012221, -73.888229604], [40.860012221, -73.888229604], [40.860012221, -73.888229604], [40.860012221, -73.888229604], [40.860012221, -73.888229604], [40.860012221, -73.888229604], [40.860012221, -73.888229604], [40.860012221, -73.888229604], [40.860012221, -73.888229604], [40.860012221, -73.888229604], [40.860012221, -73.888229604], [40.860012221, -73.888229604], [40.860012221, -73.888229604], [40.860012221, -73.888229604], [40.860012221, -73.888229604], [40.860012221, -73.888229604], [40.860012221, -73.888229604], [40.860012221, -73.888229604], [40.860012221, -73.888229604], [40.860012221, -73.888229604], [40.860012221, -73.888229604], [40.860012221, -73.888229604], [40.860012221, -73.888229604], [40.860012221, -73.888229604], [40.860012221, -73.888229604], [40.860012221, -73.888229604], [40.860012221, -73.888229604], [40.860012221, -73.888229604], [40.860012221, -73.888229604], [40.860012221, -73.888229604], [40.860012221, -73.888229604], [40.860012221, -73.888229604], [40.860012221, -73.888229604], [40.860012221, -73.888229604], [40.860012221, -73.888229604], [40.860012221, -73.888229604], [40.860012221, -73.888229604], [40.860012221, -73.888229604], [40.860012221, -73.888229604], [40.860012221, -73.888229604], [40.860012221, -73.888229604], [40.860012221, -73.888229604], [40.88008184, -73.885901533], [40.88008184, -73.885901533], [40.88008184, -73.885901533], [40.88008184, -73.885901533], [40.88008184, -73.885901533], [40.88008184, -73.885901533], [40.88008184, -73.885901533], [40.88008184, -73.885901533], [40.88008184, -73.885901533], [40.88008184, -73.885901533], [40.88008184, -73.885901533], [40.88008184, -73.885901533], [40.88008184, -73.885901533], [40.88008184, -73.885901533], [40.88008184, -73.885901533], [40.88008184, -73.885901533], [40.88008184, -73.885901533], [40.88008184, -73.885901533], [40.88008184, -73.885901533], [40.870377467, -73.898162952], [40.870377467, -73.898162952], [40.870377467, -73.898162952], [40.870377467, -73.898162952], [40.870377467, -73.898162952], [40.870377467, -73.898162952], [40.870377467, -73.898162952], [40.870377467, -73.898162952], [40.870377467, -73.898162952], [40.870377467, -73.898162952], [40.870377467, -73.898162952], [40.870377467, -73.898162952], [40.870377467, -73.898162952], [40.870377467, -73.898162952], [40.870377467, -73.898162952], [40.870377467, -73.898162952], [40.870377467, -73.898162952], [40.870377467, -73.898162952], [40.877056368, -73.889780351], [40.877056368, -73.889780351], [40.877056368, -73.889780351], [40.877056368, -73.889780351], [40.877056368, -73.889780351], [40.877056368, -73.889780351], [40.877056368, -73.889780351], [40.877056368, -73.889780351], [40.877056368, -73.889780351], [40.877056368, -73.889780351], [40.877056368, -73.889780351], [40.877056368, -73.889780351], [40.877056368, -73.889780351], [40.877056368, -73.889780351], [40.877056368, -73.889780351], [40.877056368, -73.889780351], [40.877056368, -73.889780351], [40.877056368, -73.889780351], [40.877056368, -73.889780351], [40.877049443, -73.912336599], [40.877049443, -73.912336599], [40.877049443, -73.912336599], [40.877049443, -73.912336599], [40.877049443, -73.912336599], [40.877049443, -73.912336599], [40.877049443, -73.912336599], [40.877049443, -73.912336599], [40.877049443, -73.912336599], [40.877049443, -73.912336599], [40.877049443, -73.912336599], [40.877049443, -73.912336599], [40.877049443, -73.912336599], [40.877049443, -73.912336599], [40.877049443, -73.912336599], [40.877049443, -73.912336599], [40.877049443, -73.912336599], [40.877049443, -73.912336599], [40.877049443, -73.912336599], [40.877049443, -73.912336599], [40.877049443, -73.912336599], [40.877049443, -73.912336599], [40.877049443, -73.912336599], [40.877049443, -73.912336599], [40.877049443, -73.912336599], [40.877049443, -73.912336599], [40.877049443, -73.912336599], [40.877049443, -73.912336599], [40.877049443, -73.912336599], [40.877049443, -73.912336599], [40.870377467, -73.898162952], [40.870377467, -73.898162952], [40.870377467, -73.898162952], [40.870377467, -73.898162952], [40.870377467, -73.898162952], [40.870377467, -73.898162952], [40.870377467, -73.898162952], [40.870377467, -73.898162952], [40.870377467, -73.898162952], [40.870377467, -73.898162952], [40.870377467, -73.898162952], [40.870377467, -73.898162952], [40.870377467, -73.898162952], [40.871255374001, -73.897516204], [40.871255374001, -73.897516204], [40.871255374001, -73.897516204], [40.871255374001, -73.897516204], [40.871255374001, -73.897516204], [40.871255374001, -73.897516204], [40.871255374001, -73.897516204], [40.871255374001, -73.897516204], [40.871255374001, -73.897516204], [40.871255374001, -73.897516204], [40.871255374001, -73.897516204], [40.871255374001, -73.897516204], [40.871255374001, -73.897516204], [40.871255374001, -73.897516204], [40.871255374001, -73.897516204], [40.871255374001, -73.897516204], [40.871255374001, -73.897516204], [40.871255374001, -73.897516204], [40.871255374001, -73.897516204], [40.874131798, -73.833804513], [40.874131798, -73.833804513], [40.874131798, -73.833804513], [40.874131798, -73.833804513], [40.874131798, -73.833804513], [40.874131798, -73.833804513], [40.874131798, -73.833804513], [40.874131798, -73.833804513], [40.874131798, -73.833804513], [40.874131798, -73.833804513], [40.874131798, -73.833804513], [40.874131798, -73.833804513], [40.874131798, -73.833804513], [40.874131798, -73.833804513], [40.875754211, -73.861387834], [40.875754211, -73.861387834], [40.875754211, -73.861387834], [40.875754211, -73.861387834], [40.875754211, -73.861387834], [40.875754211, -73.861387834], [40.875754211, -73.861387834], [40.875754211, -73.861387834], [40.875754211, -73.861387834], [40.875754211, -73.861387834], [40.875754211, -73.861387834], [40.875754211, -73.861387834], [40.875754211, -73.861387834], [40.875754211, -73.861387834], [40.875754211, -73.861387834], [40.875754211, -73.861387834], [40.887919214, -73.852871614], [40.887919214, -73.852871614], [40.887919214, -73.852871614], [40.887919214, -73.852871614], [40.887919214, -73.852871614], [40.887919214, -73.852871614], [40.887919214, -73.852871614], [40.887919214, -73.852871614], [40.887919214, -73.852871614], [40.887919214, -73.852871614], [40.887919214, -73.852871614], [40.887919214, -73.852871614], [40.887919214, -73.852871614], [40.887919214, -73.852871614], [40.875754211, -73.861387834], [40.875754211, -73.861387834], [40.875754211, -73.861387834], [40.875754211, -73.861387834], [40.875754211, -73.861387834], [40.875754211, -73.861387834], [40.875754211, -73.861387834], [40.875754211, -73.861387834], [40.875754211, -73.861387834], [40.875754211, -73.861387834], [40.859698316, -73.860741404], [40.859698316, -73.860741404], [40.859698316, -73.860741404], [40.859698316, -73.860741404], [40.859698316, -73.860741404], [40.859698316, -73.860741404], [40.859698316, -73.860741404], [40.859698316, -73.860741404], [40.859698316, -73.860741404], [40.859698316, -73.860741404], [40.859698316, -73.860741404], [40.859698316, -73.860741404], [40.859698316, -73.860741404], [40.859698316, -73.860741404], [40.859698316, -73.860741404], [40.859698316, -73.860741404], [40.859698316, -73.860741404], [40.875754211, -73.861387834], [40.859698316, -73.860741404], [40.859698316, -73.860741404], [40.859698316, -73.860741404], [40.859698316, -73.860741404], [40.859698316, -73.860741404], [40.859698316, -73.860741404], [40.859698316, -73.860741404], [40.859698316, -73.860741404], [40.859698316, -73.860741404], [40.859698316, -73.860741404], [40.859698316, -73.860741404], [40.859698316, -73.860741404], [40.859698316, -73.860741404], [40.859698316, -73.860741404], [40.859698316, -73.860741404], [40.74473685138351, -73.92547914935282], [40.851433485, -73.865017959], [40.851433485, -73.865017959], [40.851433485, -73.865017959], [40.851433485, -73.865017959], [40.851433485, -73.865017959], [40.851433485, -73.865017959], [40.851433485, -73.865017959], [40.851433485, -73.865017959], [40.851433485, -73.865017959], [40.851433485, -73.865017959], [40.851433485, -73.865017959], [40.851433485, -73.865017959], [40.851433485, -73.865017959], [40.851433485, -73.865017959], [40.851433485, -73.865017959], [40.851433485, -73.865017959], [40.851433485, -73.865017959], [40.874131798, -73.833804513], [40.874131798, -73.833804513], [40.874131798, -73.833804513], [40.874131798, -73.833804513], [40.874131798, -73.833804513], [40.874131798, -73.833804513], [40.874131798, -73.833804513], [40.874131798, -73.833804513], [40.874131798, -73.833804513], [40.874131798, -73.833804513], [40.874131798, -73.833804513], [40.874131798, -73.833804513], [40.874131798, -73.833804513], [40.874131798, -73.833804513], [40.874131798, -73.833804513], [40.874131798, -73.833804513], [40.874131798, -73.833804513], [40.874131798, -73.833804513], [40.887919214, -73.852871614], [40.887919214, -73.852871614], [40.887919214, -73.852871614], [40.887919214, -73.852871614], [40.887919214, -73.852871614], [40.887919214, -73.852871614], [40.887919214, -73.852871614], [40.887919214, -73.852871614], [40.887919214, -73.852871614], [40.887919214, -73.852871614], [40.887919214, -73.852871614], [40.887919214, -73.852871614], [40.887919214, -73.852871614], [40.859698316, -73.860741404], [40.859698316, -73.860741404], [40.859698316, -73.860741404], [40.859698316, -73.860741404], [40.859698316, -73.860741404], [40.859698316, -73.860741404], [40.859698316, -73.860741404], [40.859698316, -73.860741404], [40.859698316, -73.860741404], [40.859698316, -73.860741404], [40.859698316, -73.860741404], [40.859698316, -73.860741404], [40.859698316, -73.860741404], [40.859698316, -73.860741404], [40.859698316, -73.860741404], [40.859698316, -73.860741404], [40.859698316, -73.860741404], [40.875754211, -73.861387834], [40.875754211, -73.861387834], [40.82522606, -73.893949889], [40.82522606, -73.893949889], [40.82522606, -73.893949889], [40.82522606, -73.893949889], [40.82522606, -73.893949889], [40.82522606, -73.893949889], [40.82522606, -73.893949889], [40.82522606, -73.893949889], [40.82522606, -73.893949889], [40.82522606, -73.893949889], [40.82522606, -73.893949889], [40.82522606, -73.893949889], [40.82522606, -73.893949889], [40.835937328, -73.890467693], [40.827763979, -73.900386813], [40.827763979, -73.900386813], [40.827763979, -73.900386813], [40.827763979, -73.900386813], [40.827763979, -73.900386813], [40.827763979, -73.900386813], [40.827763979, -73.900386813], [40.827763979, -73.900386813], [40.827763979, -73.900386813], [40.827763979, -73.900386813], [40.827763979, -73.900386813], [40.827763979, -73.900386813], [40.827763979, -73.900386813], [40.827763979, -73.900386813], [40.836953426, -73.887961758], [40.836953426, -73.887961758], [40.836953426, -73.887961758], [40.836953426, -73.887961758], [40.836953426, -73.887961758], [40.836953426, -73.887961758], [40.836953426, -73.887961758], [40.836953426, -73.887961758], [40.836953426, -73.887961758], [40.836953426, -73.887961758], [40.836953426, -73.887961758], [40.836953426, -73.887961758], [40.836953426, -73.887961758], [40.836953426, -73.887961758], [40.74473685138351, -73.92547914935282], [40.74473685138351, -73.92547914935282], [40.74473685138351, -73.92547914935282], [40.74473685138351, -73.92547914935282], [40.74473685138351, -73.92547914935282], [40.74473685138351, -73.92547914935282], [40.83136649, -73.878823277], [40.830807154, -73.886021316], [40.830807154, -73.886021316], [40.830807154, -73.886021316], [40.830807154, -73.886021316], [40.830807154, -73.886021316], [40.830807154, -73.886021316], [40.830807154, -73.886021316], [40.830807154, -73.886021316], [40.830807154, -73.886021316], [40.830807154, -73.886021316], [40.830807154, -73.886021316], [40.830807154, -73.886021316], [40.841805221, -73.875417713], [40.841805221, -73.875417713], [40.841805221, -73.875417713], [40.841805221, -73.875417713], [40.841805221, -73.875417713], [40.841805221, -73.875417713], [40.841805221, -73.875417713], [40.841805221, -73.875417713], [40.841805221, -73.875417713], [40.841805221, -73.875417713], [40.841805221, -73.875417713], [40.841805221, -73.875417713], [40.841805221, -73.875417713], [40.841805221, -73.875417713], [40.841805221, -73.875417713], [40.841805221, -73.875417713], [40.841805221, -73.875417713], [40.696343773, -73.975771102], [40.696343773, -73.975771102], [40.696343773, -73.975771102], [40.696343773, -73.975771102], [40.696343773, -73.975771102], [40.696343773, -73.975771102], [40.696343773, -73.975771102], [40.696343773, -73.975771102], [40.696343773, -73.975771102], [40.696343773, -73.975771102], [40.696343773, -73.975771102], [40.696343773, -73.975771102], [40.696343773, -73.975771102], [40.696343773, -73.975771102], [40.696343773, -73.975771102], [40.696343773, -73.975771102], [40.697174727, -73.984959689], [40.692582256, -73.958873117], [40.692582256, -73.958873117], [40.692582256, -73.958873117], [40.692582256, -73.958873117], [40.692582256, -73.958873117], [40.692582256, -73.958873117], [40.692582256, -73.958873117], [40.692582256, -73.958873117], [40.692582256, -73.958873117], [40.692582256, -73.958873117], [40.692582256, -73.958873117], [40.692582256, -73.958873117], [40.692582256, -73.958873117], [40.692582256, -73.958873117], [40.692582256, -73.958873117], [40.697174727, -73.984959689], [40.697174727, -73.984959689], [40.697174727, -73.984959689], [40.697174727, -73.984959689], [40.697174727, -73.984959689], [40.697174727, -73.984959689], [40.697174727, -73.984959689], [40.697174727, -73.984959689], [40.697174727, -73.984959689], [40.697174727, -73.984959689], [40.697174727, -73.984959689], [40.697174727, -73.984959689], [40.697174727, -73.984959689], [40.697174727, -73.984959689], [40.697174727, -73.984959689], [40.697174727, -73.984959689], [40.697174727, -73.984959689], [40.697174727, -73.984959689], [40.688107423, -73.976745072], [40.688107423, -73.976745072], [40.688107423, -73.976745072], [40.688107423, -73.976745072], [40.688107423, -73.976745072], [40.688107423, -73.976745072], [40.688107423, -73.976745072], [40.688107423, -73.976745072], [40.688107423, -73.976745072], [40.688107423, -73.976745072], [40.688107423, -73.976745072], [40.688107423, -73.976745072], [40.688107423, -73.976745072], [40.688107423, -73.976745072], [40.688107423, -73.976745072], [40.688107423, -73.976745072], [40.688107423, -73.976745072], [40.688107423, -73.976745072], [40.688107423, -73.976745072], [40.697174727, -73.984959689], [40.694620119, -73.988623945], [40.694620119, -73.988623945], [40.694620119, -73.988623945], [40.694620119, -73.988623945], [40.694620119, -73.988623945], [40.694620119, -73.988623945], [40.694620119, -73.988623945], [40.694620119, -73.988623945], [40.694620119, -73.988623945], [40.694620119, -73.988623945], [40.694620119, -73.988623945], [40.694620119, -73.988623945], [40.694620119, -73.988623945], [40.694620119, -73.988623945], [40.678508914, -73.962067306], [40.678508914, -73.962067306], [40.678508914, -73.962067306], [40.678508914, -73.962067306], [40.678508914, -73.962067306], [40.678508914, -73.962067306], [40.678508914, -73.962067306], [40.678508914, -73.962067306], [40.678508914, -73.962067306], [40.678508914, -73.962067306], [40.678508914, -73.962067306], [40.678508914, -73.962067306], [40.678508914, -73.962067306], [40.678508914, -73.962067306], [40.678508914, -73.962067306], [40.74473685138351, -73.92547914935282], [40.74473685138351, -73.92547914935282], [40.685381269, -73.9542676], [40.685381269, -73.9542676], [40.685381269, -73.9542676], [40.685381269, -73.9542676], [40.685381269, -73.9542676], [40.685381269, -73.9542676], [40.685381269, -73.9542676], [40.685381269, -73.9542676], [40.685381269, -73.9542676], [40.685381269, -73.9542676], [40.685381269, -73.9542676], [40.685381269, -73.9542676], [40.685381269, -73.9542676], [40.685381269, -73.9542676], [40.685381269, -73.9542676], [40.685381269, -73.9542676], [40.694944407, -73.986035324], [40.694944407, -73.986035324], [40.694944407, -73.986035324], [40.694944407, -73.986035324], [40.694944407, -73.986035324], [40.694944407, -73.986035324], [40.694944407, -73.986035324], [40.694944407, -73.986035324], [40.694944407, -73.986035324], [40.694944407, -73.986035324], [40.694944407, -73.986035324], [40.694944407, -73.986035324], [40.694944407, -73.986035324], [40.694944407, -73.986035324], [40.694944407, -73.986035324], [40.694944407, -73.986035324], [40.74473685138351, -73.92547914935282], [40.695662413, -73.969286077], [40.695662413, -73.969286077], [40.695662413, -73.969286077], [40.695662413, -73.969286077], [40.695662413, -73.969286077], [40.695662413, -73.969286077], [40.695662413, -73.969286077], [40.695662413, -73.969286077], [40.695662413, -73.969286077], [40.695662413, -73.969286077], [40.695662413, -73.969286077], [40.695662413, -73.969286077], [40.695662413, -73.969286077], [40.695662413, -73.969286077], [40.695662413, -73.969286077], [40.695662413, -73.969286077], [40.695662413, -73.969286077], [40.695662413, -73.969286077], [40.695662413, -73.969286077], [40.74473685138351, -73.92547914935282], [40.703577361001, -73.953237312], [40.703577361001, -73.953237312], [40.703577361001, -73.953237312], [40.703577361001, -73.953237312], [40.703577361001, -73.953237312], [40.703577361001, -73.953237312], [40.703577361001, -73.953237312], [40.703577361001, -73.953237312], [40.703577361001, -73.953237312], [40.703577361001, -73.953237312], [40.703577361001, -73.953237312], [40.703577361001, -73.953237312], [40.703577361001, -73.953237312], [40.703577361001, -73.953237312], [40.70989996, -73.943659935], [40.70989996, -73.943659935], [40.711963113, -73.940434367], [40.711963113, -73.940434367], [40.711963113, -73.940434367], [40.711963113, -73.940434367], [40.711963113, -73.940434367], [40.711963113, -73.940434367], [40.711963113, -73.940434367], [40.711963113, -73.940434367], [40.711963113, -73.940434367], [40.711963113, -73.940434367], [40.711963113, -73.940434367], [40.711963113, -73.940434367], [40.711963113, -73.940434367], [40.711963113, -73.940434367], [40.711963113, -73.940434367], [40.711963113, -73.940434367], [40.711963113, -73.940434367], [40.711963113, -73.940434367], [40.711963113, -73.940434367], [40.711963113, -73.940434367], [40.711963113, -73.940434367], [40.711963113, -73.940434367], [40.711963113, -73.940434367], [40.711963113, -73.940434367], [40.711963113, -73.940434367], [40.711963113, -73.940434367], [40.711963113, -73.940434367], [40.711963113, -73.940434367], [40.711963113, -73.940434367], [40.711963113, -73.940434367], [40.711963113, -73.940434367], [40.711963113, -73.940434367], [40.711963113, -73.940434367], [40.711963113, -73.940434367], [40.711963113, -73.940434367], [40.711963113, -73.940434367], [40.711963113, -73.940434367], [40.711963113, -73.940434367], [40.711963113, -73.940434367], [40.711963113, -73.940434367], [40.711963113, -73.940434367], [40.711963113, -73.940434367], [40.711963113, -73.940434367], [40.711963113, -73.940434367], [40.711963113, -73.940434367], [40.711963113, -73.940434367], [40.711963113, -73.940434367], [40.711963113, -73.940434367], [40.711963113, -73.940434367], [40.715037551, -73.954649959], [40.715037551, -73.954649959], [40.715037551, -73.954649959], [40.715037551, -73.954649959], [40.715037551, -73.954649959], [40.715037551, -73.954649959], [40.715037551, -73.954649959], [40.715037551, -73.954649959], [40.715037551, -73.954649959], [40.715037551, -73.954649959], [40.715037551, -73.954649959], [40.715037551, -73.954649959], [40.715037551, -73.954649959], [40.715037551, -73.954649959], [40.715037551, -73.954649959], [40.715037551, -73.954649959], [40.715037551, -73.954649959], [40.715037551, -73.954649959], [40.715037551, -73.954649959], [40.715037551, -73.954649959], [40.715037551, -73.954649959], [40.715037551, -73.954649959], [40.715037551, -73.954649959], [40.715037551, -73.954649959], [40.715037551, -73.954649959], [40.715037551, -73.954649959], [40.715037551, -73.954649959], [40.715037551, -73.954649959], [40.715037551, -73.954649959], [40.715037551, -73.954649959], [40.715037551, -73.954649959], [40.715037551, -73.954649959], [40.715037551, -73.954649959], [40.715037551, -73.954649959], [40.715037551, -73.954649959], [40.715037551, -73.954649959], [40.715037551, -73.954649959], [40.715037551, -73.954649959], [40.715037551, -73.954649959], [40.715037551, -73.954649959], [40.715037551, -73.954649959], [40.715037551, -73.954649959], [40.715037551, -73.954649959], [40.715037551, -73.954649959], [40.715037551, -73.954649959], [40.715037551, -73.954649959], [40.70989996, -73.943659935], [40.72264264, -73.952583045], [40.705765931, -73.955728572], [40.705765931, -73.955728572], [40.705765931, -73.955728572], [40.705765931, -73.955728572], [40.705765931, -73.955728572], [40.705765931, -73.955728572], [40.705765931, -73.955728572], [40.705765931, -73.955728572], [40.74473685138351, -73.92547914935282], [40.685451806, -73.993491465], [40.679863998, -74.001482258], [40.669598175, -73.979255522], [40.669598175, -73.979255522], [40.669598175, -73.979255522], [40.669598175, -73.979255522], [40.669598175, -73.979255522], [40.669598175, -73.979255522], [40.669598175, -73.979255522], [40.669598175, -73.979255522], [40.669598175, -73.979255522], [40.669598175, -73.979255522], [40.669598175, -73.979255522], [40.669598175, -73.979255522], [40.669598175, -73.979255522], [40.669598175, -73.979255522], [40.669598175, -73.979255522], [40.669598175, -73.979255522], [40.685451806, -73.993491465], [40.685451806, -73.993491465], [40.685451806, -73.993491465], [40.685451806, -73.993491465], [40.685451806, -73.993491465], [40.685451806, -73.993491465], [40.685451806, -73.993491465], [40.685451806, -73.993491465], [40.685451806, -73.993491465], [40.685451806, -73.993491465], [40.685451806, -73.993491465], [40.685451806, -73.993491465], [40.685451806, -73.993491465], [40.685451806, -73.993491465], [40.685451806, -73.993491465], [40.684579137, -73.991093163], [40.684579137, -73.991093163], [40.684579137, -73.991093163], [40.684579137, -73.991093163], [40.684579137, -73.991093163], [40.684579137, -73.991093163], [40.684579137, -73.991093163], [40.684579137, -73.991093163], [40.684579137, -73.991093163], [40.684579137, -73.991093163], [40.684579137, -73.991093163], [40.684579137, -73.991093163], [40.684579137, -73.991093163], [40.684579137, -73.991093163], [40.684579137, -73.991093163], [40.684579137, -73.991093163], [40.684579137, -73.991093163], [40.74473685138351, -73.92547914935282], [40.68365399, -73.980472751], [40.68365399, -73.980472751], [40.68365399, -73.980472751], [40.68365399, -73.980472751], [40.68365399, -73.980472751], [40.68365399, -73.980472751], [40.68365399, -73.980472751], [40.68365399, -73.980472751], [40.68365399, -73.980472751], [40.68365399, -73.980472751], [40.68365399, -73.980472751], [40.68365399, -73.980472751], [40.68365399, -73.980472751], [40.68365399, -73.980472751], [40.68365399, -73.980472751], [40.68365399, -73.980472751], [40.74473685138351, -73.92547914935282], [40.74473685138351, -73.92547914935282], [40.679433045, -73.93243177], [40.679433045, -73.93243177], [40.679433045, -73.93243177], [40.679433045, -73.93243177], [40.679433045, -73.93243177], [40.679433045, -73.93243177], [40.679433045, -73.93243177], [40.679433045, -73.93243177], [40.679433045, -73.93243177], [40.679433045, -73.93243177], [40.679433045, -73.93243177], [40.679433045, -73.93243177], [40.679433045, -73.93243177], [40.679433045, -73.93243177], [40.679433045, -73.93243177], [40.688925542, -73.921084099], [40.688925542, -73.921084099], [40.688925542, -73.921084099], [40.688925542, -73.921084099], [40.688925542, -73.921084099], [40.688925542, -73.921084099], [40.688925542, -73.921084099], [40.688925542, -73.921084099], [40.688925542, -73.921084099], [40.688925542, -73.921084099], [40.688925542, -73.921084099], [40.688925542, -73.921084099], [40.688925542, -73.921084099], [40.688925542, -73.921084099], [40.688925542, -73.921084099], [40.74473685138351, -73.92547914935282], [40.649439675, -73.958431198], [40.649439675, -73.958431198], [40.649439675, -73.958431198], [40.649439675, -73.958431198], [40.649439675, -73.958431198], [40.649439675, -73.958431198], [40.649439675, -73.958431198], [40.649439675, -73.958431198], [40.649439675, -73.958431198], [40.649439675, -73.958431198], [40.649439675, -73.958431198], [40.649439675, -73.958431198], [40.649439675, -73.958431198], [40.649439675, -73.958431198], [40.649439675, -73.958431198], [40.649439675, -73.958431198], [40.74473685138351, -73.92547914935282], [40.670298907, -73.961647876], [40.670298907, -73.961647876], [40.670298907, -73.961647876], [40.670298907, -73.961647876], [40.670298907, -73.961647876], [40.670298907, -73.961647876], [40.670298907, -73.961647876], [40.670298907, -73.961647876], [40.670298907, -73.961647876], [40.670298907, -73.961647876], [40.670298907, -73.961647876], [40.670298907, -73.961647876], [40.670298907, -73.961647876], [40.670298907, -73.961647876], [40.670298907, -73.961647876], [40.670298907, -73.961647876], [40.670298907, -73.961647876], [40.659517006001, -73.942546499], [40.649439675, -73.958431198], [40.649439675, -73.958431198], [40.649439675, -73.958431198], [40.649439675, -73.958431198], [40.649439675, -73.958431198], [40.649439675, -73.958431198], [40.649439675, -73.958431198], [40.649439675, -73.958431198], [40.649439675, -73.958431198], [40.649439675, -73.958431198], [40.649439675, -73.958431198], [40.649439675, -73.958431198], [40.649439675, -73.958431198], [40.649439675, -73.958431198], [40.649439675, -73.958431198], [40.649439675, -73.958431198], [40.649439675, -73.958431198], [40.659517006001, -73.942546499], [40.659517006001, -73.942546499], [40.659517006001, -73.942546499], [40.659517006001, -73.942546499], [40.659517006001, -73.942546499], [40.659517006001, -73.942546499], [40.659517006001, -73.942546499], [40.659517006001, -73.942546499], [40.659517006001, -73.942546499], [40.659517006001, -73.942546499], [40.659517006001, -73.942546499], [40.659517006001, -73.942546499], [40.659517006001, -73.942546499], [40.659517006001, -73.942546499], [40.659517006001, -73.942546499], [40.659517006001, -73.942546499], [40.659517006001, -73.942546499], [40.659517006001, -73.942546499], [40.670298907, -73.961647876], [40.670298907, -73.961647876], [40.670298907, -73.961647876], [40.670298907, -73.961647876], [40.670298907, -73.961647876], [40.670298907, -73.961647876], [40.670298907, -73.961647876], [40.670298907, -73.961647876], [40.670298907, -73.961647876], [40.670298907, -73.961647876], [40.670298907, -73.961647876], [40.670298907, -73.961647876], [40.670298907, -73.961647876], [40.670298907, -73.961647876], [40.670298907, -73.961647876], [40.670298907, -73.961647876], [40.670298907, -73.961647876], [40.670298907, -73.961647876], [40.670298907, -73.961647876], [40.670298907, -73.961647876], [40.670298907, -73.961647876], [40.670298907, -73.961647876], [40.670298907, -73.961647876], [40.670298907, -73.961647876], [40.670298907, -73.961647876], [40.670298907, -73.961647876], [40.670298907, -73.961647876], [40.670298907, -73.961647876], [40.670298907, -73.961647876], [40.670298907, -73.961647876], [40.74473685138351, -73.92547914935282], [40.667162082, -73.950857955], [40.667162082, -73.950857955], [40.667162082, -73.950857955], [40.667162082, -73.950857955], [40.667162082, -73.950857955], [40.667162082, -73.950857955], [40.667162082, -73.950857955], [40.667162082, -73.950857955], [40.667162082, -73.950857955], [40.667162082, -73.950857955], [40.667162082, -73.950857955], [40.667162082, -73.950857955], [40.667162082, -73.950857955], [40.667162082, -73.950857955], [40.667162082, -73.950857955], [40.667162082, -73.950857955], [40.667162082, -73.950857955], [40.670270557, -73.961654824], [40.670270557, -73.961654824], [40.670270557, -73.961654824], [40.670270557, -73.961654824], [40.670270557, -73.961654824], [40.670270557, -73.961654824], [40.670270557, -73.961654824], [40.670270557, -73.961654824], [40.670270557, -73.961654824], [40.670270557, -73.961654824], [40.670270557, -73.961654824], [40.670270557, -73.961654824], [40.670270557, -73.961654824], [40.670270557, -73.961654824], [40.670270557, -73.961654824], [40.670270557, -73.961654824], [40.670270557, -73.961654824], [40.670270557, -73.961654824], [40.74473685138351, -73.92547914935282], [40.648663663, -73.921898762], [40.63262743, -73.917797989], [40.63262743, -73.917797989], [40.648663663, -73.921898762], [40.63262743, -73.917797989], [40.74473685138351, -73.92547914935282], [40.74473685138351, -73.92547914935282], [40.648663663, -73.921898762], [40.74473685138351, -73.92547914935282], [40.74473685138351, -73.92547914935282], [40.74473685138351, -73.92547914935282], [40.74473685138351, -73.92547914935282], [40.74473685138351, -73.92547914935282], [40.660637024, -73.88634165], [40.660637024, -73.88634165], [40.660637024, -73.88634165], [40.660637024, -73.88634165], [40.660637024, -73.88634165], [40.660637024, -73.88634165], [40.660637024, -73.88634165], [40.660637024, -73.88634165], [40.660637024, -73.88634165], [40.660637024, -73.88634165], [40.660637024, -73.88634165], [40.660637024, -73.88634165], [40.660637024, -73.88634165], [40.660637024, -73.88634165], [40.660637024, -73.88634165], [40.660637024, -73.88634165], [40.660637024, -73.88634165], [40.660637024, -73.88634165], [40.660637024, -73.88634165], [40.74473685138351, -73.92547914935282], [40.667553111, -73.894800537], [40.667553111, -73.894800537], [40.667553111, -73.894800537], [40.667553111, -73.894800537], [40.667553111, -73.894800537], [40.667553111, -73.894800537], [40.667553111, -73.894800537], [40.667553111, -73.894800537], [40.667553111, -73.894800537], [40.667553111, -73.894800537], [40.667553111, -73.894800537], [40.667553111, -73.894800537], [40.667553111, -73.894800537], [40.667553111, -73.894800537], [40.667553111, -73.894800537], [40.667553111, -73.894800537], [40.667553111, -73.894800537], [40.667553111, -73.894800537], [40.667553111, -73.894800537], [40.667553111, -73.894800537], [40.667553111, -73.894800537], [40.667553111, -73.894800537], [40.667553111, -73.894800537], [40.667553111, -73.894800537], [40.667553111, -73.894800537], [40.667553111, -73.894800537], [40.667553111, -73.894800537], [40.667553111, -73.894800537], [40.667553111, -73.894800537], [40.667553111, -73.894800537], [40.667553111, -73.894800537], [40.667553111, -73.894800537], [40.667553111, -73.894800537], [40.667553111, -73.894800537], [40.667553111, -73.894800537], [40.667553111, -73.894800537], [40.667553111, -73.894800537], [40.667553111, -73.894800537], [40.667553111, -73.894800537], [40.667553111, -73.894800537], [40.667553111, -73.894800537], [40.667553111, -73.894800537], [40.667553111, -73.894800537], [40.667553111, -73.894800537], [40.667553111, -73.894800537], [40.667553111, -73.894800537], [40.691143962, -73.868426057], [40.691143962, -73.868426057], [40.691143962, -73.868426057], [40.691143962, -73.868426057], [40.691143962, -73.868426057], [40.691143962, -73.868426057], [40.691143962, -73.868426057], [40.691143962, -73.868426057], [40.691143962, -73.868426057], [40.691143962, -73.868426057], [40.691143962, -73.868426057], [40.691143962, -73.868426057], [40.678230731001, -73.875973012], [40.678230731001, -73.875973012], [40.678230731001, -73.875973012], [40.678230731001, -73.875973012], [40.678230731001, -73.875973012], [40.678230731001, -73.875973012], [40.678230731001, -73.875973012], [40.678230731001, -73.875973012], [40.678230731001, -73.875973012], [40.678230731001, -73.875973012], [40.678230731001, -73.875973012], [40.678230731001, -73.875973012], [40.678230731001, -73.875973012], [40.678230731001, -73.875973012], [40.691143962, -73.868426057], [40.691143962, -73.868426057], [40.691143962, -73.868426057], [40.691143962, -73.868426057], [40.691143962, -73.868426057], [40.691143962, -73.868426057], [40.691143962, -73.868426057], [40.691143962, -73.868426057], [40.691143962, -73.868426057], [40.691143962, -73.868426057], [40.691143962, -73.868426057], [40.691143962, -73.868426057], [40.691143962, -73.868426057], [40.691143962, -73.868426057], [40.691143962, -73.868426057], [40.691143962, -73.868426057], [40.691143962, -73.868426057], [40.691143962, -73.868426057], [40.691143962, -73.868426057], [40.674224214, -73.896453521], [40.674224214, -73.896453521], [40.674224214, -73.896453521], [40.674224214, -73.896453521], [40.674224214, -73.896453521], [40.674224214, -73.896453521], [40.674224214, -73.896453521], [40.674224214, -73.896453521], [40.674224214, -73.896453521], [40.674224214, -73.896453521], [40.674224214, -73.896453521], [40.674224214, -73.896453521], [40.674224214, -73.896453521], [40.674224214, -73.896453521], [40.74473685138351, -73.92547914935282], [40.613424494, -74.003653766], [40.613424494, -74.003653766], [40.613424494, -74.003653766], [40.613424494, -74.003653766], [40.613424494, -74.003653766], [40.613424494, -74.003653766], [40.613424494, -74.003653766], [40.613424494, -74.003653766], [40.613424494, -74.003653766], [40.613424494, -74.003653766], [40.613424494, -74.003653766], [40.613424494, -74.003653766], [40.613424494, -74.003653766], [40.613424494, -74.003653766], [40.613424494, -74.003653766], [40.613424494, -74.003653766], [40.613424494, -74.003653766], [40.613424494, -74.003653766], [40.613424494, -74.003653766], [40.637245716, -74.023816473], [40.637245716, -74.023816473], [40.637245716, -74.023816473], [40.637245716, -74.023816473], [40.637245716, -74.023816473], [40.637245716, -74.023816473], [40.637245716, -74.023816473], [40.637245716, -74.023816473], [40.637245716, -74.023816473], [40.637245716, -74.023816473], [40.637245716, -74.023816473], [40.637245716, -74.023816473], [40.637245716, -74.023816473], [40.637245716, -74.023816473], [40.637245716, -74.023816473], [40.637245716, -74.023816473], [40.637245716, -74.023816473], [40.637245716, -74.023816473], [40.627913373, -74.039952338], [40.627913373, -74.039952338], [40.627913373, -74.039952338], [40.627913373, -74.039952338], [40.627913373, -74.039952338], [40.627913373, -74.039952338], [40.627913373, -74.039952338], [40.627913373, -74.039952338], [40.627913373, -74.039952338], [40.627913373, -74.039952338], [40.627913373, -74.039952338], [40.627913373, -74.039952338], [40.627913373, -74.039952338], [40.627913373, -74.039952338], [40.627913373, -74.039952338], [40.627913373, -74.039952338], [40.627913373, -74.039952338], [40.627913373, -74.039952338], [40.627913373, -74.039952338], [40.627913373, -74.039952338], [40.620263373, -73.982011], [40.620263373, -73.982011], [40.620263373, -73.982011], [40.620263373, -73.982011], [40.620263373, -73.982011], [40.620263373, -73.982011], [40.620263373, -73.982011], [40.620263373, -73.982011], [40.620263373, -73.982011], [40.620263373, -73.982011], [40.620263373, -73.982011], [40.620263373, -73.982011], [40.620263373, -73.982011], [40.620263373, -73.982011], [40.620263373, -73.982011], [40.620263373, -73.982011], [40.620263373, -73.982011], [40.620263373, -73.982011], [40.620263373, -73.982011], [40.620263373, -73.982011], [40.620263373, -73.982011], [40.74473685138351, -73.92547914935282], [40.74473685138351, -73.92547914935282], [40.593593811, -73.984729232], [40.58211615, -73.972894492], [40.58211615, -73.972894492], [40.58211615, -73.972894492], [40.58211615, -73.972894492], [40.58211615, -73.972894492], [40.58211615, -73.972894492], [40.58211615, -73.972894492], [40.58211615, -73.972894492], [40.58211615, -73.972894492], [40.58211615, -73.972894492], [40.58211615, -73.972894492], [40.58211615, -73.972894492], [40.58211615, -73.972894492], [40.58211615, -73.972894492], [40.58211615, -73.972894492], [40.58211615, -73.972894492], [40.58211615, -73.972894492], [40.593593811, -73.984729232], [40.593593811, -73.984729232], [40.593593811, -73.984729232], [40.593593811, -73.984729232], [40.593593811, -73.984729232], [40.593593811, -73.984729232], [40.593593811, -73.984729232], [40.593593811, -73.984729232], [40.593593811, -73.984729232], [40.593593811, -73.984729232], [40.593593811, -73.984729232], [40.593593811, -73.984729232], [40.593593811, -73.984729232], [40.593593811, -73.984729232], [40.582308363, -73.967465747], [40.582308363, -73.967465747], [40.582308363, -73.967465747], [40.582308363, -73.967465747], [40.582308363, -73.967465747], [40.582308363, -73.967465747], [40.582308363, -73.967465747], [40.582308363, -73.967465747], [40.582308363, -73.967465747], [40.582308363, -73.967465747], [40.582308363, -73.967465747], [40.582308363, -73.967465747], [40.582308363, -73.967465747], [40.582308363, -73.967465747], [40.582308363, -73.967465747], [40.582308363, -73.967465747], [40.582308363, -73.967465747], [40.582308363, -73.967465747], [40.582308363, -73.967465747], [40.74473685138351, -73.92547914935282], [40.620504358, -73.959233933], [40.620504358, -73.959233933], [40.620504358, -73.959233933], [40.620504358, -73.959233933], [40.620504358, -73.959233933], [40.620504358, -73.959233933], [40.620504358, -73.959233933], [40.620504358, -73.959233933], [40.620504358, -73.959233933], [40.620504358, -73.959233933], [40.620504358, -73.959233933], [40.620504358, -73.959233933], [40.620504358, -73.959233933], [40.620504358, -73.959233933], [40.620504358, -73.959233933], [40.620504358, -73.959233933], [40.620504358, -73.959233933], [40.620504358, -73.959233933], [40.620504358, -73.959233933], [40.620504358, -73.959233933], [40.589238098, -73.981746524], [40.589238098, -73.981746524], [40.589238098, -73.981746524], [40.589238098, -73.981746524], [40.589238098, -73.981746524], [40.589238098, -73.981746524], [40.589238098, -73.981746524], [40.589238098, -73.981746524], [40.589238098, -73.981746524], [40.589238098, -73.981746524], [40.589238098, -73.981746524], [40.589238098, -73.981746524], [40.589238098, -73.981746524], [40.589238098, -73.981746524], [40.589238098, -73.981746524], [40.589238098, -73.981746524], [40.589238098, -73.981746524], [40.589238098, -73.981746524], [40.589238098, -73.981746524], [40.589238098, -73.981746524], [40.593593811, -73.984729232], [40.593593811, -73.984729232], [40.582548038, -73.963716221], [40.604877000001, -73.994417154], [40.604877000001, -73.994417154], [40.604877000001, -73.994417154], [40.604877000001, -73.994417154], [40.604877000001, -73.994417154], [40.604877000001, -73.994417154], [40.604877000001, -73.994417154], [40.604877000001, -73.994417154], [40.604877000001, -73.994417154], [40.604877000001, -73.994417154], [40.604877000001, -73.994417154], [40.604877000001, -73.994417154], [40.604877000001, -73.994417154], [40.604877000001, -73.994417154], [40.604877000001, -73.994417154], [40.604877000001, -73.994417154], [40.604877000001, -73.994417154], [40.604877000001, -73.994417154], [40.604877000001, -73.994417154], [40.74473685138351, -73.92547914935282], [40.633335494, -73.952916064], [40.633335494, -73.952916064], [40.633335494, -73.952916064], [40.633335494, -73.952916064], [40.633335494, -73.952916064], [40.633335494, -73.952916064], [40.633335494, -73.952916064], [40.633335494, -73.952916064], [40.633335494, -73.952916064], [40.633335494, -73.952916064], [40.633335494, -73.952916064], [40.633335494, -73.952916064], [40.633335494, -73.952916064], [40.633335494, -73.952916064], [40.633335494, -73.952916064], [40.633335494, -73.952916064], [40.633335494, -73.952916064], [40.633335494, -73.952916064], [40.633335494, -73.952916064], [40.609758481, -73.948451837], [40.609758481, -73.948451837], [40.609758481, -73.948451837], [40.609758481, -73.948451837], [40.609758481, -73.948451837], [40.609758481, -73.948451837], [40.609758481, -73.948451837], [40.609758481, -73.948451837], [40.609758481, -73.948451837], [40.609758481, -73.948451837], [40.609758481, -73.948451837], [40.609758481, -73.948451837], [40.609758481, -73.948451837], [40.609758481, -73.948451837], [40.609758481, -73.948451837], [40.609758481, -73.948451837], [40.609758481, -73.948451837], [40.609758481, -73.948451837], [40.580847136001, -73.936088569], [40.580847136001, -73.936088569], [40.580847136001, -73.936088569], [40.580847136001, -73.936088569], [40.580847136001, -73.936088569], [40.580847136001, -73.936088569], [40.580847136001, -73.936088569], [40.580847136001, -73.936088569], [40.580847136001, -73.936088569], [40.580847136001, -73.936088569], [40.580847136001, -73.936088569], [40.580847136001, -73.936088569], [40.580847136001, -73.936088569], [40.580847136001, -73.936088569], [40.580847136001, -73.936088569], [40.580847136001, -73.936088569], [40.580847136001, -73.936088569], [40.649200627, -73.971694621], [40.674137383, -73.913494491], [40.674137383, -73.913494491], [40.674137383, -73.913494491], [40.674137383, -73.913494491], [40.674137383, -73.913494491], [40.674137383, -73.913494491], [40.674137383, -73.913494491], [40.674137383, -73.913494491], [40.674137383, -73.913494491], [40.674137383, -73.913494491], [40.674137383, -73.913494491], [40.674137383, -73.913494491], [40.674137383, -73.913494491], [40.674137383, -73.913494491], [40.665810912, -73.911699645], [40.665810912, -73.911699645], [40.665810912, -73.911699645], [40.665810912, -73.911699645], [40.665810912, -73.911699645], [40.665810912, -73.911699645], [40.665810912, -73.911699645], [40.665810912, -73.911699645], [40.665810912, -73.911699645], [40.665810912, -73.911699645], [40.665810912, -73.911699645], [40.665810912, -73.911699645], [40.665810912, -73.911699645], [40.665810912, -73.911699645], [40.665810912, -73.911699645], [40.665810912, -73.911699645], [40.74473685138351, -73.92547914935282], [40.74473685138351, -73.92547914935282], [40.665810912, -73.911699645], [40.665810912, -73.911699645], [40.665810912, -73.911699645], [40.665810912, -73.911699645], [40.665810912, -73.911699645], [40.665810912, -73.911699645], [40.665810912, -73.911699645], [40.665810912, -73.911699645], [40.665810912, -73.911699645], [40.665810912, -73.911699645], [40.665810912, -73.911699645], [40.665810912, -73.911699645], [40.665810912, -73.911699645], [40.665810912, -73.911699645], [40.665810912, -73.911699645], [40.665810912, -73.911699645], [40.745093519, -73.936813898], [40.745093519, -73.936813898], [40.745093519, -73.936813898], [40.745093519, -73.936813898], [40.745093519, -73.936813898], [40.745093519, -73.936813898], [40.745093519, -73.936813898], [40.745093519, -73.936813898], [40.745093519, -73.936813898], [40.745093519, -73.936813898], [40.745093519, -73.936813898], [40.745093519, -73.936813898], [40.745093519, -73.936813898], [40.745093519, -73.936813898], [40.745093519, -73.936813898], [40.745093519, -73.936813898], [40.745093519, -73.936813898], [40.745093519, -73.936813898], [40.745093519, -73.936813898], [40.745093519, -73.936813898], [40.745093519, -73.936813898], [40.745093519, -73.936813898], [40.745093519, -73.936813898], [40.745093519, -73.936813898], [40.745093519, -73.936813898], [40.745093519, -73.936813898], [40.745093519, -73.936813898], [40.745093519, -73.936813898], [40.745093519, -73.936813898], [40.745093519, -73.936813898], [40.745093519, -73.936813898], [40.745093519, -73.936813898], [40.745093519, -73.936813898], [40.745093519, -73.936813898], [40.74473685138351, -73.92547914935282], [40.743302873, -73.870574977], [40.745093519, -73.936813898], [40.7412052, -73.874729884], [40.7412052, -73.874729884], [40.7412052, -73.874729884], [40.7412052, -73.874729884], [40.7412052, -73.874729884], [40.7412052, -73.874729884], [40.7412052, -73.874729884], [40.7412052, -73.874729884], [40.7412052, -73.874729884], [40.7412052, -73.874729884], [40.7412052, -73.874729884], [40.7412052, -73.874729884], [40.7412052, -73.874729884], [40.7412052, -73.874729884], [40.7412052, -73.874729884], [40.7412052, -73.874729884], [40.7412052, -73.874729884], [40.7412052, -73.874729884], [40.74473685138351, -73.92547914935282], [40.711222195, -73.90865213], [40.711222195, -73.90865213], [40.711222195, -73.90865213], [40.711222195, -73.90865213], [40.711222195, -73.90865213], [40.711222195, -73.90865213], [40.711222195, -73.90865213], [40.711222195, -73.90865213], [40.711222195, -73.90865213], [40.711222195, -73.90865213], [40.711222195, -73.90865213], [40.711222195, -73.90865213], [40.711222195, -73.90865213], [40.711222195, -73.90865213], [40.711222195, -73.90865213], [40.711222195, -73.90865213], [40.711222195, -73.90865213], [40.711222195, -73.90865213], [40.711222195, -73.90865213], [40.711222195, -73.90865213], [40.744149536, -73.933626741], [40.744149536, -73.933626741], [40.73741817, -73.85330573], [40.73741817, -73.85330573], [40.73741817, -73.85330573], [40.73741817, -73.85330573], [40.73741817, -73.85330573], [40.73741817, -73.85330573], [40.73741817, -73.85330573], [40.73741817, -73.85330573], [40.73741817, -73.85330573], [40.73741817, -73.85330573], [40.73741817, -73.85330573], [40.73741817, -73.85330573], [40.73741817, -73.85330573], [40.73741817, -73.85330573], [40.73741817, -73.85330573], [40.73741817, -73.85330573], [40.73741817, -73.85330573], [40.73741817, -73.85330573], [40.742263515, -73.936876121], [40.742188694, -73.928243292], [40.742188694, -73.928243292], [40.742188694, -73.928243292], [40.742188694, -73.928243292], [40.742188694, -73.928243292], [40.742188694, -73.928243292], [40.742188694, -73.928243292], [40.742188694, -73.928243292], [40.742188694, -73.928243292], [40.742188694, -73.928243292], [40.742188694, -73.928243292], [40.742188694, -73.928243292], [40.742188694, -73.928243292], [40.742188694, -73.928243292], [40.742188694, -73.928243292], [40.742188694, -73.928243292], [40.743593644001, -73.929077865], [40.743593644001, -73.929077865], [40.743593644001, -73.929077865], [40.743593644001, -73.929077865], [40.743593644001, -73.929077865], [40.743593644001, -73.929077865], [40.743593644001, -73.929077865], [40.743593644001, -73.929077865], [40.743593644001, -73.929077865], [40.743593644001, -73.929077865], [40.743593644001, -73.929077865], [40.743593644001, -73.929077865], [40.743593644001, -73.929077865], [40.743593644001, -73.929077865], [40.743593644001, -73.929077865], [40.743593644001, -73.929077865], [40.743593644001, -73.929077865], [40.743593644001, -73.929077865], [40.74473685138351, -73.92547914935282], [40.74473685138351, -73.92547914935282], [40.76041417, -73.818376278], [40.749302805, -73.821808106], [40.765123273, -73.790059676], [40.765123273, -73.790059676], [40.765123273, -73.790059676], [40.765123273, -73.790059676], [40.765123273, -73.790059676], [40.765123273, -73.790059676], [40.765123273, -73.790059676], [40.765123273, -73.790059676], [40.765123273, -73.790059676], [40.765123273, -73.790059676], [40.765123273, -73.790059676], [40.765123273, -73.790059676], [40.765123273, -73.790059676], [40.765123273, -73.790059676], [40.765123273, -73.790059676], [40.765123273, -73.790059676], [40.765123273, -73.790059676], [40.765123273, -73.790059676], [40.765123273, -73.790059676], [40.738697203, -73.824794821], [40.738697203, -73.824794821], [40.738697203, -73.824794821], [40.738697203, -73.824794821], [40.738697203, -73.824794821], [40.738697203, -73.824794821], [40.738697203, -73.824794821], [40.738697203, -73.824794821], [40.738697203, -73.824794821], [40.738697203, -73.824794821], [40.738697203, -73.824794821], [40.738697203, -73.824794821], [40.738697203, -73.824794821], [40.738697203, -73.824794821], [40.738697203, -73.824794821], [40.738697203, -73.824794821], [40.738697203, -73.824794821], [40.738697203, -73.824794821], [40.738697203, -73.824794821], [40.738697203, -73.824794821], [40.765243471, -73.827855282], [40.765243471, -73.827855282], [40.765243471, -73.827855282], [40.765243471, -73.827855282], [40.765243471, -73.827855282], [40.765243471, -73.827855282], [40.765243471, -73.827855282], [40.765243471, -73.827855282], [40.765243471, -73.827855282], [40.765243471, -73.827855282], [40.765243471, -73.827855282], [40.765243471, -73.827855282], [40.765243471, -73.827855282], [40.765243471, -73.827855282], [40.765243471, -73.827855282], [40.765243471, -73.827855282], [40.765243471, -73.827855282], [40.765243471, -73.827855282], [40.765243471, -73.827855282], [40.74473685138351, -73.92547914935282], [40.73440841, -73.821417483], [40.73440841, -73.821417483], [40.73440841, -73.821417483], [40.73440841, -73.821417483], [40.73440841, -73.821417483], [40.73440841, -73.821417483], [40.73440841, -73.821417483], [40.73440841, -73.821417483], [40.73440841, -73.821417483], [40.73440841, -73.821417483], [40.73440841, -73.821417483], [40.73440841, -73.821417483], [40.73440841, -73.821417483], [40.73440841, -73.821417483], [40.73440841, -73.821417483], [40.73440841, -73.821417483], [40.74473685138351, -73.92547914935282], [40.725603161, -73.810721147], [40.725603161, -73.810721147], [40.725603161, -73.810721147], [40.725603161, -73.810721147], [40.725603161, -73.810721147], [40.725603161, -73.810721147], [40.725603161, -73.810721147], [40.725603161, -73.810721147], [40.725603161, -73.810721147], [40.725603161, -73.810721147], [40.725603161, -73.810721147], [40.725603161, -73.810721147], [40.725603161, -73.810721147], [40.725603161, -73.810721147], [40.725603161, -73.810721147], [40.725603161, -73.810721147], [40.725603161, -73.810721147], [40.725603161, -73.810721147], [40.74473685138351, -73.92547914935282], [40.752392424, -73.756083358], [40.752392424, -73.756083358], [40.752392424, -73.756083358], [40.752392424, -73.756083358], [40.752392424, -73.756083358], [40.752392424, -73.756083358], [40.752392424, -73.756083358], [40.752392424, -73.756083358], [40.752392424, -73.756083358], [40.752392424, -73.756083358], [40.752392424, -73.756083358], [40.752392424, -73.756083358], [40.752392424, -73.756083358], [40.752392424, -73.756083358], [40.752392424, -73.756083358], [40.752392424, -73.756083358], [40.752392424, -73.756083358], [40.752392424, -73.756083358], [40.752392424, -73.756083358], [40.740555714, -73.792848146], [40.740555714, -73.792848146], [40.740555714, -73.792848146], [40.740555714, -73.792848146], [40.740555714, -73.792848146], [40.740555714, -73.792848146], [40.740555714, -73.792848146], [40.740555714, -73.792848146], [40.740555714, -73.792848146], [40.740555714, -73.792848146], [40.740555714, -73.792848146], [40.740555714, -73.792848146], [40.740555714, -73.792848146], [40.740555714, -73.792848146], [40.740555714, -73.792848146], [40.740555714, -73.792848146], [40.740555714, -73.792848146], [40.740555714, -73.792848146], [40.740555714, -73.792848146], [40.732817109, -73.739650413], [40.732817109, -73.739650413], [40.732817109, -73.739650413], [40.732817109, -73.739650413], [40.732817109, -73.739650413], [40.732817109, -73.739650413], [40.732817109, -73.739650413], [40.732817109, -73.739650413], [40.732817109, -73.739650413], [40.732817109, -73.739650413], [40.732817109, -73.739650413], [40.732817109, -73.739650413], [40.732817109, -73.739650413], [40.732817109, -73.739650413], [40.732817109, -73.739650413], [40.732817109, -73.739650413], [40.732817109, -73.739650413], [40.732817109, -73.739650413], [40.732817109, -73.739650413], [40.732817109, -73.739650413], [40.771867242001, -73.780386952], [40.771867242001, -73.780386952], [40.771867242001, -73.780386952], [40.771867242001, -73.780386952], [40.771867242001, -73.780386952], [40.771867242001, -73.780386952], [40.771867242001, -73.780386952], [40.771867242001, -73.780386952], [40.771867242001, -73.780386952], [40.771867242001, -73.780386952], [40.771867242001, -73.780386952], [40.771867242001, -73.780386952], [40.771867242001, -73.780386952], [40.771867242001, -73.780386952], [40.771867242001, -73.780386952], [40.771867242001, -73.780386952], [40.771867242001, -73.780386952], [40.771867242001, -73.780386952], [40.771867242001, -73.780386952], [40.744904361, -73.726909642], [40.744904361, -73.726909642], [40.744904361, -73.726909642], [40.744904361, -73.726909642], [40.744904361, -73.726909642], [40.744904361, -73.726909642], [40.744904361, -73.726909642], [40.744904361, -73.726909642], [40.744904361, -73.726909642], [40.744904361, -73.726909642], [40.744904361, -73.726909642], [40.744904361, -73.726909642], [40.744904361, -73.726909642], [40.744904361, -73.726909642], [40.744904361, -73.726909642], [40.744904361, -73.726909642], [40.744904361, -73.726909642], [40.744904361, -73.726909642], [40.601989336, -73.762834323], [40.586007187, -73.823089444], [40.586007187, -73.823089444], [40.586007187, -73.823089444], [40.586007187, -73.823089444], [40.586007187, -73.823089444], [40.586007187, -73.823089444], [40.586007187, -73.823089444], [40.586007187, -73.823089444], [40.586007187, -73.823089444], [40.586007187, -73.823089444], [40.586007187, -73.823089444], [40.586007187, -73.823089444], [40.586007187, -73.823089444], [40.586007187, -73.823089444], [40.586007187, -73.823089444], [40.586007187, -73.823089444], [40.586007187, -73.823089444], [40.601989336, -73.762834323], [40.74473685138351, -73.92547914935282], [40.74473685138351, -73.92547914935282], [40.584131374, -73.825681212], [40.584131374, -73.825681212], [40.584131374, -73.825681212], [40.584131374, -73.825681212], [40.584131374, -73.825681212], [40.584131374, -73.825681212], [40.584131374, -73.825681212], [40.584131374, -73.825681212], [40.584131374, -73.825681212], [40.584131374, -73.825681212], [40.584131374, -73.825681212], [40.584131374, -73.825681212], [40.584131374, -73.825681212], [40.675526809, -73.783432513], [40.675526809, -73.783432513], [40.675526809, -73.783432513], [40.675526809, -73.783432513], [40.675526809, -73.783432513], [40.675526809, -73.783432513], [40.675526809, -73.783432513], [40.675526809, -73.783432513], [40.675526809, -73.783432513], [40.675526809, -73.783432513], [40.675526809, -73.783432513], [40.675526809, -73.783432513], [40.675526809, -73.783432513], [40.675526809, -73.783432513], [40.675526809, -73.783432513], [40.675526809, -73.783432513], [40.675526809, -73.783432513], [40.675526809, -73.783432513], [40.695649222001, -73.833584805], [40.695649222001, -73.833584805], [40.695649222001, -73.833584805], [40.695649222001, -73.833584805], [40.695649222001, -73.833584805], [40.695649222001, -73.833584805], [40.695649222001, -73.833584805], [40.695649222001, -73.833584805], [40.695649222001, -73.833584805], [40.695649222001, -73.833584805], [40.695649222001, -73.833584805], [40.695649222001, -73.833584805], [40.695649222001, -73.833584805], [40.695649222001, -73.833584805], [40.695649222001, -73.833584805], [40.695649222001, -73.833584805], [40.695649222001, -73.833584805], [40.695649222001, -73.833584805], [40.679831401, -73.838322664], [40.679831401, -73.838322664], [40.679831401, -73.838322664], [40.679831401, -73.838322664], [40.679831401, -73.838322664], [40.679831401, -73.838322664], [40.679831401, -73.838322664], [40.679831401, -73.838322664], [40.679831401, -73.838322664], [40.679831401, -73.838322664], [40.679831401, -73.838322664], [40.679831401, -73.838322664], [40.679831401, -73.838322664], [40.679831401, -73.838322664], [40.679831401, -73.838322664], [40.679831401, -73.838322664], [40.679831401, -73.838322664], [40.679831401, -73.838322664], [40.679831401, -73.838322664], [40.689396826, -73.840641001], [40.689396826, -73.840641001], [40.689396826, -73.840641001], [40.689396826, -73.840641001], [40.689396826, -73.840641001], [40.689396826, -73.840641001], [40.689396826, -73.840641001], [40.689396826, -73.840641001], [40.689396826, -73.840641001], [40.689396826, -73.840641001], [40.689396826, -73.840641001], [40.689396826, -73.840641001], [40.689396826, -73.840641001], [40.689396826, -73.840641001], [40.689396826, -73.840641001], [40.689396826, -73.840641001], [40.689396826, -73.840641001], [40.74473685138351, -73.92547914935282], [40.74473685138351, -73.92547914935282], [40.74473685138351, -73.92547914935282], [40.74473685138351, -73.92547914935282], [40.74473685138351, -73.92547914935282], [40.729431572, -73.845629073], [40.729431572, -73.845629073], [40.729431572, -73.845629073], [40.729431572, -73.845629073], [40.729431572, -73.845629073], [40.729431572, -73.845629073], [40.729431572, -73.845629073], [40.729431572, -73.845629073], [40.729431572, -73.845629073], [40.729431572, -73.845629073], [40.729431572, -73.845629073], [40.729431572, -73.845629073], [40.729431572, -73.845629073], [40.729431572, -73.845629073], [40.729431572, -73.845629073], [40.729431572, -73.845629073], [40.729431572, -73.845629073], [40.708757555, -73.802127486], [40.708757555, -73.802127486], [40.708757555, -73.802127486], [40.708757555, -73.802127486], [40.708757555, -73.802127486], [40.708757555, -73.802127486], [40.708757555, -73.802127486], [40.708757555, -73.802127486], [40.708757555, -73.802127486], [40.708757555, -73.802127486], [40.708757555, -73.802127486], [40.708757555, -73.802127486], [40.708757555, -73.802127486], [40.708757555, -73.802127486], [40.715876261, -73.798822389], [40.715876261, -73.798822389], [40.715876261, -73.798822389], [40.715876261, -73.798822389], [40.715876261, -73.798822389], [40.715876261, -73.798822389], [40.715876261, -73.798822389], [40.715876261, -73.798822389], [40.715876261, -73.798822389], [40.715876261, -73.798822389], [40.715876261, -73.798822389], [40.715876261, -73.798822389], [40.715876261, -73.798822389], [40.715876261, -73.798822389], [40.715876261, -73.798822389], [40.715876261, -73.798822389], [40.715876261, -73.798822389], [40.715876261, -73.798822389], [40.718810094, -73.806500455], [40.718810094, -73.806500455], [40.718810094, -73.806500455], [40.718810094, -73.806500455], [40.718810094, -73.806500455], [40.718810094, -73.806500455], [40.718810094, -73.806500455], [40.718810094, -73.806500455], [40.718810094, -73.806500455], [40.718810094, -73.806500455], [40.718810094, -73.806500455], [40.718810094, -73.806500455], [40.718810094, -73.806500455], [40.718810094, -73.806500455], [40.718810094, -73.806500455], [40.718810094, -73.806500455], [40.718810094, -73.806500455], [40.718810094, -73.806500455], [40.74473685138351, -73.92547914935282], [40.700998767001, -73.798153524], [40.700998767001, -73.798153524], [40.700998767001, -73.798153524], [40.700998767001, -73.798153524], [40.700998767001, -73.798153524], [40.700998767001, -73.798153524], [40.700998767001, -73.798153524], [40.700998767001, -73.798153524], [40.700998767001, -73.798153524], [40.700998767001, -73.798153524], [40.700998767001, -73.798153524], [40.700998767001, -73.798153524], [40.700998767001, -73.798153524], [40.700998767001, -73.798153524], [40.700998767001, -73.798153524], [40.686178083, -73.784082975], [40.686178083, -73.784082975], [40.686178083, -73.784082975], [40.686178083, -73.784082975], [40.686178083, -73.784082975], [40.686178083, -73.784082975], [40.686178083, -73.784082975], [40.686178083, -73.784082975], [40.686178083, -73.784082975], [40.686178083, -73.784082975], [40.686178083, -73.784082975], [40.686178083, -73.784082975], [40.686178083, -73.784082975], [40.686178083, -73.784082975], [40.686178083, -73.784082975], [40.686178083, -73.784082975], [40.708207826, -73.804077946], [40.708207826, -73.804077946], [40.708207826, -73.804077946], [40.708207826, -73.804077946], [40.708207826, -73.804077946], [40.708207826, -73.804077946], [40.708207826, -73.804077946], [40.708207826, -73.804077946], [40.708207826, -73.804077946], [40.708207826, -73.804077946], [40.708207826, -73.804077946], [40.708207826, -73.804077946], [40.708207826, -73.804077946], [40.708207826, -73.804077946], [40.668232288, -73.756839894], [40.668232288, -73.756839894], [40.668232288, -73.756839894], [40.668232288, -73.756839894], [40.668232288, -73.756839894], [40.668232288, -73.756839894], [40.668232288, -73.756839894], [40.668232288, -73.756839894], [40.668232288, -73.756839894], [40.668232288, -73.756839894], [40.668232288, -73.756839894], [40.668232288, -73.756839894], [40.668232288, -73.756839894], [40.668232288, -73.756839894], [40.668232288, -73.756839894], [40.706387658, -73.753530022], [40.706387658, -73.753530022], [40.706387658, -73.753530022], [40.706387658, -73.753530022], [40.706387658, -73.753530022], [40.706387658, -73.753530022], [40.706387658, -73.753530022], [40.706387658, -73.753530022], [40.706387658, -73.753530022], [40.706387658, -73.753530022], [40.706387658, -73.753530022], [40.706387658, -73.753530022], [40.668232288, -73.756839894], [40.668232288, -73.756839894], [40.668232288, -73.756839894], [40.668232288, -73.756839894], [40.668232288, -73.756839894], [40.668232288, -73.756839894], [40.668232288, -73.756839894], [40.668232288, -73.756839894], [40.668232288, -73.756839894], [40.668232288, -73.756839894], [40.668232288, -73.756839894], [40.668232288, -73.756839894], [40.668232288, -73.756839894], [40.668232288, -73.756839894], [40.668232288, -73.756839894], [40.668232288, -73.756839894], [40.668232288, -73.756839894], [40.668232288, -73.756839894], [40.668232288, -73.756839894], [40.668232288, -73.756839894], [40.668232288, -73.756839894], [40.668232288, -73.756839894], [40.668232288, -73.756839894], [40.668232288, -73.756839894], [40.668232288, -73.756839894], [40.668232288, -73.756839894], [40.668232288, -73.756839894], [40.668232288, -73.756839894], [40.668232288, -73.756839894], [40.668232288, -73.756839894], [40.668232288, -73.756839894], [40.668232288, -73.756839894], [40.668232288, -73.756839894], [40.74473685138351, -73.92547914935282], [40.695536336, -73.734918342], [40.695536336, -73.734918342], [40.695536336, -73.734918342], [40.695536336, -73.734918342], [40.695536336, -73.734918342], [40.695536336, -73.734918342], [40.695536336, -73.734918342], [40.695536336, -73.734918342], [40.695536336, -73.734918342], [40.695536336, -73.734918342], [40.695536336, -73.734918342], [40.695536336, -73.734918342], [40.695536336, -73.734918342], [40.695536336, -73.734918342], [40.695536336, -73.734918342], [40.695536336, -73.734918342], [40.695536336, -73.734918342], [40.74473685138351, -73.92547914935282], [40.74473685138351, -73.92547914935282], [40.758124675, -73.910333309], [40.758124675, -73.910333309], [40.758124675, -73.910333309], [40.758124675, -73.910333309], [40.758124675, -73.910333309], [40.758124675, -73.910333309], [40.758124675, -73.910333309], [40.758124675, -73.910333309], [40.758124675, -73.910333309], [40.758124675, -73.910333309], [40.758124675, -73.910333309], [40.758124675, -73.910333309], [40.758124675, -73.910333309], [40.758124675, -73.910333309], [40.758124675, -73.910333309], [40.758124675, -73.910333309], [40.758124675, -73.910333309], [40.758124675, -73.910333309], [40.758124675, -73.910333309], [40.758124675, -73.910333309], [40.765763938, -73.932725985], [40.765763938, -73.932725985], [40.765763938, -73.932725985], [40.765763938, -73.932725985], [40.765763938, -73.932725985], [40.765763938, -73.932725985], [40.765763938, -73.932725985], [40.765763938, -73.932725985], [40.765763938, -73.932725985], [40.765763938, -73.932725985], [40.765763938, -73.932725985], [40.765763938, -73.932725985], [40.765763938, -73.932725985], [40.765763938, -73.932725985], [40.765763938, -73.932725985], [40.765763938, -73.932725985], [40.765763938, -73.932725985], [40.765763938, -73.932725985], [40.765763938, -73.932725985], [40.756528074, -73.925140644], [40.756528074, -73.925140644], [40.756528074, -73.925140644], [40.756528074, -73.925140644], [40.756528074, -73.925140644], [40.756528074, -73.925140644], [40.756528074, -73.925140644], [40.756528074, -73.925140644], [40.756528074, -73.925140644], [40.756528074, -73.925140644], [40.756528074, -73.925140644], [40.756528074, -73.925140644], [40.756528074, -73.925140644], [40.756528074, -73.925140644], [40.756528074, -73.925140644], [40.747923523, -73.946565659], [40.747923523, -73.946565659], [40.747923523, -73.946565659], [40.747923523, -73.946565659], [40.747923523, -73.946565659], [40.747923523, -73.946565659], [40.747923523, -73.946565659], [40.747923523, -73.946565659], [40.747923523, -73.946565659], [40.747923523, -73.946565659], [40.747923523, -73.946565659], [40.747923523, -73.946565659], [40.747923523, -73.946565659], [40.747923523, -73.946565659], [40.747923523, -73.946565659], [40.747923523, -73.946565659], [40.747923523, -73.946565659], [40.751380834, -73.937449719], [40.751380834, -73.937449719], [40.751380834, -73.937449719], [40.751380834, -73.937449719], [40.751380834, -73.937449719], [40.751380834, -73.937449719], [40.751380834, -73.937449719], [40.751380834, -73.937449719], [40.751380834, -73.937449719], [40.751380834, -73.937449719], [40.751380834, -73.937449719], [40.751380834, -73.937449719], [40.751380834, -73.937449719], [40.751380834, -73.937449719], [40.751380834, -73.937449719], [40.751380834, -73.937449719], [40.751380834, -73.937449719], [40.751300578, -73.937423877], [40.751300578, -73.937423877], [40.751300578, -73.937423877], [40.751300578, -73.937423877], [40.751300578, -73.937423877], [40.751300578, -73.937423877], [40.751300578, -73.937423877], [40.751300578, -73.937423877], [40.751300578, -73.937423877], [40.751300578, -73.937423877], [40.751300578, -73.937423877], [40.751300578, -73.937423877], [40.751300578, -73.937423877], [40.751300578, -73.937423877], [40.751300578, -73.937423877], [40.751300578, -73.937423877], [40.751300578, -73.937423877], [40.751300578, -73.937423877], [40.751300578, -73.937423877], [40.755174833, -73.926823614], [40.582022026, -74.157848419], [40.74473685138351, -73.92547914935282], [40.607453024, -74.10148223], [40.607453024, -74.10148223], [40.607453024, -74.10148223], [40.607453024, -74.10148223], [40.607453024, -74.10148223], [40.607453024, -74.10148223], [40.607453024, -74.10148223], [40.607453024, -74.10148223], [40.607453024, -74.10148223], [40.607453024, -74.10148223], [40.607453024, -74.10148223], [40.607453024, -74.10148223], [40.607453024, -74.10148223], [40.607453024, -74.10148223], [40.607453024, -74.10148223], [40.607453024, -74.10148223], [40.607453024, -74.10148223], [40.607453024, -74.10148223], [40.569182427001, -74.107300808], [40.569182427001, -74.107300808], [40.569182427001, -74.107300808], [40.569182427001, -74.107300808], [40.569182427001, -74.107300808], [40.569182427001, -74.107300808], [40.569182427001, -74.107300808], [40.569182427001, -74.107300808], [40.569182427001, -74.107300808], [40.569182427001, -74.107300808], [40.569182427001, -74.107300808], [40.569182427001, -74.107300808], [40.569182427001, -74.107300808], [40.569182427001, -74.107300808], [40.569182427001, -74.107300808], [40.569182427001, -74.107300808], [40.569182427001, -74.107300808], [40.569182427001, -74.107300808], [40.633842987, -74.142106889], [40.633842987, -74.142106889], [40.633842987, -74.142106889], [40.633842987, -74.142106889], [40.633842987, -74.142106889], [40.633842987, -74.142106889], [40.633842987, -74.142106889], [40.633842987, -74.142106889], [40.633842987, -74.142106889], [40.633842987, -74.142106889], [40.633842987, -74.142106889], [40.633842987, -74.142106889], [40.633842987, -74.142106889], [40.633842987, -74.142106889], [40.633842987, -74.142106889], [40.633842987, -74.142106889], [40.633842987, -74.142106889], [40.633842987, -74.142106889], [40.633842987, -74.142106889], [40.644744901, -74.081341274], [40.644744901, -74.081341274], [40.644744901, -74.081341274], [40.644744901, -74.081341274], [40.644744901, -74.081341274], [40.644744901, -74.081341274], [40.644744901, -74.081341274], [40.644744901, -74.081341274], [40.644744901, -74.081341274], [40.644744901, -74.081341274], [40.644744901, -74.081341274], [40.644744901, -74.081341274], [40.644744901, -74.081341274], [40.644744901, -74.081341274], [40.644744901, -74.081341274], [40.644744901, -74.081341274], [40.644744901, -74.081341274], [40.528228767, -74.192153698], [40.528228767, -74.192153698], [40.528228767, -74.192153698], [40.528228767, -74.192153698], [40.528228767, -74.192153698], [40.528228767, -74.192153698], [40.528228767, -74.192153698], [40.528228767, -74.192153698], [40.528228767, -74.192153698], [40.528228767, -74.192153698], [40.528228767, -74.192153698], [40.528228767, -74.192153698], [40.528228767, -74.192153698], [40.528228767, -74.192153698], [40.528228767, -74.192153698], [40.528228767, -74.192153698], [40.528228767, -74.192153698], [40.528228767, -74.192153698], [40.528228767, -74.192153698], [40.598652386, -74.123104759], [40.598652386, -74.123104759], [40.598652386, -74.123104759], [40.598652386, -74.123104759], [40.598652386, -74.123104759], [40.598652386, -74.123104759], [40.598652386, -74.123104759], [40.598652386, -74.123104759], [40.598652386, -74.123104759], [40.598652386, -74.123104759], [40.598652386, -74.123104759], [40.598652386, -74.123104759], [40.598652386, -74.123104759], [40.598652386, -74.123104759], [40.598652386, -74.123104759], [40.598652386, -74.123104759], [40.598652386, -74.123104759], [40.598652386, -74.123104759], [40.598652386, -74.123104759], [40.74473685138351, -73.92547914935282], [40.642741044, -74.078711063], [40.642741044, -74.078711063], [40.642741044, -74.078711063], [40.642741044, -74.078711063], [40.642741044, -74.078711063], [40.642741044, -74.078711063], [40.642741044, -74.078711063], [40.642741044, -74.078711063], [40.642741044, -74.078711063], [40.642741044, -74.078711063], [40.642741044, -74.078711063], [40.642741044, -74.078711063], [40.642741044, -74.078711063], [40.642741044, -74.078711063], [40.642741044, -74.078711063], [40.567913003, -74.115362243], [40.567913003, -74.115362243], [40.567913003, -74.115362243], [40.567913003, -74.115362243], [40.567913003, -74.115362243], [40.567913003, -74.115362243], [40.567913003, -74.115362243], [40.567913003, -74.115362243], [40.567913003, -74.115362243], [40.567913003, -74.115362243], [40.567913003, -74.115362243], [40.567913003, -74.115362243], [40.567913003, -74.115362243], [40.567913003, -74.115362243], [40.567913003, -74.115362243], [40.567913003, -74.115362243], [40.567913003, -74.115362243], [40.74473685138351, -73.92547914935282], [40.696961848, -73.910815939], [40.694481845, -73.929153528], [40.694481845, -73.929153528], [40.694481845, -73.929153528], [40.694481845, -73.929153528], [40.694481845, -73.929153528], [40.694481845, -73.929153528], [40.694481845, -73.929153528], [40.694481845, -73.929153528], [40.694481845, -73.929153528], [40.694481845, -73.929153528], [40.694481845, -73.929153528], [40.694481845, -73.929153528], [40.694481845, -73.929153528], [40.694481845, -73.929153528], [40.694481845, -73.929153528], [40.694481845, -73.929153528], [40.694481845, -73.929153528], [40.696961848, -73.910815939], [40.696961848, -73.910815939], [40.696961848, -73.910815939], [40.696961848, -73.910815939], [40.696961848, -73.910815939], [40.696961848, -73.910815939], [40.696961848, -73.910815939], [40.696961848, -73.910815939], [40.696961848, -73.910815939], [40.696961848, -73.910815939], [40.696961848, -73.910815939], [40.696961848, -73.910815939], [40.696961848, -73.910815939], [40.696961848, -73.910815939], [40.696961848, -73.910815939], [40.696961848, -73.910815939], [40.696961848, -73.910815939], [40.697407796, -73.913153462], [40.697407796, -73.913153462], [40.697407796, -73.913153462], [40.697407796, -73.913153462], [40.697407796, -73.913153462], [40.697407796, -73.913153462], [40.697407796, -73.913153462], [40.697407796, -73.913153462], [40.697407796, -73.913153462], [40.697407796, -73.913153462], [40.697407796, -73.913153462], [40.697407796, -73.913153462], [40.697407796, -73.913153462], [40.697407796, -73.913153462], [40.697407796, -73.913153462], [40.697407796, -73.913153462], [40.694995763, -73.927986267], [40.694995763, -73.927986267], [40.694995763, -73.927986267], [40.694995763, -73.927986267], [40.694995763, -73.927986267], [40.694995763, -73.927986267], [40.694995763, -73.927986267], [40.694995763, -73.927986267], [40.694995763, -73.927986267], [40.694995763, -73.927986267], [40.694995763, -73.927986267], [40.694995763, -73.927986267], [40.694995763, -73.927986267], [40.694995763, -73.927986267], [40.694995763, -73.927986267], [40.74473685138351, -73.92547914935282], [40.74473685138351, -73.92547914935282], [40.74473685138351, -73.92547914935282], [40.74473685138351, -73.92547914935282], [40.74473685138351, -73.92547914935282], [40.74473685138351, -73.92547914935282], [40.74473685138351, -73.92547914935282], [40.74473685138351, -73.92547914935282], [40.74473685138351, -73.92547914935282], [40.74473685138351, -73.92547914935282], [40.74473685138351, -73.92547914935282], [40.74473685138351, -73.92547914935282], [40.74473685138351, -73.92547914935282], [40.74473685138351, -73.92547914935282], [40.74473685138351, -73.92547914935282]],\n",
       "                {&quot;blur&quot;: 15, &quot;maxZoom&quot;: 18, &quot;minOpacity&quot;: 0.5, &quot;radius&quot;: 25}\n",
       "            );\n",
       "        \n",
       "    \n",
       "            heat_map_6754cd33450b62752d1a6c0ec1c998c3.addTo(map_681bd7fc5d76747aca27f5ed43449a47);\n",
       "        \n",
       "    \n",
       "            tile_layer_df0d2d93ba0506b7ea3f8c56f4a766c1.addTo(map_681bd7fc5d76747aca27f5ed43449a47);\n",
       "        \n",
       "    \n",
       "            heat_map_6754cd33450b62752d1a6c0ec1c998c3.addTo(map_681bd7fc5d76747aca27f5ed43449a47);\n",
       "        \n",
       "&lt;/script&gt;\n",
       "&lt;/html&gt;\" style=\"position:absolute;width:100%;height:100%;left:0;top:0;border:none !important;\" allowfullscreen webkitallowfullscreen mozallowfullscreen></iframe></div></div>"
      ],
      "text/plain": [
       "<folium.folium.Map at 0x1a39eb10e90>"
      ]
     },
     "execution_count": 333,
     "metadata": {},
     "output_type": "execute_result"
    }
   ],
   "source": [
    "schools_heatmap = folium.Map(location=[full['lat'].mean(), full['lon'].mean()], zoom_start=10)\n",
    "schools_heatmap.add_child(plugins.HeatMap([[row[\"lat\"], row[\"lon\"]] for name, row in full.iterrows()]))\n",
    "schools_heatmap.save(\"heatmap.html\")\n",
    "schools_heatmap"
   ]
  },
  {
   "cell_type": "markdown",
   "id": "57aa814f-b50b-4a49-ba3a-154422088d3b",
   "metadata": {},
   "source": [
    "# District level mapping\n",
    "Heatmaps are good for mapping out gradients, but we’ll want something with more structure to plot out differences in SAT score across the city. School districts are a good way to visualize this information, as each district has its own administration. New York City has several dozen school districts, and each district is a small geographic area.\n",
    "We can compute SAT score by school district, then plot this out on a map. In the below code, we’ll:\n",
    "\n",
    "# Group full by school district.\n",
    "Compute the average of each column for each school district.\n",
    "Convert the school_dist field to remove leading 0s, so we can match our geograpghic district data."
   ]
  },
  {
   "cell_type": "code",
   "execution_count": 335,
   "id": "00e5f44c-4071-4c94-87fe-d3b892ea4d9b",
   "metadata": {
    "tags": []
   },
   "outputs": [
    {
     "data": {
      "text/plain": [
       "dtype('int64')"
      ]
     },
     "execution_count": 335,
     "metadata": {},
     "output_type": "execute_result"
    }
   ],
   "source": [
    "full['school_dist'] = pd.to_numeric(full['school_dist'], errors='coerce')\n",
    "full['school_dist'].dtypes"
   ]
  },
  {
   "cell_type": "code",
   "execution_count": 336,
   "id": "646f1dcd-ab5f-453a-9d56-3b49378a2f88",
   "metadata": {
    "tags": []
   },
   "outputs": [],
   "source": [
    "numeric_cols = full.select_dtypes(include='number').columns\n",
    "district_data = full.groupby(\"school_dist\")[numeric_cols] #.agg('mean')\n",
    "# district_data.reset_index(inplace=True)\n",
    "# district_data[\"school_dist\"] = district_data[\"school_dist\"].apply(lambda x: str(int(x)))"
   ]
  },
  {
   "cell_type": "markdown",
   "id": "8362f9b9-715b-4ff5-b9e4-cbdc1393c3e8",
   "metadata": {},
   "source": [
    "# Exploring enrollment and SAT scores\n",
    "Now that we’ve set the context by plotting out where the schools are, and SAT score by district, people viewing our analysis have a better idea of the context behind the dataset. Now that we’ve set the stage, we can move into exploring the angles we identified earlier, when we were finding correlations. The first angle to explore is the relationship between the number of students enrolled in a school and SAT score.\n",
    "We can explore this with a scatter plot that compares total enrollment across all schools to SAT scores across all schools.\n",
    "full.plot.scatter(x='total_enrollment', y='sat_score')"
   ]
  },
  {
   "cell_type": "code",
   "execution_count": 337,
   "id": "8a639ff3-266e-457f-8d26-0d61471483f4",
   "metadata": {
    "tags": []
   },
   "outputs": [
    {
     "data": {
      "text/plain": [
       "<Axes: xlabel='total_enrollment', ylabel='sat_score'>"
      ]
     },
     "execution_count": 337,
     "metadata": {},
     "output_type": "execute_result"
    },
    {
     "data": {
      "image/png": "[encoded data removed]",
      "text/plain": [
       "<Figure size 640x480 with 1 Axes>"
      ]
     },
     "metadata": {},
     "output_type": "display_data"
    }
   ],
   "source": [
    "full.plot.scatter(x='total_enrollment', y='sat_score')"
   ]
  },
  {
   "cell_type": "markdown",
   "id": "1032a0a0-71e9-49a7-ab87-2ea311d12155",
   "metadata": {},
   "source": [
    "As you can see, there’s a cluster at the bottom left with low total enrollment and low SAT scores. Other than this cluster, there appears to only be a slight positive correlation between SAT scores and total enrollment. Graphing out correlations can reveal unexpected patterns.\n",
    "We can explore this further by getting the names of the schools with low enrollment and low SAT scores:"
   ]
  },
  {
   "cell_type": "code",
   "execution_count": 341,
   "id": "4252da0f-49fd-422b-9869-875c67bf53cf",
   "metadata": {
    "tags": []
   },
   "outputs": [
    {
     "data": {
      "text/plain": [
       "1                            UNIVERSITY NEIGHBORHOOD H.S.\n",
       "2                            UNIVERSITY NEIGHBORHOOD H.S.\n",
       "3                            UNIVERSITY NEIGHBORHOOD H.S.\n",
       "4                            UNIVERSITY NEIGHBORHOOD H.S.\n",
       "5                            UNIVERSITY NEIGHBORHOOD H.S.\n",
       "                              ...                        \n",
       "3755    Bushwick Leaders High School for Academic Exce...\n",
       "3756    Bushwick Leaders High School for Academic Exce...\n",
       "3757    Bushwick Leaders High School for Academic Exce...\n",
       "3758    Bushwick Leaders High School for Academic Exce...\n",
       "3759    Bushwick Leaders High School for Academic Exce...\n",
       "Name: SchoolName_x, Length: 1625, dtype: object"
      ]
     },
     "execution_count": 341,
     "metadata": {},
     "output_type": "execute_result"
    }
   ],
   "source": [
    "full[(full[\"total_enrollment\"] < 800) & (full[\"sat_score\"] < 1250)][\"SchoolName_x\"]"
   ]
  },
  {
   "cell_type": "markdown",
   "id": "c2a039b7-a6c9-4da1-bd24-2901dd5fa805",
   "metadata": {},
   "source": [
    "Some searching on Google shows that most of these schools are for students who are learning English, and are low enrollment as a result. This exploration showed us that it’s not total enrollment that’s correlated to SAT score — it’s whether or not students in the school are learning English as a second language or not."
   ]
  },
  {
   "cell_type": "code",
   "execution_count": 342,
   "id": "4b98899c-afbc-48dd-994d-6fc3f1b61f50",
   "metadata": {
    "tags": []
   },
   "outputs": [
    {
     "data": {
      "text/plain": [
       "<Axes: xlabel='ell_percent', ylabel='sat_score'>"
      ]
     },
     "execution_count": 342,
     "metadata": {},
     "output_type": "execute_result"
    },
    {
     "data": {
      "image/png": "[encoded data removed]",
      "text/plain": [
       "<Figure size 640x480 with 1 Axes>"
      ]
     },
     "metadata": {},
     "output_type": "display_data"
    }
   ],
   "source": [
    "full.plot.scatter(x='ell_percent', y='sat_score')"
   ]
  },
  {
   "cell_type": "markdown",
   "id": "84bf79e6-1ec3-4193-9554-40e7cd8158ae",
   "metadata": {},
   "source": [
    "It looks like there are a group of schools with a high ell_percentage that also have low average SAT scores. We can investigate this at the district level, by figuring out the percentage of English language learners in each district, and seeing it if matches our map of SAT scores by district: show_district_map(\"ell_percent\")\n",
    "\n",
    "As we can see by looking at the two district level maps, districts with a low proportion of ELL learners tend to have high SAT scores, and vice versa.\n",
    "\n",
    "Correlating survey scores and SAT scores\n",
    "It would be fair to assume that the results of student, parent, and teacher surveys would have a large correlation with SAT scores. It makes sense that schools with high academic expectations, for instance, would tend to have higher SAT scores. To test this theory, lets plot out SAT scores and the various survey metrics:"
   ]
  },
  {
   "cell_type": "code",
   "execution_count": 343,
   "id": "c41fe7a8-36d6-40de-be63-2cbb23edb7a2",
   "metadata": {
    "tags": []
   },
   "outputs": [
    {
     "data": {
      "text/plain": [
       "<Axes: >"
      ]
     },
     "execution_count": 343,
     "metadata": {},
     "output_type": "execute_result"
    },
    {
     "data": {
      "image/png": "[encoded data removed]",
      "text/plain": [
       "<Figure size 640x480 with 1 Axes>"
      ]
     },
     "metadata": {},
     "output_type": "display_data"
    }
   ],
   "source": [
    "cols = ['Total Student Response Rate', 'Total Teacher Response Rate', 'Total Parent Response Rate', 'Total Communication Score', 'Total Engagement Score', 'Total Academic Expectations Score']\n",
    "\n",
    "for col in cols:\n",
    "    full[col] = pd.to_numeric(full[col], errors='coerce')\n",
    "    full[col] = full[col].fillna(full[col].mean())\n",
    "    \n",
    "numeric_full = full.select_dtypes(include=['number'])\n",
    "fullcorr_matrix = numeric_full.corr() \n",
    "\n",
    "   \n",
    "fullcorr_matrix['sat_score'][cols].plot.bar()"
   ]
  },
  {
   "cell_type": "markdown",
   "id": "daa25f54-7512-4b56-924e-03d0fecc70df",
   "metadata": {
    "tags": []
   },
   "source": [
    "Factors, like engagement, communication, and academic expectations, are positively correlated with SAT scores. howerver the Total TeacherResposnerate is highly neagtivelycorrelated with the SAT Score. This may indicate that NYC is asking the wrong questions to the teachers in surveys, or thinking about the wrong factors (if their goal is to improve SAT scores, it may not be)."
   ]
  },
  {
   "cell_type": "markdown",
   "id": "f133212b-5af0-44ed-87cf-490afea99016",
   "metadata": {},
   "source": [
    "It looks like the higher percentages of white and asian students correlate with higher SAT scores, but higher percentages of black and hispanic students correlate with lower SAT scores. For hispanic students, this may be due to the fact that there are more recent immigrants who are ELL learners.\n",
    "It looks like there is some correlation with ELL percentage, but it will be necessary to do some more digging into this and other racial differences in SAT scores. Gender differences in SAT scores.\n",
    "The final angle to explore is the relationship between gender and SAT score. We noted that a higher percentage of females in a school tends to correlate with higher SAT scores. We can visualize this with a bar graph:"
   ]
  },
  {
   "cell_type": "code",
   "execution_count": 344,
   "id": "6da52510-d088-47d7-b1ad-a61c55d2aaab",
   "metadata": {
    "tags": []
   },
   "outputs": [
    {
     "data": {
      "text/plain": [
       "<Axes: >"
      ]
     },
     "execution_count": 344,
     "metadata": {},
     "output_type": "execute_result"
    },
    {
     "data": {
      "image/png": "[encoded data removed]",
      "text/plain": [
       "<Figure size 640x480 with 1 Axes>"
      ]
     },
     "metadata": {},
     "output_type": "display_data"
    }
   ],
   "source": [
    "cols = [\"white_per\", \"asian_per\", \"black_per\", \"hispanic_per\"]\n",
    "\n",
    "for col in cols:\n",
    "    full[col] = pd.to_numeric(full[col], errors='coerce')\n",
    "    full[col] = full[col].fillna(full[col].mean())\n",
    "    \n",
    "numeric_full = full.select_dtypes(include=['number'])\n",
    "fullcorr_matrix = numeric_full.corr() \n",
    "\n",
    "   \n",
    "fullcorr_matrix['sat_score'][cols].plot.bar()"
   ]
  },
  {
   "cell_type": "markdown",
   "id": "d88514e4-20a0-4134-aee9-8fcf9b5a986b",
   "metadata": {},
   "source": [
    "To dig more into the correlation, we can make a scatterplot of female_per and sat_score:"
   ]
  },
  {
   "cell_type": "code",
   "execution_count": 345,
   "id": "8e343c16-63ec-4216-880a-db898e7ba9c0",
   "metadata": {
    "tags": []
   },
   "outputs": [
    {
     "data": {
      "text/plain": [
       "<Axes: xlabel='female_per', ylabel='sat_score'>"
      ]
     },
     "execution_count": 345,
     "metadata": {},
     "output_type": "execute_result"
    },
    {
     "data": {
      "image/png": "[encoded data removed]",
      "text/plain": [
       "<Figure size 640x480 with 1 Axes>"
      ]
     },
     "metadata": {},
     "output_type": "display_data"
    }
   ],
   "source": [
    "full.plot.scatter(x='female_per', y='sat_score')"
   ]
  },
  {
   "cell_type": "markdown",
   "id": "c6216297-120f-43b2-859c-2ab5d0dc4f73",
   "metadata": {},
   "source": [
    "It looks like there’s a cluster of schools with a high percentage of females, and very high SAT scores (in the top right). We can get the names of the schools in this cluster:"
   ]
  },
  {
   "cell_type": "code",
   "execution_count": 346,
   "id": "8776507c-c7cb-42c8-ac5d-3fe2a00afef2",
   "metadata": {
    "tags": []
   },
   "outputs": [
    {
     "name": "stdout",
     "output_type": "stream",
     "text": [
      "['PROFESSIONAL PERFORMING ARTS', 'PROFESSIONAL PERFORMING ARTS', 'PROFESSIONAL PERFORMING ARTS', 'PROFESSIONAL PERFORMING ARTS', 'PROFESSIONAL PERFORMING ARTS', 'PROFESSIONAL PERFORMING ARTS', 'PROFESSIONAL PERFORMING ARTS', 'PROFESSIONAL PERFORMING ARTS', 'PROFESSIONAL PERFORMING ARTS', 'PROFESSIONAL PERFORMING ARTS', 'PROFESSIONAL PERFORMING ARTS', 'PROFESSIONAL PERFORMING ARTS', 'PROFESSIONAL PERFORMING ARTS', 'PROFESSIONAL PERFORMING ARTS', 'PROFESSIONAL PERFORMING ARTS', 'PROFESSIONAL PERFORMING ARTS', 'PROFESSIONAL PERFORMING ARTS', 'Eleanor Roosevelt High School', 'Eleanor Roosevelt High School', 'Eleanor Roosevelt High School', 'Eleanor Roosevelt High School', 'Eleanor Roosevelt High School', 'Eleanor Roosevelt High School', 'Eleanor Roosevelt High School', 'Eleanor Roosevelt High School', 'Eleanor Roosevelt High School', 'Eleanor Roosevelt High School', 'Eleanor Roosevelt High School', 'Eleanor Roosevelt High School', 'Eleanor Roosevelt High School', 'Eleanor Roosevelt High School', 'Eleanor Roosevelt High School', 'Eleanor Roosevelt High School', 'Eleanor Roosevelt High School', 'Eleanor Roosevelt High School', 'TALENT UNLIMITED', 'TALENT UNLIMITED', 'TALENT UNLIMITED', 'TALENT UNLIMITED', 'TALENT UNLIMITED', 'TALENT UNLIMITED', 'TALENT UNLIMITED', 'TALENT UNLIMITED', 'TALENT UNLIMITED', 'TALENT UNLIMITED', 'TALENT UNLIMITED', 'TALENT UNLIMITED', 'TALENT UNLIMITED', 'TALENT UNLIMITED', 'TALENT UNLIMITED', 'TALENT UNLIMITED', 'FIORELLO H.LAGUARDIA HS', 'FIORELLO H.LAGUARDIA HS', 'FIORELLO H.LAGUARDIA HS', 'FIORELLO H.LAGUARDIA HS', 'FIORELLO H.LAGUARDIA HS', 'FIORELLO H.LAGUARDIA HS', 'FIORELLO H.LAGUARDIA HS', 'FIORELLO H.LAGUARDIA HS', 'FIORELLO H.LAGUARDIA HS', 'FIORELLO H.LAGUARDIA HS', 'FIORELLO H.LAGUARDIA HS', 'FIORELLO H.LAGUARDIA HS', 'FIORELLO H.LAGUARDIA HS', 'FIORELLO H.LAGUARDIA HS', 'FIORELLO H.LAGUARDIA HS', 'FIORELLO H.LAGUARDIA HS', 'TOWNSEND HARRIS HS', 'TOWNSEND HARRIS HS', 'TOWNSEND HARRIS HS', 'TOWNSEND HARRIS HS', 'TOWNSEND HARRIS HS', 'TOWNSEND HARRIS HS', 'TOWNSEND HARRIS HS', 'TOWNSEND HARRIS HS', 'TOWNSEND HARRIS HS', 'TOWNSEND HARRIS HS', 'TOWNSEND HARRIS HS', 'TOWNSEND HARRIS HS', 'TOWNSEND HARRIS HS', 'TOWNSEND HARRIS HS', 'TOWNSEND HARRIS HS', 'TOWNSEND HARRIS HS', 'FRANK SINATRA HIGH SCHOOL', 'FRANK SINATRA HIGH SCHOOL', 'FRANK SINATRA HIGH SCHOOL', 'FRANK SINATRA HIGH SCHOOL', 'FRANK SINATRA HIGH SCHOOL', 'FRANK SINATRA HIGH SCHOOL', 'FRANK SINATRA HIGH SCHOOL', 'FRANK SINATRA HIGH SCHOOL', 'FRANK SINATRA HIGH SCHOOL', 'FRANK SINATRA HIGH SCHOOL', 'FRANK SINATRA HIGH SCHOOL', 'FRANK SINATRA HIGH SCHOOL', 'FRANK SINATRA HIGH SCHOOL', 'FRANK SINATRA HIGH SCHOOL', 'FRANK SINATRA HIGH SCHOOL']\n"
     ]
    }
   ],
   "source": [
    "school_names = full[(full[\"female_per\"] > 65) & (full[\"sat_score\"] > 1400)][\"SchoolName_x\"].tolist()\n",
    "print(school_names)"
   ]
  },
  {
   "cell_type": "markdown",
   "id": "1d5acf70-6302-4bd3-b321-1a667beecf16",
   "metadata": {},
   "source": [
    "Searching Google reveals that these are elite schools that focus on the performing arts. These schools tend to have higher percentages of females, and higher SAT scores. This likely accounts for the correlation between higher female percentages and SAT scores, and the inverse correlation between higher male percentages and lower SAT scores.\n",
    "AP scores So far, we’ve looked at demographic angles. One angle that we have the data to look at is the relationship between more students taking Advanced Placement exams and higher SAT scores. It makes sense that they would be correlated, since students who are high academic achievers tend to do better on the SAT."
   ]
  },
  {
   "cell_type": "code",
   "execution_count": 347,
   "id": "ff185ba0-5c5a-4888-b21e-1302f1000898",
   "metadata": {
    "tags": []
   },
   "outputs": [
    {
     "data": {
      "text/plain": [
       "<Axes: xlabel='ap_avg', ylabel='sat_score'>"
      ]
     },
     "execution_count": 347,
     "metadata": {},
     "output_type": "execute_result"
    },
    {
     "data": {
      "image/png": "[encoded data removed]",
      "text/plain": [
       "<Figure size 640x480 with 1 Axes>"
      ]
     },
     "metadata": {},
     "output_type": "display_data"
    }
   ],
   "source": [
    "full[\"ap_avg\"] = full[\"AP Test Takers _x\"] / full[\"total_enrollment\"]\n",
    "full.plot.scatter(x='ap_avg', y='sat_score')"
   ]
  },
  {
   "cell_type": "markdown",
   "id": "d264b476-b667-4fe7-9347-7c139485ba6d",
   "metadata": {},
   "source": [
    "It looks like there is indeed a strong correlation between the two. An interesting cluster of schools is the one at the top right, which has high SAT scores and a high proportion of students that take the AP exams:"
   ]
  },
  {
   "cell_type": "code",
   "execution_count": 348,
   "id": "c546ba13-9292-4c52-b2e1-018d013031dc",
   "metadata": {
    "tags": []
   },
   "outputs": [
    {
     "name": "stdout",
     "output_type": "stream",
     "text": [
      "['Eleanor Roosevelt High School', 'Eleanor Roosevelt High School', 'Eleanor Roosevelt High School', 'Eleanor Roosevelt High School', 'Eleanor Roosevelt High School', 'Eleanor Roosevelt High School', 'Eleanor Roosevelt High School', 'Eleanor Roosevelt High School', 'Eleanor Roosevelt High School', 'Eleanor Roosevelt High School', 'Eleanor Roosevelt High School', 'Eleanor Roosevelt High School', 'Eleanor Roosevelt High School', 'Eleanor Roosevelt High School', 'Eleanor Roosevelt High School', 'Eleanor Roosevelt High School', 'Eleanor Roosevelt High School', 'Eleanor Roosevelt High School', 'STUYVESANT HS', 'STUYVESANT HS', 'STUYVESANT HS', 'STUYVESANT HS', 'STUYVESANT HS', 'STUYVESANT HS', 'STUYVESANT HS', 'STUYVESANT HS', 'STUYVESANT HS', 'STUYVESANT HS', 'STUYVESANT HS', 'STUYVESANT HS', 'STUYVESANT HS', 'STUYVESANT HS', 'STUYVESANT HS', 'STUYVESANT HS', 'STUYVESANT HS', 'STUYVESANT HS', 'STUYVESANT HS', 'BRONX HS OF SCIENCE', 'BRONX HS OF SCIENCE', 'BRONX HS OF SCIENCE', 'BRONX HS OF SCIENCE', 'BRONX HS OF SCIENCE', 'BRONX HS OF SCIENCE', 'BRONX HS OF SCIENCE', 'BRONX HS OF SCIENCE', 'BRONX HS OF SCIENCE', 'BRONX HS OF SCIENCE', 'BRONX HS OF SCIENCE', 'BRONX HS OF SCIENCE', 'BRONX HS OF SCIENCE', 'BRONX HS OF SCIENCE', 'BRONX HS OF SCIENCE', 'BRONX HS OF SCIENCE', 'BRONX HS OF SCIENCE', 'BRONX HS OF SCIENCE', 'BRONX HS OF SCIENCE', 'HIGH SCHOOL OF AMERICAN STUDIES At Lehman College', 'HIGH SCHOOL OF AMERICAN STUDIES At Lehman College', 'HIGH SCHOOL OF AMERICAN STUDIES At Lehman College', 'HIGH SCHOOL OF AMERICAN STUDIES At Lehman College', 'HIGH SCHOOL OF AMERICAN STUDIES At Lehman College', 'HIGH SCHOOL OF AMERICAN STUDIES At Lehman College', 'HIGH SCHOOL OF AMERICAN STUDIES At Lehman College', 'HIGH SCHOOL OF AMERICAN STUDIES At Lehman College', 'HIGH SCHOOL OF AMERICAN STUDIES At Lehman College', 'HIGH SCHOOL OF AMERICAN STUDIES At Lehman College', 'HIGH SCHOOL OF AMERICAN STUDIES At Lehman College', 'HIGH SCHOOL OF AMERICAN STUDIES At Lehman College', 'HIGH SCHOOL OF AMERICAN STUDIES At Lehman College', 'HIGH SCHOOL OF AMERICAN STUDIES At Lehman College', 'HIGH SCHOOL OF AMERICAN STUDIES At Lehman College', 'HIGH SCHOOL OF AMERICAN STUDIES At Lehman College', 'HIGH SCHOOL OF AMERICAN STUDIES At Lehman College', 'HIGH SCHOOL OF AMERICAN STUDIES At Lehman College', 'HIGH SCHOOL OF AMERICAN STUDIES At Lehman College', 'BROOKLYN TECHNICAL HS', 'BROOKLYN TECHNICAL HS', 'BROOKLYN TECHNICAL HS', 'BROOKLYN TECHNICAL HS', 'BROOKLYN TECHNICAL HS', 'BROOKLYN TECHNICAL HS', 'BROOKLYN TECHNICAL HS', 'BROOKLYN TECHNICAL HS', 'BROOKLYN TECHNICAL HS', 'BROOKLYN TECHNICAL HS', 'BROOKLYN TECHNICAL HS', 'BROOKLYN TECHNICAL HS', 'BROOKLYN TECHNICAL HS', 'BROOKLYN TECHNICAL HS', 'BROOKLYN TECHNICAL HS', 'BROOKLYN TECHNICAL HS', 'BROOKLYN TECHNICAL HS', 'BROOKLYN TECHNICAL HS', 'BROOKLYN TECHNICAL HS', 'TOWNSEND HARRIS HS', 'TOWNSEND HARRIS HS', 'TOWNSEND HARRIS HS', 'TOWNSEND HARRIS HS', 'TOWNSEND HARRIS HS', 'TOWNSEND HARRIS HS', 'TOWNSEND HARRIS HS', 'TOWNSEND HARRIS HS', 'TOWNSEND HARRIS HS', 'TOWNSEND HARRIS HS', 'TOWNSEND HARRIS HS', 'TOWNSEND HARRIS HS', 'TOWNSEND HARRIS HS', 'TOWNSEND HARRIS HS', 'TOWNSEND HARRIS HS', 'TOWNSEND HARRIS HS', 'Queens HS for Science York Colllege', 'Queens HS for Science York Colllege', 'Queens HS for Science York Colllege', 'Queens HS for Science York Colllege', 'Queens HS for Science York Colllege', 'Queens HS for Science York Colllege', 'Queens HS for Science York Colllege', 'Queens HS for Science York Colllege', 'Queens HS for Science York Colllege', 'Queens HS for Science York Colllege', 'Queens HS for Science York Colllege', 'Queens HS for Science York Colllege', 'Queens HS for Science York Colllege', 'Queens HS for Science York Colllege', 'Queens HS for Science York Colllege', 'STATEN ISLAND TECHNICAL HS', 'STATEN ISLAND TECHNICAL HS', 'STATEN ISLAND TECHNICAL HS', 'STATEN ISLAND TECHNICAL HS', 'STATEN ISLAND TECHNICAL HS', 'STATEN ISLAND TECHNICAL HS', 'STATEN ISLAND TECHNICAL HS', 'STATEN ISLAND TECHNICAL HS', 'STATEN ISLAND TECHNICAL HS', 'STATEN ISLAND TECHNICAL HS', 'STATEN ISLAND TECHNICAL HS', 'STATEN ISLAND TECHNICAL HS', 'STATEN ISLAND TECHNICAL HS', 'STATEN ISLAND TECHNICAL HS', 'STATEN ISLAND TECHNICAL HS', 'STATEN ISLAND TECHNICAL HS', 'STATEN ISLAND TECHNICAL HS']\n"
     ]
    }
   ],
   "source": [
    "school_names = full[(full[\"ap_avg\"] > .3) & (full[\"sat_score\"] > 1700)][\"SchoolName_x\"].tolist()\n",
    "print(school_names)"
   ]
  },
  {
   "cell_type": "markdown",
   "id": "65fd716b-8943-48a7-b18d-55ff33eea73a",
   "metadata": {},
   "source": [
    "Some Google searching reveals that these are mostly highly selective schools where you need to take a test to get in. It makes sense that these schools would have high proportions of AP test takers."
   ]
  },
  {
   "cell_type": "markdown",
   "id": "c290f90c-d9a2-4810-9834-504062192ea6",
   "metadata": {},
   "source": [
    "# Wrapping up the story\n",
    "\n",
    "With data science, the story is never truly finished. By releasing this analysis to others, I am enabling them to extend and shape my analysis in whatever direction interests them. For example, in this notebook, there are quite a few angles that we explored inmcompletely, and could have dived into more.\n",
    "\n",
    "One of the best ways to get started with telling stories using data is to try to extend or replicate the analysis someone else has done. If you decide to take this route, you’re welcome to extend the analysis in this notebook and see what you can find. If you do this, make sure to let me know so I can take a look."
   ]
  }
 ],
 "metadata": {
  "kernelspec": {
   "display_name": "Python 3 (ipykernel)",
   "language": "python",
   "name": "python3"
  },
  "language_info": {
   "codemirror_mode": {
    "name": "ipython",
    "version": 3
   },
   "file_extension": ".py",
   "mimetype": "text/x-python",
   "name": "python",
   "nbconvert_exporter": "python",
   "pygments_lexer": "ipython3",
   "version": "3.11.3"
  }
 },
 "nbformat": 4,
 "nbformat_minor": 5
}
