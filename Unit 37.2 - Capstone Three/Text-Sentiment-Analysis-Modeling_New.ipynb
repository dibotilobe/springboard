{
 "cells": [
  {
   "cell_type": "code",
   "execution_count": 21,
   "metadata": {},
   "outputs": [],
   "source": [
    "#storing and manipulating data\n",
    "import pandas as pd\n",
    "import numpy as np\n",
    "\n",
    "#plotting\n",
    "from matplotlib import pyplot as plt\n",
    "import seaborn as sns\n",
    "from tqdm.notebook import tqdm\n",
    "\n",
    "#natural language tool kit\n",
    "import nltk\n",
    "from nltk.sentiment import SentimentIntensityAnalyzer\n",
    "\n",
    "#RoBERTa Model from Hugging Face\n",
    "from transformers import AutoTokenizer, AutoModelForSequenceClassification\n",
    "from scipy.special import softmax"
   ]
  },
  {
   "cell_type": "code",
   "execution_count": 15,
   "metadata": {},
   "outputs": [],
   "source": [
    "df = pd.read_csv('Reviews.csv')\n",
    "\n",
    "# Function to generate the report\n",
    "def generate_report(df):\n",
    "    report = pd.DataFrame(columns=['column_name', 'counts', 'unique_value_pct', 'nan_pct', 'data_type'])\n",
    "    \n",
    "    for col in df.columns:\n",
    "        counts = df[col].nunique()\n",
    "        unique_value_pct = round(counts / len(df) * 100, 2)\n",
    "        nan_pct = round(df[col].isna().sum() / len(df) * 100, 1)\n",
    "        data_type = df[col].dtype\n",
    "        \n",
    "        report = report.append({\n",
    "            'column_name': col,\n",
    "            'counts': counts,\n",
    "            'unique_value_pct': unique_value_pct,\n",
    "            'nan_pct': nan_pct,\n",
    "            'data_type': data_type\n",
    "        }, ignore_index=True)\n",
    "    \n",
    "    return report"
   ]
  },
  {
   "cell_type": "code",
   "execution_count": 17,
   "metadata": {},
   "outputs": [
    {
     "data": {
      "text/html": [
       "<style  type=\"text/css\" >\n",
       "    #T_3b581ba9_7269_11ef_9e48_a86daaca20fa th {\n",
       "          text-align: center;\n",
       "          border: 1px solid black;\n",
       "    }    #T_3b581ba9_7269_11ef_9e48_a86daaca20fa td {\n",
       "          border: 1px solid black;\n",
       "    }#T_3b581ba9_7269_11ef_9e48_a86daaca20farow0_col0,#T_3b581ba9_7269_11ef_9e48_a86daaca20farow0_col1,#T_3b581ba9_7269_11ef_9e48_a86daaca20farow0_col2,#T_3b581ba9_7269_11ef_9e48_a86daaca20farow0_col3,#T_3b581ba9_7269_11ef_9e48_a86daaca20farow0_col4,#T_3b581ba9_7269_11ef_9e48_a86daaca20farow1_col0,#T_3b581ba9_7269_11ef_9e48_a86daaca20farow1_col1,#T_3b581ba9_7269_11ef_9e48_a86daaca20farow1_col2,#T_3b581ba9_7269_11ef_9e48_a86daaca20farow1_col3,#T_3b581ba9_7269_11ef_9e48_a86daaca20farow1_col4,#T_3b581ba9_7269_11ef_9e48_a86daaca20farow2_col0,#T_3b581ba9_7269_11ef_9e48_a86daaca20farow2_col1,#T_3b581ba9_7269_11ef_9e48_a86daaca20farow2_col2,#T_3b581ba9_7269_11ef_9e48_a86daaca20farow2_col3,#T_3b581ba9_7269_11ef_9e48_a86daaca20farow2_col4,#T_3b581ba9_7269_11ef_9e48_a86daaca20farow3_col0,#T_3b581ba9_7269_11ef_9e48_a86daaca20farow3_col1,#T_3b581ba9_7269_11ef_9e48_a86daaca20farow3_col2,#T_3b581ba9_7269_11ef_9e48_a86daaca20farow3_col3,#T_3b581ba9_7269_11ef_9e48_a86daaca20farow3_col4,#T_3b581ba9_7269_11ef_9e48_a86daaca20farow4_col0,#T_3b581ba9_7269_11ef_9e48_a86daaca20farow4_col1,#T_3b581ba9_7269_11ef_9e48_a86daaca20farow4_col2,#T_3b581ba9_7269_11ef_9e48_a86daaca20farow4_col3,#T_3b581ba9_7269_11ef_9e48_a86daaca20farow4_col4,#T_3b581ba9_7269_11ef_9e48_a86daaca20farow5_col0,#T_3b581ba9_7269_11ef_9e48_a86daaca20farow5_col1,#T_3b581ba9_7269_11ef_9e48_a86daaca20farow5_col2,#T_3b581ba9_7269_11ef_9e48_a86daaca20farow5_col3,#T_3b581ba9_7269_11ef_9e48_a86daaca20farow5_col4,#T_3b581ba9_7269_11ef_9e48_a86daaca20farow6_col0,#T_3b581ba9_7269_11ef_9e48_a86daaca20farow6_col1,#T_3b581ba9_7269_11ef_9e48_a86daaca20farow6_col2,#T_3b581ba9_7269_11ef_9e48_a86daaca20farow6_col3,#T_3b581ba9_7269_11ef_9e48_a86daaca20farow6_col4,#T_3b581ba9_7269_11ef_9e48_a86daaca20farow7_col0,#T_3b581ba9_7269_11ef_9e48_a86daaca20farow7_col1,#T_3b581ba9_7269_11ef_9e48_a86daaca20farow7_col2,#T_3b581ba9_7269_11ef_9e48_a86daaca20farow7_col3,#T_3b581ba9_7269_11ef_9e48_a86daaca20farow7_col4,#T_3b581ba9_7269_11ef_9e48_a86daaca20farow8_col0,#T_3b581ba9_7269_11ef_9e48_a86daaca20farow8_col1,#T_3b581ba9_7269_11ef_9e48_a86daaca20farow8_col2,#T_3b581ba9_7269_11ef_9e48_a86daaca20farow8_col3,#T_3b581ba9_7269_11ef_9e48_a86daaca20farow8_col4,#T_3b581ba9_7269_11ef_9e48_a86daaca20farow9_col0,#T_3b581ba9_7269_11ef_9e48_a86daaca20farow9_col1,#T_3b581ba9_7269_11ef_9e48_a86daaca20farow9_col2,#T_3b581ba9_7269_11ef_9e48_a86daaca20farow9_col3,#T_3b581ba9_7269_11ef_9e48_a86daaca20farow9_col4{\n",
       "            text-align:  left;\n",
       "        }</style><table id=\"T_3b581ba9_7269_11ef_9e48_a86daaca20fa\" ><thead>    <tr>        <th class=\"col_heading level0 col0\" >column_name</th>        <th class=\"col_heading level0 col1\" >counts</th>        <th class=\"col_heading level0 col2\" >unique_value_pct</th>        <th class=\"col_heading level0 col3\" >nan_pct</th>        <th class=\"col_heading level0 col4\" >data_type</th>    </tr></thead><tbody>\n",
       "                <tr>\n",
       "                                <td id=\"T_3b581ba9_7269_11ef_9e48_a86daaca20farow0_col0\" class=\"data row0 col0\" >Id</td>\n",
       "                        <td id=\"T_3b581ba9_7269_11ef_9e48_a86daaca20farow0_col1\" class=\"data row0 col1\" >568454</td>\n",
       "                        <td id=\"T_3b581ba9_7269_11ef_9e48_a86daaca20farow0_col2\" class=\"data row0 col2\" >100.000000</td>\n",
       "                        <td id=\"T_3b581ba9_7269_11ef_9e48_a86daaca20farow0_col3\" class=\"data row0 col3\" >0.000000</td>\n",
       "                        <td id=\"T_3b581ba9_7269_11ef_9e48_a86daaca20farow0_col4\" class=\"data row0 col4\" >int64</td>\n",
       "            </tr>\n",
       "            <tr>\n",
       "                                <td id=\"T_3b581ba9_7269_11ef_9e48_a86daaca20farow1_col0\" class=\"data row1 col0\" >ProductId</td>\n",
       "                        <td id=\"T_3b581ba9_7269_11ef_9e48_a86daaca20farow1_col1\" class=\"data row1 col1\" >74258</td>\n",
       "                        <td id=\"T_3b581ba9_7269_11ef_9e48_a86daaca20farow1_col2\" class=\"data row1 col2\" >13.060000</td>\n",
       "                        <td id=\"T_3b581ba9_7269_11ef_9e48_a86daaca20farow1_col3\" class=\"data row1 col3\" >0.000000</td>\n",
       "                        <td id=\"T_3b581ba9_7269_11ef_9e48_a86daaca20farow1_col4\" class=\"data row1 col4\" >object</td>\n",
       "            </tr>\n",
       "            <tr>\n",
       "                                <td id=\"T_3b581ba9_7269_11ef_9e48_a86daaca20farow2_col0\" class=\"data row2 col0\" >UserId</td>\n",
       "                        <td id=\"T_3b581ba9_7269_11ef_9e48_a86daaca20farow2_col1\" class=\"data row2 col1\" >256059</td>\n",
       "                        <td id=\"T_3b581ba9_7269_11ef_9e48_a86daaca20farow2_col2\" class=\"data row2 col2\" >45.040000</td>\n",
       "                        <td id=\"T_3b581ba9_7269_11ef_9e48_a86daaca20farow2_col3\" class=\"data row2 col3\" >0.000000</td>\n",
       "                        <td id=\"T_3b581ba9_7269_11ef_9e48_a86daaca20farow2_col4\" class=\"data row2 col4\" >object</td>\n",
       "            </tr>\n",
       "            <tr>\n",
       "                                <td id=\"T_3b581ba9_7269_11ef_9e48_a86daaca20farow3_col0\" class=\"data row3 col0\" >ProfileName</td>\n",
       "                        <td id=\"T_3b581ba9_7269_11ef_9e48_a86daaca20farow3_col1\" class=\"data row3 col1\" >218416</td>\n",
       "                        <td id=\"T_3b581ba9_7269_11ef_9e48_a86daaca20farow3_col2\" class=\"data row3 col2\" >38.420000</td>\n",
       "                        <td id=\"T_3b581ba9_7269_11ef_9e48_a86daaca20farow3_col3\" class=\"data row3 col3\" >0.000000</td>\n",
       "                        <td id=\"T_3b581ba9_7269_11ef_9e48_a86daaca20farow3_col4\" class=\"data row3 col4\" >object</td>\n",
       "            </tr>\n",
       "            <tr>\n",
       "                                <td id=\"T_3b581ba9_7269_11ef_9e48_a86daaca20farow4_col0\" class=\"data row4 col0\" >HelpfulnessNumerator</td>\n",
       "                        <td id=\"T_3b581ba9_7269_11ef_9e48_a86daaca20farow4_col1\" class=\"data row4 col1\" >231</td>\n",
       "                        <td id=\"T_3b581ba9_7269_11ef_9e48_a86daaca20farow4_col2\" class=\"data row4 col2\" >0.040000</td>\n",
       "                        <td id=\"T_3b581ba9_7269_11ef_9e48_a86daaca20farow4_col3\" class=\"data row4 col3\" >0.000000</td>\n",
       "                        <td id=\"T_3b581ba9_7269_11ef_9e48_a86daaca20farow4_col4\" class=\"data row4 col4\" >int64</td>\n",
       "            </tr>\n",
       "            <tr>\n",
       "                                <td id=\"T_3b581ba9_7269_11ef_9e48_a86daaca20farow5_col0\" class=\"data row5 col0\" >HelpfulnessDenominator</td>\n",
       "                        <td id=\"T_3b581ba9_7269_11ef_9e48_a86daaca20farow5_col1\" class=\"data row5 col1\" >234</td>\n",
       "                        <td id=\"T_3b581ba9_7269_11ef_9e48_a86daaca20farow5_col2\" class=\"data row5 col2\" >0.040000</td>\n",
       "                        <td id=\"T_3b581ba9_7269_11ef_9e48_a86daaca20farow5_col3\" class=\"data row5 col3\" >0.000000</td>\n",
       "                        <td id=\"T_3b581ba9_7269_11ef_9e48_a86daaca20farow5_col4\" class=\"data row5 col4\" >int64</td>\n",
       "            </tr>\n",
       "            <tr>\n",
       "                                <td id=\"T_3b581ba9_7269_11ef_9e48_a86daaca20farow6_col0\" class=\"data row6 col0\" >Score</td>\n",
       "                        <td id=\"T_3b581ba9_7269_11ef_9e48_a86daaca20farow6_col1\" class=\"data row6 col1\" >5</td>\n",
       "                        <td id=\"T_3b581ba9_7269_11ef_9e48_a86daaca20farow6_col2\" class=\"data row6 col2\" >0.000000</td>\n",
       "                        <td id=\"T_3b581ba9_7269_11ef_9e48_a86daaca20farow6_col3\" class=\"data row6 col3\" >0.000000</td>\n",
       "                        <td id=\"T_3b581ba9_7269_11ef_9e48_a86daaca20farow6_col4\" class=\"data row6 col4\" >int64</td>\n",
       "            </tr>\n",
       "            <tr>\n",
       "                                <td id=\"T_3b581ba9_7269_11ef_9e48_a86daaca20farow7_col0\" class=\"data row7 col0\" >Time</td>\n",
       "                        <td id=\"T_3b581ba9_7269_11ef_9e48_a86daaca20farow7_col1\" class=\"data row7 col1\" >3168</td>\n",
       "                        <td id=\"T_3b581ba9_7269_11ef_9e48_a86daaca20farow7_col2\" class=\"data row7 col2\" >0.560000</td>\n",
       "                        <td id=\"T_3b581ba9_7269_11ef_9e48_a86daaca20farow7_col3\" class=\"data row7 col3\" >0.000000</td>\n",
       "                        <td id=\"T_3b581ba9_7269_11ef_9e48_a86daaca20farow7_col4\" class=\"data row7 col4\" >int64</td>\n",
       "            </tr>\n",
       "            <tr>\n",
       "                                <td id=\"T_3b581ba9_7269_11ef_9e48_a86daaca20farow8_col0\" class=\"data row8 col0\" >Summary</td>\n",
       "                        <td id=\"T_3b581ba9_7269_11ef_9e48_a86daaca20farow8_col1\" class=\"data row8 col1\" >295742</td>\n",
       "                        <td id=\"T_3b581ba9_7269_11ef_9e48_a86daaca20farow8_col2\" class=\"data row8 col2\" >52.030000</td>\n",
       "                        <td id=\"T_3b581ba9_7269_11ef_9e48_a86daaca20farow8_col3\" class=\"data row8 col3\" >0.000000</td>\n",
       "                        <td id=\"T_3b581ba9_7269_11ef_9e48_a86daaca20farow8_col4\" class=\"data row8 col4\" >object</td>\n",
       "            </tr>\n",
       "            <tr>\n",
       "                                <td id=\"T_3b581ba9_7269_11ef_9e48_a86daaca20farow9_col0\" class=\"data row9 col0\" >Text</td>\n",
       "                        <td id=\"T_3b581ba9_7269_11ef_9e48_a86daaca20farow9_col1\" class=\"data row9 col1\" >393579</td>\n",
       "                        <td id=\"T_3b581ba9_7269_11ef_9e48_a86daaca20farow9_col2\" class=\"data row9 col2\" >69.240000</td>\n",
       "                        <td id=\"T_3b581ba9_7269_11ef_9e48_a86daaca20farow9_col3\" class=\"data row9 col3\" >0.000000</td>\n",
       "                        <td id=\"T_3b581ba9_7269_11ef_9e48_a86daaca20farow9_col4\" class=\"data row9 col4\" >object</td>\n",
       "            </tr>\n",
       "    </tbody></table>"
      ],
      "text/plain": [
       "<pandas.io.formats.style.Styler at 0x1f1f76b0d60>"
      ]
     },
     "metadata": {},
     "output_type": "display_data"
    }
   ],
   "source": [
    "# Function to align text\n",
    "def highlight_cols(s):\n",
    "    if s.name in df.select_dtypes(include=['number']).columns:\n",
    "        return ['text-align: right'] * len(s)\n",
    "    else:\n",
    "        return ['text-align: left'] * len(s)\n",
    "\n",
    "# Apply styling\n",
    "styled_report = report.style.apply(highlight_cols, axis=1).set_table_styles(\n",
    "    [{'selector': 'th', 'props': [('text-align', 'center'), ('border', '1px solid black')]},\n",
    "     {'selector': 'td', 'props': [('border', '1px solid black')]}]\n",
    ").hide_index()\n",
    "\n",
    "# Display the DataFrame\n",
    "display(styled_report)"
   ]
  },
  {
   "cell_type": "markdown",
   "metadata": {},
   "source": [
    "## Load / Data Wrangling for Sentiment Analysis"
   ]
  },
  {
   "cell_type": "code",
   "execution_count": 6,
   "metadata": {},
   "outputs": [
    {
     "name": "stdout",
     "output_type": "stream",
     "text": [
      "(568454, 3)\n"
     ]
    }
   ],
   "source": [
    "data = pd.read_csv('Reviews.csv', usecols=['Score', 'Summary', 'Text'])\n",
    "print(data.shape)"
   ]
  },
  {
   "cell_type": "code",
   "execution_count": 18,
   "metadata": {},
   "outputs": [
    {
     "data": {
      "text/html": [
       "<style  type=\"text/css\" >\n",
       "    #T_7c74d93e_7269_11ef_9b93_a86daaca20fa th {\n",
       "          text-align: center;\n",
       "          border: 1px solid black;\n",
       "    }    #T_7c74d93e_7269_11ef_9b93_a86daaca20fa td {\n",
       "          border: 1px solid black;\n",
       "    }#T_7c74d93e_7269_11ef_9b93_a86daaca20farow0_col0,#T_7c74d93e_7269_11ef_9b93_a86daaca20farow0_col1,#T_7c74d93e_7269_11ef_9b93_a86daaca20farow0_col2,#T_7c74d93e_7269_11ef_9b93_a86daaca20farow1_col0,#T_7c74d93e_7269_11ef_9b93_a86daaca20farow1_col1,#T_7c74d93e_7269_11ef_9b93_a86daaca20farow1_col2,#T_7c74d93e_7269_11ef_9b93_a86daaca20farow2_col0,#T_7c74d93e_7269_11ef_9b93_a86daaca20farow2_col1,#T_7c74d93e_7269_11ef_9b93_a86daaca20farow2_col2,#T_7c74d93e_7269_11ef_9b93_a86daaca20farow3_col0,#T_7c74d93e_7269_11ef_9b93_a86daaca20farow3_col1,#T_7c74d93e_7269_11ef_9b93_a86daaca20farow3_col2,#T_7c74d93e_7269_11ef_9b93_a86daaca20farow4_col0,#T_7c74d93e_7269_11ef_9b93_a86daaca20farow4_col1,#T_7c74d93e_7269_11ef_9b93_a86daaca20farow4_col2{\n",
       "            text-align:  left;\n",
       "        }</style><table id=\"T_7c74d93e_7269_11ef_9b93_a86daaca20fa\" ><thead>    <tr>        <th class=\"col_heading level0 col0\" >Score</th>        <th class=\"col_heading level0 col1\" >Summary</th>        <th class=\"col_heading level0 col2\" >Text</th>    </tr></thead><tbody>\n",
       "                <tr>\n",
       "                                <td id=\"T_7c74d93e_7269_11ef_9b93_a86daaca20farow0_col0\" class=\"data row0 col0\" >5</td>\n",
       "                        <td id=\"T_7c74d93e_7269_11ef_9b93_a86daaca20farow0_col1\" class=\"data row0 col1\" >Good Quality Dog Food</td>\n",
       "                        <td id=\"T_7c74d93e_7269_11ef_9b93_a86daaca20farow0_col2\" class=\"data row0 col2\" >I have bought several of the Vitality canned dog food products and have found them all to be of good quality. The product looks more like a stew than a processed meat and it smells better. My Labrador is finicky and she appreciates this product better than  most.</td>\n",
       "            </tr>\n",
       "            <tr>\n",
       "                                <td id=\"T_7c74d93e_7269_11ef_9b93_a86daaca20farow1_col0\" class=\"data row1 col0\" >1</td>\n",
       "                        <td id=\"T_7c74d93e_7269_11ef_9b93_a86daaca20farow1_col1\" class=\"data row1 col1\" >Not as Advertised</td>\n",
       "                        <td id=\"T_7c74d93e_7269_11ef_9b93_a86daaca20farow1_col2\" class=\"data row1 col2\" >Product arrived labeled as Jumbo Salted Peanuts...the peanuts were actually small sized unsalted. Not sure if this was an error or if the vendor intended to represent the product as \"Jumbo\".</td>\n",
       "            </tr>\n",
       "            <tr>\n",
       "                                <td id=\"T_7c74d93e_7269_11ef_9b93_a86daaca20farow2_col0\" class=\"data row2 col0\" >4</td>\n",
       "                        <td id=\"T_7c74d93e_7269_11ef_9b93_a86daaca20farow2_col1\" class=\"data row2 col1\" >\"Delight\" says it all</td>\n",
       "                        <td id=\"T_7c74d93e_7269_11ef_9b93_a86daaca20farow2_col2\" class=\"data row2 col2\" >This is a confection that has been around a few centuries.  It is a light, pillowy citrus gelatin with nuts - in this case Filberts. And it is cut into tiny squares and then liberally coated with powdered sugar.  And it is a tiny mouthful of heaven.  Not too chewy, and very flavorful.  I highly recommend this yummy treat.  If you are familiar with the story of C.S. Lewis' \"The Lion, The Witch, and The Wardrobe\" - this is the treat that seduces Edmund into selling out his Brother and Sisters to the Witch.</td>\n",
       "            </tr>\n",
       "            <tr>\n",
       "                                <td id=\"T_7c74d93e_7269_11ef_9b93_a86daaca20farow3_col0\" class=\"data row3 col0\" >2</td>\n",
       "                        <td id=\"T_7c74d93e_7269_11ef_9b93_a86daaca20farow3_col1\" class=\"data row3 col1\" >Cough Medicine</td>\n",
       "                        <td id=\"T_7c74d93e_7269_11ef_9b93_a86daaca20farow3_col2\" class=\"data row3 col2\" >If you are looking for the secret ingredient in Robitussin I believe I have found it.  I got this in addition to the Root Beer Extract I ordered (which was good) and made some cherry soda.  The flavor is very medicinal.</td>\n",
       "            </tr>\n",
       "            <tr>\n",
       "                                <td id=\"T_7c74d93e_7269_11ef_9b93_a86daaca20farow4_col0\" class=\"data row4 col0\" >5</td>\n",
       "                        <td id=\"T_7c74d93e_7269_11ef_9b93_a86daaca20farow4_col1\" class=\"data row4 col1\" >Great taffy</td>\n",
       "                        <td id=\"T_7c74d93e_7269_11ef_9b93_a86daaca20farow4_col2\" class=\"data row4 col2\" >Great taffy at a great price.  There was a wide assortment of yummy taffy.  Delivery was very quick.  If your a taffy lover, this is a deal.</td>\n",
       "            </tr>\n",
       "    </tbody></table>"
      ],
      "text/plain": [
       "<pandas.io.formats.style.Styler at 0x1f19e759640>"
      ]
     },
     "metadata": {},
     "output_type": "display_data"
    }
   ],
   "source": [
    "# Apply styling\n",
    "styled_data = data.head().style.apply(highlight_cols, axis=1).set_table_styles(\n",
    "    [{'selector': 'th', 'props': [('text-align', 'center'), ('border', '1px solid black')]},\n",
    "     {'selector': 'td', 'props': [('border', '1px solid black')]}]\n",
    ").hide_index()\n",
    "\n",
    "# Display the DataFrame\n",
    "display(styled_data)"
   ]
  },
  {
   "cell_type": "markdown",
   "metadata": {},
   "source": [
    "**Sampling Approach**"
   ]
  },
  {
   "cell_type": "code",
   "execution_count": 32,
   "metadata": {},
   "outputs": [
    {
     "data": {
      "text/html": [
       "<div>\n",
       "<style scoped>\n",
       "    .dataframe tbody tr th:only-of-type {\n",
       "        vertical-align: middle;\n",
       "    }\n",
       "\n",
       "    .dataframe tbody tr th {\n",
       "        vertical-align: top;\n",
       "    }\n",
       "\n",
       "    .dataframe thead th {\n",
       "        text-align: right;\n",
       "    }\n",
       "</style>\n",
       "<table border=\"1\" class=\"dataframe\">\n",
       "  <thead>\n",
       "    <tr style=\"text-align: right;\">\n",
       "      <th></th>\n",
       "      <th>Score</th>\n",
       "      <th>review_text</th>\n",
       "    </tr>\n",
       "  </thead>\n",
       "  <tbody>\n",
       "    <tr>\n",
       "      <th>0</th>\n",
       "      <td>4</td>\n",
       "      <td>Delicious I really liked these.  Great snack f...</td>\n",
       "    </tr>\n",
       "    <tr>\n",
       "      <th>1</th>\n",
       "      <td>5</td>\n",
       "      <td>A wonderful pleasure in pushing for a healthy ...</td>\n",
       "    </tr>\n",
       "    <tr>\n",
       "      <th>2</th>\n",
       "      <td>4</td>\n",
       "      <td>Yum! I received this 5 gum React fruit flavor ...</td>\n",
       "    </tr>\n",
       "    <tr>\n",
       "      <th>3</th>\n",
       "      <td>1</td>\n",
       "      <td>4 of 11 Vials arrived broken Four of the eleve...</td>\n",
       "    </tr>\n",
       "    <tr>\n",
       "      <th>4</th>\n",
       "      <td>5</td>\n",
       "      <td>Delicious! What's not to love about peanut but...</td>\n",
       "    </tr>\n",
       "  </tbody>\n",
       "</table>\n",
       "</div>"
      ],
      "text/plain": [
       "   Score                                        review_text\n",
       "0      4  Delicious I really liked these.  Great snack f...\n",
       "1      5  A wonderful pleasure in pushing for a healthy ...\n",
       "2      4  Yum! I received this 5 gum React fruit flavor ...\n",
       "3      1  4 of 11 Vials arrived broken Four of the eleve...\n",
       "4      5  Delicious! What's not to love about peanut but..."
      ]
     },
     "execution_count": 32,
     "metadata": {},
     "output_type": "execute_result"
    }
   ],
   "source": [
    "#the overall dataset is too large so we will downsample the data to 500 examples for analysis \n",
    "sample_data = data.sample(500)\n",
    "\n",
    "#combine the summary / heading and text description\n",
    "sample_data['review_text'] = sample_data['Summary'] + ' ' +  sample_data['Text']\n",
    "\n",
    "#we can also remove the previous original columns\n",
    "sample_data.drop(['Summary', 'Text'], axis = 1, inplace = True)\n",
    "    \n",
    "sample_data = sample_data.reset_index()\n",
    "sample_data.drop(['index'], axis = 1, inplace=True)\n",
    "sample_data.head()"
   ]
  },
  {
   "cell_type": "code",
   "execution_count": 33,
   "metadata": {},
   "outputs": [
    {
     "data": {
      "text/html": [
       "<style  type=\"text/css\" >\n",
       "    #T_05b668b9_72c6_11ef_9325_a86daaca20fa th {\n",
       "          text-align: center;\n",
       "          border: 1px solid black;\n",
       "    }    #T_05b668b9_72c6_11ef_9325_a86daaca20fa td {\n",
       "          border: 1px solid black;\n",
       "    }#T_05b668b9_72c6_11ef_9325_a86daaca20farow0_col0,#T_05b668b9_72c6_11ef_9325_a86daaca20farow0_col1,#T_05b668b9_72c6_11ef_9325_a86daaca20farow1_col0,#T_05b668b9_72c6_11ef_9325_a86daaca20farow1_col1,#T_05b668b9_72c6_11ef_9325_a86daaca20farow2_col0,#T_05b668b9_72c6_11ef_9325_a86daaca20farow2_col1,#T_05b668b9_72c6_11ef_9325_a86daaca20farow3_col0,#T_05b668b9_72c6_11ef_9325_a86daaca20farow3_col1,#T_05b668b9_72c6_11ef_9325_a86daaca20farow4_col0,#T_05b668b9_72c6_11ef_9325_a86daaca20farow4_col1{\n",
       "            text-align:  left;\n",
       "        }</style><table id=\"T_05b668b9_72c6_11ef_9325_a86daaca20fa\" ><thead>    <tr>        <th class=\"col_heading level0 col0\" >Score</th>        <th class=\"col_heading level0 col1\" >review_text</th>    </tr></thead><tbody>\n",
       "                <tr>\n",
       "                                <td id=\"T_05b668b9_72c6_11ef_9325_a86daaca20farow0_col0\" class=\"data row0 col0\" >1</td>\n",
       "                        <td id=\"T_05b668b9_72c6_11ef_9325_a86daaca20farow0_col1\" class=\"data row0 col1\" >Sprayed orange grease all over the inside of the microwave The pop-up bowl sounds like a great idea, but evidently they rushed it to market before all the bugs were out.<br /><br />The first bag I cooked was fine, except the instructions for opening the bag are far from clear, and even after you figure out how to do it it's a lot of trouble and makes a big mess.<br /><br />But the second bag evidently sprang a leak - it sprayed bright orange grease all over the inside of my microwave, even into the tiny vent holes inside the top and side. I always watch popcorn carefully while it pops, but I could not see the grease spray until after it was done and I opened the door. Cleaning it all out was a horrible ordeal, and I'm sure everything I cook in the microwave will come out smelling like popcorn grease for weeks.<br /><br />They released this product too soon. It needs serious redesign. I will not buy it again.</td>\n",
       "            </tr>\n",
       "            <tr>\n",
       "                                <td id=\"T_05b668b9_72c6_11ef_9325_a86daaca20farow1_col0\" class=\"data row1 col0\" >3</td>\n",
       "                        <td id=\"T_05b668b9_72c6_11ef_9325_a86daaca20farow1_col1\" class=\"data row1 col1\" >Had higher expectations It is a naturally sweetened soda with Stevia, but I expect more robust flavor simular to Dr. Pepper.  I wouldn't even say it is close to Dr. Pepper.  I was disappointed, especially when I love the \"Cola\" flavor of Zevia so much.</td>\n",
       "            </tr>\n",
       "            <tr>\n",
       "                                <td id=\"T_05b668b9_72c6_11ef_9325_a86daaca20farow2_col0\" class=\"data row2 col0\" >5</td>\n",
       "                        <td id=\"T_05b668b9_72c6_11ef_9325_a86daaca20farow2_col1\" class=\"data row2 col1\" >Everything is as it should be I ordered these nuts...for both my own personal consumption...and my two African Greys Scaredy Bird and Reggie.<br /><br />I believe I can speak for all of us in saying that the nuts arrived on time and in delectable condition. They were fresh....and arrived not broken or damaged in any way.<br /><br />Diamond Nuts..has a high reputation with me---and they continue to prove their worth..by sending out a excellent product !<br /><br />I do --highly recommend this company--and this product !</td>\n",
       "            </tr>\n",
       "            <tr>\n",
       "                                <td id=\"T_05b668b9_72c6_11ef_9325_a86daaca20farow3_col0\" class=\"data row3 col0\" >5</td>\n",
       "                        <td id=\"T_05b668b9_72c6_11ef_9325_a86daaca20farow3_col1\" class=\"data row3 col1\" >So Happy I found this; Product is Fabulous I decided to stop using sweet n' low for obvious reasons.  I hated the cost of buying the boxes of Splenda in my locale grocery, as it was so expensive.  When I googled Splenda and found this I was elated and ordered it right away.  I will order a second for my home upstate shortly, as I certainly cannot transport this box in an efficient manner  and I need it in my City location.</td>\n",
       "            </tr>\n",
       "            <tr>\n",
       "                                <td id=\"T_05b668b9_72c6_11ef_9325_a86daaca20farow4_col0\" class=\"data row4 col0\" >5</td>\n",
       "                        <td id=\"T_05b668b9_72c6_11ef_9325_a86daaca20farow4_col1\" class=\"data row4 col1\" >Great tea, very satisfying Nice mellow tea for all occassions.  I'm an ex-coffee drinker searching for an alternative and this product fit nicely.  It's smooth, very satisfying.  Nice product.</td>\n",
       "            </tr>\n",
       "    </tbody></table>"
      ],
      "text/plain": [
       "<pandas.io.formats.style.Styler at 0x1f1f76b0bb0>"
      ]
     },
     "metadata": {},
     "output_type": "display_data"
    }
   ],
   "source": [
    "from IPython.display import display\n",
    "\n",
    "# Let's use a previews sample obtained\n",
    "df = pd.read_csv('amazon_reviews_dataset_500.csv')\n",
    "\n",
    "# Apply styling\n",
    "styled_df = df.head().style.apply(highlight_cols, axis=1).set_table_styles(\n",
    "    [{'selector': 'th', 'props': [('text-align', 'center'), ('border', '1px solid black')]},\n",
    "     {'selector': 'td', 'props': [('border', '1px solid black')]}]\n",
    ").hide_index()\n",
    "\n",
    "# Display the DataFrame\n",
    "display(styled_df)"
   ]
  },
  {
   "cell_type": "markdown",
   "metadata": {},
   "source": [
    "## Exploratory Data Analysis (EDA)"
   ]
  },
  {
   "cell_type": "code",
   "execution_count": 34,
   "metadata": {},
   "outputs": [
    {
     "data": {
      "image/png": "[encoded data removed]",
      "text/plain": [
       "<Figure size 720x360 with 1 Axes>"
      ]
     },
     "metadata": {
      "needs_background": "light"
     },
     "output_type": "display_data"
    }
   ],
   "source": [
    "fig, ax = plt.subplots(figsize = (10, 5))\n",
    "ax = df['Score'].value_counts().sort_index().plot(kind = 'bar')\n",
    "ax.set_xlabel('Review Stars')\n",
    "plt.title('count of reviews by stars')\n",
    "plt.show()"
   ]
  },
  {
   "cell_type": "markdown",
   "metadata": {},
   "source": [
    "The overall distribution of reviews seems to be more positive and then there is a slight spike in the 1 star negetive reviews, so data is mostly very polar."
   ]
  },
  {
   "cell_type": "markdown",
   "metadata": {},
   "source": [
    "## Basic NLTK"
   ]
  },
  {
   "cell_type": "code",
   "execution_count": 35,
   "metadata": {},
   "outputs": [
    {
     "name": "stdout",
     "output_type": "stream",
     "text": [
      "Great Price, Not what I was hoping for though. There's the original Tang. There's the fruition Tang that was around from 2008 to 2010, which had extra vitamins (B,D,A, etc.) and replaced half the sugar with zero calorie sweeteners. But tang has gone back to a flavor more similar to the original with full sugar content. I was hoping for the fruition version, which other reviewers received.\n"
     ]
    }
   ],
   "source": [
    "example = df['review_text'][50]\n",
    "print(example)"
   ]
  },
  {
   "cell_type": "code",
   "execution_count": 36,
   "metadata": {},
   "outputs": [
    {
     "data": {
      "text/plain": [
       "['Great', 'Price', ',', 'Not', 'what', 'I', 'was', 'hoping']"
      ]
     },
     "execution_count": 36,
     "metadata": {},
     "output_type": "execute_result"
    }
   ],
   "source": [
    "#use the nltk's word tokenizer to smartly split the sentence into tokens which can be used to understand the language by the computer\n",
    "tokens = nltk.word_tokenize(example)\n",
    "tokens[:8]"
   ]
  },
  {
   "cell_type": "code",
   "execution_count": 37,
   "metadata": {},
   "outputs": [
    {
     "data": {
      "text/plain": [
       "[('Great', 'NNP'),\n",
       " ('Price', 'NNP'),\n",
       " (',', ','),\n",
       " ('Not', 'RB'),\n",
       " ('what', 'WP'),\n",
       " ('I', 'PRP'),\n",
       " ('was', 'VBD'),\n",
       " ('hoping', 'VBG'),\n",
       " ('for', 'IN'),\n",
       " ('though', 'IN')]"
      ]
     },
     "execution_count": 37,
     "metadata": {},
     "output_type": "execute_result"
    }
   ],
   "source": [
    "#find the part of speech for each of the token words with nltk each word will get a part of speech value associated with them \n",
    "#and they are represented with codes like NN is for singular nouns\n",
    "tagged = nltk.pos_tag(tokens)\n",
    "tagged[:10]"
   ]
  },
  {
   "cell_type": "code",
   "execution_count": 38,
   "metadata": {},
   "outputs": [
    {
     "name": "stdout",
     "output_type": "stream",
     "text": [
      "(S\n",
      "  (GPE Great/NNP)\n",
      "  Price/NNP\n",
      "  ,/,\n",
      "  Not/RB\n",
      "  what/WP\n",
      "  I/PRP\n",
      "  was/VBD\n",
      "  hoping/VBG\n",
      "  for/IN\n",
      "  though/IN\n",
      "  ./.\n",
      "  There/EX\n",
      "  's/VBZ\n",
      "  the/DT\n",
      "  original/JJ\n",
      "  (PERSON Tang/NNP)\n",
      "  ./.\n",
      "  There/EX\n",
      "  's/VBZ\n",
      "  the/DT\n",
      "  fruition/NN\n",
      "  (PERSON Tang/NNP)\n",
      "  that/WDT\n",
      "  was/VBD\n",
      "  around/IN\n",
      "  from/IN\n",
      "  2008/CD\n",
      "  to/TO\n",
      "  2010/CD\n",
      "  ,/,\n",
      "  which/WDT\n",
      "  had/VBD\n",
      "  extra/JJ\n",
      "  vitamins/NNS\n",
      "  (/(\n",
      "  B/NNP\n",
      "  ,/,\n",
      "  (GPE D/NNP)\n",
      "  ,/,\n",
      "  A/NNP\n",
      "  ,/,\n",
      "  etc/FW\n",
      "  ./.\n",
      "  )/)\n",
      "  and/CC\n",
      "  replaced/VBD\n",
      "  half/PDT\n",
      "  the/DT\n",
      "  sugar/NN\n",
      "  with/IN\n",
      "  zero/CD\n",
      "  calorie/NN\n",
      "  sweeteners/NNS\n",
      "  ./.\n",
      "  But/CC\n",
      "  tang/NN\n",
      "  has/VBZ\n",
      "  gone/VBN\n",
      "  back/RB\n",
      "  to/TO\n",
      "  a/DT\n",
      "  flavor/NN\n",
      "  more/JJR\n",
      "  similar/JJ\n",
      "  to/TO\n",
      "  the/DT\n",
      "  original/JJ\n",
      "  with/IN\n",
      "  full/JJ\n",
      "  sugar/NN\n",
      "  content/NN\n",
      "  ./.\n",
      "  I/PRP\n",
      "  was/VBD\n",
      "  hoping/VBG\n",
      "  for/IN\n",
      "  the/DT\n",
      "  fruition/NN\n",
      "  version/NN\n",
      "  ,/,\n",
      "  which/WDT\n",
      "  other/JJ\n",
      "  reviewers/NNS\n",
      "  received/VBD\n",
      "  ./.)\n"
     ]
    }
   ],
   "source": [
    "#we can group these tagged values into chunks of tags entities\n",
    "entities = nltk.chunk.ne_chunk(tagged)\n",
    "entities.pprint()"
   ]
  },
  {
   "cell_type": "markdown",
   "metadata": {},
   "source": [
    "## VADER Sentiment Scoring\n",
    "\n",
    "**VADER**: Valence Aware Dictonary and sEntiment Reasoner\n",
    "\n",
    "We'll use NLTK's `SentimentInetensityAnalyzer` to get the negetive (neg), neutral (neu) and positive (pos) scores for the text.\n",
    "\n",
    "**Approach**:\n",
    "- Uses a \"bag of words\" approach\n",
    "- Stop words are removed - words like (is, the, am, etc.)\n",
    "- each word is scored and combined to a total score to get a overall sentiment score of text.\n",
    "\n",
    "**Limitations**:\n",
    "- does not account for relationships between words, which is an important part of human speech."
   ]
  },
  {
   "cell_type": "code",
   "execution_count": 39,
   "metadata": {},
   "outputs": [],
   "source": [
    "sia = SentimentIntensityAnalyzer()"
   ]
  },
  {
   "cell_type": "code",
   "execution_count": 40,
   "metadata": {},
   "outputs": [
    {
     "data": {
      "text/plain": [
       "{'neg': 0.0, 'neu': 0.389, 'pos': 0.611, 'compound': 0.9272}"
      ]
     },
     "execution_count": 40,
     "metadata": {},
     "output_type": "execute_result"
    }
   ],
   "source": [
    "#example of using sentiment analyzer on a positive sentence\n",
    "sia.polarity_scores('I am so happy! Today is such a great day and I love ML.')"
   ]
  },
  {
   "cell_type": "code",
   "execution_count": 41,
   "metadata": {},
   "outputs": [
    {
     "data": {
      "text/plain": [
       "{'neg': 0.451, 'neu': 0.549, 'pos': 0.0, 'compound': -0.8491}"
      ]
     },
     "execution_count": 41,
     "metadata": {},
     "output_type": "execute_result"
    }
   ],
   "source": [
    "#on the other hand sentiment analyzer on a negetive example\n",
    "sia.polarity_scores('This is the worst thing ever, I would never buy something this bad.')"
   ]
  },
  {
   "cell_type": "code",
   "execution_count": 42,
   "metadata": {},
   "outputs": [
    {
     "data": {
      "text/plain": [
       "{'neg': 0.237, 'neu': 0.385, 'pos': 0.378, 'compound': 0.2942}"
      ]
     },
     "execution_count": 42,
     "metadata": {},
     "output_type": "execute_result"
    }
   ],
   "source": [
    "#It can also work well on some confusing sentences - to give a overall slightly positive rating for this sentence.\n",
    "sia.polarity_scores('hey, I hate you, just kidding you know I love you!')"
   ]
  },
  {
   "cell_type": "markdown",
   "metadata": {},
   "source": [
    "**Observations**:\n",
    "\n",
    "We are successfully able to identify the overall sentiment of the text with compound score which varies between 1 (for positive) and -1 (for negetive).\n",
    "\n",
    "Now we can try to apply this to our reviews dataset."
   ]
  },
  {
   "cell_type": "code",
   "execution_count": 43,
   "metadata": {},
   "outputs": [],
   "source": [
    "#Run Polarity Score on the entire dataset\n",
    "res = {}\n",
    "for idx, row in df.iterrows():\n",
    "    text = row['review_text']\n",
    "    res[idx] = sia.polarity_scores(text)"
   ]
  },
  {
   "cell_type": "code",
   "execution_count": 44,
   "metadata": {},
   "outputs": [
    {
     "data": {
      "text/html": [
       "<style  type=\"text/css\" >\n",
       "    #T_1e985699_72c6_11ef_b05e_a86daaca20fa th {\n",
       "          text-align: center;\n",
       "          border: 1px solid black;\n",
       "    }    #T_1e985699_72c6_11ef_b05e_a86daaca20fa td {\n",
       "          border: 1px solid black;\n",
       "    }#T_1e985699_72c6_11ef_b05e_a86daaca20farow0_col0,#T_1e985699_72c6_11ef_b05e_a86daaca20farow0_col1,#T_1e985699_72c6_11ef_b05e_a86daaca20farow0_col2,#T_1e985699_72c6_11ef_b05e_a86daaca20farow0_col3,#T_1e985699_72c6_11ef_b05e_a86daaca20farow0_col4,#T_1e985699_72c6_11ef_b05e_a86daaca20farow0_col5,#T_1e985699_72c6_11ef_b05e_a86daaca20farow1_col0,#T_1e985699_72c6_11ef_b05e_a86daaca20farow1_col1,#T_1e985699_72c6_11ef_b05e_a86daaca20farow1_col2,#T_1e985699_72c6_11ef_b05e_a86daaca20farow1_col3,#T_1e985699_72c6_11ef_b05e_a86daaca20farow1_col4,#T_1e985699_72c6_11ef_b05e_a86daaca20farow1_col5,#T_1e985699_72c6_11ef_b05e_a86daaca20farow2_col0,#T_1e985699_72c6_11ef_b05e_a86daaca20farow2_col1,#T_1e985699_72c6_11ef_b05e_a86daaca20farow2_col2,#T_1e985699_72c6_11ef_b05e_a86daaca20farow2_col3,#T_1e985699_72c6_11ef_b05e_a86daaca20farow2_col4,#T_1e985699_72c6_11ef_b05e_a86daaca20farow2_col5,#T_1e985699_72c6_11ef_b05e_a86daaca20farow3_col0,#T_1e985699_72c6_11ef_b05e_a86daaca20farow3_col1,#T_1e985699_72c6_11ef_b05e_a86daaca20farow3_col2,#T_1e985699_72c6_11ef_b05e_a86daaca20farow3_col3,#T_1e985699_72c6_11ef_b05e_a86daaca20farow3_col4,#T_1e985699_72c6_11ef_b05e_a86daaca20farow3_col5,#T_1e985699_72c6_11ef_b05e_a86daaca20farow4_col0,#T_1e985699_72c6_11ef_b05e_a86daaca20farow4_col1,#T_1e985699_72c6_11ef_b05e_a86daaca20farow4_col2,#T_1e985699_72c6_11ef_b05e_a86daaca20farow4_col3,#T_1e985699_72c6_11ef_b05e_a86daaca20farow4_col4,#T_1e985699_72c6_11ef_b05e_a86daaca20farow4_col5{\n",
       "            text-align:  left;\n",
       "        }</style><table id=\"T_1e985699_72c6_11ef_b05e_a86daaca20fa\" ><thead>    <tr>        <th class=\"col_heading level0 col0\" >neg</th>        <th class=\"col_heading level0 col1\" >neu</th>        <th class=\"col_heading level0 col2\" >pos</th>        <th class=\"col_heading level0 col3\" >compound</th>        <th class=\"col_heading level0 col4\" >Score</th>        <th class=\"col_heading level0 col5\" >review_text</th>    </tr></thead><tbody>\n",
       "                <tr>\n",
       "                                <td id=\"T_1e985699_72c6_11ef_b05e_a86daaca20farow0_col0\" class=\"data row0 col0\" >0.070000</td>\n",
       "                        <td id=\"T_1e985699_72c6_11ef_b05e_a86daaca20farow0_col1\" class=\"data row0 col1\" >0.800000</td>\n",
       "                        <td id=\"T_1e985699_72c6_11ef_b05e_a86daaca20farow0_col2\" class=\"data row0 col2\" >0.130000</td>\n",
       "                        <td id=\"T_1e985699_72c6_11ef_b05e_a86daaca20farow0_col3\" class=\"data row0 col3\" >0.842200</td>\n",
       "                        <td id=\"T_1e985699_72c6_11ef_b05e_a86daaca20farow0_col4\" class=\"data row0 col4\" >1</td>\n",
       "                        <td id=\"T_1e985699_72c6_11ef_b05e_a86daaca20farow0_col5\" class=\"data row0 col5\" >Sprayed orange grease all over the inside of the microwave The pop-up bowl sounds like a great idea, but evidently they rushed it to market before all the bugs were out.<br /><br />The first bag I cooked was fine, except the instructions for opening the bag are far from clear, and even after you figure out how to do it it's a lot of trouble and makes a big mess.<br /><br />But the second bag evidently sprang a leak - it sprayed bright orange grease all over the inside of my microwave, even into the tiny vent holes inside the top and side. I always watch popcorn carefully while it pops, but I could not see the grease spray until after it was done and I opened the door. Cleaning it all out was a horrible ordeal, and I'm sure everything I cook in the microwave will come out smelling like popcorn grease for weeks.<br /><br />They released this product too soon. It needs serious redesign. I will not buy it again.</td>\n",
       "            </tr>\n",
       "            <tr>\n",
       "                                <td id=\"T_1e985699_72c6_11ef_b05e_a86daaca20farow1_col0\" class=\"data row1 col0\" >0.082000</td>\n",
       "                        <td id=\"T_1e985699_72c6_11ef_b05e_a86daaca20farow1_col1\" class=\"data row1 col1\" >0.727000</td>\n",
       "                        <td id=\"T_1e985699_72c6_11ef_b05e_a86daaca20farow1_col2\" class=\"data row1 col2\" >0.192000</td>\n",
       "                        <td id=\"T_1e985699_72c6_11ef_b05e_a86daaca20farow1_col3\" class=\"data row1 col3\" >0.765500</td>\n",
       "                        <td id=\"T_1e985699_72c6_11ef_b05e_a86daaca20farow1_col4\" class=\"data row1 col4\" >3</td>\n",
       "                        <td id=\"T_1e985699_72c6_11ef_b05e_a86daaca20farow1_col5\" class=\"data row1 col5\" >Had higher expectations It is a naturally sweetened soda with Stevia, but I expect more robust flavor simular to Dr. Pepper.  I wouldn't even say it is close to Dr. Pepper.  I was disappointed, especially when I love the \"Cola\" flavor of Zevia so much.</td>\n",
       "            </tr>\n",
       "            <tr>\n",
       "                                <td id=\"T_1e985699_72c6_11ef_b05e_a86daaca20farow2_col0\" class=\"data row2 col0\" >0.025000</td>\n",
       "                        <td id=\"T_1e985699_72c6_11ef_b05e_a86daaca20farow2_col1\" class=\"data row2 col1\" >0.807000</td>\n",
       "                        <td id=\"T_1e985699_72c6_11ef_b05e_a86daaca20farow2_col2\" class=\"data row2 col2\" >0.168000</td>\n",
       "                        <td id=\"T_1e985699_72c6_11ef_b05e_a86daaca20farow2_col3\" class=\"data row2 col3\" >0.923800</td>\n",
       "                        <td id=\"T_1e985699_72c6_11ef_b05e_a86daaca20farow2_col4\" class=\"data row2 col4\" >5</td>\n",
       "                        <td id=\"T_1e985699_72c6_11ef_b05e_a86daaca20farow2_col5\" class=\"data row2 col5\" >Everything is as it should be I ordered these nuts...for both my own personal consumption...and my two African Greys Scaredy Bird and Reggie.<br /><br />I believe I can speak for all of us in saying that the nuts arrived on time and in delectable condition. They were fresh....and arrived not broken or damaged in any way.<br /><br />Diamond Nuts..has a high reputation with me---and they continue to prove their worth..by sending out a excellent product !<br /><br />I do --highly recommend this company--and this product !</td>\n",
       "            </tr>\n",
       "            <tr>\n",
       "                                <td id=\"T_1e985699_72c6_11ef_b05e_a86daaca20farow3_col0\" class=\"data row3 col0\" >0.092000</td>\n",
       "                        <td id=\"T_1e985699_72c6_11ef_b05e_a86daaca20farow3_col1\" class=\"data row3 col1\" >0.693000</td>\n",
       "                        <td id=\"T_1e985699_72c6_11ef_b05e_a86daaca20farow3_col2\" class=\"data row3 col2\" >0.214000</td>\n",
       "                        <td id=\"T_1e985699_72c6_11ef_b05e_a86daaca20farow3_col3\" class=\"data row3 col3\" >0.906100</td>\n",
       "                        <td id=\"T_1e985699_72c6_11ef_b05e_a86daaca20farow3_col4\" class=\"data row3 col4\" >5</td>\n",
       "                        <td id=\"T_1e985699_72c6_11ef_b05e_a86daaca20farow3_col5\" class=\"data row3 col5\" >So Happy I found this; Product is Fabulous I decided to stop using sweet n' low for obvious reasons.  I hated the cost of buying the boxes of Splenda in my locale grocery, as it was so expensive.  When I googled Splenda and found this I was elated and ordered it right away.  I will order a second for my home upstate shortly, as I certainly cannot transport this box in an efficient manner  and I need it in my City location.</td>\n",
       "            </tr>\n",
       "            <tr>\n",
       "                                <td id=\"T_1e985699_72c6_11ef_b05e_a86daaca20farow4_col0\" class=\"data row4 col0\" >0.000000</td>\n",
       "                        <td id=\"T_1e985699_72c6_11ef_b05e_a86daaca20farow4_col1\" class=\"data row4 col1\" >0.497000</td>\n",
       "                        <td id=\"T_1e985699_72c6_11ef_b05e_a86daaca20farow4_col2\" class=\"data row4 col2\" >0.503000</td>\n",
       "                        <td id=\"T_1e985699_72c6_11ef_b05e_a86daaca20farow4_col3\" class=\"data row4 col3\" >0.969200</td>\n",
       "                        <td id=\"T_1e985699_72c6_11ef_b05e_a86daaca20farow4_col4\" class=\"data row4 col4\" >5</td>\n",
       "                        <td id=\"T_1e985699_72c6_11ef_b05e_a86daaca20farow4_col5\" class=\"data row4 col5\" >Great tea, very satisfying Nice mellow tea for all occassions.  I'm an ex-coffee drinker searching for an alternative and this product fit nicely.  It's smooth, very satisfying.  Nice product.</td>\n",
       "            </tr>\n",
       "    </tbody></table>"
      ],
      "text/plain": [
       "<pandas.io.formats.style.Styler at 0x1f1f76c8730>"
      ]
     },
     "metadata": {},
     "output_type": "display_data"
    }
   ],
   "source": [
    "vaders = pd.DataFrame(res).T\n",
    "vaders = vaders.merge(df, how = 'left', right_index=True, left_index=True)\n",
    "\n",
    "# Apply styling\n",
    "vaders_df = vaders.head().style.apply(highlight_cols, axis=1).set_table_styles(\n",
    "    [{'selector': 'th', 'props': [('text-align', 'center'), ('border', '1px solid black')]},\n",
    "     {'selector': 'td', 'props': [('border', '1px solid black')]}]\n",
    ").hide_index()\n",
    "\n",
    "# Display the DataFrame\n",
    "display(vaders_df)"
   ]
  },
  {
   "cell_type": "markdown",
   "metadata": {},
   "source": [
    "**How to measure effectiveness?**\n",
    "\n",
    "One way to see if our model is working as expected or not, is to check an assumption.\n",
    "\n",
    "We can assume that what our model classifies as more positive has higher star review and the reviews predicted to be more negetive have a lower star review associated with them.\n",
    "\n",
    "If this is true then, we can rely on text sentiment analysis to tell us how our users feel about products overall."
   ]
  },
  {
   "cell_type": "code",
   "execution_count": 45,
   "metadata": {},
   "outputs": [
    {
     "data": {
      "image/png": "[encoded data removed]",
      "text/plain": [
       "<Figure size 432x288 with 1 Axes>"
      ]
     },
     "metadata": {
      "needs_background": "light"
     },
     "output_type": "display_data"
    }
   ],
   "source": [
    "# Plot Vaders results\n",
    "sns.barplot(data=vaders, x='Score', y='compound')\n",
    "plt.title('Compound Score with respect to Amazon star reviews')\n",
    "plt.show()"
   ]
  },
  {
   "cell_type": "markdown",
   "metadata": {},
   "source": [
    "**Observation:** We can see that the assumptions seems to be right as higher star reviews have a high compound score associated with them.\n",
    "\n",
    "**Taking a look at each component of sentiment analysis (pos, neu and neg) with respect to star reviews**"
   ]
  },
  {
   "cell_type": "code",
   "execution_count": 46,
   "metadata": {},
   "outputs": [
    {
     "data": {
      "image/png": "[encoded data removed]",
      "text/plain": [
       "<Figure size 2160x720 with 3 Axes>"
      ]
     },
     "metadata": {
      "needs_background": "light"
     },
     "output_type": "display_data"
    }
   ],
   "source": [
    "fig, axs = plt.subplots(1, 3, figsize=(30, 10))\n",
    "sns.barplot(data=vaders, x='Score', y='pos', ax=axs[0])\n",
    "sns.barplot(data=vaders, x='Score', y='neu', ax=axs[1])\n",
    "sns.barplot(data=vaders, x='Score', y='neg', ax=axs[2])\n",
    "axs[0].set_title(\"Positive\")\n",
    "axs[1].set_title(\"Neutral\")\n",
    "axs[2].set_title(\"Negative\")\n",
    "plt.show()"
   ]
  },
  {
   "cell_type": "markdown",
   "metadata": {},
   "source": [
    "**Observations:**\n",
    "- postivity score is higher as star reviews are higher star reviews\n",
    "- neural scores do not vary much accross different star reviews\n",
    "- negativity score decreases with higher star reviews\n",
    "\n",
    "**So we can conclude that our sentiment analysis score does relate to the star reviews given by the users**\n",
    "\n",
    "**Limitations**\n",
    "\n",
    "This way of analyzing text with vader does not consider the relationship between the words and the context in which they are used, so we can improve upon that using the state of the art Transformer based BERT models which can understand and learn context and make better prediction of overall sentiment."
   ]
  },
  {
   "cell_type": "markdown",
   "metadata": {},
   "source": [
    "## RoBERTa Pretrained Model\n",
    "\n",
    "- Use a model trained on large corpus of data (with hundred Millions+ examples)\n",
    "- Transformer model accounts for the words bit also their context related to other words.\n",
    "    - like for sentences which have negative words in it but it actually is just sarcastic.\n",
    "    - or ironic sentences with positive words but overall negative sentiment.\n",
    "\n",
    "We are essentially using transfer learning by using pretrained weights of a model created for analyzing the sentiments of tweets to perform review sentiment analysis."
   ]
  },
  {
   "cell_type": "code",
   "execution_count": 47,
   "metadata": {},
   "outputs": [],
   "source": [
    "import warnings\n",
    "\n",
    "# Ignore all warnings\n",
    "warnings.filterwarnings(\"ignore\")\n",
    "\n",
    "model_name = f\"cardiffnlp/twitter-roberta-base-sentiment\"\n",
    "tokenizer = AutoTokenizer.from_pretrained(model_name)\n",
    "model = AutoModelForSequenceClassification.from_pretrained(model_name)"
   ]
  },
  {
   "cell_type": "markdown",
   "metadata": {},
   "source": [
    "**Comparing models performence over example review**"
   ]
  },
  {
   "cell_type": "code",
   "execution_count": 48,
   "metadata": {},
   "outputs": [
    {
     "name": "stdout",
     "output_type": "stream",
     "text": [
      "Great Price, Not what I was hoping for though. There's the original Tang. There's the fruition Tang that was around from 2008 to 2010, which had extra vitamins (B,D,A, etc.) and replaced half the sugar with zero calorie sweeteners. But tang has gone back to a flavor more similar to the original with full sugar content. I was hoping for the fruition version, which other reviewers received.\n"
     ]
    },
    {
     "data": {
      "text/plain": [
       "{'neg': 0.064, 'neu': 0.815, 'pos': 0.12, 'compound': 0.6169}"
      ]
     },
     "execution_count": 48,
     "metadata": {},
     "output_type": "execute_result"
    }
   ],
   "source": [
    "#VADER Results on example\n",
    "print(example)\n",
    "sia.polarity_scores(example)"
   ]
  },
  {
   "cell_type": "code",
   "execution_count": 49,
   "metadata": {},
   "outputs": [
    {
     "data": {
      "text/plain": [
       "{'input_ids': tensor([[    0, 19065,  3655,     6,  1491,    99,    38,    21,  2818,    13,\n",
       "           600,     4,   345,    18,     5,  1461, 20749,     4,   345,    18,\n",
       "             5, 25789, 20749,    14,    21,   198,    31,  2266,     7,  1824,\n",
       "             6,    61,    56,  1823, 26656,    36,   387,     6,   495,     6,\n",
       "           250,     6,  4753,  1592,     8,  4209,   457,     5,  4696,    19,\n",
       "          4276, 30648,  4045, 31469,     4,   125, 25044,    34,  1613,   124,\n",
       "             7,    10, 12117,    55,  1122,     7,     5,  1461,    19,   455,\n",
       "          4696,  1383,     4,    38,    21,  2818,    13,     5, 25789,  1732,\n",
       "             6,    61,    97, 34910,   829,     4,     2]]), 'attention_mask': tensor([[1, 1, 1, 1, 1, 1, 1, 1, 1, 1, 1, 1, 1, 1, 1, 1, 1, 1, 1, 1, 1, 1, 1, 1,\n",
       "         1, 1, 1, 1, 1, 1, 1, 1, 1, 1, 1, 1, 1, 1, 1, 1, 1, 1, 1, 1, 1, 1, 1, 1,\n",
       "         1, 1, 1, 1, 1, 1, 1, 1, 1, 1, 1, 1, 1, 1, 1, 1, 1, 1, 1, 1, 1, 1, 1, 1,\n",
       "         1, 1, 1, 1, 1, 1, 1, 1, 1, 1, 1, 1, 1, 1, 1]])}"
      ]
     },
     "execution_count": 49,
     "metadata": {},
     "output_type": "execute_result"
    }
   ],
   "source": [
    "#Run Roberta model for example\n",
    "#here tf = tensorflow\n",
    "encoded_text = tokenizer(example, return_tensors='pt') \n",
    "encoded_text"
   ]
  },
  {
   "cell_type": "code",
   "execution_count": 50,
   "metadata": {},
   "outputs": [],
   "source": [
    "output = model(**encoded_text)"
   ]
  },
  {
   "cell_type": "code",
   "execution_count": 51,
   "metadata": {},
   "outputs": [
    {
     "data": {
      "text/plain": [
       "{'roberta_pos': 0.09246168, 'roberta_neu': 0.5420258, 'roberta_neg': 0.3655125}"
      ]
     },
     "execution_count": 51,
     "metadata": {},
     "output_type": "execute_result"
    }
   ],
   "source": [
    "scores = output[0][0].detach().numpy()\n",
    "scores = softmax(scores) \n",
    "scores_dict = {\n",
    "    'roberta_pos': scores[0],\n",
    "    'roberta_neu': scores[1],\n",
    "    'roberta_neg': scores[2],\n",
    "}\n",
    "scores_dict"
   ]
  },
  {
   "cell_type": "code",
   "execution_count": 52,
   "metadata": {},
   "outputs": [
    {
     "name": "stdout",
     "output_type": "stream",
     "text": [
      "User's actual given star review on the example is: 4\n"
     ]
    }
   ],
   "source": [
    "print(f\"User's actual given star review on the example is: {df['Score'][50]}\")"
   ]
  },
  {
   "cell_type": "markdown",
   "metadata": {},
   "source": [
    "**Observation:**\n",
    "\n",
    "The Roberta Model does seem to better understand the context and give a overall more appropriate score for the given example, that the user does start with a positive comment but actually have some complaints about the products too. But as we can confirm from user's given rating the overall sentiment and review is still positive.\n",
    "\n",
    "**Run the RoBERTa model over all the review examples**"
   ]
  },
  {
   "cell_type": "code",
   "execution_count": 81,
   "metadata": {},
   "outputs": [],
   "source": [
    "def polarity_scores_roberta(text):\n",
    "    encoded_text = tokenizer(text, return_tensors='pt')\n",
    "    output = model(**encoded_text)\n",
    "    scores = output[0][0].detach().numpy()\n",
    "    scores = softmax(scores)\n",
    "    scores_dict = {\n",
    "        'roberta_neg': scores[0],\n",
    "        'roberta_neu': scores[1],\n",
    "        'roberta_pos': scores[2],\n",
    "    }\n",
    "    \n",
    "    return scores_dict"
   ]
  },
  {
   "cell_type": "code",
   "execution_count": 82,
   "metadata": {},
   "outputs": [
    {
     "data": {
      "application/vnd.jupyter.widget-view+json": {
       "model_id": "addabda5cfff4a8f8cc503cde8cf2d7f",
       "version_major": 2,
       "version_minor": 0
      },
      "text/plain": [
       "HBox(children=(FloatProgress(value=0.0, max=500.0), HTML(value='')))"
      ]
     },
     "metadata": {},
     "output_type": "display_data"
    },
    {
     "name": "stdout",
     "output_type": "stream",
     "text": [
      "\n"
     ]
    }
   ],
   "source": [
    "results = {}\n",
    "for idx, row in tqdm(df.iterrows(), total=len(df)):\n",
    "\n",
    "    text = row['review_text']\n",
    "\n",
    "    #Roberta Model can only accept text with max length of 514\n",
    "    if len(text) > 514:\n",
    "        text = text[:514]\n",
    "\n",
    "    vader_result = sia.polarity_scores(text)    \n",
    "    #rename the results of vader\n",
    "    vader_result_rename = {}\n",
    "    for key, value in vader_result.items():\n",
    "        vader_result_rename[f'vader_{key}'] = value\n",
    "\n",
    "    #making predictions using roberta model\n",
    "    roberta_result = polarity_scores_roberta(text)\n",
    "\n",
    "    #combine both results \n",
    "    result = roberta_result.copy()\n",
    "    result.update(vader_result_rename)\n",
    "\n",
    "    results[idx] = result"
   ]
  },
  {
   "cell_type": "code",
   "execution_count": 83,
   "metadata": {},
   "outputs": [
    {
     "data": {
      "text/html": [
       "<div>\n",
       "<style scoped>\n",
       "    .dataframe tbody tr th:only-of-type {\n",
       "        vertical-align: middle;\n",
       "    }\n",
       "\n",
       "    .dataframe tbody tr th {\n",
       "        vertical-align: top;\n",
       "    }\n",
       "\n",
       "    .dataframe thead th {\n",
       "        text-align: right;\n",
       "    }\n",
       "</style>\n",
       "<table border=\"1\" class=\"dataframe\">\n",
       "  <thead>\n",
       "    <tr style=\"text-align: right;\">\n",
       "      <th></th>\n",
       "      <th>roberta_neg</th>\n",
       "      <th>roberta_neu</th>\n",
       "      <th>roberta_pos</th>\n",
       "      <th>vader_neg</th>\n",
       "      <th>vader_neu</th>\n",
       "      <th>vader_pos</th>\n",
       "      <th>vader_compound</th>\n",
       "      <th>Score</th>\n",
       "      <th>review_text</th>\n",
       "    </tr>\n",
       "  </thead>\n",
       "  <tbody>\n",
       "    <tr>\n",
       "      <th>0</th>\n",
       "      <td>0.655937</td>\n",
       "      <td>0.270591</td>\n",
       "      <td>0.073472</td>\n",
       "      <td>0.064</td>\n",
       "      <td>0.805</td>\n",
       "      <td>0.132</td>\n",
       "      <td>0.7269</td>\n",
       "      <td>1</td>\n",
       "      <td>Sprayed orange grease all over the inside of t...</td>\n",
       "    </tr>\n",
       "    <tr>\n",
       "      <th>1</th>\n",
       "      <td>0.555764</td>\n",
       "      <td>0.328938</td>\n",
       "      <td>0.115297</td>\n",
       "      <td>0.082</td>\n",
       "      <td>0.727</td>\n",
       "      <td>0.192</td>\n",
       "      <td>0.7655</td>\n",
       "      <td>3</td>\n",
       "      <td>Had higher expectations It is a naturally swee...</td>\n",
       "    </tr>\n",
       "    <tr>\n",
       "      <th>2</th>\n",
       "      <td>0.002329</td>\n",
       "      <td>0.030420</td>\n",
       "      <td>0.967251</td>\n",
       "      <td>0.025</td>\n",
       "      <td>0.807</td>\n",
       "      <td>0.168</td>\n",
       "      <td>0.9194</td>\n",
       "      <td>5</td>\n",
       "      <td>Everything is as it should be I ordered these ...</td>\n",
       "    </tr>\n",
       "    <tr>\n",
       "      <th>3</th>\n",
       "      <td>0.090271</td>\n",
       "      <td>0.174114</td>\n",
       "      <td>0.735615</td>\n",
       "      <td>0.092</td>\n",
       "      <td>0.693</td>\n",
       "      <td>0.214</td>\n",
       "      <td>0.9061</td>\n",
       "      <td>5</td>\n",
       "      <td>So Happy I found this; Product is Fabulous I d...</td>\n",
       "    </tr>\n",
       "    <tr>\n",
       "      <th>4</th>\n",
       "      <td>0.002495</td>\n",
       "      <td>0.013362</td>\n",
       "      <td>0.984142</td>\n",
       "      <td>0.000</td>\n",
       "      <td>0.497</td>\n",
       "      <td>0.503</td>\n",
       "      <td>0.9692</td>\n",
       "      <td>5</td>\n",
       "      <td>Great tea, very satisfying Nice mellow tea for...</td>\n",
       "    </tr>\n",
       "  </tbody>\n",
       "</table>\n",
       "</div>"
      ],
      "text/plain": [
       "   roberta_neg  roberta_neu  roberta_pos  vader_neg  vader_neu  vader_pos  \\\n",
       "0     0.655937     0.270591     0.073472      0.064      0.805      0.132   \n",
       "1     0.555764     0.328938     0.115297      0.082      0.727      0.192   \n",
       "2     0.002329     0.030420     0.967251      0.025      0.807      0.168   \n",
       "3     0.090271     0.174114     0.735615      0.092      0.693      0.214   \n",
       "4     0.002495     0.013362     0.984142      0.000      0.497      0.503   \n",
       "\n",
       "   vader_compound  Score                                        review_text  \n",
       "0          0.7269      1  Sprayed orange grease all over the inside of t...  \n",
       "1          0.7655      3  Had higher expectations It is a naturally swee...  \n",
       "2          0.9194      5  Everything is as it should be I ordered these ...  \n",
       "3          0.9061      5  So Happy I found this; Product is Fabulous I d...  \n",
       "4          0.9692      5  Great tea, very satisfying Nice mellow tea for...  "
      ]
     },
     "execution_count": 83,
     "metadata": {},
     "output_type": "execute_result"
    }
   ],
   "source": [
    "results_df = pd.DataFrame(results).T\n",
    "results_df = results_df.merge(df, how = 'left', right_index=True, left_index=True)\n",
    "results_df.head()"
   ]
  },
  {
   "cell_type": "code",
   "execution_count": 84,
   "metadata": {},
   "outputs": [
    {
     "data": {
      "text/html": [
       "<style  type=\"text/css\" >\n",
       "    #T_22f2ee9f_7306_11ef_ac03_a86daaca20fa th {\n",
       "          text-align: center;\n",
       "          border: 1px solid black;\n",
       "    }    #T_22f2ee9f_7306_11ef_ac03_a86daaca20fa td {\n",
       "          border: 1px solid black;\n",
       "    }#T_22f2ee9f_7306_11ef_ac03_a86daaca20farow0_col0,#T_22f2ee9f_7306_11ef_ac03_a86daaca20farow0_col1,#T_22f2ee9f_7306_11ef_ac03_a86daaca20farow0_col2,#T_22f2ee9f_7306_11ef_ac03_a86daaca20farow0_col3,#T_22f2ee9f_7306_11ef_ac03_a86daaca20farow0_col4,#T_22f2ee9f_7306_11ef_ac03_a86daaca20farow0_col5,#T_22f2ee9f_7306_11ef_ac03_a86daaca20farow0_col6,#T_22f2ee9f_7306_11ef_ac03_a86daaca20farow0_col7,#T_22f2ee9f_7306_11ef_ac03_a86daaca20farow0_col8,#T_22f2ee9f_7306_11ef_ac03_a86daaca20farow1_col0,#T_22f2ee9f_7306_11ef_ac03_a86daaca20farow1_col1,#T_22f2ee9f_7306_11ef_ac03_a86daaca20farow1_col2,#T_22f2ee9f_7306_11ef_ac03_a86daaca20farow1_col3,#T_22f2ee9f_7306_11ef_ac03_a86daaca20farow1_col4,#T_22f2ee9f_7306_11ef_ac03_a86daaca20farow1_col5,#T_22f2ee9f_7306_11ef_ac03_a86daaca20farow1_col6,#T_22f2ee9f_7306_11ef_ac03_a86daaca20farow1_col7,#T_22f2ee9f_7306_11ef_ac03_a86daaca20farow1_col8,#T_22f2ee9f_7306_11ef_ac03_a86daaca20farow2_col0,#T_22f2ee9f_7306_11ef_ac03_a86daaca20farow2_col1,#T_22f2ee9f_7306_11ef_ac03_a86daaca20farow2_col2,#T_22f2ee9f_7306_11ef_ac03_a86daaca20farow2_col3,#T_22f2ee9f_7306_11ef_ac03_a86daaca20farow2_col4,#T_22f2ee9f_7306_11ef_ac03_a86daaca20farow2_col5,#T_22f2ee9f_7306_11ef_ac03_a86daaca20farow2_col6,#T_22f2ee9f_7306_11ef_ac03_a86daaca20farow2_col7,#T_22f2ee9f_7306_11ef_ac03_a86daaca20farow2_col8,#T_22f2ee9f_7306_11ef_ac03_a86daaca20farow3_col0,#T_22f2ee9f_7306_11ef_ac03_a86daaca20farow3_col1,#T_22f2ee9f_7306_11ef_ac03_a86daaca20farow3_col2,#T_22f2ee9f_7306_11ef_ac03_a86daaca20farow3_col3,#T_22f2ee9f_7306_11ef_ac03_a86daaca20farow3_col4,#T_22f2ee9f_7306_11ef_ac03_a86daaca20farow3_col5,#T_22f2ee9f_7306_11ef_ac03_a86daaca20farow3_col6,#T_22f2ee9f_7306_11ef_ac03_a86daaca20farow3_col7,#T_22f2ee9f_7306_11ef_ac03_a86daaca20farow3_col8,#T_22f2ee9f_7306_11ef_ac03_a86daaca20farow4_col0,#T_22f2ee9f_7306_11ef_ac03_a86daaca20farow4_col1,#T_22f2ee9f_7306_11ef_ac03_a86daaca20farow4_col2,#T_22f2ee9f_7306_11ef_ac03_a86daaca20farow4_col3,#T_22f2ee9f_7306_11ef_ac03_a86daaca20farow4_col4,#T_22f2ee9f_7306_11ef_ac03_a86daaca20farow4_col5,#T_22f2ee9f_7306_11ef_ac03_a86daaca20farow4_col6,#T_22f2ee9f_7306_11ef_ac03_a86daaca20farow4_col7,#T_22f2ee9f_7306_11ef_ac03_a86daaca20farow4_col8{\n",
       "            text-align:  left;\n",
       "        }</style><table id=\"T_22f2ee9f_7306_11ef_ac03_a86daaca20fa\" ><thead>    <tr>        <th class=\"col_heading level0 col0\" >roberta_neg</th>        <th class=\"col_heading level0 col1\" >roberta_neu</th>        <th class=\"col_heading level0 col2\" >roberta_pos</th>        <th class=\"col_heading level0 col3\" >vader_neg</th>        <th class=\"col_heading level0 col4\" >vader_neu</th>        <th class=\"col_heading level0 col5\" >vader_pos</th>        <th class=\"col_heading level0 col6\" >vader_compound</th>        <th class=\"col_heading level0 col7\" >Score</th>        <th class=\"col_heading level0 col8\" >review_text</th>    </tr></thead><tbody>\n",
       "                <tr>\n",
       "                                <td id=\"T_22f2ee9f_7306_11ef_ac03_a86daaca20farow0_col0\" class=\"data row0 col0\" >0.655937</td>\n",
       "                        <td id=\"T_22f2ee9f_7306_11ef_ac03_a86daaca20farow0_col1\" class=\"data row0 col1\" >0.270591</td>\n",
       "                        <td id=\"T_22f2ee9f_7306_11ef_ac03_a86daaca20farow0_col2\" class=\"data row0 col2\" >0.073472</td>\n",
       "                        <td id=\"T_22f2ee9f_7306_11ef_ac03_a86daaca20farow0_col3\" class=\"data row0 col3\" >0.064000</td>\n",
       "                        <td id=\"T_22f2ee9f_7306_11ef_ac03_a86daaca20farow0_col4\" class=\"data row0 col4\" >0.805000</td>\n",
       "                        <td id=\"T_22f2ee9f_7306_11ef_ac03_a86daaca20farow0_col5\" class=\"data row0 col5\" >0.132000</td>\n",
       "                        <td id=\"T_22f2ee9f_7306_11ef_ac03_a86daaca20farow0_col6\" class=\"data row0 col6\" >0.726900</td>\n",
       "                        <td id=\"T_22f2ee9f_7306_11ef_ac03_a86daaca20farow0_col7\" class=\"data row0 col7\" >1</td>\n",
       "                        <td id=\"T_22f2ee9f_7306_11ef_ac03_a86daaca20farow0_col8\" class=\"data row0 col8\" >Sprayed orange grease all over the inside of the microwave The pop-up bowl sounds like a great idea, but evidently they rushed it to market before all the bugs were out.<br /><br />The first bag I cooked was fine, except the instructions for opening the bag are far from clear, and even after you figure out how to do it it's a lot of trouble and makes a big mess.<br /><br />But the second bag evidently sprang a leak - it sprayed bright orange grease all over the inside of my microwave, even into the tiny vent holes inside the top and side. I always watch popcorn carefully while it pops, but I could not see the grease spray until after it was done and I opened the door. Cleaning it all out was a horrible ordeal, and I'm sure everything I cook in the microwave will come out smelling like popcorn grease for weeks.<br /><br />They released this product too soon. It needs serious redesign. I will not buy it again.</td>\n",
       "            </tr>\n",
       "            <tr>\n",
       "                                <td id=\"T_22f2ee9f_7306_11ef_ac03_a86daaca20farow1_col0\" class=\"data row1 col0\" >0.555764</td>\n",
       "                        <td id=\"T_22f2ee9f_7306_11ef_ac03_a86daaca20farow1_col1\" class=\"data row1 col1\" >0.328938</td>\n",
       "                        <td id=\"T_22f2ee9f_7306_11ef_ac03_a86daaca20farow1_col2\" class=\"data row1 col2\" >0.115297</td>\n",
       "                        <td id=\"T_22f2ee9f_7306_11ef_ac03_a86daaca20farow1_col3\" class=\"data row1 col3\" >0.082000</td>\n",
       "                        <td id=\"T_22f2ee9f_7306_11ef_ac03_a86daaca20farow1_col4\" class=\"data row1 col4\" >0.727000</td>\n",
       "                        <td id=\"T_22f2ee9f_7306_11ef_ac03_a86daaca20farow1_col5\" class=\"data row1 col5\" >0.192000</td>\n",
       "                        <td id=\"T_22f2ee9f_7306_11ef_ac03_a86daaca20farow1_col6\" class=\"data row1 col6\" >0.765500</td>\n",
       "                        <td id=\"T_22f2ee9f_7306_11ef_ac03_a86daaca20farow1_col7\" class=\"data row1 col7\" >3</td>\n",
       "                        <td id=\"T_22f2ee9f_7306_11ef_ac03_a86daaca20farow1_col8\" class=\"data row1 col8\" >Had higher expectations It is a naturally sweetened soda with Stevia, but I expect more robust flavor simular to Dr. Pepper.  I wouldn't even say it is close to Dr. Pepper.  I was disappointed, especially when I love the \"Cola\" flavor of Zevia so much.</td>\n",
       "            </tr>\n",
       "            <tr>\n",
       "                                <td id=\"T_22f2ee9f_7306_11ef_ac03_a86daaca20farow2_col0\" class=\"data row2 col0\" >0.002329</td>\n",
       "                        <td id=\"T_22f2ee9f_7306_11ef_ac03_a86daaca20farow2_col1\" class=\"data row2 col1\" >0.030420</td>\n",
       "                        <td id=\"T_22f2ee9f_7306_11ef_ac03_a86daaca20farow2_col2\" class=\"data row2 col2\" >0.967251</td>\n",
       "                        <td id=\"T_22f2ee9f_7306_11ef_ac03_a86daaca20farow2_col3\" class=\"data row2 col3\" >0.025000</td>\n",
       "                        <td id=\"T_22f2ee9f_7306_11ef_ac03_a86daaca20farow2_col4\" class=\"data row2 col4\" >0.807000</td>\n",
       "                        <td id=\"T_22f2ee9f_7306_11ef_ac03_a86daaca20farow2_col5\" class=\"data row2 col5\" >0.168000</td>\n",
       "                        <td id=\"T_22f2ee9f_7306_11ef_ac03_a86daaca20farow2_col6\" class=\"data row2 col6\" >0.919400</td>\n",
       "                        <td id=\"T_22f2ee9f_7306_11ef_ac03_a86daaca20farow2_col7\" class=\"data row2 col7\" >5</td>\n",
       "                        <td id=\"T_22f2ee9f_7306_11ef_ac03_a86daaca20farow2_col8\" class=\"data row2 col8\" >Everything is as it should be I ordered these nuts...for both my own personal consumption...and my two African Greys Scaredy Bird and Reggie.<br /><br />I believe I can speak for all of us in saying that the nuts arrived on time and in delectable condition. They were fresh....and arrived not broken or damaged in any way.<br /><br />Diamond Nuts..has a high reputation with me---and they continue to prove their worth..by sending out a excellent product !<br /><br />I do --highly recommend this company--and this product !</td>\n",
       "            </tr>\n",
       "            <tr>\n",
       "                                <td id=\"T_22f2ee9f_7306_11ef_ac03_a86daaca20farow3_col0\" class=\"data row3 col0\" >0.090271</td>\n",
       "                        <td id=\"T_22f2ee9f_7306_11ef_ac03_a86daaca20farow3_col1\" class=\"data row3 col1\" >0.174114</td>\n",
       "                        <td id=\"T_22f2ee9f_7306_11ef_ac03_a86daaca20farow3_col2\" class=\"data row3 col2\" >0.735615</td>\n",
       "                        <td id=\"T_22f2ee9f_7306_11ef_ac03_a86daaca20farow3_col3\" class=\"data row3 col3\" >0.092000</td>\n",
       "                        <td id=\"T_22f2ee9f_7306_11ef_ac03_a86daaca20farow3_col4\" class=\"data row3 col4\" >0.693000</td>\n",
       "                        <td id=\"T_22f2ee9f_7306_11ef_ac03_a86daaca20farow3_col5\" class=\"data row3 col5\" >0.214000</td>\n",
       "                        <td id=\"T_22f2ee9f_7306_11ef_ac03_a86daaca20farow3_col6\" class=\"data row3 col6\" >0.906100</td>\n",
       "                        <td id=\"T_22f2ee9f_7306_11ef_ac03_a86daaca20farow3_col7\" class=\"data row3 col7\" >5</td>\n",
       "                        <td id=\"T_22f2ee9f_7306_11ef_ac03_a86daaca20farow3_col8\" class=\"data row3 col8\" >So Happy I found this; Product is Fabulous I decided to stop using sweet n' low for obvious reasons.  I hated the cost of buying the boxes of Splenda in my locale grocery, as it was so expensive.  When I googled Splenda and found this I was elated and ordered it right away.  I will order a second for my home upstate shortly, as I certainly cannot transport this box in an efficient manner  and I need it in my City location.</td>\n",
       "            </tr>\n",
       "            <tr>\n",
       "                                <td id=\"T_22f2ee9f_7306_11ef_ac03_a86daaca20farow4_col0\" class=\"data row4 col0\" >0.002495</td>\n",
       "                        <td id=\"T_22f2ee9f_7306_11ef_ac03_a86daaca20farow4_col1\" class=\"data row4 col1\" >0.013362</td>\n",
       "                        <td id=\"T_22f2ee9f_7306_11ef_ac03_a86daaca20farow4_col2\" class=\"data row4 col2\" >0.984142</td>\n",
       "                        <td id=\"T_22f2ee9f_7306_11ef_ac03_a86daaca20farow4_col3\" class=\"data row4 col3\" >0.000000</td>\n",
       "                        <td id=\"T_22f2ee9f_7306_11ef_ac03_a86daaca20farow4_col4\" class=\"data row4 col4\" >0.497000</td>\n",
       "                        <td id=\"T_22f2ee9f_7306_11ef_ac03_a86daaca20farow4_col5\" class=\"data row4 col5\" >0.503000</td>\n",
       "                        <td id=\"T_22f2ee9f_7306_11ef_ac03_a86daaca20farow4_col6\" class=\"data row4 col6\" >0.969200</td>\n",
       "                        <td id=\"T_22f2ee9f_7306_11ef_ac03_a86daaca20farow4_col7\" class=\"data row4 col7\" >5</td>\n",
       "                        <td id=\"T_22f2ee9f_7306_11ef_ac03_a86daaca20farow4_col8\" class=\"data row4 col8\" >Great tea, very satisfying Nice mellow tea for all occassions.  I'm an ex-coffee drinker searching for an alternative and this product fit nicely.  It's smooth, very satisfying.  Nice product.</td>\n",
       "            </tr>\n",
       "    </tbody></table>"
      ],
      "text/plain": [
       "<pandas.io.formats.style.Styler at 0x1f18dbd5580>"
      ]
     },
     "metadata": {},
     "output_type": "display_data"
    }
   ],
   "source": [
    "# Apply styling\n",
    "styled_results_df = results_df.head().style.apply(highlight_cols, axis=1).set_table_styles(\n",
    "    [{'selector': 'th', 'props': [('text-align', 'center'), ('border', '1px solid black')]},\n",
    "     {'selector': 'td', 'props': [('border', '1px solid black')]}]\n",
    ").hide_index()\n",
    "\n",
    "# Display the DataFrame\n",
    "display(styled_results_df)"
   ]
  },
  {
   "cell_type": "code",
   "execution_count": 85,
   "metadata": {},
   "outputs": [
    {
     "data": {
      "image/png": "[encoded data removed]",
      "text/plain": [
       "<Figure size 2160x720 with 3 Axes>"
      ]
     },
     "metadata": {
      "needs_background": "light"
     },
     "output_type": "display_data"
    }
   ],
   "source": [
    "# Plot Roberta results\n",
    "fig, axs = plt.subplots(1, 3, figsize=(30, 10))\n",
    "sns.barplot(data=results_df, x='Score', y='roberta_pos', ax=axs[0])\n",
    "sns.barplot(data=results_df, x='Score', y='roberta_neu', ax=axs[1])\n",
    "sns.barplot(data=results_df, x='Score', y='roberta_neg', ax=axs[2])\n",
    "axs[0].set_title(\"Positive\")\n",
    "axs[1].set_title(\"Neutral\")\n",
    "axs[2].set_title(\"Negative\")\n",
    "plt.show()"
   ]
  },
  {
   "cell_type": "markdown",
   "metadata": {},
   "source": [
    "**Observations:**\n",
    "- with roberta model there seems to be a even more clear trend as when positivity score increases the star rating increases and with higher star reviews negetive sentiment decreases drastically. So we can get a much better idea of how users are feeling with text sentiment prediction by Roberta Model."
   ]
  },
  {
   "cell_type": "markdown",
   "metadata": {},
   "source": [
    "## Review Examples\n",
    "\n",
    "**Positive Sentiment Prediction but low star review**\n",
    "\n",
    "Which are the examples that our models classifies as having a positive sentiment but it actually has a low star rating"
   ]
  },
  {
   "cell_type": "code",
   "execution_count": 57,
   "metadata": {},
   "outputs": [
    {
     "data": {
      "text/plain": [
       "\"YUCH! Impressed,as always,with Amazon's expedient delivery. I perused customer reviews before ordering and felt comfortable with my choice (I was going to get the Emeril Bourbon Street blend , which I love) as reviewers gave this a great rating. I find it strong but bitter as opposed to strong and rich. Would not recommend this blend to anyone. No negatives to Amazon but wonder who could find this a pleasurable coffee.\""
      ]
     },
     "execution_count": 57,
     "metadata": {},
     "output_type": "execute_result"
    }
   ],
   "source": [
    "results_df.query('Score == 1').sort_values('vader_pos', ascending=False)['review_text'].values[0]"
   ]
  },
  {
   "cell_type": "markdown",
   "metadata": {},
   "source": [
    "- So we can see this is a confusing statement as the user praises Amazon's service but is actually disappointed by the product, and our model was not able to make that distinction."
   ]
  },
  {
   "cell_type": "code",
   "execution_count": 58,
   "metadata": {},
   "outputs": [
    {
     "data": {
      "text/plain": [
       "\"YUCH! Impressed,as always,with Amazon's expedient delivery. I perused customer reviews before ordering and felt comfortable with my choice (I was going to get the Emeril Bourbon Street blend , which I love) as reviewers gave this a great rating. I find it strong but bitter as opposed to strong and rich. Would not recommend this blend to anyone. No negatives to Amazon but wonder who could find this a pleasurable coffee.\""
      ]
     },
     "execution_count": 58,
     "metadata": {},
     "output_type": "execute_result"
    }
   ],
   "source": [
    "results_df.query('Score == 1').sort_values('roberta_pos', ascending=False)['review_text'].values[0]"
   ]
  },
  {
   "cell_type": "markdown",
   "metadata": {},
   "source": [
    "- Roberta model also got the same review wrong"
   ]
  },
  {
   "cell_type": "markdown",
   "metadata": {},
   "source": [
    "**Negative Sentiment Prediction but high star review**\n",
    "\n",
    "Which are the examples that our models classifies as having a negative sentiment but it actually has a high star rating."
   ]
  },
  {
   "cell_type": "code",
   "execution_count": 59,
   "metadata": {},
   "outputs": [
    {
     "data": {
      "text/plain": [
       "\"Miss those nuts Really enjoy those Redskins. Realy disappointment that Planters discontinued those big cans. Now I have to buy small ones frequently. Let's get them back.\""
      ]
     },
     "execution_count": 59,
     "metadata": {},
     "output_type": "execute_result"
    }
   ],
   "source": [
    "results_df.query('Score == 5').sort_values('vader_neg', ascending=False)['review_text'].values[0]"
   ]
  },
  {
   "cell_type": "markdown",
   "metadata": {},
   "source": [
    "- The sentence does contain words like disappointment and user does want some changes in product but overall, the user has a positive sentiment towards the product."
   ]
  },
  {
   "cell_type": "code",
   "execution_count": 60,
   "metadata": {},
   "outputs": [
    {
     "data": {
      "text/plain": [
       "\"price warp Exceptional coffee, but now priced out of my league.  This is the most totally unreasonable price hike I've seen in a long while--anywhere for anything.\""
      ]
     },
     "execution_count": 60,
     "metadata": {},
     "output_type": "execute_result"
    }
   ],
   "source": [
    "results_df.query('Score == 5').sort_values('roberta_neg', ascending=False)['review_text'].values[0]"
   ]
  },
  {
   "cell_type": "markdown",
   "metadata": {},
   "source": [
    "- In the text review the user expresses disagreement with change in product price, so our model classified it as a negative sentiment but the user's overall sentiment towards the product is positive."
   ]
  },
  {
   "cell_type": "markdown",
   "metadata": {},
   "source": [
    "## Directly predicting the star rating from the text review\n",
    "Using the `**BERT**` based model from hugging face 🤗 to classify the text between 1 to 5 star rating depending on the sentiment of the comment.\n",
    "\n",
    "- Instead of just predicting if the review is positive or not, we can get a more quantitative result in form of rating."
   ]
  },
  {
   "cell_type": "code",
   "execution_count": 61,
   "metadata": {},
   "outputs": [],
   "source": [
    "#load the model\n",
    "ratings_model_name = 'nlptown/bert-base-multilingual-uncased-sentiment'\n",
    "ratings_tokenizer = AutoTokenizer.from_pretrained(ratings_model_name)\n",
    "ratings_model = AutoModelForSequenceClassification.from_pretrained(ratings_model_name)"
   ]
  },
  {
   "cell_type": "code",
   "execution_count": 62,
   "metadata": {},
   "outputs": [
    {
     "name": "stdout",
     "output_type": "stream",
     "text": [
      "Example review: Great Price, Not what I was hoping for though. There's the original Tang. There's the fruition Tang that was around from 2008 to 2010, which had extra vitamins (B,D,A, etc.) and replaced half the sugar with zero calorie sweeteners. But tang has gone back to a flavor more similar to the original with full sugar content. I was hoping for the fruition version, which other reviewers received.\n",
      "\n",
      "Actual Rating: 4\n"
     ]
    }
   ],
   "source": [
    "print(\"Example review:\", example)\n",
    "print(\"\\nActual Rating:\", df['Score'][50])"
   ]
  },
  {
   "cell_type": "code",
   "execution_count": 63,
   "metadata": {},
   "outputs": [
    {
     "data": {
      "text/plain": [
       "{'input_ids': tensor([[  101, 11838, 16993,   117, 10497, 11523,   151, 10140, 13365, 10285,\n",
       "         10139, 14325,   119, 10768,   112,   161, 10103, 11383, 14167,   119,\n",
       "         10768,   112,   161, 10103, 25527, 11210, 14167, 10203, 10140, 12096,\n",
       "         10195, 10224, 10114, 10183,   117, 10359, 10407, 17708, 44691, 10107,\n",
       "           113,   144,   117,   146,   117,   143,   117, 12575,   119,   114,\n",
       "         10110, 16841, 13460, 10103, 25238, 10171, 17209, 43444, 10453, 19355,\n",
       "         36652, 10107,   119, 10502, 14167, 10438, 23398, 11677, 10114,   143,\n",
       "         19341, 27553, 10131, 10772, 13344, 10114, 10103, 11383, 10171, 12851,\n",
       "         25238, 18491,   119,   151, 10140, 13365, 10285, 10139, 10103, 25527,\n",
       "         11210, 10947,   117, 10359, 10675, 12893, 11122, 12552,   119,   102]]), 'token_type_ids': tensor([[0, 0, 0, 0, 0, 0, 0, 0, 0, 0, 0, 0, 0, 0, 0, 0, 0, 0, 0, 0, 0, 0, 0, 0,\n",
       "         0, 0, 0, 0, 0, 0, 0, 0, 0, 0, 0, 0, 0, 0, 0, 0, 0, 0, 0, 0, 0, 0, 0, 0,\n",
       "         0, 0, 0, 0, 0, 0, 0, 0, 0, 0, 0, 0, 0, 0, 0, 0, 0, 0, 0, 0, 0, 0, 0, 0,\n",
       "         0, 0, 0, 0, 0, 0, 0, 0, 0, 0, 0, 0, 0, 0, 0, 0, 0, 0, 0, 0, 0, 0, 0, 0,\n",
       "         0, 0, 0, 0]]), 'attention_mask': tensor([[1, 1, 1, 1, 1, 1, 1, 1, 1, 1, 1, 1, 1, 1, 1, 1, 1, 1, 1, 1, 1, 1, 1, 1,\n",
       "         1, 1, 1, 1, 1, 1, 1, 1, 1, 1, 1, 1, 1, 1, 1, 1, 1, 1, 1, 1, 1, 1, 1, 1,\n",
       "         1, 1, 1, 1, 1, 1, 1, 1, 1, 1, 1, 1, 1, 1, 1, 1, 1, 1, 1, 1, 1, 1, 1, 1,\n",
       "         1, 1, 1, 1, 1, 1, 1, 1, 1, 1, 1, 1, 1, 1, 1, 1, 1, 1, 1, 1, 1, 1, 1, 1,\n",
       "         1, 1, 1, 1]])}"
      ]
     },
     "execution_count": 63,
     "metadata": {},
     "output_type": "execute_result"
    }
   ],
   "source": [
    "ratings_encoded_text = ratings_tokenizer(example, return_tensors='pt')\n",
    "ratings_encoded_text"
   ]
  },
  {
   "cell_type": "code",
   "execution_count": 64,
   "metadata": {},
   "outputs": [],
   "source": [
    "ratings_output = ratings_model(**ratings_encoded_text)"
   ]
  },
  {
   "cell_type": "code",
   "execution_count": 65,
   "metadata": {},
   "outputs": [
    {
     "data": {
      "text/plain": [
       "array([-1.4275525,  0.7332723,  1.8107648,  0.8325193, -1.6171392],\n",
       "      dtype=float32)"
      ]
     },
     "execution_count": 65,
     "metadata": {},
     "output_type": "execute_result"
    }
   ],
   "source": [
    "ratings_output.logits[0].detach().numpy()"
   ]
  },
  {
   "cell_type": "code",
   "execution_count": 66,
   "metadata": {},
   "outputs": [
    {
     "name": "stdout",
     "output_type": "stream",
     "text": [
      "Predicted Star rating: 3\n"
     ]
    }
   ],
   "source": [
    "#we have to add one as indexing starts from 0 but star ratings are from 1 to 5\n",
    "ratings_pred = np.argmax(ratings_output.logits[0].detach().numpy()) + 1\n",
    "print(\"Predicted Star rating:\", ratings_pred)"
   ]
  },
  {
   "cell_type": "code",
   "execution_count": 67,
   "metadata": {},
   "outputs": [],
   "source": [
    "def rating_prediction_bert(text):\n",
    "    ratings_encoded_text = ratings_tokenizer(text, return_tensors='pt')\n",
    "    res = ratings_model(**ratings_encoded_text)\n",
    "    rating = np.argmax(res.logits[0].detach().numpy()) + 1\n",
    "    \n",
    "    return {'rating' : rating}"
   ]
  },
  {
   "cell_type": "markdown",
   "metadata": {},
   "source": [
    "**Make prediction for all reviews**"
   ]
  },
  {
   "cell_type": "code",
   "execution_count": 68,
   "metadata": {},
   "outputs": [
    {
     "data": {
      "application/vnd.jupyter.widget-view+json": {
       "model_id": "5479a03668874664badb2bc4de514ed5",
       "version_major": 2,
       "version_minor": 0
      },
      "text/plain": [
       "HBox(children=(FloatProgress(value=0.0, max=500.0), HTML(value='')))"
      ]
     },
     "metadata": {},
     "output_type": "display_data"
    },
    {
     "name": "stdout",
     "output_type": "stream",
     "text": [
      "\n"
     ]
    }
   ],
   "source": [
    "ratings_results = {}\n",
    "for idx, row in tqdm(df.iterrows(), total=len(df)):\n",
    "    text = row['review_text']\n",
    "\n",
    "    #BERT Model can only accept text with max length of 514\n",
    "    if len(text) > 514:\n",
    "        text = text[:514]\n",
    "\n",
    "    #making rating predictions using bert model\n",
    "    rating_prediction = rating_prediction_bert(text)\n",
    "\n",
    "    ratings_results[idx] = rating_prediction"
   ]
  },
  {
   "cell_type": "code",
   "execution_count": 69,
   "metadata": {},
   "outputs": [
    {
     "data": {
      "text/html": [
       "<style  type=\"text/css\" >\n",
       "    #T_84db2033_72d2_11ef_9c8a_a86daaca20fa th {\n",
       "          text-align: center;\n",
       "          border: 1px solid black;\n",
       "    }    #T_84db2033_72d2_11ef_9c8a_a86daaca20fa td {\n",
       "          border: 1px solid black;\n",
       "    }#T_84db2033_72d2_11ef_9c8a_a86daaca20farow0_col0,#T_84db2033_72d2_11ef_9c8a_a86daaca20farow0_col1,#T_84db2033_72d2_11ef_9c8a_a86daaca20farow0_col2,#T_84db2033_72d2_11ef_9c8a_a86daaca20farow1_col0,#T_84db2033_72d2_11ef_9c8a_a86daaca20farow1_col1,#T_84db2033_72d2_11ef_9c8a_a86daaca20farow1_col2,#T_84db2033_72d2_11ef_9c8a_a86daaca20farow2_col0,#T_84db2033_72d2_11ef_9c8a_a86daaca20farow2_col1,#T_84db2033_72d2_11ef_9c8a_a86daaca20farow2_col2,#T_84db2033_72d2_11ef_9c8a_a86daaca20farow3_col0,#T_84db2033_72d2_11ef_9c8a_a86daaca20farow3_col1,#T_84db2033_72d2_11ef_9c8a_a86daaca20farow3_col2,#T_84db2033_72d2_11ef_9c8a_a86daaca20farow4_col0,#T_84db2033_72d2_11ef_9c8a_a86daaca20farow4_col1,#T_84db2033_72d2_11ef_9c8a_a86daaca20farow4_col2{\n",
       "            text-align:  left;\n",
       "        }</style><table id=\"T_84db2033_72d2_11ef_9c8a_a86daaca20fa\" ><thead>    <tr>        <th class=\"col_heading level0 col0\" >rating</th>        <th class=\"col_heading level0 col1\" >Score</th>        <th class=\"col_heading level0 col2\" >review_text</th>    </tr></thead><tbody>\n",
       "                <tr>\n",
       "                                <td id=\"T_84db2033_72d2_11ef_9c8a_a86daaca20farow0_col0\" class=\"data row0 col0\" >2</td>\n",
       "                        <td id=\"T_84db2033_72d2_11ef_9c8a_a86daaca20farow0_col1\" class=\"data row0 col1\" >1</td>\n",
       "                        <td id=\"T_84db2033_72d2_11ef_9c8a_a86daaca20farow0_col2\" class=\"data row0 col2\" >Sprayed orange grease all over the inside of the microwave The pop-up bowl sounds like a great idea, but evidently they rushed it to market before all the bugs were out.<br /><br />The first bag I cooked was fine, except the instructions for opening the bag are far from clear, and even after you figure out how to do it it's a lot of trouble and makes a big mess.<br /><br />But the second bag evidently sprang a leak - it sprayed bright orange grease all over the inside of my microwave, even into the tiny vent holes inside the top and side. I always watch popcorn carefully while it pops, but I could not see the grease spray until after it was done and I opened the door. Cleaning it all out was a horrible ordeal, and I'm sure everything I cook in the microwave will come out smelling like popcorn grease for weeks.<br /><br />They released this product too soon. It needs serious redesign. I will not buy it again.</td>\n",
       "            </tr>\n",
       "            <tr>\n",
       "                                <td id=\"T_84db2033_72d2_11ef_9c8a_a86daaca20farow1_col0\" class=\"data row1 col0\" >3</td>\n",
       "                        <td id=\"T_84db2033_72d2_11ef_9c8a_a86daaca20farow1_col1\" class=\"data row1 col1\" >3</td>\n",
       "                        <td id=\"T_84db2033_72d2_11ef_9c8a_a86daaca20farow1_col2\" class=\"data row1 col2\" >Had higher expectations It is a naturally sweetened soda with Stevia, but I expect more robust flavor simular to Dr. Pepper.  I wouldn't even say it is close to Dr. Pepper.  I was disappointed, especially when I love the \"Cola\" flavor of Zevia so much.</td>\n",
       "            </tr>\n",
       "            <tr>\n",
       "                                <td id=\"T_84db2033_72d2_11ef_9c8a_a86daaca20farow2_col0\" class=\"data row2 col0\" >5</td>\n",
       "                        <td id=\"T_84db2033_72d2_11ef_9c8a_a86daaca20farow2_col1\" class=\"data row2 col1\" >5</td>\n",
       "                        <td id=\"T_84db2033_72d2_11ef_9c8a_a86daaca20farow2_col2\" class=\"data row2 col2\" >Everything is as it should be I ordered these nuts...for both my own personal consumption...and my two African Greys Scaredy Bird and Reggie.<br /><br />I believe I can speak for all of us in saying that the nuts arrived on time and in delectable condition. They were fresh....and arrived not broken or damaged in any way.<br /><br />Diamond Nuts..has a high reputation with me---and they continue to prove their worth..by sending out a excellent product !<br /><br />I do --highly recommend this company--and this product !</td>\n",
       "            </tr>\n",
       "            <tr>\n",
       "                                <td id=\"T_84db2033_72d2_11ef_9c8a_a86daaca20farow3_col0\" class=\"data row3 col0\" >5</td>\n",
       "                        <td id=\"T_84db2033_72d2_11ef_9c8a_a86daaca20farow3_col1\" class=\"data row3 col1\" >5</td>\n",
       "                        <td id=\"T_84db2033_72d2_11ef_9c8a_a86daaca20farow3_col2\" class=\"data row3 col2\" >So Happy I found this; Product is Fabulous I decided to stop using sweet n' low for obvious reasons.  I hated the cost of buying the boxes of Splenda in my locale grocery, as it was so expensive.  When I googled Splenda and found this I was elated and ordered it right away.  I will order a second for my home upstate shortly, as I certainly cannot transport this box in an efficient manner  and I need it in my City location.</td>\n",
       "            </tr>\n",
       "            <tr>\n",
       "                                <td id=\"T_84db2033_72d2_11ef_9c8a_a86daaca20farow4_col0\" class=\"data row4 col0\" >5</td>\n",
       "                        <td id=\"T_84db2033_72d2_11ef_9c8a_a86daaca20farow4_col1\" class=\"data row4 col1\" >5</td>\n",
       "                        <td id=\"T_84db2033_72d2_11ef_9c8a_a86daaca20farow4_col2\" class=\"data row4 col2\" >Great tea, very satisfying Nice mellow tea for all occassions.  I'm an ex-coffee drinker searching for an alternative and this product fit nicely.  It's smooth, very satisfying.  Nice product.</td>\n",
       "            </tr>\n",
       "    </tbody></table>"
      ],
      "text/plain": [
       "<pandas.io.formats.style.Styler at 0x1f18248bf10>"
      ]
     },
     "metadata": {},
     "output_type": "display_data"
    }
   ],
   "source": [
    "ratings_df = pd.DataFrame(ratings_results).T\n",
    "ratings_df = ratings_df.merge(df, how = 'left', right_index=True, left_index=True)\n",
    "\n",
    "# Apply styling\n",
    "styled_ratings_df = ratings_df.head().style.apply(highlight_cols, axis=1).set_table_styles(\n",
    "    [{'selector': 'th', 'props': [('text-align', 'center'), ('border', '1px solid black')]},\n",
    "     {'selector': 'td', 'props': [('border', '1px solid black')]}]\n",
    ").hide_index()\n",
    "\n",
    "# Display the DataFrame\n",
    "display(styled_ratings_df)\n",
    "# ratings_df.head()"
   ]
  },
  {
   "cell_type": "code",
   "execution_count": 70,
   "metadata": {},
   "outputs": [
    {
     "data": {
      "text/plain": [
       "0.692"
      ]
     },
     "execution_count": 70,
     "metadata": {},
     "output_type": "execute_result"
    }
   ],
   "source": [
    "from sklearn.metrics import accuracy_score\n",
    "accuracy = accuracy_score(ratings_df['rating'], ratings_df['Score'])\n",
    "accuracy"
   ]
  },
  {
   "cell_type": "code",
   "execution_count": 71,
   "metadata": {},
   "outputs": [
    {
     "data": {
      "text/plain": [
       "0.95"
      ]
     },
     "execution_count": 71,
     "metadata": {},
     "output_type": "execute_result"
    }
   ],
   "source": [
    "one_off_accuracy = np.where(abs(ratings_df['rating'] - ratings_df['Score']) <= 1, 1, 0).sum() / ratings_df.shape[0]\n",
    "one_off_accuracy"
   ]
  },
  {
   "cell_type": "markdown",
   "metadata": {},
   "source": [
    "- We can exactly predict the rating of review with `~70%` accuracy and can predict the rating very closely (just one more or less) with `95%` accuracy.\n",
    "\n",
    "- So we can now say that model works considerably well and can be used for understanding the users sentiments over new products and services in the future or we can use it to analyze some other existing products or businesses."
   ]
  },
  {
   "cell_type": "markdown",
   "metadata": {},
   "source": [
    "## Using our Models to make predictions on new data scraped from Yelp to perform Sentiment Analysis\n",
    "\n",
    "Now we will select a restaurant business on Yelp and collect some reviews from the customers to see if this is a place where people like to eat or NOT, we can do a similar thing for any business and collect data from multiple sources also like twitter, reddit, youtube, facebook, instagram and more."
   ]
  },
  {
   "cell_type": "code",
   "execution_count": 72,
   "metadata": {},
   "outputs": [],
   "source": [
    "import requests\n",
    "from bs4 import BeautifulSoup\n",
    "import re"
   ]
  },
  {
   "cell_type": "code",
   "execution_count": 73,
   "metadata": {},
   "outputs": [],
   "source": [
    "r = requests.get('https://www.yelp.com/biz/mejico-sydney-2')\n",
    "soup = BeautifulSoup(r.text, 'html.parser')\n",
    "regex = re.compile('.*comment.*')\n",
    "results = soup.find_all('p', {'class': regex})\n",
    "reviews = [result.text for result in results]"
   ]
  },
  {
   "cell_type": "code",
   "execution_count": 74,
   "metadata": {},
   "outputs": [
    {
     "data": {
      "text/plain": [
       "[\"Seated without a booking on a super busy Saturday night. Lovely, warm, and Theo right hostess also looked after our table and went out of her way to give detailed ingredients in every dish to avoid allergies for one of us. And the food was great! Guacamole made right at our table, everything prepared with our allergies in mind, and great dish recommendations. We'd been visiting Sydney for about a week from Melbourne, and this was by far our best dining experience. I'd definitely return here in the future.\",\n",
       " 'The food was decent not great..  We had the guacamole which was bland and came with some type of plantain chips.. The chicken and steak tacos were good.. But the service was poor. We had a waitress with an attitude. She seemed upset whenever we asked for anything.  She would walk by and just stick up her hand and say \" just wait \".  She spilled the ingredients to make the guacamole all over the table but never apologized. The waitress didn\\'t come by at all, not even once to check on us.. I will not go back. Suggest you find a Mexican restaurant that really wants your business..']"
      ]
     },
     "execution_count": 74,
     "metadata": {},
     "output_type": "execute_result"
    }
   ],
   "source": [
    "reviews[:2]"
   ]
  },
  {
   "cell_type": "code",
   "execution_count": 75,
   "metadata": {},
   "outputs": [
    {
     "data": {
      "text/html": [
       "<style  type=\"text/css\" >\n",
       "    #T_de0469c7_72d2_11ef_9af5_a86daaca20fa th {\n",
       "          text-align: center;\n",
       "          border: 1px solid black;\n",
       "    }    #T_de0469c7_72d2_11ef_9af5_a86daaca20fa td {\n",
       "          border: 1px solid black;\n",
       "    }#T_de0469c7_72d2_11ef_9af5_a86daaca20farow0_col0,#T_de0469c7_72d2_11ef_9af5_a86daaca20farow1_col0,#T_de0469c7_72d2_11ef_9af5_a86daaca20farow2_col0,#T_de0469c7_72d2_11ef_9af5_a86daaca20farow3_col0,#T_de0469c7_72d2_11ef_9af5_a86daaca20farow4_col0{\n",
       "            text-align:  left;\n",
       "        }</style><table id=\"T_de0469c7_72d2_11ef_9af5_a86daaca20fa\" ><thead>    <tr>        <th class=\"col_heading level0 col0\" >review_text</th>    </tr></thead><tbody>\n",
       "                <tr>\n",
       "                                <td id=\"T_de0469c7_72d2_11ef_9af5_a86daaca20farow0_col0\" class=\"data row0 col0\" >Seated without a booking on a super busy Saturday night. Lovely, warm, and Theo right hostess also looked after our table and went out of her way to give detailed ingredients in every dish to avoid allergies for one of us. And the food was great! Guacamole made right at our table, everything prepared with our allergies in mind, and great dish recommendations. We'd been visiting Sydney for about a week from Melbourne, and this was by far our best dining experience. I'd definitely return here in the future.</td>\n",
       "            </tr>\n",
       "            <tr>\n",
       "                                <td id=\"T_de0469c7_72d2_11ef_9af5_a86daaca20farow1_col0\" class=\"data row1 col0\" >The food was decent not great..  We had the guacamole which was bland and came with some type of plantain chips.. The chicken and steak tacos were good.. But the service was poor. We had a waitress with an attitude. She seemed upset whenever we asked for anything.  She would walk by and just stick up her hand and say \" just wait \".  She spilled the ingredients to make the guacamole all over the table but never apologized. The waitress didn't come by at all, not even once to check on us.. I will not go back. Suggest you find a Mexican restaurant that really wants your business..</td>\n",
       "            </tr>\n",
       "            <tr>\n",
       "                                <td id=\"T_de0469c7_72d2_11ef_9af5_a86daaca20farow2_col0\" class=\"data row2 col0\" >Food was okay, guacamole was below average. Service was awful. Waitress acted like she was missing the Finals in The Australian Open. In such a hurry she spilled the fixings for the less than average guac. Took less than a minute to take our order but it wasn't fast enough for her. Felt like we were intruding on her screen time. The food was fair. Prices were way too high for the level of mediocrity in the food. Average food, lousy service Wouldn't recommend this place</td>\n",
       "            </tr>\n",
       "            <tr>\n",
       "                                <td id=\"T_de0469c7_72d2_11ef_9af5_a86daaca20farow3_col0\" class=\"data row3 col0\" >The food and service here was really good.  It was more like tapas food than Mexican food!  The drinks were amazing too!</td>\n",
       "            </tr>\n",
       "            <tr>\n",
       "                                <td id=\"T_de0469c7_72d2_11ef_9af5_a86daaca20farow4_col0\" class=\"data row4 col0\" >Visiting from Texas and decided to give this restaurant a try.  We were pleasantly surprised.  While the margaritas are more like martinis, the food was excellent.  More like a tapas, Mexican fusion.  Great way to try different plates.The real treat was Chelsea, our waitress.  Took the time to explain the menu and offer suggestions.  Always smiling and very pleasant.  Best service we have had in Sydney!</td>\n",
       "            </tr>\n",
       "    </tbody></table>"
      ],
      "text/plain": [
       "<pandas.io.formats.style.Styler at 0x1f1876ddc10>"
      ]
     },
     "metadata": {},
     "output_type": "display_data"
    }
   ],
   "source": [
    "#store reviews in a dataframe\n",
    "yelp_reviews = pd.DataFrame(np.array(reviews), columns=['review_text'])\n",
    "\n",
    "# Apply styling\n",
    "styled_yelp_reviews = yelp_reviews.head().style.apply(highlight_cols, axis=1).set_table_styles(\n",
    "    [{'selector': 'th', 'props': [('text-align', 'center'), ('border', '1px solid black')]},\n",
    "     {'selector': 'td', 'props': [('border', '1px solid black')]}]\n",
    ").hide_index()\n",
    "\n",
    "# Display the DataFrame\n",
    "display(styled_yelp_reviews)\n",
    "# yelp_reviews.head()"
   ]
  },
  {
   "cell_type": "code",
   "execution_count": 76,
   "metadata": {},
   "outputs": [
    {
     "data": {
      "application/vnd.jupyter.widget-view+json": {
       "model_id": "d5caf411cc0d4cfabf1fe4b263a994ee",
       "version_major": 2,
       "version_minor": 0
      },
      "text/plain": [
       "HBox(children=(FloatProgress(value=0.0, max=500.0), HTML(value='')))"
      ]
     },
     "metadata": {},
     "output_type": "display_data"
    },
    {
     "name": "stdout",
     "output_type": "stream",
     "text": [
      "\n"
     ]
    }
   ],
   "source": [
    "#Now we can make perform some sentiment analysis over these text reviews\n",
    "#using RoBERTa model to get different component scores (pos, neu and neg)\n",
    "#and BERT to predict numerical star ratings\n",
    "yelp_results = {}\n",
    "\n",
    "for idx, row in tqdm(df.iterrows(), total=len(df)):\n",
    "    text = row['review_text']\n",
    "\n",
    "    #Roberta Model can only accept text with max length of 514\n",
    "    if len(text) > 514:\n",
    "        text = text[:514]\n",
    "\n",
    "    #making predictions using roberta model\n",
    "    roberta_result = polarity_scores_roberta(text)\n",
    "    \n",
    "    #making star prediction using bert model\n",
    "    bert_result = rating_prediction_bert(text)\n",
    "    #combine both results \n",
    "    result = roberta_result.copy() \n",
    "    result.update(bert_result)\n",
    "    \n",
    "    yelp_results[idx] = result   "
   ]
  },
  {
   "cell_type": "code",
   "execution_count": 77,
   "metadata": {},
   "outputs": [
    {
     "data": {
      "text/html": [
       "<style  type=\"text/css\" >\n",
       "    #T_c5d63fac_72d4_11ef_aa51_a86daaca20fa th {\n",
       "          text-align: center;\n",
       "          border: 1px solid black;\n",
       "    }    #T_c5d63fac_72d4_11ef_aa51_a86daaca20fa td {\n",
       "          border: 1px solid black;\n",
       "    }#T_c5d63fac_72d4_11ef_aa51_a86daaca20farow0_col0,#T_c5d63fac_72d4_11ef_aa51_a86daaca20farow0_col1,#T_c5d63fac_72d4_11ef_aa51_a86daaca20farow0_col2,#T_c5d63fac_72d4_11ef_aa51_a86daaca20farow0_col3,#T_c5d63fac_72d4_11ef_aa51_a86daaca20farow0_col4,#T_c5d63fac_72d4_11ef_aa51_a86daaca20farow1_col0,#T_c5d63fac_72d4_11ef_aa51_a86daaca20farow1_col1,#T_c5d63fac_72d4_11ef_aa51_a86daaca20farow1_col2,#T_c5d63fac_72d4_11ef_aa51_a86daaca20farow1_col3,#T_c5d63fac_72d4_11ef_aa51_a86daaca20farow1_col4,#T_c5d63fac_72d4_11ef_aa51_a86daaca20farow2_col0,#T_c5d63fac_72d4_11ef_aa51_a86daaca20farow2_col1,#T_c5d63fac_72d4_11ef_aa51_a86daaca20farow2_col2,#T_c5d63fac_72d4_11ef_aa51_a86daaca20farow2_col3,#T_c5d63fac_72d4_11ef_aa51_a86daaca20farow2_col4,#T_c5d63fac_72d4_11ef_aa51_a86daaca20farow3_col0,#T_c5d63fac_72d4_11ef_aa51_a86daaca20farow3_col1,#T_c5d63fac_72d4_11ef_aa51_a86daaca20farow3_col2,#T_c5d63fac_72d4_11ef_aa51_a86daaca20farow3_col3,#T_c5d63fac_72d4_11ef_aa51_a86daaca20farow3_col4,#T_c5d63fac_72d4_11ef_aa51_a86daaca20farow4_col0,#T_c5d63fac_72d4_11ef_aa51_a86daaca20farow4_col1,#T_c5d63fac_72d4_11ef_aa51_a86daaca20farow4_col2,#T_c5d63fac_72d4_11ef_aa51_a86daaca20farow4_col3,#T_c5d63fac_72d4_11ef_aa51_a86daaca20farow4_col4{\n",
       "            text-align:  left;\n",
       "        }</style><table id=\"T_c5d63fac_72d4_11ef_aa51_a86daaca20fa\" ><thead>    <tr>        <th class=\"col_heading level0 col0\" >roberta_neg</th>        <th class=\"col_heading level0 col1\" >roberta_neu</th>        <th class=\"col_heading level0 col2\" >roberta_pos</th>        <th class=\"col_heading level0 col3\" >rating</th>        <th class=\"col_heading level0 col4\" >review_text</th>    </tr></thead><tbody>\n",
       "                <tr>\n",
       "                                <td id=\"T_c5d63fac_72d4_11ef_aa51_a86daaca20farow0_col0\" class=\"data row0 col0\" >0.655937</td>\n",
       "                        <td id=\"T_c5d63fac_72d4_11ef_aa51_a86daaca20farow0_col1\" class=\"data row0 col1\" >0.270591</td>\n",
       "                        <td id=\"T_c5d63fac_72d4_11ef_aa51_a86daaca20farow0_col2\" class=\"data row0 col2\" >0.073472</td>\n",
       "                        <td id=\"T_c5d63fac_72d4_11ef_aa51_a86daaca20farow0_col3\" class=\"data row0 col3\" >2.000000</td>\n",
       "                        <td id=\"T_c5d63fac_72d4_11ef_aa51_a86daaca20farow0_col4\" class=\"data row0 col4\" >Seated without a booking on a super busy Saturday night. Lovely, warm, and Theo right hostess also looked after our table and went out of her way to give detailed ingredients in every dish to avoid allergies for one of us. And the food was great! Guacamole made right at our table, everything prepared with our allergies in mind, and great dish recommendations. We'd been visiting Sydney for about a week from Melbourne, and this was by far our best dining experience. I'd definitely return here in the future.</td>\n",
       "            </tr>\n",
       "            <tr>\n",
       "                                <td id=\"T_c5d63fac_72d4_11ef_aa51_a86daaca20farow1_col0\" class=\"data row1 col0\" >0.555764</td>\n",
       "                        <td id=\"T_c5d63fac_72d4_11ef_aa51_a86daaca20farow1_col1\" class=\"data row1 col1\" >0.328938</td>\n",
       "                        <td id=\"T_c5d63fac_72d4_11ef_aa51_a86daaca20farow1_col2\" class=\"data row1 col2\" >0.115297</td>\n",
       "                        <td id=\"T_c5d63fac_72d4_11ef_aa51_a86daaca20farow1_col3\" class=\"data row1 col3\" >3.000000</td>\n",
       "                        <td id=\"T_c5d63fac_72d4_11ef_aa51_a86daaca20farow1_col4\" class=\"data row1 col4\" >The food was decent not great..  We had the guacamole which was bland and came with some type of plantain chips.. The chicken and steak tacos were good.. But the service was poor. We had a waitress with an attitude. She seemed upset whenever we asked for anything.  She would walk by and just stick up her hand and say \" just wait \".  She spilled the ingredients to make the guacamole all over the table but never apologized. The waitress didn't come by at all, not even once to check on us.. I will not go back. Suggest you find a Mexican restaurant that really wants your business..</td>\n",
       "            </tr>\n",
       "            <tr>\n",
       "                                <td id=\"T_c5d63fac_72d4_11ef_aa51_a86daaca20farow2_col0\" class=\"data row2 col0\" >0.002329</td>\n",
       "                        <td id=\"T_c5d63fac_72d4_11ef_aa51_a86daaca20farow2_col1\" class=\"data row2 col1\" >0.030420</td>\n",
       "                        <td id=\"T_c5d63fac_72d4_11ef_aa51_a86daaca20farow2_col2\" class=\"data row2 col2\" >0.967251</td>\n",
       "                        <td id=\"T_c5d63fac_72d4_11ef_aa51_a86daaca20farow2_col3\" class=\"data row2 col3\" >5.000000</td>\n",
       "                        <td id=\"T_c5d63fac_72d4_11ef_aa51_a86daaca20farow2_col4\" class=\"data row2 col4\" >Food was okay, guacamole was below average. Service was awful. Waitress acted like she was missing the Finals in The Australian Open. In such a hurry she spilled the fixings for the less than average guac. Took less than a minute to take our order but it wasn't fast enough for her. Felt like we were intruding on her screen time. The food was fair. Prices were way too high for the level of mediocrity in the food. Average food, lousy service Wouldn't recommend this place</td>\n",
       "            </tr>\n",
       "            <tr>\n",
       "                                <td id=\"T_c5d63fac_72d4_11ef_aa51_a86daaca20farow3_col0\" class=\"data row3 col0\" >0.090271</td>\n",
       "                        <td id=\"T_c5d63fac_72d4_11ef_aa51_a86daaca20farow3_col1\" class=\"data row3 col1\" >0.174114</td>\n",
       "                        <td id=\"T_c5d63fac_72d4_11ef_aa51_a86daaca20farow3_col2\" class=\"data row3 col2\" >0.735615</td>\n",
       "                        <td id=\"T_c5d63fac_72d4_11ef_aa51_a86daaca20farow3_col3\" class=\"data row3 col3\" >5.000000</td>\n",
       "                        <td id=\"T_c5d63fac_72d4_11ef_aa51_a86daaca20farow3_col4\" class=\"data row3 col4\" >The food and service here was really good.  It was more like tapas food than Mexican food!  The drinks were amazing too!</td>\n",
       "            </tr>\n",
       "            <tr>\n",
       "                                <td id=\"T_c5d63fac_72d4_11ef_aa51_a86daaca20farow4_col0\" class=\"data row4 col0\" >0.002495</td>\n",
       "                        <td id=\"T_c5d63fac_72d4_11ef_aa51_a86daaca20farow4_col1\" class=\"data row4 col1\" >0.013362</td>\n",
       "                        <td id=\"T_c5d63fac_72d4_11ef_aa51_a86daaca20farow4_col2\" class=\"data row4 col2\" >0.984142</td>\n",
       "                        <td id=\"T_c5d63fac_72d4_11ef_aa51_a86daaca20farow4_col3\" class=\"data row4 col3\" >5.000000</td>\n",
       "                        <td id=\"T_c5d63fac_72d4_11ef_aa51_a86daaca20farow4_col4\" class=\"data row4 col4\" >Visiting from Texas and decided to give this restaurant a try.  We were pleasantly surprised.  While the margaritas are more like martinis, the food was excellent.  More like a tapas, Mexican fusion.  Great way to try different plates.The real treat was Chelsea, our waitress.  Took the time to explain the menu and offer suggestions.  Always smiling and very pleasant.  Best service we have had in Sydney!</td>\n",
       "            </tr>\n",
       "    </tbody></table>"
      ],
      "text/plain": [
       "<pandas.io.formats.style.Styler at 0x1f18d81c670>"
      ]
     },
     "metadata": {},
     "output_type": "display_data"
    }
   ],
   "source": [
    "yelp_results_df = pd.DataFrame(yelp_results).T\n",
    "yelp_results_df = yelp_results_df.merge(yelp_reviews, how = 'left', right_index=True, left_index=True)\n",
    "\n",
    "# Apply styling\n",
    "styled_yelp_results_df = yelp_results_df.head().style.apply(highlight_cols, axis=1).set_table_styles(\n",
    "    [{'selector': 'th', 'props': [('text-align', 'center'), ('border', '1px solid black')]},\n",
    "     {'selector': 'td', 'props': [('border', '1px solid black')]}]\n",
    ").hide_index()\n",
    "\n",
    "# Display the DataFrame\n",
    "display(styled_yelp_results_df)\n",
    "# yelp_results_df.head()"
   ]
  },
  {
   "cell_type": "code",
   "execution_count": 64,
   "metadata": {},
   "outputs": [
    {
     "data": {
      "text/plain": [
       "4.026"
      ]
     },
     "execution_count": 64,
     "metadata": {},
     "output_type": "execute_result"
    }
   ],
   "source": [
    "yelp_results_df.rating.mean()"
   ]
  },
  {
   "cell_type": "markdown",
   "metadata": {},
   "source": [
    "## Conclusion:\n",
    "\n",
    "So using text reviews we predicted that the restraunt has overall rating of approximatly 4, and we can confirm that our model can give us a good idea about sentiment towards any business with just the text reviews because the actual rating of the restraunt is 4.5 and we were able to closely predict that with just a small sample of reviews and this can get better by analyzing all the reviews."
   ]
  },
  {
   "cell_type": "markdown",
   "metadata": {},
   "source": [
    "## How is all of this useful?\n",
    "\n",
    "We can use hundereds of thousands of online comments and text reviews posted by people on social media about any particular product, movie, service, business or Ad campaign to understand the overall feeling of public towards that. We can use this to better select and market our products and make data driven decisions.\n",
    "\n",
    "This can help us deliver better services and increase profit margins among other things."
   ]
  },
  {
   "cell_type": "markdown",
   "metadata": {},
   "source": [
    "## Function for making predictions"
   ]
  },
  {
   "cell_type": "code",
   "execution_count": 67,
   "metadata": {},
   "outputs": [],
   "source": [
    "#function to perform sentiment analysis for any given text and also predict the numerical rating out of 5\n",
    "def predict_sentiment_and_rating(text):\n",
    "    #making sentiment predictions using roberta model (positive, neutral and negative)\n",
    "    roberta_result = polarity_scores_roberta(text)\n",
    "    \n",
    "    #making star prediction using bert model (stars / score out of 5)\n",
    "    bert_result = rating_prediction_bert(text)\n",
    "    \n",
    "    #combine both results \n",
    "    result = roberta_result.copy()\n",
    "    result.update(bert_result)\n",
    "    \n",
    "    return result"
   ]
  },
  {
   "cell_type": "code",
   "execution_count": 68,
   "metadata": {},
   "outputs": [
    {
     "data": {
      "text/plain": [
       "{'roberta_neg': 0.0026398143,\n",
       " 'roberta_neu': 0.004872264,\n",
       " 'roberta_pos': 0.9924879,\n",
       " 'rating': 5}"
      ]
     },
     "execution_count": 68,
     "metadata": {},
     "output_type": "execute_result"
    }
   ],
   "source": [
    "predict_sentiment_and_rating(\"Oh I love this place this is the most amazing thing ever. It great every time I go there.\")"
   ]
  },
  {
   "cell_type": "code",
   "execution_count": 69,
   "metadata": {},
   "outputs": [
    {
     "data": {
      "text/plain": [
       "{'roberta_neg': 0.970489,\n",
       " 'roberta_neu': 0.026750673,\n",
       " 'roberta_pos': 0.0027602962,\n",
       " 'rating': 1}"
      ]
     },
     "execution_count": 69,
     "metadata": {},
     "output_type": "execute_result"
    }
   ],
   "source": [
    "predict_sentiment_and_rating(\"No I am not a fan of this, not recommended at all.\")"
   ]
  },
  {
   "cell_type": "markdown",
   "metadata": {},
   "source": [
    "**We can use this function in future to make predictions on any reviews to analyze the sentiment of the user and learn thier opinion quantitatively**\n",
    "\n",
    "It can also be used to deploy a simple web app that works for a single review at a time or a batch of reviews together"
   ]
  }
 ],
 "metadata": {
  "kernelspec": {
   "display_name": "Python 3",
   "language": "python",
   "name": "python3"
  },
  "language_info": {
   "codemirror_mode": {
    "name": "ipython",
    "version": 3
   },
   "file_extension": ".py",
   "mimetype": "text/x-python",
   "name": "python",
   "nbconvert_exporter": "python",
   "pygments_lexer": "ipython3",
   "version": "3.8.5"
  }
 },
 "nbformat": 4,
 "nbformat_minor": 4
}
