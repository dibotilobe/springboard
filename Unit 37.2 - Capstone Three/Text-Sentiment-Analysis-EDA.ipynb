{
 "cells": [
  {
   "cell_type": "code",
   "execution_count": 3,
   "metadata": {},
   "outputs": [],
   "source": [
    "#storing and manipulating data\n",
    "import pandas as pd\n",
    "import numpy as np\n",
    "\n",
    "#plotting\n",
    "from matplotlib import pyplot as plt\n",
    "import seaborn as sns\n",
    "from tqdm.notebook import tqdm\n",
    "\n",
    "#natural language tool kit\n",
    "import nltk\n",
    "from nltk.sentiment import SentimentIntensityAnalyzer\n",
    "\n",
    "#RoBERTa Model from Hugging Face\n",
    "from transformers import AutoTokenizer, AutoModelForSequenceClassification\n",
    "from scipy.special import softmax"
   ]
  },
  {
   "cell_type": "markdown",
   "metadata": {},
   "source": [
    "## Load / Data Wrangling for Sentiment Analysis"
   ]
  },
  {
   "cell_type": "code",
   "execution_count": 4,
   "metadata": {},
   "outputs": [
    {
     "name": "stdout",
     "output_type": "stream",
     "text": [
      "(568454, 3)\n"
     ]
    },
    {
     "data": {
      "text/html": [
       "<div>\n",
       "<style scoped>\n",
       "    .dataframe tbody tr th:only-of-type {\n",
       "        vertical-align: middle;\n",
       "    }\n",
       "\n",
       "    .dataframe tbody tr th {\n",
       "        vertical-align: top;\n",
       "    }\n",
       "\n",
       "    .dataframe thead th {\n",
       "        text-align: right;\n",
       "    }\n",
       "</style>\n",
       "<table border=\"1\" class=\"dataframe\">\n",
       "  <thead>\n",
       "    <tr style=\"text-align: right;\">\n",
       "      <th></th>\n",
       "      <th>Score</th>\n",
       "      <th>Summary</th>\n",
       "      <th>Text</th>\n",
       "    </tr>\n",
       "  </thead>\n",
       "  <tbody>\n",
       "    <tr>\n",
       "      <th>0</th>\n",
       "      <td>5</td>\n",
       "      <td>Good Quality Dog Food</td>\n",
       "      <td>I have bought several of the Vitality canned d...</td>\n",
       "    </tr>\n",
       "    <tr>\n",
       "      <th>1</th>\n",
       "      <td>1</td>\n",
       "      <td>Not as Advertised</td>\n",
       "      <td>Product arrived labeled as Jumbo Salted Peanut...</td>\n",
       "    </tr>\n",
       "    <tr>\n",
       "      <th>2</th>\n",
       "      <td>4</td>\n",
       "      <td>\"Delight\" says it all</td>\n",
       "      <td>This is a confection that has been around a fe...</td>\n",
       "    </tr>\n",
       "    <tr>\n",
       "      <th>3</th>\n",
       "      <td>2</td>\n",
       "      <td>Cough Medicine</td>\n",
       "      <td>If you are looking for the secret ingredient i...</td>\n",
       "    </tr>\n",
       "    <tr>\n",
       "      <th>4</th>\n",
       "      <td>5</td>\n",
       "      <td>Great taffy</td>\n",
       "      <td>Great taffy at a great price.  There was a wid...</td>\n",
       "    </tr>\n",
       "  </tbody>\n",
       "</table>\n",
       "</div>"
      ],
      "text/plain": [
       "   Score                Summary  \\\n",
       "0      5  Good Quality Dog Food   \n",
       "1      1      Not as Advertised   \n",
       "2      4  \"Delight\" says it all   \n",
       "3      2         Cough Medicine   \n",
       "4      5            Great taffy   \n",
       "\n",
       "                                                Text  \n",
       "0  I have bought several of the Vitality canned d...  \n",
       "1  Product arrived labeled as Jumbo Salted Peanut...  \n",
       "2  This is a confection that has been around a fe...  \n",
       "3  If you are looking for the secret ingredient i...  \n",
       "4  Great taffy at a great price.  There was a wid...  "
      ]
     },
     "metadata": {},
     "output_type": "display_data"
    }
   ],
   "source": [
    "data = pd.read_csv('Reviews.csv', usecols=['Score', 'Summary', 'Text'])\n",
    "print(data.shape)\n",
    "display(data.head())"
   ]
  },
  {
   "cell_type": "markdown",
   "metadata": {},
   "source": [
    "**Sampling Approach**"
   ]
  },
  {
   "cell_type": "code",
   "execution_count": 5,
   "metadata": {},
   "outputs": [
    {
     "data": {
      "text/html": [
       "<div>\n",
       "<style scoped>\n",
       "    .dataframe tbody tr th:only-of-type {\n",
       "        vertical-align: middle;\n",
       "    }\n",
       "\n",
       "    .dataframe tbody tr th {\n",
       "        vertical-align: top;\n",
       "    }\n",
       "\n",
       "    .dataframe thead th {\n",
       "        text-align: right;\n",
       "    }\n",
       "</style>\n",
       "<table border=\"1\" class=\"dataframe\">\n",
       "  <thead>\n",
       "    <tr style=\"text-align: right;\">\n",
       "      <th></th>\n",
       "      <th>Score</th>\n",
       "      <th>review_text</th>\n",
       "    </tr>\n",
       "  </thead>\n",
       "  <tbody>\n",
       "    <tr>\n",
       "      <th>0</th>\n",
       "      <td>3</td>\n",
       "      <td>Salt I was a little disappointed with this pro...</td>\n",
       "    </tr>\n",
       "    <tr>\n",
       "      <th>1</th>\n",
       "      <td>4</td>\n",
       "      <td>Good Communications I rec'd different flavor o...</td>\n",
       "    </tr>\n",
       "    <tr>\n",
       "      <th>2</th>\n",
       "      <td>5</td>\n",
       "      <td>Great product - expensive to buy on Amazon Thi...</td>\n",
       "    </tr>\n",
       "    <tr>\n",
       "      <th>3</th>\n",
       "      <td>3</td>\n",
       "      <td>A bit disappointing. They provide platforms fo...</td>\n",
       "    </tr>\n",
       "    <tr>\n",
       "      <th>4</th>\n",
       "      <td>5</td>\n",
       "      <td>Delicious!! This coffee is amazing, it is abso...</td>\n",
       "    </tr>\n",
       "  </tbody>\n",
       "</table>\n",
       "</div>"
      ],
      "text/plain": [
       "   Score                                        review_text\n",
       "0      3  Salt I was a little disappointed with this pro...\n",
       "1      4  Good Communications I rec'd different flavor o...\n",
       "2      5  Great product - expensive to buy on Amazon Thi...\n",
       "3      3  A bit disappointing. They provide platforms fo...\n",
       "4      5  Delicious!! This coffee is amazing, it is abso..."
      ]
     },
     "execution_count": 5,
     "metadata": {},
     "output_type": "execute_result"
    }
   ],
   "source": [
    "#the overall dataset is too large so we will downsample the data to 500 examples for analysis \n",
    "sample_data = data.sample(500)\n",
    "\n",
    "#combine the summary / heading and text description\n",
    "sample_data['review_text'] = sample_data['Summary'] + ' ' +  sample_data['Text']\n",
    "\n",
    "#we can also remove the previous original columns\n",
    "sample_data.drop(['Summary', 'Text'], axis = 1, inplace = True)\n",
    "    \n",
    "sample_data = sample_data.reset_index()\n",
    "sample_data.drop(['index'], axis = 1, inplace=True)\n",
    "sample_data.head()"
   ]
  },
  {
   "cell_type": "code",
   "execution_count": 6,
   "metadata": {},
   "outputs": [
    {
     "data": {
      "text/html": [
       "<div>\n",
       "<style scoped>\n",
       "    .dataframe tbody tr th:only-of-type {\n",
       "        vertical-align: middle;\n",
       "    }\n",
       "\n",
       "    .dataframe tbody tr th {\n",
       "        vertical-align: top;\n",
       "    }\n",
       "\n",
       "    .dataframe thead th {\n",
       "        text-align: right;\n",
       "    }\n",
       "</style>\n",
       "<table border=\"1\" class=\"dataframe\">\n",
       "  <thead>\n",
       "    <tr style=\"text-align: right;\">\n",
       "      <th></th>\n",
       "      <th>Score</th>\n",
       "      <th>review_text</th>\n",
       "    </tr>\n",
       "  </thead>\n",
       "  <tbody>\n",
       "    <tr>\n",
       "      <th>0</th>\n",
       "      <td>1</td>\n",
       "      <td>Sprayed orange grease all over the inside of t...</td>\n",
       "    </tr>\n",
       "    <tr>\n",
       "      <th>1</th>\n",
       "      <td>3</td>\n",
       "      <td>Had higher expectations It is a naturally swee...</td>\n",
       "    </tr>\n",
       "    <tr>\n",
       "      <th>2</th>\n",
       "      <td>5</td>\n",
       "      <td>Everything is as it should be I ordered these ...</td>\n",
       "    </tr>\n",
       "    <tr>\n",
       "      <th>3</th>\n",
       "      <td>5</td>\n",
       "      <td>So Happy I found this; Product is Fabulous I d...</td>\n",
       "    </tr>\n",
       "    <tr>\n",
       "      <th>4</th>\n",
       "      <td>5</td>\n",
       "      <td>Great tea, very satisfying Nice mellow tea for...</td>\n",
       "    </tr>\n",
       "  </tbody>\n",
       "</table>\n",
       "</div>"
      ],
      "text/plain": [
       "   Score                                        review_text\n",
       "0      1  Sprayed orange grease all over the inside of t...\n",
       "1      3  Had higher expectations It is a naturally swee...\n",
       "2      5  Everything is as it should be I ordered these ...\n",
       "3      5  So Happy I found this; Product is Fabulous I d...\n",
       "4      5  Great tea, very satisfying Nice mellow tea for..."
      ]
     },
     "execution_count": 6,
     "metadata": {},
     "output_type": "execute_result"
    }
   ],
   "source": [
    "# Let's use a previews sample obtained\n",
    "df = pd.read_csv('amazon_reviews_dataset_500.csv')\n",
    "df.head()"
   ]
  },
  {
   "cell_type": "markdown",
   "metadata": {},
   "source": [
    "## Exploratory Data Analysis (EDA)"
   ]
  },
  {
   "cell_type": "code",
   "execution_count": 7,
   "metadata": {},
   "outputs": [
    {
     "data": {
      "image/png": "[encoded data removed]",
      "text/plain": [
       "<Figure size 720x360 with 1 Axes>"
      ]
     },
     "metadata": {
      "needs_background": "light"
     },
     "output_type": "display_data"
    }
   ],
   "source": [
    "fig, ax = plt.subplots(figsize = (10, 5))\n",
    "ax = df['Score'].value_counts().sort_index().plot(kind = 'bar')\n",
    "ax.set_xlabel('Review Stars')\n",
    "plt.title('count of reviews by stars')\n",
    "plt.show()"
   ]
  },
  {
   "cell_type": "markdown",
   "metadata": {},
   "source": [
    "The overall distribution of reviews seems to be more positive and then there is a slight spike in the 1 star negetive reviews, so data is mostly very polar."
   ]
  },
  {
   "cell_type": "markdown",
   "metadata": {},
   "source": [
    "## Basic NLTK"
   ]
  },
  {
   "cell_type": "code",
   "execution_count": 8,
   "metadata": {},
   "outputs": [
    {
     "name": "stdout",
     "output_type": "stream",
     "text": [
      "Great Price, Not what I was hoping for though. There's the original Tang. There's the fruition Tang that was around from 2008 to 2010, which had extra vitamins (B,D,A, etc.) and replaced half the sugar with zero calorie sweeteners. But tang has gone back to a flavor more similar to the original with full sugar content. I was hoping for the fruition version, which other reviewers received.\n"
     ]
    }
   ],
   "source": [
    "example = df['review_text'][50]\n",
    "print(example)"
   ]
  },
  {
   "cell_type": "code",
   "execution_count": 9,
   "metadata": {},
   "outputs": [
    {
     "data": {
      "text/plain": [
       "['Great', 'Price', ',', 'Not', 'what', 'I', 'was', 'hoping']"
      ]
     },
     "execution_count": 9,
     "metadata": {},
     "output_type": "execute_result"
    }
   ],
   "source": [
    "#use the nltk's word tokenizer to smartly split the sentence into tokens which can be used to understand the language by the computer\n",
    "tokens = nltk.word_tokenize(example)\n",
    "tokens[:8]"
   ]
  },
  {
   "cell_type": "code",
   "execution_count": 10,
   "metadata": {},
   "outputs": [
    {
     "data": {
      "text/plain": [
       "[('Great', 'NNP'),\n",
       " ('Price', 'NNP'),\n",
       " (',', ','),\n",
       " ('Not', 'RB'),\n",
       " ('what', 'WP'),\n",
       " ('I', 'PRP'),\n",
       " ('was', 'VBD'),\n",
       " ('hoping', 'VBG'),\n",
       " ('for', 'IN'),\n",
       " ('though', 'IN')]"
      ]
     },
     "execution_count": 10,
     "metadata": {},
     "output_type": "execute_result"
    }
   ],
   "source": [
    "#find the part of speech for each of the token words with nltk each word will get a part of speech value associated with them \n",
    "#and they are represented with codes like NN is for singular nouns\n",
    "tagged = nltk.pos_tag(tokens)\n",
    "tagged[:10]"
   ]
  },
  {
   "cell_type": "code",
   "execution_count": 11,
   "metadata": {},
   "outputs": [
    {
     "name": "stdout",
     "output_type": "stream",
     "text": [
      "(S\n",
      "  (GPE Great/NNP)\n",
      "  Price/NNP\n",
      "  ,/,\n",
      "  Not/RB\n",
      "  what/WP\n",
      "  I/PRP\n",
      "  was/VBD\n",
      "  hoping/VBG\n",
      "  for/IN\n",
      "  though/IN\n",
      "  ./.\n",
      "  There/EX\n",
      "  's/VBZ\n",
      "  the/DT\n",
      "  original/JJ\n",
      "  (PERSON Tang/NNP)\n",
      "  ./.\n",
      "  There/EX\n",
      "  's/VBZ\n",
      "  the/DT\n",
      "  fruition/NN\n",
      "  (PERSON Tang/NNP)\n",
      "  that/WDT\n",
      "  was/VBD\n",
      "  around/IN\n",
      "  from/IN\n",
      "  2008/CD\n",
      "  to/TO\n",
      "  2010/CD\n",
      "  ,/,\n",
      "  which/WDT\n",
      "  had/VBD\n",
      "  extra/JJ\n",
      "  vitamins/NNS\n",
      "  (/(\n",
      "  B/NNP\n",
      "  ,/,\n",
      "  (GPE D/NNP)\n",
      "  ,/,\n",
      "  A/NNP\n",
      "  ,/,\n",
      "  etc/FW\n",
      "  ./.\n",
      "  )/)\n",
      "  and/CC\n",
      "  replaced/VBD\n",
      "  half/PDT\n",
      "  the/DT\n",
      "  sugar/NN\n",
      "  with/IN\n",
      "  zero/CD\n",
      "  calorie/NN\n",
      "  sweeteners/NNS\n",
      "  ./.\n",
      "  But/CC\n",
      "  tang/NN\n",
      "  has/VBZ\n",
      "  gone/VBN\n",
      "  back/RB\n",
      "  to/TO\n",
      "  a/DT\n",
      "  flavor/NN\n",
      "  more/JJR\n",
      "  similar/JJ\n",
      "  to/TO\n",
      "  the/DT\n",
      "  original/JJ\n",
      "  with/IN\n",
      "  full/JJ\n",
      "  sugar/NN\n",
      "  content/NN\n",
      "  ./.\n",
      "  I/PRP\n",
      "  was/VBD\n",
      "  hoping/VBG\n",
      "  for/IN\n",
      "  the/DT\n",
      "  fruition/NN\n",
      "  version/NN\n",
      "  ,/,\n",
      "  which/WDT\n",
      "  other/JJ\n",
      "  reviewers/NNS\n",
      "  received/VBD\n",
      "  ./.)\n"
     ]
    }
   ],
   "source": [
    "#we can group these tagged values into chunks of tags entities\n",
    "entities = nltk.chunk.ne_chunk(tagged)\n",
    "entities.pprint()"
   ]
  },
  {
   "cell_type": "markdown",
   "metadata": {},
   "source": [
    "## VADER Sentiment Scoring\n",
    "\n",
    "**VADER**: Valence Aware Dictonary and sEntiment Reasoner\n",
    "\n",
    "We'll use NLTK's `SentimentInetensityAnalyzer` to get the negetive (neg), neutral (neu) and positive (pos) scores for the text.\n",
    "\n",
    "**Approach**:\n",
    "- Uses a \"bag of words\" approach\n",
    "- Stop words are removed - words like (is, the, am, etc.)\n",
    "- each word is scored and combined to a total score to get a overall sentiment score of text.\n",
    "\n",
    "**Limitations**:\n",
    "- does not account for relationships between words, which is an important part of human speech."
   ]
  },
  {
   "cell_type": "code",
   "execution_count": 13,
   "metadata": {},
   "outputs": [],
   "source": [
    "sia = SentimentIntensityAnalyzer()"
   ]
  },
  {
   "cell_type": "code",
   "execution_count": 14,
   "metadata": {},
   "outputs": [
    {
     "data": {
      "text/plain": [
       "{'neg': 0.0, 'neu': 0.389, 'pos': 0.611, 'compound': 0.9272}"
      ]
     },
     "execution_count": 14,
     "metadata": {},
     "output_type": "execute_result"
    }
   ],
   "source": [
    "#example of using sentiment analyzer on a positive sentence\n",
    "sia.polarity_scores('I am so happy! Today is such a great day and I love ML.')"
   ]
  },
  {
   "cell_type": "code",
   "execution_count": 15,
   "metadata": {},
   "outputs": [
    {
     "data": {
      "text/plain": [
       "{'neg': 0.451, 'neu': 0.549, 'pos': 0.0, 'compound': -0.8491}"
      ]
     },
     "execution_count": 15,
     "metadata": {},
     "output_type": "execute_result"
    }
   ],
   "source": [
    "#on the other hand sentiment analyzer on a negetive example\n",
    "sia.polarity_scores('This is the worst thing ever, I would never buy something this bad.')"
   ]
  },
  {
   "cell_type": "code",
   "execution_count": 16,
   "metadata": {},
   "outputs": [
    {
     "data": {
      "text/plain": [
       "{'neg': 0.237, 'neu': 0.385, 'pos': 0.378, 'compound': 0.2942}"
      ]
     },
     "execution_count": 16,
     "metadata": {},
     "output_type": "execute_result"
    }
   ],
   "source": [
    "#It can also work well on some confusing sentences - to give a overall slightly positive rating for this sentence.\n",
    "sia.polarity_scores('hey, I hate you, just kidding you know I love you!')"
   ]
  },
  {
   "cell_type": "markdown",
   "metadata": {},
   "source": [
    "**Observations**:\n",
    "\n",
    "We are successfully able to identify the overall sentiment of the text with compound score which varies between 1 (for positive) and -1 (for negetive).\n",
    "\n",
    "Now we can try to apply this to our reviews dataset."
   ]
  },
  {
   "cell_type": "code",
   "execution_count": 17,
   "metadata": {},
   "outputs": [],
   "source": [
    "#Run Polarity Score on the entire dataset\n",
    "res = {}\n",
    "for idx, row in df.iterrows():\n",
    "    text = row['review_text']\n",
    "    res[idx] = sia.polarity_scores(text)"
   ]
  },
  {
   "cell_type": "code",
   "execution_count": 18,
   "metadata": {},
   "outputs": [
    {
     "data": {
      "text/html": [
       "<div>\n",
       "<style scoped>\n",
       "    .dataframe tbody tr th:only-of-type {\n",
       "        vertical-align: middle;\n",
       "    }\n",
       "\n",
       "    .dataframe tbody tr th {\n",
       "        vertical-align: top;\n",
       "    }\n",
       "\n",
       "    .dataframe thead th {\n",
       "        text-align: right;\n",
       "    }\n",
       "</style>\n",
       "<table border=\"1\" class=\"dataframe\">\n",
       "  <thead>\n",
       "    <tr style=\"text-align: right;\">\n",
       "      <th></th>\n",
       "      <th>neg</th>\n",
       "      <th>neu</th>\n",
       "      <th>pos</th>\n",
       "      <th>compound</th>\n",
       "      <th>Score</th>\n",
       "      <th>review_text</th>\n",
       "    </tr>\n",
       "  </thead>\n",
       "  <tbody>\n",
       "    <tr>\n",
       "      <th>0</th>\n",
       "      <td>0.070</td>\n",
       "      <td>0.800</td>\n",
       "      <td>0.130</td>\n",
       "      <td>0.8422</td>\n",
       "      <td>1</td>\n",
       "      <td>Sprayed orange grease all over the inside of t...</td>\n",
       "    </tr>\n",
       "    <tr>\n",
       "      <th>1</th>\n",
       "      <td>0.082</td>\n",
       "      <td>0.727</td>\n",
       "      <td>0.192</td>\n",
       "      <td>0.7655</td>\n",
       "      <td>3</td>\n",
       "      <td>Had higher expectations It is a naturally swee...</td>\n",
       "    </tr>\n",
       "    <tr>\n",
       "      <th>2</th>\n",
       "      <td>0.025</td>\n",
       "      <td>0.807</td>\n",
       "      <td>0.168</td>\n",
       "      <td>0.9238</td>\n",
       "      <td>5</td>\n",
       "      <td>Everything is as it should be I ordered these ...</td>\n",
       "    </tr>\n",
       "    <tr>\n",
       "      <th>3</th>\n",
       "      <td>0.092</td>\n",
       "      <td>0.693</td>\n",
       "      <td>0.214</td>\n",
       "      <td>0.9061</td>\n",
       "      <td>5</td>\n",
       "      <td>So Happy I found this; Product is Fabulous I d...</td>\n",
       "    </tr>\n",
       "    <tr>\n",
       "      <th>4</th>\n",
       "      <td>0.000</td>\n",
       "      <td>0.497</td>\n",
       "      <td>0.503</td>\n",
       "      <td>0.9692</td>\n",
       "      <td>5</td>\n",
       "      <td>Great tea, very satisfying Nice mellow tea for...</td>\n",
       "    </tr>\n",
       "  </tbody>\n",
       "</table>\n",
       "</div>"
      ],
      "text/plain": [
       "     neg    neu    pos  compound  Score  \\\n",
       "0  0.070  0.800  0.130    0.8422      1   \n",
       "1  0.082  0.727  0.192    0.7655      3   \n",
       "2  0.025  0.807  0.168    0.9238      5   \n",
       "3  0.092  0.693  0.214    0.9061      5   \n",
       "4  0.000  0.497  0.503    0.9692      5   \n",
       "\n",
       "                                         review_text  \n",
       "0  Sprayed orange grease all over the inside of t...  \n",
       "1  Had higher expectations It is a naturally swee...  \n",
       "2  Everything is as it should be I ordered these ...  \n",
       "3  So Happy I found this; Product is Fabulous I d...  \n",
       "4  Great tea, very satisfying Nice mellow tea for...  "
      ]
     },
     "execution_count": 18,
     "metadata": {},
     "output_type": "execute_result"
    }
   ],
   "source": [
    "vaders = pd.DataFrame(res).T\n",
    "vaders = vaders.merge(df, how = 'left', right_index=True, left_index=True)\n",
    "vaders.head()"
   ]
  },
  {
   "cell_type": "markdown",
   "metadata": {},
   "source": [
    "**How to measure effectiveness?**\n",
    "\n",
    "One way to see if our model is working as expected or not, is to check an assumption.\n",
    "\n",
    "We can assume that what our model classifies as more positive has higher star review and the reviews predicted to be more negetive have a lower star review associated with them.\n",
    "\n",
    "If this is true then, we can rely on text sentiment analysis to tell us how our users feel about products overall."
   ]
  },
  {
   "cell_type": "code",
   "execution_count": 19,
   "metadata": {},
   "outputs": [
    {
     "data": {
      "image/png": "[encoded data removed]",
      "text/plain": [
       "<Figure size 432x288 with 1 Axes>"
      ]
     },
     "metadata": {
      "needs_background": "light"
     },
     "output_type": "display_data"
    }
   ],
   "source": [
    "# Plot Vaders results\n",
    "sns.barplot(data=vaders, x='Score', y='compound')\n",
    "plt.title('Compound Score with respect to Amazon star reviews')\n",
    "plt.show()"
   ]
  },
  {
   "cell_type": "markdown",
   "metadata": {},
   "source": [
    "**Observation:** We can see that the assumptions seems to be right as higher star reviews have a high compound score associated with them.\n",
    "\n",
    "**Taking a look at each component of sentiment analysis (pos, neu and neg) with respect to star reviews**"
   ]
  },
  {
   "cell_type": "code",
   "execution_count": 20,
   "metadata": {},
   "outputs": [
    {
     "data": {
      "image/png": "[encoded data removed]",
      "text/plain": [
       "<Figure size 2160x720 with 3 Axes>"
      ]
     },
     "metadata": {
      "needs_background": "light"
     },
     "output_type": "display_data"
    }
   ],
   "source": [
    "fig, axs = plt.subplots(1, 3, figsize=(30, 10))\n",
    "sns.barplot(data=vaders, x='Score', y='pos', ax=axs[0])\n",
    "sns.barplot(data=vaders, x='Score', y='neu', ax=axs[1])\n",
    "sns.barplot(data=vaders, x='Score', y='neg', ax=axs[2])\n",
    "axs[0].set_title(\"Positive\")\n",
    "axs[1].set_title(\"Neutral\")\n",
    "axs[2].set_title(\"Negative\")\n",
    "plt.show()"
   ]
  },
  {
   "cell_type": "markdown",
   "metadata": {},
   "source": [
    "**Observations:**\n",
    "- postivity score is higher as star reviews are higher star reviews\n",
    "- neural scores do not vary much accross different star reviews\n",
    "- negativity score decreases with higher star reviews\n",
    "\n",
    "**So we can conclude that our sentiment analysis score does relate to the star reviews given by the users**\n",
    "\n",
    "**Limitations**\n",
    "\n",
    "This way of analyzing text with vader does not consider the relationship between the words and the context in which they are used, so we can improve upon that using the state of the art Transformer based BERT models which can understand and learn context and make better prediction of overall sentiment."
   ]
  }
 ],
 "metadata": {
  "kernelspec": {
   "display_name": "Python 3",
   "language": "python",
   "name": "python3"
  },
  "language_info": {
   "codemirror_mode": {
    "name": "ipython",
    "version": 3
   },
   "file_extension": ".py",
   "mimetype": "text/x-python",
   "name": "python",
   "nbconvert_exporter": "python",
   "pygments_lexer": "ipython3",
   "version": "3.8.5"
  }
 },
 "nbformat": 4,
 "nbformat_minor": 4
}
