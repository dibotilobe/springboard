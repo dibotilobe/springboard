{
 "cells": [
  {
   "cell_type": "code",
   "execution_count": 56,
   "id": "1d5e2748-8c9d-4a81-a8e8-e30e104dd108",
   "metadata": {
    "tags": []
   },
   "outputs": [],
   "source": [
    "import pandas as pd\n",
    "import numpy as np\n",
    "from sklearn.model_selection import train_test_split\n",
    "import matplotlib.pyplot as plt\n",
    "import seaborn as sns\n",
    "%matplotlib inline\n",
    "from sklearn.preprocessing import OneHotEncoder\n",
    "from sklearn.compose import ColumnTransformer\n",
    "from sklearn.feature_selection import RFE\n",
    "from sklearn.linear_model import LogisticRegression \n",
    "from sklearn.metrics import roc_auc_score\n",
    "from sklearn.datasets import make_classification\n",
    "from sklearn.metrics import roc_curve\n",
    "from sklearn.metrics import confusion_matrix\n",
    "from sklearn.metrics import classification_report\n",
    "from sklearn.metrics import mean_squared_error\n",
    "from math import sqrt"
   ]
  },
  {
   "cell_type": "code",
   "execution_count": 57,
   "id": "8c0b6de3-3402-43af-927a-1848a0931e31",
   "metadata": {
    "tags": []
   },
   "outputs": [],
   "source": [
    "dfmain = pd.read_csv('bankfull_add.csv')\n",
    "\n",
    "dfmain['education']=np.where(dfmain['education'] =='basic.9y', 'Basic', dfmain['education'])\n",
    "dfmain['education']=np.where(dfmain['education'] =='basic.6y', 'Basic', dfmain['education'])\n",
    "dfmain['education']=np.where(dfmain['education'] =='basic.4y', 'Basic', dfmain['education'])"
   ]
  },
  {
   "cell_type": "code",
   "execution_count": 58,
   "id": "849ff8e3-0316-4c4c-801f-28dde441ae1c",
   "metadata": {
    "tags": []
   },
   "outputs": [
    {
     "data": {
      "text/html": [
       "<div>\n",
       "<style scoped>\n",
       "    .dataframe tbody tr th:only-of-type {\n",
       "        vertical-align: middle;\n",
       "    }\n",
       "\n",
       "    .dataframe tbody tr th {\n",
       "        vertical-align: top;\n",
       "    }\n",
       "\n",
       "    .dataframe thead th {\n",
       "        text-align: right;\n",
       "    }\n",
       "</style>\n",
       "<table border=\"1\" class=\"dataframe\">\n",
       "  <thead>\n",
       "    <tr style=\"text-align: right;\">\n",
       "      <th></th>\n",
       "      <th>age</th>\n",
       "      <th>job</th>\n",
       "      <th>marital</th>\n",
       "      <th>education</th>\n",
       "      <th>contact</th>\n",
       "      <th>month</th>\n",
       "      <th>day</th>\n",
       "      <th>duration</th>\n",
       "      <th>campaign</th>\n",
       "      <th>pdays</th>\n",
       "      <th>...</th>\n",
       "      <th>poutcome</th>\n",
       "      <th>empvarrate</th>\n",
       "      <th>conspriceidx</th>\n",
       "      <th>consconfidx</th>\n",
       "      <th>euribor3m</th>\n",
       "      <th>nremployed</th>\n",
       "      <th>y</th>\n",
       "      <th>default</th>\n",
       "      <th>housing</th>\n",
       "      <th>loan</th>\n",
       "    </tr>\n",
       "  </thead>\n",
       "  <tbody>\n",
       "    <tr>\n",
       "      <th>0</th>\n",
       "      <td>56</td>\n",
       "      <td>housemaid</td>\n",
       "      <td>married</td>\n",
       "      <td>Basic</td>\n",
       "      <td>telephone</td>\n",
       "      <td>may</td>\n",
       "      <td>mon</td>\n",
       "      <td>261</td>\n",
       "      <td>1</td>\n",
       "      <td>999</td>\n",
       "      <td>...</td>\n",
       "      <td>nonexistent</td>\n",
       "      <td>1.1</td>\n",
       "      <td>93.994</td>\n",
       "      <td>-36.4</td>\n",
       "      <td>4.857</td>\n",
       "      <td>5191.0</td>\n",
       "      <td>0</td>\n",
       "      <td>0</td>\n",
       "      <td>0</td>\n",
       "      <td>0</td>\n",
       "    </tr>\n",
       "    <tr>\n",
       "      <th>1</th>\n",
       "      <td>57</td>\n",
       "      <td>services</td>\n",
       "      <td>married</td>\n",
       "      <td>high.school</td>\n",
       "      <td>telephone</td>\n",
       "      <td>may</td>\n",
       "      <td>mon</td>\n",
       "      <td>149</td>\n",
       "      <td>1</td>\n",
       "      <td>999</td>\n",
       "      <td>...</td>\n",
       "      <td>nonexistent</td>\n",
       "      <td>1.1</td>\n",
       "      <td>93.994</td>\n",
       "      <td>-36.4</td>\n",
       "      <td>4.857</td>\n",
       "      <td>5191.0</td>\n",
       "      <td>0</td>\n",
       "      <td>0</td>\n",
       "      <td>0</td>\n",
       "      <td>0</td>\n",
       "    </tr>\n",
       "    <tr>\n",
       "      <th>2</th>\n",
       "      <td>37</td>\n",
       "      <td>services</td>\n",
       "      <td>married</td>\n",
       "      <td>high.school</td>\n",
       "      <td>telephone</td>\n",
       "      <td>may</td>\n",
       "      <td>mon</td>\n",
       "      <td>226</td>\n",
       "      <td>1</td>\n",
       "      <td>999</td>\n",
       "      <td>...</td>\n",
       "      <td>nonexistent</td>\n",
       "      <td>1.1</td>\n",
       "      <td>93.994</td>\n",
       "      <td>-36.4</td>\n",
       "      <td>4.857</td>\n",
       "      <td>5191.0</td>\n",
       "      <td>0</td>\n",
       "      <td>0</td>\n",
       "      <td>1</td>\n",
       "      <td>0</td>\n",
       "    </tr>\n",
       "    <tr>\n",
       "      <th>3</th>\n",
       "      <td>40</td>\n",
       "      <td>admin.</td>\n",
       "      <td>married</td>\n",
       "      <td>Basic</td>\n",
       "      <td>telephone</td>\n",
       "      <td>may</td>\n",
       "      <td>mon</td>\n",
       "      <td>151</td>\n",
       "      <td>1</td>\n",
       "      <td>999</td>\n",
       "      <td>...</td>\n",
       "      <td>nonexistent</td>\n",
       "      <td>1.1</td>\n",
       "      <td>93.994</td>\n",
       "      <td>-36.4</td>\n",
       "      <td>4.857</td>\n",
       "      <td>5191.0</td>\n",
       "      <td>0</td>\n",
       "      <td>0</td>\n",
       "      <td>0</td>\n",
       "      <td>0</td>\n",
       "    </tr>\n",
       "    <tr>\n",
       "      <th>4</th>\n",
       "      <td>56</td>\n",
       "      <td>services</td>\n",
       "      <td>married</td>\n",
       "      <td>high.school</td>\n",
       "      <td>telephone</td>\n",
       "      <td>may</td>\n",
       "      <td>mon</td>\n",
       "      <td>307</td>\n",
       "      <td>1</td>\n",
       "      <td>999</td>\n",
       "      <td>...</td>\n",
       "      <td>nonexistent</td>\n",
       "      <td>1.1</td>\n",
       "      <td>93.994</td>\n",
       "      <td>-36.4</td>\n",
       "      <td>4.857</td>\n",
       "      <td>5191.0</td>\n",
       "      <td>0</td>\n",
       "      <td>0</td>\n",
       "      <td>0</td>\n",
       "      <td>1</td>\n",
       "    </tr>\n",
       "    <tr>\n",
       "      <th>5</th>\n",
       "      <td>45</td>\n",
       "      <td>services</td>\n",
       "      <td>married</td>\n",
       "      <td>Basic</td>\n",
       "      <td>telephone</td>\n",
       "      <td>may</td>\n",
       "      <td>mon</td>\n",
       "      <td>198</td>\n",
       "      <td>1</td>\n",
       "      <td>999</td>\n",
       "      <td>...</td>\n",
       "      <td>nonexistent</td>\n",
       "      <td>1.1</td>\n",
       "      <td>93.994</td>\n",
       "      <td>-36.4</td>\n",
       "      <td>4.857</td>\n",
       "      <td>5191.0</td>\n",
       "      <td>0</td>\n",
       "      <td>0</td>\n",
       "      <td>0</td>\n",
       "      <td>0</td>\n",
       "    </tr>\n",
       "    <tr>\n",
       "      <th>6</th>\n",
       "      <td>59</td>\n",
       "      <td>admin.</td>\n",
       "      <td>married</td>\n",
       "      <td>professional.course</td>\n",
       "      <td>telephone</td>\n",
       "      <td>may</td>\n",
       "      <td>mon</td>\n",
       "      <td>139</td>\n",
       "      <td>1</td>\n",
       "      <td>999</td>\n",
       "      <td>...</td>\n",
       "      <td>nonexistent</td>\n",
       "      <td>1.1</td>\n",
       "      <td>93.994</td>\n",
       "      <td>-36.4</td>\n",
       "      <td>4.857</td>\n",
       "      <td>5191.0</td>\n",
       "      <td>0</td>\n",
       "      <td>0</td>\n",
       "      <td>0</td>\n",
       "      <td>0</td>\n",
       "    </tr>\n",
       "    <tr>\n",
       "      <th>7</th>\n",
       "      <td>41</td>\n",
       "      <td>blue-collar</td>\n",
       "      <td>married</td>\n",
       "      <td>unknown</td>\n",
       "      <td>telephone</td>\n",
       "      <td>may</td>\n",
       "      <td>mon</td>\n",
       "      <td>217</td>\n",
       "      <td>1</td>\n",
       "      <td>999</td>\n",
       "      <td>...</td>\n",
       "      <td>nonexistent</td>\n",
       "      <td>1.1</td>\n",
       "      <td>93.994</td>\n",
       "      <td>-36.4</td>\n",
       "      <td>4.857</td>\n",
       "      <td>5191.0</td>\n",
       "      <td>0</td>\n",
       "      <td>0</td>\n",
       "      <td>0</td>\n",
       "      <td>0</td>\n",
       "    </tr>\n",
       "    <tr>\n",
       "      <th>8</th>\n",
       "      <td>24</td>\n",
       "      <td>technician</td>\n",
       "      <td>single</td>\n",
       "      <td>professional.course</td>\n",
       "      <td>telephone</td>\n",
       "      <td>may</td>\n",
       "      <td>mon</td>\n",
       "      <td>380</td>\n",
       "      <td>1</td>\n",
       "      <td>999</td>\n",
       "      <td>...</td>\n",
       "      <td>nonexistent</td>\n",
       "      <td>1.1</td>\n",
       "      <td>93.994</td>\n",
       "      <td>-36.4</td>\n",
       "      <td>4.857</td>\n",
       "      <td>5191.0</td>\n",
       "      <td>0</td>\n",
       "      <td>0</td>\n",
       "      <td>1</td>\n",
       "      <td>0</td>\n",
       "    </tr>\n",
       "    <tr>\n",
       "      <th>9</th>\n",
       "      <td>25</td>\n",
       "      <td>services</td>\n",
       "      <td>single</td>\n",
       "      <td>high.school</td>\n",
       "      <td>telephone</td>\n",
       "      <td>may</td>\n",
       "      <td>mon</td>\n",
       "      <td>50</td>\n",
       "      <td>1</td>\n",
       "      <td>999</td>\n",
       "      <td>...</td>\n",
       "      <td>nonexistent</td>\n",
       "      <td>1.1</td>\n",
       "      <td>93.994</td>\n",
       "      <td>-36.4</td>\n",
       "      <td>4.857</td>\n",
       "      <td>5191.0</td>\n",
       "      <td>0</td>\n",
       "      <td>0</td>\n",
       "      <td>1</td>\n",
       "      <td>0</td>\n",
       "    </tr>\n",
       "  </tbody>\n",
       "</table>\n",
       "<p>10 rows × 21 columns</p>\n",
       "</div>"
      ],
      "text/plain": [
       "   age          job  marital            education    contact month  day  \\\n",
       "0   56    housemaid  married                Basic  telephone   may  mon   \n",
       "1   57     services  married          high.school  telephone   may  mon   \n",
       "2   37     services  married          high.school  telephone   may  mon   \n",
       "3   40       admin.  married                Basic  telephone   may  mon   \n",
       "4   56     services  married          high.school  telephone   may  mon   \n",
       "5   45     services  married                Basic  telephone   may  mon   \n",
       "6   59       admin.  married  professional.course  telephone   may  mon   \n",
       "7   41  blue-collar  married              unknown  telephone   may  mon   \n",
       "8   24   technician   single  professional.course  telephone   may  mon   \n",
       "9   25     services   single          high.school  telephone   may  mon   \n",
       "\n",
       "   duration  campaign  pdays  ...     poutcome empvarrate  conspriceidx  \\\n",
       "0       261         1    999  ...  nonexistent        1.1        93.994   \n",
       "1       149         1    999  ...  nonexistent        1.1        93.994   \n",
       "2       226         1    999  ...  nonexistent        1.1        93.994   \n",
       "3       151         1    999  ...  nonexistent        1.1        93.994   \n",
       "4       307         1    999  ...  nonexistent        1.1        93.994   \n",
       "5       198         1    999  ...  nonexistent        1.1        93.994   \n",
       "6       139         1    999  ...  nonexistent        1.1        93.994   \n",
       "7       217         1    999  ...  nonexistent        1.1        93.994   \n",
       "8       380         1    999  ...  nonexistent        1.1        93.994   \n",
       "9        50         1    999  ...  nonexistent        1.1        93.994   \n",
       "\n",
       "   consconfidx  euribor3m  nremployed  y  default  housing  loan  \n",
       "0        -36.4      4.857      5191.0  0        0        0     0  \n",
       "1        -36.4      4.857      5191.0  0        0        0     0  \n",
       "2        -36.4      4.857      5191.0  0        0        1     0  \n",
       "3        -36.4      4.857      5191.0  0        0        0     0  \n",
       "4        -36.4      4.857      5191.0  0        0        0     1  \n",
       "5        -36.4      4.857      5191.0  0        0        0     0  \n",
       "6        -36.4      4.857      5191.0  0        0        0     0  \n",
       "7        -36.4      4.857      5191.0  0        0        0     0  \n",
       "8        -36.4      4.857      5191.0  0        0        1     0  \n",
       "9        -36.4      4.857      5191.0  0        0        1     0  \n",
       "\n",
       "[10 rows x 21 columns]"
      ]
     },
     "execution_count": 58,
     "metadata": {},
     "output_type": "execute_result"
    }
   ],
   "source": [
    "dfmain.head(10)"
   ]
  },
  {
   "cell_type": "code",
   "execution_count": 59,
   "id": "79612ca6-86de-4664-a316-26797c075825",
   "metadata": {
    "tags": []
   },
   "outputs": [
    {
     "name": "stdout",
     "output_type": "stream",
     "text": [
      "This Marketing Campaigns data set has 41188 rows and 21 columns.\n"
     ]
    }
   ],
   "source": [
    "#Bank Marketing Data Set shape\n",
    "print('This Marketing Campaigns data set has {} rows and {} columns.'.format(dfmain.shape[0], dfmain.shape[1]))"
   ]
  },
  {
   "cell_type": "code",
   "execution_count": 60,
   "id": "2225e785-af3e-4f19-9dc3-80e090228717",
   "metadata": {
    "tags": []
   },
   "outputs": [],
   "source": [
    "enc = OneHotEncoder(handle_unknown='ignore')\n",
    "X = dfmain[['job', 'marital', 'education', 'contact', 'month', 'day', 'poutcome']]\n",
    "enc.fit(X)\n",
    "enc.categories_\n",
    "myvars = enc.transform(dfmain[['job', 'marital', 'education', 'contact', 'month', 'day', 'poutcome']]).toarray()\n",
    "df2 = pd.DataFrame(myvars, columns=enc.get_feature_names_out(['job', 'marital', 'education', 'contact', 'month', 'day', 'poutcome']))\n",
    "d = dict.fromkeys(df2.select_dtypes(np.float64).columns, np.int64)\n",
    "df2 = df2.astype(d)\n",
    "# df2.info()"
   ]
  },
  {
   "cell_type": "code",
   "execution_count": 61,
   "id": "12665605-316d-4324-ab7c-7e3433c0ff66",
   "metadata": {
    "tags": []
   },
   "outputs": [
    {
     "data": {
      "text/html": [
       "<div>\n",
       "<style scoped>\n",
       "    .dataframe tbody tr th:only-of-type {\n",
       "        vertical-align: middle;\n",
       "    }\n",
       "\n",
       "    .dataframe tbody tr th {\n",
       "        vertical-align: top;\n",
       "    }\n",
       "\n",
       "    .dataframe thead th {\n",
       "        text-align: right;\n",
       "    }\n",
       "</style>\n",
       "<table border=\"1\" class=\"dataframe\">\n",
       "  <thead>\n",
       "    <tr style=\"text-align: right;\">\n",
       "      <th></th>\n",
       "      <th>age</th>\n",
       "      <th>duration</th>\n",
       "      <th>campaign</th>\n",
       "      <th>pdays</th>\n",
       "      <th>previous</th>\n",
       "      <th>empvarrate</th>\n",
       "      <th>conspriceidx</th>\n",
       "      <th>consconfidx</th>\n",
       "      <th>euribor3m</th>\n",
       "      <th>nremployed</th>\n",
       "      <th>...</th>\n",
       "      <th>month_oct</th>\n",
       "      <th>month_sep</th>\n",
       "      <th>day_fri</th>\n",
       "      <th>day_mon</th>\n",
       "      <th>day_thu</th>\n",
       "      <th>day_tue</th>\n",
       "      <th>day_wed</th>\n",
       "      <th>poutcome_failure</th>\n",
       "      <th>poutcome_nonexistent</th>\n",
       "      <th>poutcome_success</th>\n",
       "    </tr>\n",
       "  </thead>\n",
       "  <tbody>\n",
       "    <tr>\n",
       "      <th>0</th>\n",
       "      <td>56</td>\n",
       "      <td>261</td>\n",
       "      <td>1</td>\n",
       "      <td>999</td>\n",
       "      <td>0</td>\n",
       "      <td>1.1</td>\n",
       "      <td>93.994</td>\n",
       "      <td>-36.4</td>\n",
       "      <td>4.857</td>\n",
       "      <td>5191.0</td>\n",
       "      <td>...</td>\n",
       "      <td>0</td>\n",
       "      <td>0</td>\n",
       "      <td>0</td>\n",
       "      <td>1</td>\n",
       "      <td>0</td>\n",
       "      <td>0</td>\n",
       "      <td>0</td>\n",
       "      <td>0</td>\n",
       "      <td>1</td>\n",
       "      <td>0</td>\n",
       "    </tr>\n",
       "    <tr>\n",
       "      <th>1</th>\n",
       "      <td>57</td>\n",
       "      <td>149</td>\n",
       "      <td>1</td>\n",
       "      <td>999</td>\n",
       "      <td>0</td>\n",
       "      <td>1.1</td>\n",
       "      <td>93.994</td>\n",
       "      <td>-36.4</td>\n",
       "      <td>4.857</td>\n",
       "      <td>5191.0</td>\n",
       "      <td>...</td>\n",
       "      <td>0</td>\n",
       "      <td>0</td>\n",
       "      <td>0</td>\n",
       "      <td>1</td>\n",
       "      <td>0</td>\n",
       "      <td>0</td>\n",
       "      <td>0</td>\n",
       "      <td>0</td>\n",
       "      <td>1</td>\n",
       "      <td>0</td>\n",
       "    </tr>\n",
       "    <tr>\n",
       "      <th>2</th>\n",
       "      <td>37</td>\n",
       "      <td>226</td>\n",
       "      <td>1</td>\n",
       "      <td>999</td>\n",
       "      <td>0</td>\n",
       "      <td>1.1</td>\n",
       "      <td>93.994</td>\n",
       "      <td>-36.4</td>\n",
       "      <td>4.857</td>\n",
       "      <td>5191.0</td>\n",
       "      <td>...</td>\n",
       "      <td>0</td>\n",
       "      <td>0</td>\n",
       "      <td>0</td>\n",
       "      <td>1</td>\n",
       "      <td>0</td>\n",
       "      <td>0</td>\n",
       "      <td>0</td>\n",
       "      <td>0</td>\n",
       "      <td>1</td>\n",
       "      <td>0</td>\n",
       "    </tr>\n",
       "    <tr>\n",
       "      <th>3</th>\n",
       "      <td>40</td>\n",
       "      <td>151</td>\n",
       "      <td>1</td>\n",
       "      <td>999</td>\n",
       "      <td>0</td>\n",
       "      <td>1.1</td>\n",
       "      <td>93.994</td>\n",
       "      <td>-36.4</td>\n",
       "      <td>4.857</td>\n",
       "      <td>5191.0</td>\n",
       "      <td>...</td>\n",
       "      <td>0</td>\n",
       "      <td>0</td>\n",
       "      <td>0</td>\n",
       "      <td>1</td>\n",
       "      <td>0</td>\n",
       "      <td>0</td>\n",
       "      <td>0</td>\n",
       "      <td>0</td>\n",
       "      <td>1</td>\n",
       "      <td>0</td>\n",
       "    </tr>\n",
       "    <tr>\n",
       "      <th>4</th>\n",
       "      <td>56</td>\n",
       "      <td>307</td>\n",
       "      <td>1</td>\n",
       "      <td>999</td>\n",
       "      <td>0</td>\n",
       "      <td>1.1</td>\n",
       "      <td>93.994</td>\n",
       "      <td>-36.4</td>\n",
       "      <td>4.857</td>\n",
       "      <td>5191.0</td>\n",
       "      <td>...</td>\n",
       "      <td>0</td>\n",
       "      <td>0</td>\n",
       "      <td>0</td>\n",
       "      <td>1</td>\n",
       "      <td>0</td>\n",
       "      <td>0</td>\n",
       "      <td>0</td>\n",
       "      <td>0</td>\n",
       "      <td>1</td>\n",
       "      <td>0</td>\n",
       "    </tr>\n",
       "  </tbody>\n",
       "</table>\n",
       "<p>5 rows × 56 columns</p>\n",
       "</div>"
      ],
      "text/plain": [
       "   age  duration  campaign  pdays  previous  empvarrate  conspriceidx  \\\n",
       "0   56       261         1    999         0         1.1        93.994   \n",
       "1   57       149         1    999         0         1.1        93.994   \n",
       "2   37       226         1    999         0         1.1        93.994   \n",
       "3   40       151         1    999         0         1.1        93.994   \n",
       "4   56       307         1    999         0         1.1        93.994   \n",
       "\n",
       "   consconfidx  euribor3m  nremployed  ...  month_oct  month_sep  day_fri  \\\n",
       "0        -36.4      4.857      5191.0  ...          0          0        0   \n",
       "1        -36.4      4.857      5191.0  ...          0          0        0   \n",
       "2        -36.4      4.857      5191.0  ...          0          0        0   \n",
       "3        -36.4      4.857      5191.0  ...          0          0        0   \n",
       "4        -36.4      4.857      5191.0  ...          0          0        0   \n",
       "\n",
       "   day_mon  day_thu  day_tue  day_wed  poutcome_failure  poutcome_nonexistent  \\\n",
       "0        1        0        0        0                 0                     1   \n",
       "1        1        0        0        0                 0                     1   \n",
       "2        1        0        0        0                 0                     1   \n",
       "3        1        0        0        0                 0                     1   \n",
       "4        1        0        0        0                 0                     1   \n",
       "\n",
       "   poutcome_success  \n",
       "0                 0  \n",
       "1                 0  \n",
       "2                 0  \n",
       "3                 0  \n",
       "4                 0  \n",
       "\n",
       "[5 rows x 56 columns]"
      ]
     },
     "execution_count": 61,
     "metadata": {},
     "output_type": "execute_result"
    }
   ],
   "source": [
    "dfmain.drop(['job', 'marital', 'education', 'contact', 'month', 'day', 'poutcome'], axis=1, inplace=True)\n",
    "df = pd.merge(dfmain, df2, right_index=True, left_index=True)\n",
    "df.head()"
   ]
  },
  {
   "cell_type": "code",
   "execution_count": 62,
   "id": "8f419a72-a505-4caa-bde7-feef41566447",
   "metadata": {
    "tags": []
   },
   "outputs": [],
   "source": [
    "df = df.dropna()"
   ]
  },
  {
   "cell_type": "code",
   "execution_count": 63,
   "id": "36c6a250-eaa4-432f-8a77-527f289d7cb6",
   "metadata": {
    "tags": []
   },
   "outputs": [],
   "source": [
    "X = df.drop('y', axis=1)\n",
    "y = df['y']"
   ]
  },
  {
   "cell_type": "code",
   "execution_count": 64,
   "id": "015ddc81-8c8f-4a29-a714-98367db231e1",
   "metadata": {
    "tags": []
   },
   "outputs": [],
   "source": [
    "trainX, testX, trainy, testy = train_test_split(X, y, test_size=0.2, random_state=42)\n",
    "\n",
    "trainX = trainX.values\n",
    "testX = testX.values\n",
    "trainy = trainy.values\n",
    "testy = testy.values"
   ]
  },
  {
   "cell_type": "code",
   "execution_count": 65,
   "id": "04361709-b992-4efc-a9e1-ed61ded31528",
   "metadata": {
    "tags": []
   },
   "outputs": [
    {
     "name": "stdout",
     "output_type": "stream",
     "text": [
      "X_shapes:\n",
      " trainX: testX:\n",
      " (32950, 55) (8238, 55) \n",
      "\n",
      "Y_shapes:\n",
      " trainy: testy:\n",
      " (32950,) (8238,)\n"
     ]
    }
   ],
   "source": [
    "print('X_shapes:\\n', 'trainX:', 'testX:\\n', trainX.shape, testX.shape, '\\n')\n",
    "print('Y_shapes:\\n', 'trainy:', 'testy:\\n', trainy.shape, testy.shape)"
   ]
  },
  {
   "cell_type": "code",
   "execution_count": 66,
   "id": "7b6efcca-6c93-40f4-8b54-acbabb899a0b",
   "metadata": {
    "tags": []
   },
   "outputs": [],
   "source": [
    "from sklearn.preprocessing import StandardScaler\n",
    "scaler = StandardScaler()\n",
    "trainX[:,11:] = scaler.fit_transform(trainX[:,11:])\n",
    "testX[:,11:] = scaler.transform(testX[:,11:])"
   ]
  },
  {
   "cell_type": "code",
   "execution_count": 67,
   "id": "08f5f0c5-b4b1-4070-8e4a-9035b51b4166",
   "metadata": {
    "tags": []
   },
   "outputs": [],
   "source": [
    "from imblearn.over_sampling import SMOTE\n",
    "os = SMOTE(random_state=0)\n",
    "trainX, testX, trainy, testy = train_test_split(X, y, test_size=0.2, random_state=42)\n",
    "columns = trainX.columns"
   ]
  },
  {
   "cell_type": "code",
   "execution_count": 68,
   "id": "803389a8-e9c0-4d76-a28d-2f5b34ebfbbc",
   "metadata": {
    "tags": []
   },
   "outputs": [
    {
     "name": "stdout",
     "output_type": "stream",
     "text": [
      "length of oversampled data is  58490\n",
      "Number of no subscription in oversampled data 29245\n",
      "Number of subscription 29245\n",
      "Proportion of no subscription data in oversampled data is  0.5\n",
      "Proportion of subscription data in oversampled data is  0.5\n"
     ]
    }
   ],
   "source": [
    "os_data_X,os_data_y=os.fit_resample(trainX, trainy)\n",
    "os_data_X = pd.DataFrame(data=os_data_X,columns=columns )\n",
    "os_data_y= pd.DataFrame(data=os_data_y,columns=['y'])\n",
    "# we can Check the numbers of our data\n",
    "print(\"length of oversampled data is \",len(os_data_X))\n",
    "print(\"Number of no subscription in oversampled data\",len(os_data_y[os_data_y['y']==0]))\n",
    "print(\"Number of subscription\",len(os_data_y[os_data_y['y']==1]))\n",
    "print(\"Proportion of no subscription data in oversampled data is \",len(os_data_y[os_data_y['y']==0])/len(os_data_X))\n",
    "print(\"Proportion of subscription data in oversampled data is \",len(os_data_y[os_data_y['y']==1])/len(os_data_X))"
   ]
  },
  {
   "cell_type": "markdown",
   "id": "dfc4c3dd-990d-462a-b5f4-7a4b59e47b85",
   "metadata": {},
   "source": [
    "# Model Selection"
   ]
  },
  {
   "cell_type": "code",
   "execution_count": 69,
   "id": "19e02cba-cd0a-4529-b8ab-a24ad5f0fb2e",
   "metadata": {
    "tags": []
   },
   "outputs": [],
   "source": [
    "import gc\n",
    "from datetime import datetime \n",
    "from sklearn.model_selection import train_test_split\n",
    "from sklearn.model_selection import KFold\n",
    "from sklearn.metrics import roc_auc_score\n",
    "from sklearn.ensemble import RandomForestClassifier\n",
    "from sklearn.ensemble import AdaBoostClassifier\n",
    "from sklearn import svm\n",
    "import lightgbm as lgb\n",
    "from lightgbm import LGBMClassifier\n",
    "import xgboost as xgb\n",
    "import seaborn as sns"
   ]
  },
  {
   "cell_type": "code",
   "execution_count": 70,
   "id": "e8a43545-f672-4686-80b6-caaec9a9e7ae",
   "metadata": {
    "tags": []
   },
   "outputs": [],
   "source": [
    "kf = KFold(n_splits = NUMBER_KFOLDS, random_state = RANDOM_STATE, shuffle = True)"
   ]
  },
  {
   "cell_type": "code",
   "execution_count": 71,
   "id": "0daba985-3489-43dc-be42-6b98b5df7ab6",
   "metadata": {},
   "outputs": [],
   "source": [
    "df_vars = df.columns.values.tolist() \n",
    "y= 'y'\n",
    "X=[i for i in df_vars if i not in y]"
   ]
  },
  {
   "cell_type": "code",
   "execution_count": 72,
   "id": "dc2c9979-601d-47e7-81f5-51aa02a87c8a",
   "metadata": {
    "tags": []
   },
   "outputs": [
    {
     "name": "stdout",
     "output_type": "stream",
     "text": [
      "[False False False False False False False False False False False False\n",
      " False False  True  True  True False False  True  True False False False\n",
      "  True  True  True  True  True  True  True False  True  True  True False\n",
      " False False False False False False False False False False False  True\n",
      "  True  True  True  True False False False]\n",
      "[35 33 30 36 27 26 25 32 23 31 34 28 29  4  1  1  1  2  6  1  1  7  3  5\n",
      "  1  1  1  1  1  1  1 12  1  1  1 11 10 17 13 20 15 18 22 16 14 21 19  1\n",
      "  1  1  1  1  9  8 24]\n"
     ]
    }
   ],
   "source": [
    "logreg = LogisticRegression(solver='liblinear')\n",
    "\n",
    "rfe = RFE(logreg, n_features_to_select=20)\n",
    "rfe = rfe.fit(os_data_X, os_data_y.values.ravel())\n",
    "print(rfe.support_)\n",
    "print(rfe.ranking_)\n",
    "\n",
    "cols = ['previous', 'euribor3m', 'job_housemaid', 'job_retired', 'job_student', 'marital_unknown', 'education_Basic', \n",
    "'education_illiterate', 'education_unknown', 'contact_cellular', 'contact_telephone', 'month_dec', 'month_jul', \n",
    "'month_jun', 'month_mar', 'month_may', 'month_oct', 'day_mon', 'poutcome_failure', 'poutcome_success']\n",
    "\n",
    "X = os_data_X[cols]\n",
    "y = os_data_y['y']"
   ]
  },
  {
   "cell_type": "code",
   "execution_count": 73,
   "id": "038bb79e-9d94-450e-903e-11165081c192",
   "metadata": {
    "tags": []
   },
   "outputs": [
    {
     "name": "stdout",
     "output_type": "stream",
     "text": [
      "Optimization terminated successfully.\n",
      "         Current function value: 0.524110\n",
      "         Iterations 7\n",
      "                           Results: Logit\n",
      "=====================================================================\n",
      "Model:                Logit             Pseudo R-squared:  0.244     \n",
      "Dependent Variable:   y                 AIC:               61350.4128\n",
      "Date:                 2024-08-12 15:48  BIC:               61529.9450\n",
      "No. Observations:     58490             Log-Likelihood:    -30655.   \n",
      "Df Model:             19                LL-Null:           -40542.   \n",
      "Df Residuals:         58470             LLR p-value:       0.0000    \n",
      "Converged:            1.0000            Scale:             1.0000    \n",
      "No. Iterations:       7.0000                                         \n",
      "---------------------------------------------------------------------\n",
      "                      Coef.  Std.Err.    z     P>|z|   [0.025  0.975]\n",
      "---------------------------------------------------------------------\n",
      "previous              0.9122   0.0469  19.4310 0.0000  0.8202  1.0042\n",
      "euribor3m            -0.0491   0.0054  -9.0991 0.0000 -0.0597 -0.0385\n",
      "job_housemaid        -1.4968   0.1250 -11.9782 0.0000 -1.7417 -1.2518\n",
      "job_retired           0.2274   0.0530   4.2904 0.0000  0.1235  0.3313\n",
      "job_student          -0.1534   0.0790  -1.9410 0.0523 -0.3083  0.0015\n",
      "marital_unknown      -1.4915   0.4558  -3.2721 0.0011 -2.3849 -0.5981\n",
      "education_Basic      -0.9000   0.0278 -32.3454 0.0000 -0.9546 -0.8455\n",
      "education_illiterate -1.5395   0.7515  -2.0487 0.0405 -3.0123 -0.0667\n",
      "education_unknown    -1.3524   0.0789 -17.1492 0.0000 -1.5069 -1.1978\n",
      "contact_cellular      0.7591   0.0212  35.8061 0.0000  0.7176  0.8007\n",
      "contact_telephone    -0.6408   0.0430 -14.9050 0.0000 -0.7251 -0.5565\n",
      "month_dec             0.5002   0.1681   2.9752 0.0029  0.1707  0.8297\n",
      "month_jul            -0.9053   0.0326 -27.7463 0.0000 -0.9692 -0.8413\n",
      "month_jun            -0.0574   0.0406  -1.4135 0.1575 -0.1371  0.0222\n",
      "month_mar             0.9462   0.0854  11.0856 0.0000  0.7789  1.1135\n",
      "month_may            -0.6303   0.0291 -21.6427 0.0000 -0.6874 -0.5732\n",
      "month_oct             0.8904   0.0768  11.5908 0.0000  0.7398  1.0410\n",
      "day_mon              -1.2609   0.0340 -37.0334 0.0000 -1.3276 -1.1941\n",
      "poutcome_failure     -1.9884   0.0668 -29.7478 0.0000 -2.1194 -1.8574\n",
      "poutcome_success      1.2879   0.0783  16.4507 0.0000  1.1344  1.4413\n",
      "=====================================================================\n",
      "\n"
     ]
    }
   ],
   "source": [
    "import statsmodels.api as sm\n",
    "logit_model=sm.Logit(y,X)\n",
    "result=logit_model.fit()\n",
    "print(result.summary2())"
   ]
  },
  {
   "cell_type": "code",
   "execution_count": 74,
   "id": "3cd0aa41-d7ad-49ea-8731-447d893f6211",
   "metadata": {},
   "outputs": [],
   "source": [
    "trainX, testX, trainy, testy = train_test_split(X, y, test_size=0.2, random_state=42)"
   ]
  },
  {
   "cell_type": "code",
   "execution_count": 75,
   "id": "4af58f8c-da9f-4569-8218-106f321e0012",
   "metadata": {
    "tags": []
   },
   "outputs": [
    {
     "name": "stdout",
     "output_type": "stream",
     "text": [
      "No Skill: ROC AUC=0.500\n",
      "Logistic: ROC AUC=0.884\n"
     ]
    }
   ],
   "source": [
    "# generate a no skill prediction (majority class)\n",
    "ns_probs = [0 for _ in range(len(testy))]\n",
    "# fit a model\n",
    "model = LogisticRegression(solver='liblinear')\n",
    "model.fit(trainX, trainy)\n",
    "# predict probabilities\n",
    "lr_probs = model.predict_proba(testX)\n",
    "# keep probabilities for the positive outcome only\n",
    "lr_probs = lr_probs[:, 1]\n",
    "# calculate scores\n",
    "ns_auc = roc_auc_score(testy, ns_probs)\n",
    "lr_auc = roc_auc_score(testy, lr_probs)\n",
    "# summarize scores\n",
    "print('No Skill: ROC AUC=%.3f' % (ns_auc))\n",
    "print('Logistic: ROC AUC=%.3f' % (lr_auc))"
   ]
  },
  {
   "cell_type": "markdown",
   "id": "6a4c8fb8-a1dc-4d36-afd7-7ba95171bae6",
   "metadata": {},
   "source": [
    "when we predict a binary outcome, it is either a correct prediction (true positive) or not (false positive). There is a tension between these options, the same with true negative and false negative.\n",
    "A skilful model will assign a higher probability to a randomly chosen real positive occurrence than a negative occurrence on average. Generally, skilful models are represented by curves that bow up to the top left of the plot.\n",
    "A no-skill classifier is one that cannot discriminate between the classes and would predict a random class or a constant class in all cases. A model with no skill is represented at the point (0.5, 0.5). A model with no skill at each threshold is represented by a diagonal line from the bottom left of the plot to the top right and has an `ROC_AUC` of **0.5**.\n",
    "In this case, the accuracy of the Logistic Regression classifier on our test set is pretty good: `ROC_AUC` = **0.884**"
   ]
  },
  {
   "cell_type": "code",
   "execution_count": 76,
   "id": "f4ede570-769b-45fe-adcb-86c7eb73e15e",
   "metadata": {
    "tags": []
   },
   "outputs": [],
   "source": [
    "y_pred = model.predict(testX)"
   ]
  },
  {
   "cell_type": "code",
   "execution_count": 77,
   "id": "adefec0e-6847-4752-88b8-2c81260c42fa",
   "metadata": {
    "tags": []
   },
   "outputs": [
    {
     "data": {
      "image/png": "[encoded data removed]",
      "text/plain": [
       "<Figure size 500x500 with 2 Axes>"
      ]
     },
     "metadata": {},
     "output_type": "display_data"
    },
    {
     "name": "stdout",
     "output_type": "stream",
     "text": [
      "Predicted     0     1\n",
      "Actual               \n",
      "0          4750  1062\n",
      "1          1327  4559\n"
     ]
    }
   ],
   "source": [
    "cm = pd.crosstab(testy, y_pred, rownames=['Actual'], colnames=['Predicted'])\n",
    "fig, (ax1) = plt.subplots(ncols=1, figsize=(5,5))\n",
    "sns.heatmap(cm, \n",
    "            xticklabels=['No Subscription', 'Subscription'],\n",
    "            yticklabels=['No Subscription', 'Subscription'],\n",
    "            annot=True,ax=ax1,\n",
    "            linewidths=.2,linecolor=\"Darkblue\", cmap=\"Blues\")\n",
    "plt.title('Confusion Matrix', fontsize=14)\n",
    "plt.show()\n",
    "print(cm)"
   ]
  },
  {
   "cell_type": "code",
   "execution_count": 78,
   "id": "78698a15-efe3-432e-8a6a-c0e7347fe944",
   "metadata": {
    "tags": []
   },
   "outputs": [
    {
     "name": "stdout",
     "output_type": "stream",
     "text": [
      "              precision    recall  f1-score   support\n",
      "\n",
      "           0       0.78      0.82      0.80      5812\n",
      "           1       0.81      0.77      0.79      5886\n",
      "\n",
      "    accuracy                           0.80     11698\n",
      "   macro avg       0.80      0.80      0.80     11698\n",
      "weighted avg       0.80      0.80      0.80     11698\n",
      "\n"
     ]
    }
   ],
   "source": [
    "print(classification_report(testy, y_pred))"
   ]
  },
  {
   "cell_type": "code",
   "execution_count": 79,
   "id": "60f595c2-ef5d-478e-a2cb-b42eccede15b",
   "metadata": {
    "tags": []
   },
   "outputs": [
    {
     "data": {
      "image/png": "[encoded data removed]",
      "text/plain": [
       "<Figure size 640x480 with 1 Axes>"
      ]
     },
     "metadata": {},
     "output_type": "display_data"
    }
   ],
   "source": [
    "# calculate roc curves\n",
    "ns_fpr, ns_tpr, _ = roc_curve(testy, ns_probs)\n",
    "lr_fpr, lr_tpr, _ = roc_curve(testy, lr_probs)\n",
    "# plot the roc curve for the model\n",
    "plt.plot(ns_fpr, ns_tpr, linestyle='--', label='No Skill')\n",
    "plt.plot(lr_fpr, lr_tpr, marker='.', label='Logistic')\n",
    "# axis labels\n",
    "plt.xlabel('False Positive Rate')\n",
    "plt.ylabel('True Positive Rate')\n",
    "# show the legend\n",
    "plt.legend()\n",
    "# show the plot\n",
    "plt.show()"
   ]
  },
  {
   "cell_type": "code",
   "execution_count": 80,
   "id": "60f0929c-3532-4254-b83c-d9c25af42652",
   "metadata": {
    "tags": []
   },
   "outputs": [
    {
     "name": "stdout",
     "output_type": "stream",
     "text": [
      "Root Mean Squared Error: 0.45\n"
     ]
    }
   ],
   "source": [
    "rmse = sqrt(mean_squared_error(testy, y_pred))\n",
    "print(\"Root Mean Squared Error: {}\".format(round(rmse, 2)))"
   ]
  }
 ],
 "metadata": {
  "kernelspec": {
   "display_name": "Python 3 (ipykernel)",
   "language": "python",
   "name": "python3"
  },
  "language_info": {
   "codemirror_mode": {
    "name": "ipython",
    "version": 3
   },
   "file_extension": ".py",
   "mimetype": "text/x-python",
   "name": "python",
   "nbconvert_exporter": "python",
   "pygments_lexer": "ipython3",
   "version": "3.11.3"
  }
 },
 "nbformat": 4,
 "nbformat_minor": 5
}
